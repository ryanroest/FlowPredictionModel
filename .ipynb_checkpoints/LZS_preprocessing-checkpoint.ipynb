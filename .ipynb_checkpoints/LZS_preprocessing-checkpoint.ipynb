{
 "cells": [
  {
   "cell_type": "code",
   "execution_count": 1,
   "metadata": {},
   "outputs": [],
   "source": [
    "# To import the self made functions you need to fill in the path were you \n",
    "# saved the functions instead of the word 'Code'\n",
    "import sys\n",
    "sys.path.append('C:\\\\Users\\\\20182960\\\\Documents\\\\3.1 DataChallenge3\\\\jbg060_2019-2020-documented_implementations\\\\group6_DC3_documented_implementation_ORIGINALFILE\\\\LZS_model')\n",
    "\n",
    "#import load_files as lf\n",
    "import preprocessing as pre\n",
    "\n",
    "# link to functions file #\n",
    "from ipynb.fs.full.LZS_functions_file import *"
   ]
  },
  {
   "cell_type": "code",
   "execution_count": 2,
   "metadata": {},
   "outputs": [],
   "source": [
    "pump_station = 'RG8150' #Drunen"
   ]
  },
  {
   "cell_type": "code",
   "execution_count": 3,
   "metadata": {},
   "outputs": [],
   "source": [
    "PATH = 'C:\\\\Users\\\\20182960\\\\Documents\\\\3.1 DataChallenge3\\\\jbg060_2019-2020-documented_implementations\\\\' # CHANGE (!)\n",
    "PATH_MEASUREMENTS = PATH + \"sewer_data\\\\data_pump\\\\\" + pump_station\n",
    "PATH_RAIN_PREDICTIONS = PATH + \"rainfall\\\\rainfall\\\\\""
   ]
  },
  {
   "cell_type": "code",
   "execution_count": null,
   "metadata": {},
   "outputs": [],
   "source": [
    "### Create files flow_data and level_data ###\n",
    "\n",
    "flow_data, level_data = get_measurements(PATH_MEASUREMENTS)\n",
    "flow_data = pre.fill_flow(pre.clean_mes_data(flow_data))\n",
    "level_data = pre.fill_level(pre.clean_mes_data(level_data))\n",
    "\n",
    "flow_data.to_csv('flow_data.csv')\n",
    "level_data.to_csv('level_data.csv')"
   ]
  },
  {
   "cell_type": "code",
   "execution_count": null,
   "metadata": {},
   "outputs": [],
   "source": [
    "### Create file for rain-prediction ###\n",
    "\n",
    "LZS_rain_pred = create_rain_predictions_file (PATH_RAIN_PREDICTIONS)\n",
    "LZS_rain_pred.to_csv('LZS_rain_pred.csv')"
   ]
  },
  {
   "cell_type": "code",
   "execution_count": null,
   "metadata": {},
   "outputs": [],
   "source": [
    "### Create dataset ###\n",
    "\n",
    "X,y, TimeHour = create_dataset(LZS_rain_pred, flow_data, level_data, imputation='simple')\n",
    "\n",
    "np.save('X', X)\n",
    "np.save('y', y)\n",
    "TimeHour.to_csv('TimeHour.csv')"
   ]
  }
 ],
 "metadata": {
  "kernelspec": {
   "display_name": "Python 3",
   "language": "python",
   "name": "python3"
  },
  "language_info": {
   "codemirror_mode": {
    "name": "ipython",
    "version": 3
   },
   "file_extension": ".py",
   "mimetype": "text/x-python",
   "name": "python",
   "nbconvert_exporter": "python",
   "pygments_lexer": "ipython3",
   "version": "3.7.4"
  }
 },
 "nbformat": 4,
 "nbformat_minor": 2
}
