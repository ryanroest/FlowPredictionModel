{
 "cells": [
  {
   "cell_type": "code",
   "execution_count": 2,
   "outputs": [
    {
     "name": "stderr",
     "output_type": "stream",
     "text": [
      "Using TensorFlow backend.\n"
     ]
    }
   ],
   "source": [
    "import pandas as pd\n",
    "import numpy as np\n",
    "from datetime import datetime, timedelta\n",
    "\n",
    "# for the model\n",
    "from sklearn.model_selection import train_test_split\n",
    "from keras.models import Sequential\n",
    "from keras.layers import Dense, GRU, RepeatVector, TimeDistributed\n",
    "from keras import optimizers\n",
    "from keras.callbacks import ReduceLROnPlateau"
   ],
   "metadata": {
    "collapsed": false,
    "pycharm": {
     "name": "#%%\n"
    }
   }
  },
  {
   "cell_type": "code",
   "execution_count": 3,
   "outputs": [],
   "source": [
    "# load files from pre-processing\n",
    "\n",
    "X = np.load('X.npy') #rainpredictions, hour of day, month of year, holiday, ones\n",
    "y = np.load('y.npy')\n",
    "TimeHour = pd.read_csv('TimeHour.csv')"
   ],
   "metadata": {
    "collapsed": false,
    "pycharm": {
     "name": "#%%\n"
    }
   }
  },
  {
   "cell_type": "code",
   "execution_count": 4,
   "outputs": [
    {
     "name": "stdout",
     "output_type": "stream",
     "text": [
      "(13612, 39)\n",
      "(10800,)\n",
      "[504.06447306 502.99539014 501.56176333 267.72203709 164.6846228\n",
      " 415.60606761 506.92554056 498.48488889 539.77078944 569.86896236\n",
      " 573.43357472 554.18056333 519.03118042 518.49464347 518.47689861\n",
      " 511.91231167 508.04069681 506.03197208 505.73850639 505.39583111\n",
      " 505.85508306 350.65611313 219.0446198  248.08282937]\n",
      "[[504.06447306]\n",
      " [502.99539014]\n",
      " [501.56176333]\n",
      " [267.72203709]\n",
      " [164.6846228 ]\n",
      " [415.60606761]\n",
      " [506.92554056]\n",
      " [498.48488889]\n",
      " [539.77078944]\n",
      " [569.86896236]\n",
      " [573.43357472]\n",
      " [554.18056333]\n",
      " [519.03118042]\n",
      " [518.49464347]\n",
      " [518.47689861]\n",
      " [511.91231167]\n",
      " [508.04069681]\n",
      " [506.03197208]\n",
      " [505.73850639]\n",
      " [505.39583111]\n",
      " [505.85508306]\n",
      " [350.65611313]\n",
      " [219.0446198 ]\n",
      " [248.08282937]]\n",
      "72.29804405333333\n"
     ]
    }
   ],
   "source": [
    "# split dataset in test and train\n",
    "\n",
    "def ReshapeXData(dataframe):\n",
    "    n_hours = 24\n",
    "    n_features = dataframe.shape[1]\n",
    "    days = int(dataframe.shape[0]/24)\n",
    "    dataframe_shaped = np.reshape(dataframe,(days, n_hours, n_features))\n",
    "    return dataframe_shaped\n",
    "\n",
    "def ReshapeYData(dataframe):\n",
    "    n_hours = 24\n",
    "    n_features = 1\n",
    "    days = int(dataframe.shape[0]/24)\n",
    "    dataframe_shaped = np.reshape(dataframe,(days, n_hours, n_features))\n",
    "    return dataframe_shaped\n",
    "\n",
    "print(X.shape)\n",
    "X_train_gru = X[0:10800,:]\n",
    "X_test_gru = X[10801:13609,:]\n",
    "Y_train_gru = y[0:10800]\n",
    "Y_test_gru = y[10801:13609]\n",
    "\n",
    "print(Y_train_gru.shape)\n",
    "X_train_gru_shaped=ReshapeXData(X_train_gru)\n",
    "X_test_gru_shaped = ReshapeXData(X_test_gru)\n",
    "Y_train_gru_shaped = ReshapeYData(Y_train_gru)\n",
    "Y_test_gru_shaped = ReshapeYData(Y_test_gru)\n",
    "print(Y_train_gru[0:24])\n",
    "print(Y_train_gru_shaped[0])\n",
    "print(Y_test_gru[5])"
   ],
   "metadata": {
    "collapsed": false,
    "pycharm": {
     "name": "#%%\n"
    }
   }
  },
  {
   "cell_type": "code",
   "execution_count": 5,
   "outputs": [
    {
     "name": "stdout",
     "output_type": "stream",
     "text": [
      "Build model...\n",
      "Train on 360 samples, validate on 90 samples\n",
      "Epoch 1/150\n",
      " - 1s - loss: 128.8953 - val_loss: 142.1521\n",
      "Epoch 2/150\n",
      " - 0s - loss: 120.7425 - val_loss: 103.8117\n",
      "Epoch 3/150\n",
      " - 0s - loss: 94.8561 - val_loss: 94.9994\n",
      "Epoch 4/150\n",
      " - 0s - loss: 84.5942 - val_loss: 86.8371\n",
      "Epoch 5/150\n",
      " - 0s - loss: 79.8145 - val_loss: 84.1808\n",
      "Epoch 6/150\n",
      " - 0s - loss: 78.1891 - val_loss: 83.1211\n",
      "Epoch 7/150\n",
      " - 0s - loss: 77.0259 - val_loss: 81.2746\n",
      "Epoch 8/150\n",
      " - 0s - loss: 76.6170 - val_loss: 81.7967\n",
      "Epoch 9/150\n",
      " - 0s - loss: 76.2166 - val_loss: 81.2041\n",
      "Epoch 10/150\n",
      " - 0s - loss: 78.7239 - val_loss: 84.5237\n",
      "Epoch 11/150\n",
      " - 0s - loss: 79.1407 - val_loss: 80.4786\n",
      "Epoch 12/150\n",
      " - 0s - loss: 77.1526 - val_loss: 79.2915\n",
      "Epoch 13/150\n",
      " - 0s - loss: 75.9241 - val_loss: 79.9830\n",
      "Epoch 14/150\n",
      " - 0s - loss: 75.6748 - val_loss: 78.6419\n",
      "Epoch 15/150\n",
      " - 0s - loss: 74.7515 - val_loss: 82.1870\n",
      "Epoch 16/150\n",
      " - 0s - loss: 75.9175 - val_loss: 85.9112\n",
      "Epoch 17/150\n",
      " - 0s - loss: 76.6379 - val_loss: 79.3878\n",
      "Epoch 18/150\n",
      " - 0s - loss: 74.1701 - val_loss: 77.5115\n",
      "Epoch 19/150\n",
      " - 0s - loss: 75.0488 - val_loss: 79.5090\n",
      "Epoch 20/150\n",
      " - 0s - loss: 76.4536 - val_loss: 90.3216\n",
      "Epoch 21/150\n",
      " - 0s - loss: 76.7329 - val_loss: 75.8975\n",
      "Epoch 22/150\n",
      " - 0s - loss: 73.6384 - val_loss: 74.3315\n",
      "Epoch 23/150\n",
      " - 0s - loss: 72.2104 - val_loss: 77.9329\n",
      "Epoch 24/150\n",
      " - 0s - loss: 71.9460 - val_loss: 76.1432\n",
      "Epoch 25/150\n",
      " - 0s - loss: 74.6439 - val_loss: 76.9101\n",
      "Epoch 26/150\n",
      " - 0s - loss: 71.4397 - val_loss: 77.7925\n",
      "Epoch 27/150\n",
      " - 0s - loss: 72.5345 - val_loss: 74.3815\n",
      "Epoch 28/150\n",
      " - 0s - loss: 69.4981 - val_loss: 143.9161\n",
      "Epoch 29/150\n",
      " - 0s - loss: 86.3408 - val_loss: 94.5911\n",
      "Epoch 30/150\n",
      " - 0s - loss: 81.8024 - val_loss: 78.9280\n",
      "Epoch 31/150\n",
      " - 0s - loss: 72.6783 - val_loss: 79.8539\n",
      "Epoch 32/150\n",
      " - 0s - loss: 70.0722 - val_loss: 80.1459\n",
      "\n",
      "Epoch 00032: ReduceLROnPlateau reducing learning rate to 0.00010000000474974513.\n",
      "Epoch 33/150\n",
      " - 0s - loss: 71.9189 - val_loss: 77.1493\n",
      "Epoch 34/150\n",
      " - 0s - loss: 69.6540 - val_loss: 76.1945\n",
      "Epoch 35/150\n",
      " - 0s - loss: 69.6199 - val_loss: 76.3415\n",
      "Epoch 36/150\n",
      " - 0s - loss: 68.8120 - val_loss: 77.0356\n",
      "Epoch 37/150\n",
      " - 0s - loss: 68.5562 - val_loss: 77.1376\n",
      "Epoch 38/150\n",
      " - 0s - loss: 68.3168 - val_loss: 77.1277\n",
      "Epoch 39/150\n",
      " - 0s - loss: 68.2373 - val_loss: 77.0483\n",
      "Epoch 40/150\n",
      " - 0s - loss: 68.1277 - val_loss: 77.1740\n",
      "Epoch 41/150\n",
      " - 0s - loss: 68.0681 - val_loss: 77.1083\n",
      "Epoch 42/150\n",
      " - 0s - loss: 68.1380 - val_loss: 76.7871\n",
      "\n",
      "Epoch 00042: ReduceLROnPlateau reducing learning rate to 1.0000000474974514e-05.\n",
      "Epoch 43/150\n",
      " - 0s - loss: 67.9839 - val_loss: 76.8469\n",
      "Epoch 44/150\n",
      " - 0s - loss: 67.9194 - val_loss: 76.9492\n",
      "Epoch 45/150\n",
      " - 0s - loss: 67.9037 - val_loss: 77.1041\n",
      "Epoch 46/150\n",
      " - 0s - loss: 67.8541 - val_loss: 77.1380\n",
      "Epoch 47/150\n",
      " - 0s - loss: 67.8459 - val_loss: 77.1458\n",
      "Epoch 48/150\n",
      " - 0s - loss: 67.8374 - val_loss: 77.1251\n",
      "Epoch 49/150\n",
      " - 0s - loss: 67.8331 - val_loss: 77.1235\n",
      "Epoch 50/150\n",
      " - 0s - loss: 67.8515 - val_loss: 77.2033\n",
      "Epoch 51/150\n",
      " - 0s - loss: 67.8276 - val_loss: 77.1505\n",
      "Epoch 52/150\n",
      " - 0s - loss: 67.8154 - val_loss: 77.1765\n",
      "\n",
      "Epoch 00052: ReduceLROnPlateau reducing learning rate to 1.0000000656873453e-06.\n",
      "Epoch 53/150\n",
      " - 0s - loss: 67.8087 - val_loss: 77.1765\n",
      "Epoch 54/150\n",
      " - 0s - loss: 67.8084 - val_loss: 77.1820\n",
      "Epoch 55/150\n",
      " - 0s - loss: 67.8077 - val_loss: 77.1860\n",
      "Epoch 56/150\n",
      " - 0s - loss: 67.8071 - val_loss: 77.1842\n",
      "Epoch 57/150\n",
      " - 0s - loss: 67.8065 - val_loss: 77.1833\n",
      "Epoch 58/150\n",
      " - 0s - loss: 67.8059 - val_loss: 77.1862\n",
      "Epoch 59/150\n",
      " - 0s - loss: 67.8050 - val_loss: 77.1891\n",
      "Epoch 60/150\n",
      " - 0s - loss: 67.8037 - val_loss: 77.2049\n",
      "Epoch 61/150\n",
      " - 0s - loss: 67.8037 - val_loss: 77.2215\n",
      "Epoch 62/150\n",
      " - 0s - loss: 67.8023 - val_loss: 77.2342\n",
      "\n",
      "Epoch 00062: ReduceLROnPlateau reducing learning rate to 1.0000001111620805e-07.\n",
      "Epoch 63/150\n",
      " - 0s - loss: 67.8017 - val_loss: 77.2347\n",
      "Epoch 64/150\n",
      " - 0s - loss: 67.8016 - val_loss: 77.2350\n",
      "Epoch 65/150\n",
      " - 0s - loss: 67.8016 - val_loss: 77.2351\n",
      "Epoch 66/150\n",
      " - 0s - loss: 67.8015 - val_loss: 77.2356\n",
      "Epoch 67/150\n",
      " - 0s - loss: 67.8014 - val_loss: 77.2359\n",
      "Epoch 68/150\n",
      " - 0s - loss: 67.8014 - val_loss: 77.2357\n",
      "Epoch 69/150\n",
      " - 0s - loss: 67.8013 - val_loss: 77.2357\n",
      "Epoch 70/150\n",
      " - 0s - loss: 67.8012 - val_loss: 77.2356\n",
      "Epoch 71/150\n",
      " - 0s - loss: 67.8011 - val_loss: 77.2355\n",
      "Epoch 72/150\n",
      " - 0s - loss: 67.8011 - val_loss: 77.2355\n",
      "\n",
      "Epoch 00072: ReduceLROnPlateau reducing learning rate to 1.000000082740371e-08.\n",
      "Epoch 73/150\n",
      " - 0s - loss: 67.8010 - val_loss: 77.2355\n",
      "Epoch 74/150\n",
      " - 0s - loss: 67.8010 - val_loss: 77.2355\n",
      "Epoch 75/150\n",
      " - 0s - loss: 67.8010 - val_loss: 77.2355\n",
      "Epoch 76/150\n",
      " - 0s - loss: 67.8010 - val_loss: 77.2355\n",
      "Epoch 77/150\n",
      " - 0s - loss: 67.8010 - val_loss: 77.2355\n",
      "Epoch 78/150\n",
      " - 0s - loss: 67.8010 - val_loss: 77.2354\n",
      "Epoch 79/150\n",
      " - 0s - loss: 67.8010 - val_loss: 77.2355\n",
      "Epoch 80/150\n",
      " - 0s - loss: 67.8009 - val_loss: 77.2355\n",
      "Epoch 81/150\n",
      " - 0s - loss: 67.8009 - val_loss: 77.2355\n",
      "Epoch 82/150\n",
      " - 0s - loss: 67.8009 - val_loss: 77.2355\n",
      "\n",
      "Epoch 00082: ReduceLROnPlateau reducing learning rate to 1.000000082740371e-09.\n",
      "Epoch 83/150\n",
      " - 0s - loss: 67.8009 - val_loss: 77.2355\n",
      "Epoch 84/150\n",
      " - 0s - loss: 67.8009 - val_loss: 77.2355\n",
      "Epoch 85/150\n",
      " - 0s - loss: 67.8009 - val_loss: 77.2355\n",
      "Epoch 86/150\n",
      " - 0s - loss: 67.8009 - val_loss: 77.2355\n",
      "Epoch 87/150\n",
      " - 0s - loss: 67.8009 - val_loss: 77.2355\n",
      "Epoch 88/150\n",
      " - 0s - loss: 67.8009 - val_loss: 77.2355\n",
      "Epoch 89/150\n",
      " - 0s - loss: 67.8009 - val_loss: 77.2355\n",
      "Epoch 90/150\n",
      " - 0s - loss: 67.8009 - val_loss: 77.2355\n",
      "Epoch 91/150\n",
      " - 0s - loss: 67.8009 - val_loss: 77.2355\n",
      "Epoch 92/150\n",
      " - 0s - loss: 67.8009 - val_loss: 77.2355\n",
      "\n",
      "Epoch 00092: ReduceLROnPlateau reducing learning rate to 1.000000082740371e-10.\n",
      "Epoch 93/150\n",
      " - 0s - loss: 67.8009 - val_loss: 77.2355\n",
      "Epoch 94/150\n",
      " - 0s - loss: 67.8009 - val_loss: 77.2355\n",
      "Epoch 95/150\n",
      " - 0s - loss: 67.8009 - val_loss: 77.2355\n",
      "Epoch 96/150\n",
      " - 0s - loss: 67.8009 - val_loss: 77.2355\n",
      "Epoch 97/150\n",
      " - 0s - loss: 67.8009 - val_loss: 77.2355\n",
      "Epoch 98/150\n",
      " - 0s - loss: 67.8009 - val_loss: 77.2355\n",
      "Epoch 99/150\n",
      " - 0s - loss: 67.8009 - val_loss: 77.2355\n",
      "Epoch 100/150\n",
      " - 0s - loss: 67.8009 - val_loss: 77.2355\n",
      "Epoch 101/150\n",
      " - 0s - loss: 67.8009 - val_loss: 77.2355\n",
      "Epoch 102/150\n",
      " - 0s - loss: 67.8009 - val_loss: 77.2355\n",
      "\n",
      "Epoch 00102: ReduceLROnPlateau reducing learning rate to 1.000000082740371e-11.\n",
      "Epoch 103/150\n",
      " - 0s - loss: 67.8009 - val_loss: 77.2355\n",
      "Epoch 104/150\n",
      " - 0s - loss: 67.8009 - val_loss: 77.2355\n",
      "Epoch 105/150\n",
      " - 0s - loss: 67.8009 - val_loss: 77.2355\n",
      "Epoch 106/150\n",
      " - 0s - loss: 67.8009 - val_loss: 77.2355\n",
      "Epoch 107/150\n",
      " - 0s - loss: 67.8009 - val_loss: 77.2355\n",
      "Epoch 108/150\n",
      " - 0s - loss: 67.8009 - val_loss: 77.2355\n",
      "Epoch 109/150\n",
      " - 0s - loss: 67.8009 - val_loss: 77.2355\n",
      "Epoch 110/150\n",
      " - 0s - loss: 67.8009 - val_loss: 77.2355\n",
      "Epoch 111/150\n",
      " - 0s - loss: 67.8009 - val_loss: 77.2355\n",
      "Epoch 112/150\n",
      " - 0s - loss: 67.8009 - val_loss: 77.2355\n",
      "\n",
      "Epoch 00112: ReduceLROnPlateau reducing learning rate to 1.000000082740371e-12.\n",
      "Epoch 113/150\n",
      " - 0s - loss: 67.8009 - val_loss: 77.2355\n",
      "Epoch 114/150\n",
      " - 0s - loss: 67.8009 - val_loss: 77.2355\n",
      "Epoch 115/150\n",
      " - 0s - loss: 67.8009 - val_loss: 77.2355\n",
      "Epoch 116/150\n",
      " - 0s - loss: 67.8009 - val_loss: 77.2355\n",
      "Epoch 117/150\n",
      " - 0s - loss: 67.8009 - val_loss: 77.2355\n",
      "Epoch 118/150\n",
      " - 0s - loss: 67.8009 - val_loss: 77.2355\n",
      "Epoch 119/150\n",
      " - 0s - loss: 67.8009 - val_loss: 77.2355\n",
      "Epoch 120/150\n",
      " - 0s - loss: 67.8009 - val_loss: 77.2355\n",
      "Epoch 121/150\n",
      " - 0s - loss: 67.8009 - val_loss: 77.2355\n",
      "Epoch 122/150\n",
      " - 0s - loss: 67.8009 - val_loss: 77.2355\n",
      "\n",
      "Epoch 00122: ReduceLROnPlateau reducing learning rate to 1.0000001044244145e-13.\n",
      "Epoch 123/150\n",
      " - 0s - loss: 67.8009 - val_loss: 77.2355\n",
      "Epoch 124/150\n",
      " - 0s - loss: 67.8009 - val_loss: 77.2355\n",
      "Epoch 125/150\n",
      " - 0s - loss: 67.8009 - val_loss: 77.2355\n",
      "Epoch 126/150\n",
      " - 0s - loss: 67.8009 - val_loss: 77.2355\n",
      "Epoch 127/150\n",
      " - 0s - loss: 67.8009 - val_loss: 77.2355\n",
      "Epoch 128/150\n",
      " - 0s - loss: 67.8009 - val_loss: 77.2355\n",
      "Epoch 129/150\n",
      " - 0s - loss: 67.8009 - val_loss: 77.2355\n",
      "Epoch 130/150\n",
      " - 0s - loss: 67.8009 - val_loss: 77.2355\n",
      "Epoch 131/150\n",
      " - 0s - loss: 67.8009 - val_loss: 77.2355\n",
      "Epoch 132/150\n",
      " - 0s - loss: 67.8009 - val_loss: 77.2355\n",
      "\n",
      "Epoch 00132: ReduceLROnPlateau reducing learning rate to 1.0000001179769417e-14.\n",
      "Epoch 133/150\n",
      " - 0s - loss: 67.8009 - val_loss: 77.2355\n",
      "Epoch 134/150\n",
      " - 0s - loss: 67.8009 - val_loss: 77.2355\n",
      "Epoch 135/150\n",
      " - 0s - loss: 67.8009 - val_loss: 77.2355\n",
      "Epoch 136/150\n",
      " - 0s - loss: 67.8009 - val_loss: 77.2355\n",
      "Epoch 137/150\n",
      " - 0s - loss: 67.8009 - val_loss: 77.2355\n",
      "Epoch 138/150\n",
      " - 0s - loss: 67.8009 - val_loss: 77.2355\n",
      "Epoch 139/150\n",
      " - 0s - loss: 67.8009 - val_loss: 77.2355\n",
      "Epoch 140/150\n",
      " - 0s - loss: 67.8009 - val_loss: 77.2355\n",
      "Epoch 141/150\n",
      " - 0s - loss: 67.8009 - val_loss: 77.2355\n",
      "Epoch 142/150\n",
      " - 0s - loss: 67.8009 - val_loss: 77.2355\n",
      "\n",
      "Epoch 00142: ReduceLROnPlateau reducing learning rate to 1.0000001518582595e-15.\n",
      "Epoch 143/150\n",
      " - 0s - loss: 67.8009 - val_loss: 77.2355\n",
      "Epoch 144/150\n",
      " - 0s - loss: 67.8009 - val_loss: 77.2355\n",
      "Epoch 145/150\n",
      " - 0s - loss: 67.8009 - val_loss: 77.2355\n",
      "Epoch 146/150\n",
      " - 0s - loss: 67.8009 - val_loss: 77.2355\n",
      "Epoch 147/150\n",
      " - 0s - loss: 67.8009 - val_loss: 77.2355\n",
      "Epoch 148/150\n",
      " - 0s - loss: 67.8009 - val_loss: 77.2355\n",
      "Epoch 149/150\n",
      " - 0s - loss: 67.8009 - val_loss: 77.2355\n",
      "Epoch 150/150\n",
      " - 0s - loss: 67.8009 - val_loss: 77.2355\n"
     ]
    },
    {
     "data": {
      "text/plain": "<keras.callbacks.callbacks.History at 0x280a6b4f160>"
     },
     "execution_count": 5,
     "metadata": {},
     "output_type": "execute_result"
    }
   ],
   "source": [
    "# basic model\n",
    "\n",
    "from keras.layers import Dense\n",
    "\n",
    "lr=0.03\n",
    "epochs=150\n",
    "batch_size=50\n",
    "validation_split=0.1\n",
    "\n",
    "print('Build model...')\n",
    "\n",
    "n_timesteps, n_features, n_outputs = X_train_gru_shaped.shape[1], X_train_gru_shaped.shape[2], Y_train_gru_shaped.shape[1]\n",
    "# reshape output into [samples, timesteps, features]\n",
    "\n",
    "model = Sequential()\n",
    "model.add(GRU(200, activation='relu', input_shape=(n_timesteps, n_features)))\n",
    "model.add(RepeatVector(n_outputs))\n",
    "model.add(GRU(200, activation='relu', return_sequences=True))\n",
    "model.add(TimeDistributed(Dense(100, activation='relu')))\n",
    "model.add(TimeDistributed(Dense(1)))\n",
    "model.compile(loss='mae', optimizer='adam')\n",
    "\n",
    "model.fit(\n",
    "        X_train_gru_shaped,\n",
    "        Y_train_gru_shaped,\n",
    "        epochs=epochs,\n",
    "        batch_size=batch_size,\n",
    "        verbose=2,\n",
    "        validation_split=0.2,\n",
    "        callbacks=[\n",
    "            ReduceLROnPlateau(\n",
    "                verbose=1)])\n",
    "    \n",
    "    \n",
    "#model = Sequential()\n",
    "#model.add(Dense(1, input_dim=X.shape[1]))\n",
    "#model.compile(optimizer = optimizers.Adam(lr=lr), loss='mean_squared_error')\n",
    "#model.fit(X_train, y_train,\n",
    "#          validation_split=validation_split,\n",
    "#          epochs=epochs,\n",
    "#          batch_size=batch_size,\n",
    "#          shuffle=False)"
   ],
   "metadata": {
    "collapsed": false,
    "pycharm": {
     "name": "#%%\n"
    }
   }
  },
  {
   "cell_type": "code",
   "execution_count": 6,
   "outputs": [
    {
     "name": "stdout",
     "output_type": "stream",
     "text": [
      "(117, 24, 1)\n",
      "(117, 24, 1)\n",
      "[131.61899]\n",
      "[109.39359994]\n"
     ]
    }
   ],
   "source": [
    "# make a prediction to test how well the model preforms\n",
    "y_predicted = model.predict(X_test_gru_shaped)\n",
    "print(y_predicted.shape)\n",
    "print(Y_test_gru_shaped.shape)\n",
    "print(y_predicted[1][1])\n",
    "print(Y_test_gru_shaped[1][1])"
   ],
   "metadata": {
    "collapsed": false,
    "pycharm": {
     "name": "#%%\n"
    }
   }
  },
  {
   "cell_type": "code",
   "execution_count": null,
   "outputs": [],
   "source": [
    "### LZS: WE HAVE TO IMPLEMENT HERE SOME METRICS AND A LOT OF PLOTS SO THAT WE CAN SEE HOW WELL THE MODEL PERFORMS\n",
    "### LZS: AND ALSO TO BE ABLE TO FIND NEW FEATURES TO IMPROVE THE MODEL\n",
    "### LZS: AND TO EVALUATE IF THE MODEL INDEED IMPROVES WHEN ADDING MORE FEATURES/ OTHER LAYERS"
   ],
   "metadata": {
    "collapsed": false,
    "pycharm": {
     "name": "#%%\n"
    }
   }
  },
  {
   "cell_type": "code",
   "execution_count": 7,
   "outputs": [
    {
     "name": "stdout",
     "output_type": "stream",
     "text": [
      "Predicted=[57.22608], Original=[87.90307335]\n",
      "Predicted=[90.44047], Original=[119.33287184]\n",
      "Predicted=[93.86158], Original=[70.18270864]\n",
      "Predicted=[88.79645], Original=[82.55571344]\n",
      "Predicted=[85.57517], Original=[104.59264897]\n",
      "Predicted=[84.956924], Original=[72.29804405]\n",
      "Predicted=[85.389595], Original=[81.48252744]\n",
      "Predicted=[85.84826], Original=[0.02796992]\n",
      "Predicted=[86.08742], Original=[0.1253824]\n",
      "Predicted=[86.21081], Original=[0.3472128]\n",
      "Predicted=[86.32672], Original=[79.76302907]\n",
      "Predicted=[86.46804], Original=[80.90010568]\n",
      "Predicted=[86.62691], Original=[0.08824992]\n",
      "Predicted=[86.79093], Original=[85.22198364]\n",
      "Predicted=[86.95452], Original=[139.90204528]\n",
      "Predicted=[87.11691], Original=[94.68862363]\n",
      "Predicted=[87.27853], Original=[117.25686593]\n",
      "Predicted=[87.439384], Original=[90.74470117]\n",
      "Predicted=[87.599174], Original=[90.482204]\n",
      "Predicted=[87.7575], Original=[87.95206821]\n",
      "Predicted=[87.914055], Original=[0.09789472]\n",
      "Predicted=[88.06866], Original=[83.73856284]\n",
      "Predicted=[88.2212], Original=[90.25963047]\n",
      "Predicted=[88.37157], Original=[85.48163999]\n",
      "Predicted=[90.94233], Original=[158.31519683]\n",
      "Predicted=[131.61899], Original=[109.39359994]\n",
      "Predicted=[132.85556], Original=[82.29273939]\n",
      "Predicted=[126.486626], Original=[93.95610756]\n",
      "Predicted=[122.945946], Original=[83.82949924]\n",
      "Predicted=[122.26804], Original=[0.10175264]\n",
      "Predicted=[122.593796], Original=[81.95189086]\n",
      "Predicted=[122.85746], Original=[83.79846803]\n",
      "Predicted=[122.86477], Original=[0.03906144]\n",
      "Predicted=[122.768196], Original=[0.09548352]\n",
      "Predicted=[122.684456], Original=[79.89201125]\n",
      "Predicted=[122.639565], Original=[0.00819808]\n",
      "Predicted=[122.62022], Original=[93.06856482]\n",
      "Predicted=[122.61273], Original=[87.56876462]\n",
      "Predicted=[122.61193], Original=[97.73007459]\n",
      "Predicted=[122.61724], Original=[89.06813788]\n",
      "Predicted=[122.628876], Original=[176.0452608]\n",
      "Predicted=[122.64636], Original=[84.56772435]\n",
      "Predicted=[122.66891], Original=[60.34823549]\n",
      "Predicted=[122.69576], Original=[120.21809135]\n",
      "Predicted=[122.72626], Original=[15.46886587]\n",
      "Predicted=[122.7599], Original=[123.07636948]\n",
      "Predicted=[122.796234], Original=[71.61046463]\n",
      "Predicted=[122.83485], Original=[143.77853102]\n",
      "Predicted=[63.04251], Original=[86.82127645]\n",
      "Predicted=[97.58878], Original=[85.58496551]\n",
      "Predicted=[100.28152], Original=[0.06847808]\n",
      "Predicted=[94.81534], Original=[28.52034272]\n",
      "Predicted=[91.527855], Original=[0.3472128]\n",
      "Predicted=[90.92536], Original=[0.3472128]\n",
      "Predicted=[91.3476], Original=[0.3472128]\n",
      "Predicted=[91.762245], Original=[0.3472128]\n",
      "Predicted=[91.94654], Original=[0.3472128]\n",
      "Predicted=[92.02054], Original=[0.3472128]\n",
      "Predicted=[92.09449], Original=[0.3472128]\n",
      "Predicted=[92.19831], Original=[0.3472128]\n",
      "Predicted=[92.32197], Original=[102.1889537]\n",
      "Predicted=[92.45251], Original=[459.65349918]\n",
      "Predicted=[92.584465], Original=[194.7375897]\n",
      "Predicted=[92.717186], Original=[124.95120772]\n",
      "Predicted=[92.850945], Original=[66.13101664]\n",
      "Predicted=[92.98566], Original=[0.22761728]\n",
      "Predicted=[93.12081], Original=[0.3472128]\n",
      "Predicted=[93.25591], Original=[242.28202185]\n",
      "Predicted=[93.39055], Original=[59.1633676]\n",
      "Predicted=[93.52445], Original=[0.3472128]\n",
      "Predicted=[93.65741], Original=[0.3472128]\n",
      "Predicted=[93.78926], Original=[0.3472128]\n",
      "Predicted=[105.53289], Original=[0.3472128]\n",
      "Predicted=[149.3949], Original=[0.3472128]\n",
      "Predicted=[150.93134], Original=[0.3472128]\n",
      "Predicted=[144.57245], Original=[0.3472128]\n",
      "Predicted=[140.9273], Original=[0.3472128]\n",
      "Predicted=[140.1614], Original=[6.18291389]\n",
      "Predicted=[140.44543], Original=[455.9561809]\n",
      "Predicted=[140.67847], Original=[483.12345028]\n",
      "Predicted=[140.64606], Original=[489.82661889]\n",
      "Predicted=[140.50253], Original=[366.69489181]\n",
      "Predicted=[140.36908], Original=[85.24319247]\n",
      "Predicted=[140.27423], Original=[85.62876163]\n",
      "Predicted=[140.20541], Original=[81.32661337]\n",
      "Predicted=[140.14903], Original=[82.30637786]\n",
      "Predicted=[140.1], Original=[183.77992465]\n",
      "Predicted=[140.05789], Original=[87.35861411]\n",
      "Predicted=[140.02298], Original=[190.45968071]\n",
      "Predicted=[139.995], Original=[96.92262633]\n",
      "Predicted=[139.97316], Original=[176.37836968]\n",
      "Predicted=[139.95683], Original=[83.62653002]\n",
      "Predicted=[139.94534], Original=[83.39533216]\n",
      "Predicted=[139.93817], Original=[135.05128274]\n",
      "Predicted=[139.93484], Original=[98.34540109]\n",
      "Predicted=[139.935], Original=[112.33555339]\n",
      "Predicted=[63.144974], Original=[92.29195921]\n",
      "Predicted=[97.79653], Original=[83.00733527]\n",
      "Predicted=[100.48527], Original=[82.18785145]\n",
      "Predicted=[94.98568], Original=[81.35147567]\n",
      "Predicted=[91.68302], Original=[86.21829059]\n",
      "Predicted=[91.07932], Original=[79.36375629]\n",
      "Predicted=[91.50349], Original=[0.07812288]\n",
      "Predicted=[91.91917], Original=[78.10602944]\n",
      "Predicted=[92.10322], Original=[0.00144672]\n",
      "Predicted=[92.17649], Original=[0.25510496]\n",
      "Predicted=[92.24984], Original=[76.16326574]\n",
      "Predicted=[92.353264], Original=[0.03713248]\n",
      "Predicted=[92.4766], Original=[0.12393568]\n",
      "Predicted=[92.606834], Original=[85.71036233]\n",
      "Predicted=[92.73846], Original=[84.48354701]\n",
      "Predicted=[92.87083], Original=[85.53157415]\n",
      "Predicted=[93.00427], Original=[194.7572708]\n",
      "Predicted=[93.13863], Original=[153.561958]\n",
      "Predicted=[93.27346], Original=[111.78350055]\n",
      "Predicted=[93.40821], Original=[85.10996555]\n",
      "Predicted=[93.54252], Original=[105.58873942]\n",
      "Predicted=[93.676094], Original=[67.68180925]\n",
      "Predicted=[93.80872], Original=[81.9733259]\n",
      "Predicted=[93.94024], Original=[141.6010149]\n",
      "Predicted=[84.37818], Original=[117.67824081]\n",
      "Predicted=[123.758095], Original=[83.57188436]\n",
      "Predicted=[125.048454], Original=[82.80242527]\n",
      "Predicted=[118.71754], Original=[84.71785992]\n",
      "Predicted=[115.21116], Original=[83.35729475]\n",
      "Predicted=[114.56771], Original=[79.28867748]\n",
      "Predicted=[114.92234], Original=[0.06172672]\n",
      "Predicted=[115.21393], Original=[0.18903808]\n",
      "Predicted=[115.25087], Original=[76.63260117]\n",
      "Predicted=[115.18421], Original=[0.03038112]\n",
      "Predicted=[115.13006], Original=[0.20832768]\n",
      "Predicted=[115.114235], Original=[78.65072996]\n",
      "Predicted=[115.12331], Original=[86.56051104]\n",
      "Predicted=[115.14347], Original=[82.10159303]\n",
      "Predicted=[115.1695], Original=[95.76156312]\n",
      "Predicted=[115.20085], Original=[84.93847176]\n",
      "Predicted=[115.23768], Original=[144.70990179]\n",
      "Predicted=[115.27957], Original=[107.33382841]\n",
      "Predicted=[115.32577], Original=[86.71559889]\n",
      "Predicted=[115.37548], Original=[85.33423294]\n",
      "Predicted=[115.42811], Original=[12.40302644]\n",
      "Predicted=[115.48318], Original=[161.75175326]\n",
      "Predicted=[115.54027], Original=[26.43363895]\n",
      "Predicted=[115.59904], Original=[151.64836003]\n",
      "Predicted=[57.3709], Original=[85.09372469]\n",
      "Predicted=[90.61945], Original=[85.72181086]\n",
      "Predicted=[94.0265], Original=[174.22609917]\n",
      "Predicted=[88.95508], Original=[91.03703306]\n",
      "Predicted=[85.7321], Original=[31.98073909]\n",
      "Predicted=[85.113235], Original=[128.68128242]\n",
      "Predicted=[85.545], Original=[1.25907609]\n",
      "Predicted=[86.002335], Original=[44.6158693]\n",
      "Predicted=[86.24004], Original=[32.41319776]\n",
      "Predicted=[86.362114], Original=[0.01543168]\n",
      "Predicted=[86.47684], Original=[0.15576352]\n",
      "Predicted=[86.6171], Original=[78.61457379]\n",
      "Predicted=[86.774994], Original=[89.06625598]\n",
      "Predicted=[86.9381], Original=[83.21433437]\n",
      "Predicted=[87.10084], Original=[83.36323852]\n",
      "Predicted=[87.26244], Original=[99.14578309]\n",
      "Predicted=[87.42335], Original=[76.84646586]\n",
      "Predicted=[87.58355], Original=[154.97695974]\n",
      "Predicted=[87.7427], Original=[14.45434477]\n",
      "Predicted=[87.900444], Original=[95.09274063]\n",
      "Predicted=[88.056465], Original=[69.05840828]\n",
      "Predicted=[88.21058], Original=[79.74148037]\n",
      "Predicted=[88.36265], Original=[86.03797659]\n",
      "Predicted=[88.512596], Original=[83.29562912]\n",
      "Predicted=[130.32709], Original=[113.53252404]\n",
      "Predicted=[178.28757], Original=[151.62087329]\n",
      "Predicted=[181.57184], Original=[84.05297]\n",
      "Predicted=[176.10458], Original=[87.49370796]\n",
      "Predicted=[172.46997], Original=[87.67010617]\n",
      "Predicted=[171.51393], Original=[80.58718329]\n",
      "Predicted=[171.68604], Original=[77.98551764]\n",
      "Predicted=[171.88046], Original=[75.84630967]\n",
      "Predicted=[171.82726], Original=[3.15221347]\n",
      "Predicted=[171.655], Original=[0.04436608]\n",
      "Predicted=[171.48154], Original=[0.24787136]\n",
      "Predicted=[171.34073], Original=[76.95164296]\n",
      "Predicted=[171.22421], Original=[90.28122535]\n",
      "Predicted=[171.12], Original=[87.26323799]\n",
      "Predicted=[171.02301], Original=[83.41035592]\n",
      "Predicted=[170.93274], Original=[84.11665172]\n",
      "Predicted=[170.84958], Original=[168.23015096]\n",
      "Predicted=[170.77347], Original=[46.91141039]\n",
      "Predicted=[170.70398], Original=[150.09752992]\n",
      "Predicted=[170.6405], Original=[260.14315422]\n",
      "Predicted=[170.5826], Original=[191.29094686]\n",
      "Predicted=[170.52982], Original=[106.82969636]\n",
      "Predicted=[170.48181], Original=[160.02241093]\n",
      "Predicted=[170.4382], Original=[86.58967926]\n",
      "Predicted=[73.126976], Original=[193.15685678]\n",
      "Predicted=[109.93212], Original=[133.58172877]\n",
      "Predicted=[111.7252], Original=[129.98198313]\n",
      "Predicted=[105.754265], Original=[99.35889126]\n",
      "Predicted=[102.36198], Original=[181.63131105]\n",
      "Predicted=[101.755226], Original=[84.26625545]\n",
      "Predicted=[102.14735], Original=[85.082005]\n",
      "Predicted=[102.49488], Original=[86.14666851]\n",
      "Predicted=[102.59878], Original=[0.11477312]\n",
      "Predicted=[102.598206], Original=[77.41182709]\n",
      "Predicted=[102.60604], Original=[0.01109152]\n",
      "Predicted=[102.649025], Original=[90.17496112]\n",
      "Predicted=[102.71479], Original=[83.65583813]\n",
      "Predicted=[102.78981], Original=[83.80845202]\n",
      "Predicted=[102.86877], Original=[95.76157503]\n",
      "Predicted=[102.95107], Original=[84.06676653]\n",
      "Predicted=[103.03687], Original=[131.38129454]\n",
      "Predicted=[103.12592], Original=[83.6030057]\n",
      "Predicted=[103.21749], Original=[125.7375379]\n",
      "Predicted=[103.310936], Original=[90.94972797]\n",
      "Predicted=[103.40574], Original=[83.52436246]\n",
      "Predicted=[103.5015], Original=[84.26151918]\n",
      "Predicted=[103.5979], Original=[189.32682494]\n",
      "Predicted=[103.694695], Original=[491.97016833]\n",
      "Predicted=[94.9351], Original=[492.51172958]\n",
      "Predicted=[136.52715], Original=[494.22584319]\n",
      "Predicted=[137.78114], Original=[344.68930636]\n",
      "Predicted=[131.37512], Original=[222.47583716]\n",
      "Predicted=[127.7989], Original=[185.97498281]\n",
      "Predicted=[127.09824], Original=[116.21960213]\n",
      "Predicted=[127.411995], Original=[227.17928206]\n",
      "Predicted=[127.66463], Original=[296.82919361]\n",
      "Predicted=[127.65793], Original=[206.18475096]\n",
      "Predicted=[127.54563], Original=[89.02801303]\n",
      "Predicted=[127.44582], Original=[80.90394092]\n",
      "Predicted=[127.38503], Original=[85.25921766]\n",
      "Predicted=[127.35006], Original=[146.35207069]\n",
      "Predicted=[127.32723], Original=[117.9072414]\n",
      "Predicted=[127.31141], Original=[84.01457792]\n",
      "Predicted=[127.30208], Original=[133.73981168]\n",
      "Predicted=[127.29937], Original=[74.06201219]\n",
      "Predicted=[127.30297], Original=[140.7202241]\n",
      "Predicted=[127.31205], Original=[81.7496744]\n",
      "Predicted=[127.32583], Original=[73.49416153]\n",
      "Predicted=[127.34365], Original=[99.84081552]\n",
      "Predicted=[127.365], Original=[0.07185376]\n",
      "Predicted=[127.38943], Original=[83.09285022]\n",
      "Predicted=[127.41656], Original=[175.17786269]\n",
      "Predicted=[57.04841], Original=[86.89961999]\n",
      "Predicted=[90.223854], Original=[89.11734144]\n",
      "Predicted=[93.67592], Original=[84.42874191]\n",
      "Predicted=[88.62873], Original=[113.58108741]\n",
      "Predicted=[85.40928], Original=[62.55973431]\n",
      "Predicted=[84.78904], Original=[80.4669148]\n",
      "Predicted=[85.22118], Original=[0.08294528]\n",
      "Predicted=[85.68107], Original=[77.85194933]\n",
      "Predicted=[85.92199], Original=[78.0228563]\n",
      "Predicted=[86.0469], Original=[0.0265232]\n",
      "Predicted=[86.16401], Original=[0.03520352]\n",
      "Predicted=[86.30636], Original=[77.97084658]\n",
      "Predicted=[86.46622], Original=[0.024112]\n",
      "Predicted=[86.63117], Original=[84.59557594]\n",
      "Predicted=[86.79565], Original=[102.89532731]\n",
      "Predicted=[86.95889], Original=[162.4723886]\n",
      "Predicted=[87.121284], Original=[86.42295736]\n",
      "Predicted=[87.28289], Original=[185.9770098]\n",
      "Predicted=[87.44337], Original=[85.77477229]\n",
      "Predicted=[87.60236], Original=[84.0687238]\n",
      "Predicted=[87.75953], Original=[91.89146698]\n",
      "Predicted=[87.91473], Original=[83.15895694]\n",
      "Predicted=[88.06781], Original=[84.27194022]\n",
      "Predicted=[88.2187], Original=[83.03986543]\n",
      "Predicted=[57.722168], Original=[171.69920727]\n",
      "Predicted=[91.06561], Original=[94.90137189]\n",
      "Predicted=[94.42513], Original=[82.56092285]\n",
      "Predicted=[89.32189], Original=[53.36995288]\n",
      "Predicted=[86.09225], Original=[28.12943155]\n",
      "Predicted=[85.474655], Original=[79.28833843]\n",
      "Predicted=[85.90649], Original=[82.23959764]\n",
      "Predicted=[86.36145], Original=[0.08246304]\n",
      "Predicted=[86.59582], Original=[78.11708427]\n",
      "Predicted=[86.71482], Original=[0.036168]\n",
      "Predicted=[86.827], Original=[0.21797248]\n",
      "Predicted=[86.96504], Original=[0.3472128]\n",
      "Predicted=[87.12087], Original=[76.76917634]\n",
      "Predicted=[87.28201], Original=[0.01591392]\n",
      "Predicted=[87.44291], Original=[177.74707873]\n",
      "Predicted=[87.602776], Original=[90.09644012]\n",
      "Predicted=[87.76203], Original=[178.3501075]\n",
      "Predicted=[87.920715], Original=[98.22069609]\n",
      "Predicted=[88.07845], Original=[168.38627527]\n",
      "Predicted=[88.234856], Original=[91.89025826]\n",
      "Predicted=[88.38961], Original=[81.46034074]\n",
      "Predicted=[88.542534], Original=[91.88691057]\n",
      "Predicted=[88.69349], Original=[82.08982989]\n",
      "Predicted=[88.84237], Original=[83.6939352]\n",
      "Predicted=[56.766075], Original=[83.62066386]\n",
      "Predicted=[89.86849], Original=[83.08966174]\n",
      "Predicted=[93.35966], Original=[95.53218791]\n",
      "Predicted=[88.33708], Original=[84.51086695]\n",
      "Predicted=[85.12235], Original=[80.30170828]\n",
      "Predicted=[84.50103], Original=[0.02796992]\n",
      "Predicted=[84.933235], Original=[78.29142798]\n",
      "Predicted=[85.39512], Original=[0.04870624]\n",
      "Predicted=[85.6388], Original=[0.05690432]\n",
      "Predicted=[85.76621], Original=[77.76085598]\n",
      "Predicted=[85.88541], Original=[0.01591392]\n",
      "Predicted=[86.02958], Original=[83.12918426]\n",
      "Predicted=[86.19111], Original=[81.8619527]\n",
      "Predicted=[86.35767], Original=[85.58328109]\n",
      "Predicted=[86.52364], Original=[94.22346178]\n",
      "Predicted=[86.688286], Original=[84.65036665]\n",
      "Predicted=[86.852], Original=[120.92988613]\n",
      "Predicted=[87.014824], Original=[88.62973959]\n",
      "Predicted=[87.17646], Original=[145.52246718]\n",
      "Predicted=[87.336494], Original=[0.04050816]\n",
      "Predicted=[87.49468], Original=[80.12158381]\n",
      "Predicted=[87.650826], Original=[85.67426908]\n",
      "Predicted=[87.8048], Original=[82.28113305]\n",
      "Predicted=[87.95653], Original=[95.55256111]\n",
      "Predicted=[56.793385], Original=[126.5534311]\n",
      "Predicted=[89.902855], Original=[130.60734669]\n",
      "Predicted=[93.390205], Original=[92.52018623]\n",
      "Predicted=[88.36524], Original=[85.38667321]\n",
      "Predicted=[85.150055], Original=[82.36190615]\n",
      "Predicted=[84.52883], Original=[90.27945265]\n",
      "Predicted=[84.96104], Original=[78.96074522]\n",
      "Predicted=[85.42275], Original=[0.0072336]\n",
      "Predicted=[85.66615], Original=[0.05352864]\n",
      "Predicted=[85.79333], Original=[77.58163696]\n",
      "Predicted=[85.912315], Original=[0.04002592]\n",
      "Predicted=[86.05631], Original=[0.1374384]\n",
      "Predicted=[86.21769], Original=[167.71362929]\n",
      "Predicted=[86.38409], Original=[86.27080326]\n",
      "Predicted=[86.54993], Original=[83.10993225]\n",
      "Predicted=[86.71444], Original=[94.01729307]\n",
      "Predicted=[86.878006], Original=[82.44525197]\n",
      "Predicted=[87.04072], Original=[81.71870776]\n",
      "Predicted=[87.20223], Original=[89.58975565]\n",
      "Predicted=[87.36218], Original=[79.90535326]\n",
      "Predicted=[87.52028], Original=[0.0988592]\n",
      "Predicted=[87.67631], Original=[161.22780524]\n",
      "Predicted=[87.8302], Original=[4.27972594]\n",
      "Predicted=[87.98185], Original=[81.73353132]\n",
      "Predicted=[56.771286], Original=[182.36746017]\n",
      "Predicted=[89.875046], Original=[85.97811678]\n",
      "Predicted=[93.365486], Original=[84.02524352]\n",
      "Predicted=[88.34246], Original=[135.96599554]\n",
      "Predicted=[85.12763], Original=[47.997588]\n",
      "Predicted=[84.50632], Original=[81.37658766]\n",
      "Predicted=[84.93853], Original=[78.98322409]\n",
      "Predicted=[85.4004], Original=[0.02362976]\n",
      "Predicted=[85.64402], Original=[79.52787092]\n",
      "Predicted=[85.77138], Original=[0.14177856]\n",
      "Predicted=[85.89054], Original=[0.20880992]\n",
      "Predicted=[86.034676], Original=[78.55824556]\n",
      "Predicted=[86.19618], Original=[84.04016188]\n",
      "Predicted=[86.362724], Original=[92.20046763]\n",
      "Predicted=[86.52866], Original=[85.35606561]\n",
      "Predicted=[86.69328], Original=[86.76301638]\n",
      "Predicted=[86.85696], Original=[123.10339771]\n",
      "Predicted=[87.01976], Original=[44.18594743]\n",
      "Predicted=[87.18137], Original=[164.76726098]\n",
      "Predicted=[87.3414], Original=[2.1301366]\n",
      "Predicted=[87.49958], Original=[81.30752501]\n",
      "Predicted=[87.65569], Original=[90.58744751]\n",
      "Predicted=[87.80964], Original=[83.61733529]\n",
      "Predicted=[87.96134], Original=[83.83984276]\n",
      "Predicted=[62.57715], Original=[177.93349294]\n",
      "Predicted=[97.03109], Original=[96.84545007]\n",
      "Predicted=[99.77808], Original=[86.27281252]\n",
      "Predicted=[94.33716], Original=[91.68017618]\n",
      "Predicted=[91.05221], Original=[83.69848248]\n",
      "Predicted=[90.44845], Original=[82.21773135]\n",
      "Predicted=[90.87198], Original=[32.20598449]\n",
      "Predicted=[91.29029], Original=[53.50945411]\n",
      "Predicted=[91.4789], Original=[77.75658666]\n",
      "Predicted=[91.556725], Original=[0.02989888]\n",
      "Predicted=[91.63398], Original=[0.0747472]\n",
      "Predicted=[91.74082], Original=[81.20549169]\n",
      "Predicted=[91.86736], Original=[0.07667616]\n",
      "Predicted=[92.000656], Original=[167.27345484]\n",
      "Predicted=[92.135216], Original=[101.05151518]\n",
      "Predicted=[92.27038], Original=[82.55067259]\n",
      "Predicted=[92.40644], Original=[86.93054704]\n",
      "Predicted=[92.543335], Original=[83.27343492]\n",
      "Predicted=[92.68055], Original=[100.13327785]\n",
      "Predicted=[92.81757], Original=[104.26566612]\n",
      "Predicted=[92.95406], Original=[155.10362606]\n",
      "Predicted=[93.08971], Original=[17.39544603]\n",
      "Predicted=[93.22431], Original=[74.62210929]\n",
      "Predicted=[93.357735], Original=[166.3773177]\n",
      "Predicted=[63.898193], Original=[100.62303139]\n",
      "Predicted=[98.65062], Original=[95.66449532]\n",
      "Predicted=[101.251595], Original=[84.9786928]\n",
      "Predicted=[95.730156], Original=[84.09324887]\n",
      "Predicted=[92.43078], Original=[93.98197512]\n",
      "Predicted=[91.82868], Original=[82.46143102]\n",
      "Predicted=[92.248924], Original=[79.61611052]\n",
      "Predicted=[92.65757], Original=[0.03954368]\n",
      "Predicted=[92.83443], Original=[82.19300361]\n",
      "Predicted=[92.90156], Original=[0.05159968]\n",
      "Predicted=[92.96956], Original=[0.25655168]\n",
      "Predicted=[93.068016], Original=[78.07159194]\n",
      "Predicted=[93.18663], Original=[94.08102749]\n",
      "Predicted=[93.31235], Original=[84.93391566]\n",
      "Predicted=[93.43973], Original=[83.89168216]\n",
      "Predicted=[93.56809], Original=[93.45719822]\n",
      "Predicted=[93.69776], Original=[85.16331376]\n",
      "Predicted=[93.82858], Original=[147.5125683]\n",
      "Predicted=[93.96005], Original=[67.91742856]\n",
      "Predicted=[94.09165], Original=[37.06835373]\n",
      "Predicted=[94.22297], Original=[90.75562856]\n",
      "Predicted=[94.353676], Original=[82.32050521]\n",
      "Predicted=[94.48362], Original=[83.22251086]\n",
      "Predicted=[94.61259], Original=[97.32402721]\n",
      "Predicted=[100.345505], Original=[103.1487286]\n",
      "Predicted=[142.62433], Original=[151.44882058]\n",
      "Predicted=[144.03824], Original=[83.62046252]\n",
      "Predicted=[137.7888], Original=[88.13724207]\n",
      "Predicted=[134.23187], Original=[83.4697672]\n",
      "Predicted=[133.4931], Original=[80.03378543]\n",
      "Predicted=[133.77042], Original=[0.0217008]\n",
      "Predicted=[133.99846], Original=[86.59315526]\n",
      "Predicted=[133.97345], Original=[0.1109152]\n",
      "Predicted=[133.844], Original=[77.91594785]\n",
      "Predicted=[133.72607], Original=[0.03086336]\n",
      "Predicted=[133.64645], Original=[0.11863104]\n",
      "Predicted=[133.59268], Original=[88.87283319]\n",
      "Predicted=[133.55159], Original=[83.36664401]\n",
      "Predicted=[133.51805], Original=[85.55319072]\n",
      "Predicted=[133.49149], Original=[163.66498922]\n",
      "Predicted=[133.47205], Original=[117.30199955]\n",
      "Predicted=[133.45934], Original=[140.84825995]\n",
      "Predicted=[133.45258], Original=[124.88745408]\n",
      "Predicted=[133.45099], Original=[84.13027712]\n",
      "Predicted=[133.4539], Original=[94.51576815]\n",
      "Predicted=[133.46078], Original=[83.31808759]\n",
      "Predicted=[133.47116], Original=[83.82120581]\n",
      "Predicted=[133.48462], Original=[84.99902208]\n",
      "Predicted=[80.20332], Original=[181.55153207]\n",
      "Predicted=[118.60239], Original=[85.63977331]\n",
      "Predicted=[120.03126], Original=[82.44104962]\n",
      "Predicted=[113.8236], Original=[34.0896744]\n",
      "Predicted=[110.36138], Original=[47.00345054]\n",
      "Predicted=[109.73267], Original=[82.54472654]\n",
      "Predicted=[110.099144], Original=[80.25751991]\n",
      "Predicted=[110.4083], Original=[0.07764064]\n",
      "Predicted=[110.46731], Original=[77.63367151]\n",
      "Predicted=[110.4231], Original=[0.01977184]\n",
      "Predicted=[110.390396], Original=[0.0892144]\n",
      "Predicted=[110.39507], Original=[26.86630874]\n",
      "Predicted=[110.42401], Original=[51.26039447]\n",
      "Predicted=[110.46346], Original=[0.01012704]\n",
      "Predicted=[110.50819], Original=[87.99671136]\n",
      "Predicted=[110.557625], Original=[172.28746605]\n",
      "Predicted=[110.6119], Original=[88.93424713]\n",
      "Predicted=[110.670616], Original=[149.37775189]\n",
      "Predicted=[110.73302], Original=[131.06074979]\n",
      "Predicted=[110.79842], Original=[84.18151813]\n",
      "Predicted=[110.86619], Original=[84.63408174]\n",
      "Predicted=[110.935875], Original=[87.05677937]\n",
      "Predicted=[111.00712], Original=[85.69547239]\n",
      "Predicted=[111.07957], Original=[83.40169064]\n",
      "Predicted=[85.32905], Original=[85.72207182]\n",
      "Predicted=[124.83305], Original=[88.98365158]\n",
      "Predicted=[126.11801], Original=[172.46844975]\n",
      "Predicted=[119.8032], Original=[83.32783584]\n",
      "Predicted=[116.29991], Original=[82.08754003]\n",
      "Predicted=[115.65033], Original=[0.03568576]\n",
      "Predicted=[115.99752], Original=[81.13229357]\n",
      "Predicted=[116.28307], Original=[52.89711924]\n",
      "Predicted=[116.31504], Original=[25.19258811]\n",
      "Predicted=[116.24385], Original=[0.00096448]\n",
      "Predicted=[116.18519], Original=[0.24550838]\n",
      "Predicted=[116.16486], Original=[79.66416758]\n",
      "Predicted=[116.16953], Original=[0.08149856]\n",
      "Predicted=[116.18543], Original=[171.26525728]\n",
      "Predicted=[116.20739], Original=[85.18903476]\n",
      "Predicted=[116.234795], Original=[95.08473122]\n",
      "Predicted=[116.26784], Original=[85.96143029]\n",
      "Predicted=[116.30606], Original=[83.8642471]\n",
      "Predicted=[116.34869], Original=[90.2149496]\n",
      "Predicted=[116.39498], Original=[82.65638182]\n",
      "Predicted=[116.44431], Original=[81.50889875]\n",
      "Predicted=[116.49616], Original=[85.33914985]\n",
      "Predicted=[116.55013], Original=[82.67901598]\n",
      "Predicted=[116.60589], Original=[96.72660161]\n",
      "Predicted=[74.39196], Original=[168.33889585]\n",
      "Predicted=[111.627556], Original=[86.28687544]\n",
      "Predicted=[113.3406], Original=[93.46124633]\n",
      "Predicted=[107.27297], Original=[84.63003437]\n",
      "Predicted=[103.847534], Original=[83.43546275]\n",
      "Predicted=[103.2369], Original=[80.24106394]\n",
      "Predicted=[103.62858], Original=[81.77482903]\n",
      "Predicted=[103.97137], Original=[0.00048224]\n",
      "Predicted=[104.06716], Original=[78.58791935]\n",
      "Predicted=[104.05797], Original=[0.00289344]\n",
      "Predicted=[104.05785], Original=[0.1109152]\n",
      "Predicted=[104.093544], Original=[0.02362976]\n",
      "Predicted=[104.152405], Original=[80.41327668]\n",
      "Predicted=[104.22074], Original=[170.68197408]\n",
      "Predicted=[104.29326], Original=[89.44322083]\n",
      "Predicted=[104.36936], Original=[71.90830182]\n",
      "Predicted=[104.44926], Original=[100.78699891]\n",
      "Predicted=[104.53263], Original=[81.07712965]\n",
      "Predicted=[104.61877], Original=[72.30981785]\n",
      "Predicted=[104.70701], Original=[98.82903022]\n",
      "Predicted=[104.79681], Original=[1.46463738]\n",
      "Predicted=[104.88778], Original=[79.94958635]\n",
      "Predicted=[104.97956], Original=[86.61525409]\n",
      "Predicted=[105.07189], Original=[83.4514244]\n",
      "Predicted=[57.977474], Original=[104.25013755]\n",
      "Predicted=[91.3904], Original=[162.64471158]\n",
      "Predicted=[94.71587], Original=[83.65060313]\n",
      "Predicted=[89.58978], Original=[95.58099457]\n",
      "Predicted=[86.35531], Original=[83.42027698]\n",
      "Predicted=[85.738525], Original=[88.58704437]\n",
      "Predicted=[86.17034], Original=[78.95124435]\n",
      "Predicted=[86.62356], Original=[0.06847808]\n",
      "Predicted=[86.85549], Original=[0.24015552]\n",
      "Predicted=[86.97226], Original=[78.95809741]\n",
      "Predicted=[87.08256], Original=[0.01157376]\n",
      "Predicted=[87.21894], Original=[78.63934749]\n",
      "Predicted=[87.37327], Original=[83.58007278]\n",
      "Predicted=[87.53295], Original=[95.24712488]\n",
      "Predicted=[87.69247], Original=[86.08517132]\n",
      "Predicted=[87.85106], Original=[165.50584107]\n",
      "Predicted=[88.00912], Original=[92.56159423]\n",
      "Predicted=[88.166664], Original=[91.69756263]\n",
      "Predicted=[88.323364], Original=[82.72581366]\n",
      "Predicted=[88.478775], Original=[91.32593052]\n",
      "Predicted=[88.63259], Original=[82.08521663]\n",
      "Predicted=[88.78465], Original=[0.02700544]\n",
      "Predicted=[88.934784], Original=[88.40027734]\n",
      "Predicted=[89.082886], Original=[143.11329178]\n",
      "Predicted=[56.868843], Original=[114.37277636]\n",
      "Predicted=[89.99782], Original=[86.19014445]\n",
      "Predicted=[93.47466], Original=[94.21768237]\n",
      "Predicted=[88.44309], Original=[86.17992145]\n",
      "Predicted=[85.22665], Original=[84.34757223]\n",
      "Predicted=[84.60572], Original=[91.63003838]\n",
      "Predicted=[85.037926], Original=[81.29836935]\n",
      "Predicted=[85.49909], Original=[0.03520352]\n",
      "Predicted=[85.74177], Original=[78.4589226]\n",
      "Predicted=[85.86826], Original=[0.00916256]\n",
      "Predicted=[85.986694], Original=[0.19820064]\n",
      "Predicted=[86.13021], Original=[88.38879746]\n",
      "Predicted=[86.29114], Original=[83.33413172]\n",
      "Predicted=[86.4571], Original=[84.64162132]\n",
      "Predicted=[86.62254], Original=[107.05911973]\n",
      "Predicted=[86.78668], Original=[157.12604323]\n",
      "Predicted=[86.9499], Original=[60.18094386]\n",
      "Predicted=[87.11228], Original=[116.53285462]\n",
      "Predicted=[87.2735], Original=[82.33990107]\n",
      "Predicted=[87.43316], Original=[0.0699248]\n",
      "Predicted=[87.59098], Original=[81.44876762]\n",
      "Predicted=[87.74678], Original=[86.92589641]\n",
      "Predicted=[87.90043], Original=[82.18992412]\n",
      "Predicted=[88.05184], Original=[84.82393306]\n",
      "Predicted=[59.13649], Original=[91.52545409]\n",
      "Predicted=[92.8437], Original=[85.72169236]\n",
      "Predicted=[96.01679], Original=[107.14281566]\n",
      "Predicted=[90.79583], Original=[164.12557939]\n",
      "Predicted=[87.543106], Original=[82.90975593]\n",
      "Predicted=[86.93011], Original=[0.13078349]\n",
      "Predicted=[87.36114], Original=[80.71216092]\n",
      "Predicted=[87.80607], Original=[81.27744223]\n",
      "Predicted=[88.02697], Original=[0.06558464]\n",
      "Predicted=[88.133705], Original=[0.13888512]\n",
      "Predicted=[88.23559], Original=[39.24134384]\n",
      "Predicted=[88.36453], Original=[39.25505586]\n",
      "Predicted=[88.511894], Original=[95.0564605]\n",
      "Predicted=[88.66499], Original=[84.55589104]\n",
      "Predicted=[88.81829], Original=[84.88883174]\n",
      "Predicted=[88.97105], Original=[85.23024483]\n",
      "Predicted=[89.123665], Original=[145.40577278]\n",
      "Predicted=[89.27609], Original=[44.1546197]\n",
      "Predicted=[89.42797], Original=[77.76863352]\n",
      "Predicted=[89.57885], Original=[206.43517266]\n",
      "Predicted=[89.72845], Original=[95.77334574]\n",
      "Predicted=[89.87647], Original=[94.81761864]\n",
      "Predicted=[90.02282], Original=[145.97343004]\n",
      "Predicted=[90.16735], Original=[36.60885767]\n"
     ]
    }
   ],
   "source": [
    "# show the inputs, predicted outputs and real outputs\n",
    "for i in range(len(X_test_gru_shaped[0])):\n",
    "        for j in range(len(X_test_gru_shaped[1])):\n",
    "            print(\"Predicted=%s, Original=%s\" % (y_predicted[i][j], Y_test_gru_shaped[i][j]))"
   ],
   "metadata": {
    "collapsed": false,
    "pycharm": {
     "name": "#%%\n"
    }
   }
  },
  {
   "cell_type": "code",
   "execution_count": null,
   "outputs": [],
   "source": [
    "# Create a dataframe with a prediction for all datapoints for the csv\n",
    "\n",
    "y_predicted_all = model.predict(X)\n",
    "y_pred_all = pd.DataFrame(data=y_predicted_all)\n",
    "\n",
    "my_df = pd.DataFrame({'Time': TimeHour.loc[:,'TimeHour'].tolist(), 'pred_y': y_pred_all.loc[:,0].tolist()})\n",
    "my_df.to_csv('FirstPredictions.csv')"
   ],
   "metadata": {
    "collapsed": false,
    "pycharm": {
     "name": "#%%\n"
    }
   }
  },
  {
   "cell_type": "code",
   "execution_count": 11,
   "outputs": [],
   "source": [
    "df_explore = pd.DataFrame(data=X)\n",
    "df_explore['TimeHour'] = TimeHour.loc[:, 'TimeHour']"
   ],
   "metadata": {
    "collapsed": false,
    "pycharm": {
     "name": "#%%\n"
    }
   }
  },
  {
   "cell_type": "code",
   "execution_count": null,
   "outputs": [],
   "source": [
    "#date = df_explore.loc[2, \"TimeHour\"]\n",
    "#df_explore['TimeHour2'] = pd.to_datetime(df_explore['TimeHour'], format='%Y-%m-%d %H:%M:%S')\n",
    "#date = df_explore.loc[2, \"TimeHour2\"]\n",
    "#type(date)"
   ],
   "metadata": {
    "collapsed": false,
    "pycharm": {
     "name": "#%%\n"
    }
   }
  },
  {
   "cell_type": "code",
   "execution_count": null,
   "outputs": [],
   "source": [
    "#new_date = date + timedelta(hours=1)\n",
    "#new_date"
   ],
   "metadata": {
    "collapsed": false,
    "pycharm": {
     "name": "#%%\n"
    }
   }
  },
  {
   "cell_type": "code",
   "execution_count": 18,
   "outputs": [
    {
     "data": {
      "text/plain": "            0    1    2    3    4    5    6    7    8    9  ...   30   31  \\\n545  0.017310  0.0  0.0  0.0  0.0  0.0  1.0  0.0  0.0  0.0  ...  0.0  0.0   \n546  0.007029  0.0  0.0  0.0  0.0  0.0  0.0  1.0  0.0  0.0  ...  0.0  0.0   \n547  0.007944  0.0  0.0  0.0  0.0  0.0  0.0  0.0  1.0  0.0  ...  0.0  0.0   \n548  0.002714  0.0  0.0  0.0  0.0  0.0  0.0  0.0  0.0  1.0  ...  0.0  0.0   \n549  0.006858  0.0  0.0  0.0  0.0  0.0  0.0  0.0  0.0  0.0  ...  0.0  0.0   \n550  0.136719  0.0  0.0  0.0  0.0  0.0  0.0  0.0  0.0  0.0  ...  0.0  0.0   \n551  0.371582  0.0  0.0  0.0  0.0  0.0  0.0  0.0  0.0  0.0  ...  0.0  0.0   \n552  0.091797  0.0  0.0  0.0  0.0  0.0  0.0  0.0  0.0  0.0  ...  0.0  0.0   \n\n      32   33   34   35   36   37   38             TimeHour  \n545  0.0  0.0  0.0  0.0  0.0  0.0  1.0  2018-01-24 05:00:00  \n546  0.0  0.0  0.0  0.0  0.0  0.0  1.0  2018-01-24 06:00:00  \n547  0.0  0.0  0.0  0.0  0.0  0.0  1.0  2018-01-24 07:00:00  \n548  0.0  0.0  0.0  0.0  0.0  0.0  1.0  2018-01-24 08:00:00  \n549  0.0  0.0  0.0  0.0  0.0  0.0  1.0  2018-01-24 09:00:00  \n550  0.0  0.0  0.0  0.0  0.0  0.0  1.0  2018-01-24 10:00:00  \n551  0.0  0.0  0.0  0.0  0.0  0.0  1.0  2018-01-25 14:00:00  \n552  0.0  0.0  0.0  0.0  0.0  0.0  1.0  2018-01-25 15:00:00  \n\n[8 rows x 40 columns]",
      "text/html": "<div>\n<style scoped>\n    .dataframe tbody tr th:only-of-type {\n        vertical-align: middle;\n    }\n\n    .dataframe tbody tr th {\n        vertical-align: top;\n    }\n\n    .dataframe thead th {\n        text-align: right;\n    }\n</style>\n<table border=\"1\" class=\"dataframe\">\n  <thead>\n    <tr style=\"text-align: right;\">\n      <th></th>\n      <th>0</th>\n      <th>1</th>\n      <th>2</th>\n      <th>3</th>\n      <th>4</th>\n      <th>5</th>\n      <th>6</th>\n      <th>7</th>\n      <th>8</th>\n      <th>9</th>\n      <th>...</th>\n      <th>30</th>\n      <th>31</th>\n      <th>32</th>\n      <th>33</th>\n      <th>34</th>\n      <th>35</th>\n      <th>36</th>\n      <th>37</th>\n      <th>38</th>\n      <th>TimeHour</th>\n    </tr>\n  </thead>\n  <tbody>\n    <tr>\n      <th>545</th>\n      <td>0.017310</td>\n      <td>0.0</td>\n      <td>0.0</td>\n      <td>0.0</td>\n      <td>0.0</td>\n      <td>0.0</td>\n      <td>1.0</td>\n      <td>0.0</td>\n      <td>0.0</td>\n      <td>0.0</td>\n      <td>...</td>\n      <td>0.0</td>\n      <td>0.0</td>\n      <td>0.0</td>\n      <td>0.0</td>\n      <td>0.0</td>\n      <td>0.0</td>\n      <td>0.0</td>\n      <td>0.0</td>\n      <td>1.0</td>\n      <td>2018-01-24 05:00:00</td>\n    </tr>\n    <tr>\n      <th>546</th>\n      <td>0.007029</td>\n      <td>0.0</td>\n      <td>0.0</td>\n      <td>0.0</td>\n      <td>0.0</td>\n      <td>0.0</td>\n      <td>0.0</td>\n      <td>1.0</td>\n      <td>0.0</td>\n      <td>0.0</td>\n      <td>...</td>\n      <td>0.0</td>\n      <td>0.0</td>\n      <td>0.0</td>\n      <td>0.0</td>\n      <td>0.0</td>\n      <td>0.0</td>\n      <td>0.0</td>\n      <td>0.0</td>\n      <td>1.0</td>\n      <td>2018-01-24 06:00:00</td>\n    </tr>\n    <tr>\n      <th>547</th>\n      <td>0.007944</td>\n      <td>0.0</td>\n      <td>0.0</td>\n      <td>0.0</td>\n      <td>0.0</td>\n      <td>0.0</td>\n      <td>0.0</td>\n      <td>0.0</td>\n      <td>1.0</td>\n      <td>0.0</td>\n      <td>...</td>\n      <td>0.0</td>\n      <td>0.0</td>\n      <td>0.0</td>\n      <td>0.0</td>\n      <td>0.0</td>\n      <td>0.0</td>\n      <td>0.0</td>\n      <td>0.0</td>\n      <td>1.0</td>\n      <td>2018-01-24 07:00:00</td>\n    </tr>\n    <tr>\n      <th>548</th>\n      <td>0.002714</td>\n      <td>0.0</td>\n      <td>0.0</td>\n      <td>0.0</td>\n      <td>0.0</td>\n      <td>0.0</td>\n      <td>0.0</td>\n      <td>0.0</td>\n      <td>0.0</td>\n      <td>1.0</td>\n      <td>...</td>\n      <td>0.0</td>\n      <td>0.0</td>\n      <td>0.0</td>\n      <td>0.0</td>\n      <td>0.0</td>\n      <td>0.0</td>\n      <td>0.0</td>\n      <td>0.0</td>\n      <td>1.0</td>\n      <td>2018-01-24 08:00:00</td>\n    </tr>\n    <tr>\n      <th>549</th>\n      <td>0.006858</td>\n      <td>0.0</td>\n      <td>0.0</td>\n      <td>0.0</td>\n      <td>0.0</td>\n      <td>0.0</td>\n      <td>0.0</td>\n      <td>0.0</td>\n      <td>0.0</td>\n      <td>0.0</td>\n      <td>...</td>\n      <td>0.0</td>\n      <td>0.0</td>\n      <td>0.0</td>\n      <td>0.0</td>\n      <td>0.0</td>\n      <td>0.0</td>\n      <td>0.0</td>\n      <td>0.0</td>\n      <td>1.0</td>\n      <td>2018-01-24 09:00:00</td>\n    </tr>\n    <tr>\n      <th>550</th>\n      <td>0.136719</td>\n      <td>0.0</td>\n      <td>0.0</td>\n      <td>0.0</td>\n      <td>0.0</td>\n      <td>0.0</td>\n      <td>0.0</td>\n      <td>0.0</td>\n      <td>0.0</td>\n      <td>0.0</td>\n      <td>...</td>\n      <td>0.0</td>\n      <td>0.0</td>\n      <td>0.0</td>\n      <td>0.0</td>\n      <td>0.0</td>\n      <td>0.0</td>\n      <td>0.0</td>\n      <td>0.0</td>\n      <td>1.0</td>\n      <td>2018-01-24 10:00:00</td>\n    </tr>\n    <tr>\n      <th>551</th>\n      <td>0.371582</td>\n      <td>0.0</td>\n      <td>0.0</td>\n      <td>0.0</td>\n      <td>0.0</td>\n      <td>0.0</td>\n      <td>0.0</td>\n      <td>0.0</td>\n      <td>0.0</td>\n      <td>0.0</td>\n      <td>...</td>\n      <td>0.0</td>\n      <td>0.0</td>\n      <td>0.0</td>\n      <td>0.0</td>\n      <td>0.0</td>\n      <td>0.0</td>\n      <td>0.0</td>\n      <td>0.0</td>\n      <td>1.0</td>\n      <td>2018-01-25 14:00:00</td>\n    </tr>\n    <tr>\n      <th>552</th>\n      <td>0.091797</td>\n      <td>0.0</td>\n      <td>0.0</td>\n      <td>0.0</td>\n      <td>0.0</td>\n      <td>0.0</td>\n      <td>0.0</td>\n      <td>0.0</td>\n      <td>0.0</td>\n      <td>0.0</td>\n      <td>...</td>\n      <td>0.0</td>\n      <td>0.0</td>\n      <td>0.0</td>\n      <td>0.0</td>\n      <td>0.0</td>\n      <td>0.0</td>\n      <td>0.0</td>\n      <td>0.0</td>\n      <td>1.0</td>\n      <td>2018-01-25 15:00:00</td>\n    </tr>\n  </tbody>\n</table>\n<p>8 rows × 40 columns</p>\n</div>"
     },
     "execution_count": 18,
     "metadata": {},
     "output_type": "execute_result"
    }
   ],
   "source": [
    "df_test = pd.DataFrame(data=X)\n",
    "df_test['TimeHour'] = TimeHour.loc[:, 'TimeHour']\n",
    "\n",
    "small_df_test = df_explore[545:553]\n",
    "small_df_test"
   ],
   "metadata": {
    "collapsed": false,
    "pycharm": {
     "name": "#%%\n"
    }
   }
  },
  {
   "cell_type": "code",
   "execution_count": 19,
   "outputs": [
    {
     "name": "stderr",
     "output_type": "stream",
     "text": [
      "C:\\ProgramData\\Anaconda3\\envs\\Keras\\lib\\site-packages\\ipykernel_launcher.py:1: SettingWithCopyWarning: \n",
      "A value is trying to be set on a copy of a slice from a DataFrame.\n",
      "Try using .loc[row_indexer,col_indexer] = value instead\n",
      "\n",
      "See the caveats in the documentation: https://pandas.pydata.org/pandas-docs/stable/user_guide/indexing.html#returning-a-view-versus-a-copy\n",
      "  \"\"\"Entry point for launching an IPython kernel.\n",
      "C:\\ProgramData\\Anaconda3\\envs\\Keras\\lib\\site-packages\\ipykernel_launcher.py:2: SettingWithCopyWarning: \n",
      "A value is trying to be set on a copy of a slice from a DataFrame.\n",
      "Try using .loc[row_indexer,col_indexer] = value instead\n",
      "\n",
      "See the caveats in the documentation: https://pandas.pydata.org/pandas-docs/stable/user_guide/indexing.html#returning-a-view-versus-a-copy\n",
      "  \n",
      "C:\\ProgramData\\Anaconda3\\envs\\Keras\\lib\\site-packages\\ipykernel_launcher.py:3: SettingWithCopyWarning: \n",
      "A value is trying to be set on a copy of a slice from a DataFrame.\n",
      "Try using .loc[row_indexer,col_indexer] = value instead\n",
      "\n",
      "See the caveats in the documentation: https://pandas.pydata.org/pandas-docs/stable/user_guide/indexing.html#returning-a-view-versus-a-copy\n",
      "  This is separate from the ipykernel package so we can avoid doing imports until\n",
      "C:\\ProgramData\\Anaconda3\\envs\\Keras\\lib\\site-packages\\ipykernel_launcher.py:4: SettingWithCopyWarning: \n",
      "A value is trying to be set on a copy of a slice from a DataFrame.\n",
      "Try using .loc[row_indexer,col_indexer] = value instead\n",
      "\n",
      "See the caveats in the documentation: https://pandas.pydata.org/pandas-docs/stable/user_guide/indexing.html#returning-a-view-versus-a-copy\n",
      "  after removing the cwd from sys.path.\n"
     ]
    }
   ],
   "source": [
    "small_df_test['TimeHour2'] = 'NA'\n",
    "small_df_test['TimeHour2'] = pd.to_datetime(df_test['TimeHour'], format='%Y-%m-%d %H:%M:%S')\n",
    "small_df_test['Diff'] = 'NA'\n",
    "small_df_test['Before']=\"NA\""
   ],
   "metadata": {
    "collapsed": false,
    "pycharm": {
     "name": "#%%\n"
    }
   }
  },
  {
   "cell_type": "code",
   "execution_count": 20,
   "outputs": [
    {
     "name": "stderr",
     "output_type": "stream",
     "text": [
      "C:\\ProgramData\\Anaconda3\\envs\\Keras\\lib\\site-packages\\pandas\\core\\indexing.py:1765: SettingWithCopyWarning: \n",
      "A value is trying to be set on a copy of a slice from a DataFrame.\n",
      "Try using .loc[row_indexer,col_indexer] = value instead\n",
      "\n",
      "See the caveats in the documentation: https://pandas.pydata.org/pandas-docs/stable/user_guide/indexing.html#returning-a-view-versus-a-copy\n",
      "  isetter(loc, value)\n"
     ]
    },
    {
     "data": {
      "text/plain": "            0    1    2    3    4    5    6    7    8    9  ...   33   34  \\\n545  0.017310  0.0  0.0  0.0  0.0  0.0  1.0  0.0  0.0  0.0  ...  0.0  0.0   \n546  0.007029  0.0  0.0  0.0  0.0  0.0  0.0  1.0  0.0  0.0  ...  0.0  0.0   \n547  0.007944  0.0  0.0  0.0  0.0  0.0  0.0  0.0  1.0  0.0  ...  0.0  0.0   \n548  0.002714  0.0  0.0  0.0  0.0  0.0  0.0  0.0  0.0  1.0  ...  0.0  0.0   \n549  0.006858  0.0  0.0  0.0  0.0  0.0  0.0  0.0  0.0  0.0  ...  0.0  0.0   \n550  0.136719  0.0  0.0  0.0  0.0  0.0  0.0  0.0  0.0  0.0  ...  0.0  0.0   \n551  0.371582  0.0  0.0  0.0  0.0  0.0  0.0  0.0  0.0  0.0  ...  0.0  0.0   \n552  0.091797  0.0  0.0  0.0  0.0  0.0  0.0  0.0  0.0  0.0  ...  0.0  0.0   \n\n      35   36   37   38             TimeHour           TimeHour2  \\\n545  0.0  0.0  0.0  1.0  2018-01-24 05:00:00 2018-01-24 05:00:00   \n546  0.0  0.0  0.0  1.0  2018-01-24 06:00:00 2018-01-24 06:00:00   \n547  0.0  0.0  0.0  1.0  2018-01-24 07:00:00 2018-01-24 07:00:00   \n548  0.0  0.0  0.0  1.0  2018-01-24 08:00:00 2018-01-24 08:00:00   \n549  0.0  0.0  0.0  1.0  2018-01-24 09:00:00 2018-01-24 09:00:00   \n550  0.0  0.0  0.0  1.0  2018-01-24 10:00:00 2018-01-24 10:00:00   \n551  0.0  0.0  0.0  1.0  2018-01-25 14:00:00 2018-01-25 14:00:00   \n552  0.0  0.0  0.0  1.0  2018-01-25 15:00:00 2018-01-25 15:00:00   \n\n                Diff               Before  \n545               NA                   NA  \n546  0 days 01:00:00  2018-01-24 05:00:00  \n547  0 days 01:00:00  2018-01-24 06:00:00  \n548  0 days 01:00:00  2018-01-24 07:00:00  \n549  0 days 01:00:00  2018-01-24 08:00:00  \n550  0 days 01:00:00  2018-01-24 09:00:00  \n551  1 days 04:00:00  2018-01-24 10:00:00  \n552  0 days 01:00:00  2018-01-25 14:00:00  \n\n[8 rows x 43 columns]",
      "text/html": "<div>\n<style scoped>\n    .dataframe tbody tr th:only-of-type {\n        vertical-align: middle;\n    }\n\n    .dataframe tbody tr th {\n        vertical-align: top;\n    }\n\n    .dataframe thead th {\n        text-align: right;\n    }\n</style>\n<table border=\"1\" class=\"dataframe\">\n  <thead>\n    <tr style=\"text-align: right;\">\n      <th></th>\n      <th>0</th>\n      <th>1</th>\n      <th>2</th>\n      <th>3</th>\n      <th>4</th>\n      <th>5</th>\n      <th>6</th>\n      <th>7</th>\n      <th>8</th>\n      <th>9</th>\n      <th>...</th>\n      <th>33</th>\n      <th>34</th>\n      <th>35</th>\n      <th>36</th>\n      <th>37</th>\n      <th>38</th>\n      <th>TimeHour</th>\n      <th>TimeHour2</th>\n      <th>Diff</th>\n      <th>Before</th>\n    </tr>\n  </thead>\n  <tbody>\n    <tr>\n      <th>545</th>\n      <td>0.017310</td>\n      <td>0.0</td>\n      <td>0.0</td>\n      <td>0.0</td>\n      <td>0.0</td>\n      <td>0.0</td>\n      <td>1.0</td>\n      <td>0.0</td>\n      <td>0.0</td>\n      <td>0.0</td>\n      <td>...</td>\n      <td>0.0</td>\n      <td>0.0</td>\n      <td>0.0</td>\n      <td>0.0</td>\n      <td>0.0</td>\n      <td>1.0</td>\n      <td>2018-01-24 05:00:00</td>\n      <td>2018-01-24 05:00:00</td>\n      <td>NA</td>\n      <td>NA</td>\n    </tr>\n    <tr>\n      <th>546</th>\n      <td>0.007029</td>\n      <td>0.0</td>\n      <td>0.0</td>\n      <td>0.0</td>\n      <td>0.0</td>\n      <td>0.0</td>\n      <td>0.0</td>\n      <td>1.0</td>\n      <td>0.0</td>\n      <td>0.0</td>\n      <td>...</td>\n      <td>0.0</td>\n      <td>0.0</td>\n      <td>0.0</td>\n      <td>0.0</td>\n      <td>0.0</td>\n      <td>1.0</td>\n      <td>2018-01-24 06:00:00</td>\n      <td>2018-01-24 06:00:00</td>\n      <td>0 days 01:00:00</td>\n      <td>2018-01-24 05:00:00</td>\n    </tr>\n    <tr>\n      <th>547</th>\n      <td>0.007944</td>\n      <td>0.0</td>\n      <td>0.0</td>\n      <td>0.0</td>\n      <td>0.0</td>\n      <td>0.0</td>\n      <td>0.0</td>\n      <td>0.0</td>\n      <td>1.0</td>\n      <td>0.0</td>\n      <td>...</td>\n      <td>0.0</td>\n      <td>0.0</td>\n      <td>0.0</td>\n      <td>0.0</td>\n      <td>0.0</td>\n      <td>1.0</td>\n      <td>2018-01-24 07:00:00</td>\n      <td>2018-01-24 07:00:00</td>\n      <td>0 days 01:00:00</td>\n      <td>2018-01-24 06:00:00</td>\n    </tr>\n    <tr>\n      <th>548</th>\n      <td>0.002714</td>\n      <td>0.0</td>\n      <td>0.0</td>\n      <td>0.0</td>\n      <td>0.0</td>\n      <td>0.0</td>\n      <td>0.0</td>\n      <td>0.0</td>\n      <td>0.0</td>\n      <td>1.0</td>\n      <td>...</td>\n      <td>0.0</td>\n      <td>0.0</td>\n      <td>0.0</td>\n      <td>0.0</td>\n      <td>0.0</td>\n      <td>1.0</td>\n      <td>2018-01-24 08:00:00</td>\n      <td>2018-01-24 08:00:00</td>\n      <td>0 days 01:00:00</td>\n      <td>2018-01-24 07:00:00</td>\n    </tr>\n    <tr>\n      <th>549</th>\n      <td>0.006858</td>\n      <td>0.0</td>\n      <td>0.0</td>\n      <td>0.0</td>\n      <td>0.0</td>\n      <td>0.0</td>\n      <td>0.0</td>\n      <td>0.0</td>\n      <td>0.0</td>\n      <td>0.0</td>\n      <td>...</td>\n      <td>0.0</td>\n      <td>0.0</td>\n      <td>0.0</td>\n      <td>0.0</td>\n      <td>0.0</td>\n      <td>1.0</td>\n      <td>2018-01-24 09:00:00</td>\n      <td>2018-01-24 09:00:00</td>\n      <td>0 days 01:00:00</td>\n      <td>2018-01-24 08:00:00</td>\n    </tr>\n    <tr>\n      <th>550</th>\n      <td>0.136719</td>\n      <td>0.0</td>\n      <td>0.0</td>\n      <td>0.0</td>\n      <td>0.0</td>\n      <td>0.0</td>\n      <td>0.0</td>\n      <td>0.0</td>\n      <td>0.0</td>\n      <td>0.0</td>\n      <td>...</td>\n      <td>0.0</td>\n      <td>0.0</td>\n      <td>0.0</td>\n      <td>0.0</td>\n      <td>0.0</td>\n      <td>1.0</td>\n      <td>2018-01-24 10:00:00</td>\n      <td>2018-01-24 10:00:00</td>\n      <td>0 days 01:00:00</td>\n      <td>2018-01-24 09:00:00</td>\n    </tr>\n    <tr>\n      <th>551</th>\n      <td>0.371582</td>\n      <td>0.0</td>\n      <td>0.0</td>\n      <td>0.0</td>\n      <td>0.0</td>\n      <td>0.0</td>\n      <td>0.0</td>\n      <td>0.0</td>\n      <td>0.0</td>\n      <td>0.0</td>\n      <td>...</td>\n      <td>0.0</td>\n      <td>0.0</td>\n      <td>0.0</td>\n      <td>0.0</td>\n      <td>0.0</td>\n      <td>1.0</td>\n      <td>2018-01-25 14:00:00</td>\n      <td>2018-01-25 14:00:00</td>\n      <td>1 days 04:00:00</td>\n      <td>2018-01-24 10:00:00</td>\n    </tr>\n    <tr>\n      <th>552</th>\n      <td>0.091797</td>\n      <td>0.0</td>\n      <td>0.0</td>\n      <td>0.0</td>\n      <td>0.0</td>\n      <td>0.0</td>\n      <td>0.0</td>\n      <td>0.0</td>\n      <td>0.0</td>\n      <td>0.0</td>\n      <td>...</td>\n      <td>0.0</td>\n      <td>0.0</td>\n      <td>0.0</td>\n      <td>0.0</td>\n      <td>0.0</td>\n      <td>1.0</td>\n      <td>2018-01-25 15:00:00</td>\n      <td>2018-01-25 15:00:00</td>\n      <td>0 days 01:00:00</td>\n      <td>2018-01-25 14:00:00</td>\n    </tr>\n  </tbody>\n</table>\n<p>8 rows × 43 columns</p>\n</div>"
     },
     "execution_count": 20,
     "metadata": {},
     "output_type": "execute_result"
    }
   ],
   "source": [
    "# noinspection JupyterKernel\n",
    "for x in range(546, 553):\n",
    "    before = small_df_test.loc[x - 1, 'TimeHour2']\n",
    "    small_df_test.loc[x, 'Before'] = before\n",
    "    now = small_df_test.loc[x, 'TimeHour2']\n",
    "    diff = now - before\n",
    "    small_df_test.loc[x, 'Diff'] = diff\n",
    "small_df_test"
   ],
   "metadata": {
    "collapsed": false,
    "pycharm": {
     "name": "#%%\n"
    }
   }
  },
  {
   "cell_type": "code",
   "execution_count": 21,
   "outputs": [],
   "source": [
    "small_df_test = small_df_test.drop([545])\n",
    "small_df_test['diff_hours'] = [x.total_seconds() / 3600 for x in small_df_test['Diff']]"
   ],
   "metadata": {
    "collapsed": false,
    "pycharm": {
     "name": "#%%\n"
    }
   }
  },
  {
   "cell_type": "code",
   "execution_count": 22,
   "outputs": [
    {
     "data": {
      "text/plain": "          0    1    2    3    4    5    6    7    8    9  ...   34   35   36  \\\n0  0.007029  0.0  0.0  0.0  0.0  0.0  0.0  1.0  0.0  0.0  ...  0.0  0.0  0.0   \n1  0.007944  0.0  0.0  0.0  0.0  0.0  0.0  0.0  1.0  0.0  ...  0.0  0.0  0.0   \n2  0.002714  0.0  0.0  0.0  0.0  0.0  0.0  0.0  0.0  1.0  ...  0.0  0.0  0.0   \n3  0.006858  0.0  0.0  0.0  0.0  0.0  0.0  0.0  0.0  0.0  ...  0.0  0.0  0.0   \n4  0.136719  0.0  0.0  0.0  0.0  0.0  0.0  0.0  0.0  0.0  ...  0.0  0.0  0.0   \n5  0.371582  0.0  0.0  0.0  0.0  0.0  0.0  0.0  0.0  0.0  ...  0.0  0.0  0.0   \n6  0.091797  0.0  0.0  0.0  0.0  0.0  0.0  0.0  0.0  0.0  ...  0.0  0.0  0.0   \n\n    37   38             TimeHour           TimeHour2             Diff  \\\n0  0.0  1.0  2018-01-24 06:00:00 2018-01-24 06:00:00  0 days 01:00:00   \n1  0.0  1.0  2018-01-24 07:00:00 2018-01-24 07:00:00  0 days 01:00:00   \n2  0.0  1.0  2018-01-24 08:00:00 2018-01-24 08:00:00  0 days 01:00:00   \n3  0.0  1.0  2018-01-24 09:00:00 2018-01-24 09:00:00  0 days 01:00:00   \n4  0.0  1.0  2018-01-24 10:00:00 2018-01-24 10:00:00  0 days 01:00:00   \n5  0.0  1.0  2018-01-25 14:00:00 2018-01-25 14:00:00  1 days 04:00:00   \n6  0.0  1.0  2018-01-25 15:00:00 2018-01-25 15:00:00  0 days 01:00:00   \n\n                Before  diff_hours  \n0  2018-01-24 05:00:00         1.0  \n1  2018-01-24 06:00:00         1.0  \n2  2018-01-24 07:00:00         1.0  \n3  2018-01-24 08:00:00         1.0  \n4  2018-01-24 09:00:00         1.0  \n5  2018-01-24 10:00:00        28.0  \n6  2018-01-25 14:00:00         1.0  \n\n[7 rows x 44 columns]",
      "text/html": "<div>\n<style scoped>\n    .dataframe tbody tr th:only-of-type {\n        vertical-align: middle;\n    }\n\n    .dataframe tbody tr th {\n        vertical-align: top;\n    }\n\n    .dataframe thead th {\n        text-align: right;\n    }\n</style>\n<table border=\"1\" class=\"dataframe\">\n  <thead>\n    <tr style=\"text-align: right;\">\n      <th></th>\n      <th>0</th>\n      <th>1</th>\n      <th>2</th>\n      <th>3</th>\n      <th>4</th>\n      <th>5</th>\n      <th>6</th>\n      <th>7</th>\n      <th>8</th>\n      <th>9</th>\n      <th>...</th>\n      <th>34</th>\n      <th>35</th>\n      <th>36</th>\n      <th>37</th>\n      <th>38</th>\n      <th>TimeHour</th>\n      <th>TimeHour2</th>\n      <th>Diff</th>\n      <th>Before</th>\n      <th>diff_hours</th>\n    </tr>\n  </thead>\n  <tbody>\n    <tr>\n      <th>0</th>\n      <td>0.007029</td>\n      <td>0.0</td>\n      <td>0.0</td>\n      <td>0.0</td>\n      <td>0.0</td>\n      <td>0.0</td>\n      <td>0.0</td>\n      <td>1.0</td>\n      <td>0.0</td>\n      <td>0.0</td>\n      <td>...</td>\n      <td>0.0</td>\n      <td>0.0</td>\n      <td>0.0</td>\n      <td>0.0</td>\n      <td>1.0</td>\n      <td>2018-01-24 06:00:00</td>\n      <td>2018-01-24 06:00:00</td>\n      <td>0 days 01:00:00</td>\n      <td>2018-01-24 05:00:00</td>\n      <td>1.0</td>\n    </tr>\n    <tr>\n      <th>1</th>\n      <td>0.007944</td>\n      <td>0.0</td>\n      <td>0.0</td>\n      <td>0.0</td>\n      <td>0.0</td>\n      <td>0.0</td>\n      <td>0.0</td>\n      <td>0.0</td>\n      <td>1.0</td>\n      <td>0.0</td>\n      <td>...</td>\n      <td>0.0</td>\n      <td>0.0</td>\n      <td>0.0</td>\n      <td>0.0</td>\n      <td>1.0</td>\n      <td>2018-01-24 07:00:00</td>\n      <td>2018-01-24 07:00:00</td>\n      <td>0 days 01:00:00</td>\n      <td>2018-01-24 06:00:00</td>\n      <td>1.0</td>\n    </tr>\n    <tr>\n      <th>2</th>\n      <td>0.002714</td>\n      <td>0.0</td>\n      <td>0.0</td>\n      <td>0.0</td>\n      <td>0.0</td>\n      <td>0.0</td>\n      <td>0.0</td>\n      <td>0.0</td>\n      <td>0.0</td>\n      <td>1.0</td>\n      <td>...</td>\n      <td>0.0</td>\n      <td>0.0</td>\n      <td>0.0</td>\n      <td>0.0</td>\n      <td>1.0</td>\n      <td>2018-01-24 08:00:00</td>\n      <td>2018-01-24 08:00:00</td>\n      <td>0 days 01:00:00</td>\n      <td>2018-01-24 07:00:00</td>\n      <td>1.0</td>\n    </tr>\n    <tr>\n      <th>3</th>\n      <td>0.006858</td>\n      <td>0.0</td>\n      <td>0.0</td>\n      <td>0.0</td>\n      <td>0.0</td>\n      <td>0.0</td>\n      <td>0.0</td>\n      <td>0.0</td>\n      <td>0.0</td>\n      <td>0.0</td>\n      <td>...</td>\n      <td>0.0</td>\n      <td>0.0</td>\n      <td>0.0</td>\n      <td>0.0</td>\n      <td>1.0</td>\n      <td>2018-01-24 09:00:00</td>\n      <td>2018-01-24 09:00:00</td>\n      <td>0 days 01:00:00</td>\n      <td>2018-01-24 08:00:00</td>\n      <td>1.0</td>\n    </tr>\n    <tr>\n      <th>4</th>\n      <td>0.136719</td>\n      <td>0.0</td>\n      <td>0.0</td>\n      <td>0.0</td>\n      <td>0.0</td>\n      <td>0.0</td>\n      <td>0.0</td>\n      <td>0.0</td>\n      <td>0.0</td>\n      <td>0.0</td>\n      <td>...</td>\n      <td>0.0</td>\n      <td>0.0</td>\n      <td>0.0</td>\n      <td>0.0</td>\n      <td>1.0</td>\n      <td>2018-01-24 10:00:00</td>\n      <td>2018-01-24 10:00:00</td>\n      <td>0 days 01:00:00</td>\n      <td>2018-01-24 09:00:00</td>\n      <td>1.0</td>\n    </tr>\n    <tr>\n      <th>5</th>\n      <td>0.371582</td>\n      <td>0.0</td>\n      <td>0.0</td>\n      <td>0.0</td>\n      <td>0.0</td>\n      <td>0.0</td>\n      <td>0.0</td>\n      <td>0.0</td>\n      <td>0.0</td>\n      <td>0.0</td>\n      <td>...</td>\n      <td>0.0</td>\n      <td>0.0</td>\n      <td>0.0</td>\n      <td>0.0</td>\n      <td>1.0</td>\n      <td>2018-01-25 14:00:00</td>\n      <td>2018-01-25 14:00:00</td>\n      <td>1 days 04:00:00</td>\n      <td>2018-01-24 10:00:00</td>\n      <td>28.0</td>\n    </tr>\n    <tr>\n      <th>6</th>\n      <td>0.091797</td>\n      <td>0.0</td>\n      <td>0.0</td>\n      <td>0.0</td>\n      <td>0.0</td>\n      <td>0.0</td>\n      <td>0.0</td>\n      <td>0.0</td>\n      <td>0.0</td>\n      <td>0.0</td>\n      <td>...</td>\n      <td>0.0</td>\n      <td>0.0</td>\n      <td>0.0</td>\n      <td>0.0</td>\n      <td>1.0</td>\n      <td>2018-01-25 15:00:00</td>\n      <td>2018-01-25 15:00:00</td>\n      <td>0 days 01:00:00</td>\n      <td>2018-01-25 14:00:00</td>\n      <td>1.0</td>\n    </tr>\n  </tbody>\n</table>\n<p>7 rows × 44 columns</p>\n</div>"
     },
     "execution_count": 22,
     "metadata": {},
     "output_type": "execute_result"
    }
   ],
   "source": [
    "small_df_test = small_df_test.reset_index()\n",
    "small_df_test = small_df_test.drop(columns=[\"index\"])\n",
    "small_df_test"
   ],
   "metadata": {
    "collapsed": false,
    "pycharm": {
     "name": "#%%\n"
    }
   }
  },
  {
   "cell_type": "code",
   "execution_count": 23,
   "outputs": [
    {
     "data": {
      "text/plain": "numpy.float64"
     },
     "execution_count": 23,
     "metadata": {},
     "output_type": "execute_result"
    }
   ],
   "source": [
    "type(small_df_test.loc[1, \"diff_hours\"])"
   ],
   "metadata": {
    "collapsed": false,
    "pycharm": {
     "name": "#%%\n"
    }
   }
  },
  {
   "cell_type": "code",
   "execution_count": 51,
   "outputs": [],
   "source": [
    "def fill_with_average(df, previous, following):\n",
    "    value_new = list(df.loc[previous])\n",
    "    value_previous = list(df.loc[previous])\n",
    "    value_following = list(df.loc[following])\n",
    "    value_new[0]= (value_previous[0]+value_following[0])/2\n",
    "    date = df.loc[previous, 'TimeHour2']\n",
    "    new_date = date + timedelta(hours=1)\n",
    "    value_new[40]=new_date\n",
    "    value_new[date.hour]=0.0\n",
    "    value_new[new_date.hour]=1.0\n",
    "    #value_new[43]=1.0\n",
    "    df_length = len(df)\n",
    "    df.loc[df_length] = value_new\n",
    "    df = df.sort_values(by= \"TimeHour2\")\n",
    "    df = df.reset_index()\n",
    "    df = df.drop(columns=[\"index\"])\n",
    "    return df"
   ],
   "metadata": {
    "collapsed": false,
    "pycharm": {
     "name": "#%%\n"
    }
   }
  },
  {
   "cell_type": "code",
   "execution_count": null,
   "outputs": [],
   "source": [
    "#for x, x in small_df_test.iterrows():\n",
    "#    if small_df_test.loc[x, 'diff_hours'] != 1.0 and small_df_test.loc[x, \"diff_hours\"] != 24.0:\n",
    "#        small_df_test.loc[x, 'diff_hours'] = small_df_test.loc[x, 'diff_hours'] - 1\n",
    "#        small_df_test = fill_with_average(small_df_test, x-1, x)"
   ],
   "metadata": {
    "collapsed": false,
    "pycharm": {
     "name": "#%%\n"
    }
   }
  },
  {
   "cell_type": "code",
   "execution_count": 25,
   "outputs": [
    {
     "data": {
      "text/plain": "          0    1    2    3    4    5    6    7    8    9  ...   34   35   36  \\\n0  0.007029  0.0  0.0  0.0  0.0  0.0  0.0  1.0  0.0  0.0  ...  0.0  0.0  0.0   \n1  0.007944  0.0  0.0  0.0  0.0  0.0  0.0  0.0  1.0  0.0  ...  0.0  0.0  0.0   \n2  0.002714  0.0  0.0  0.0  0.0  0.0  0.0  0.0  0.0  1.0  ...  0.0  0.0  0.0   \n3  0.006858  0.0  0.0  0.0  0.0  0.0  0.0  0.0  0.0  0.0  ...  0.0  0.0  0.0   \n4  0.136719  0.0  0.0  0.0  0.0  0.0  0.0  0.0  0.0  0.0  ...  0.0  0.0  0.0   \n5  0.371582  0.0  0.0  0.0  0.0  0.0  0.0  0.0  0.0  0.0  ...  0.0  0.0  0.0   \n6  0.091797  0.0  0.0  0.0  0.0  0.0  0.0  0.0  0.0  0.0  ...  0.0  0.0  0.0   \n\n    37   38             TimeHour           TimeHour2             Diff  \\\n0  0.0  1.0  2018-01-24 06:00:00 2018-01-24 06:00:00  0 days 01:00:00   \n1  0.0  1.0  2018-01-24 07:00:00 2018-01-24 07:00:00  0 days 01:00:00   \n2  0.0  1.0  2018-01-24 08:00:00 2018-01-24 08:00:00  0 days 01:00:00   \n3  0.0  1.0  2018-01-24 09:00:00 2018-01-24 09:00:00  0 days 01:00:00   \n4  0.0  1.0  2018-01-24 10:00:00 2018-01-24 10:00:00  0 days 01:00:00   \n5  0.0  1.0  2018-01-25 14:00:00 2018-01-25 14:00:00  1 days 04:00:00   \n6  0.0  1.0  2018-01-25 15:00:00 2018-01-25 15:00:00  0 days 01:00:00   \n\n                Before  diff_hours  \n0  2018-01-24 05:00:00         1.0  \n1  2018-01-24 06:00:00         1.0  \n2  2018-01-24 07:00:00         1.0  \n3  2018-01-24 08:00:00         1.0  \n4  2018-01-24 09:00:00         1.0  \n5  2018-01-24 10:00:00        28.0  \n6  2018-01-25 14:00:00         1.0  \n\n[7 rows x 44 columns]",
      "text/html": "<div>\n<style scoped>\n    .dataframe tbody tr th:only-of-type {\n        vertical-align: middle;\n    }\n\n    .dataframe tbody tr th {\n        vertical-align: top;\n    }\n\n    .dataframe thead th {\n        text-align: right;\n    }\n</style>\n<table border=\"1\" class=\"dataframe\">\n  <thead>\n    <tr style=\"text-align: right;\">\n      <th></th>\n      <th>0</th>\n      <th>1</th>\n      <th>2</th>\n      <th>3</th>\n      <th>4</th>\n      <th>5</th>\n      <th>6</th>\n      <th>7</th>\n      <th>8</th>\n      <th>9</th>\n      <th>...</th>\n      <th>34</th>\n      <th>35</th>\n      <th>36</th>\n      <th>37</th>\n      <th>38</th>\n      <th>TimeHour</th>\n      <th>TimeHour2</th>\n      <th>Diff</th>\n      <th>Before</th>\n      <th>diff_hours</th>\n    </tr>\n  </thead>\n  <tbody>\n    <tr>\n      <th>0</th>\n      <td>0.007029</td>\n      <td>0.0</td>\n      <td>0.0</td>\n      <td>0.0</td>\n      <td>0.0</td>\n      <td>0.0</td>\n      <td>0.0</td>\n      <td>1.0</td>\n      <td>0.0</td>\n      <td>0.0</td>\n      <td>...</td>\n      <td>0.0</td>\n      <td>0.0</td>\n      <td>0.0</td>\n      <td>0.0</td>\n      <td>1.0</td>\n      <td>2018-01-24 06:00:00</td>\n      <td>2018-01-24 06:00:00</td>\n      <td>0 days 01:00:00</td>\n      <td>2018-01-24 05:00:00</td>\n      <td>1.0</td>\n    </tr>\n    <tr>\n      <th>1</th>\n      <td>0.007944</td>\n      <td>0.0</td>\n      <td>0.0</td>\n      <td>0.0</td>\n      <td>0.0</td>\n      <td>0.0</td>\n      <td>0.0</td>\n      <td>0.0</td>\n      <td>1.0</td>\n      <td>0.0</td>\n      <td>...</td>\n      <td>0.0</td>\n      <td>0.0</td>\n      <td>0.0</td>\n      <td>0.0</td>\n      <td>1.0</td>\n      <td>2018-01-24 07:00:00</td>\n      <td>2018-01-24 07:00:00</td>\n      <td>0 days 01:00:00</td>\n      <td>2018-01-24 06:00:00</td>\n      <td>1.0</td>\n    </tr>\n    <tr>\n      <th>2</th>\n      <td>0.002714</td>\n      <td>0.0</td>\n      <td>0.0</td>\n      <td>0.0</td>\n      <td>0.0</td>\n      <td>0.0</td>\n      <td>0.0</td>\n      <td>0.0</td>\n      <td>0.0</td>\n      <td>1.0</td>\n      <td>...</td>\n      <td>0.0</td>\n      <td>0.0</td>\n      <td>0.0</td>\n      <td>0.0</td>\n      <td>1.0</td>\n      <td>2018-01-24 08:00:00</td>\n      <td>2018-01-24 08:00:00</td>\n      <td>0 days 01:00:00</td>\n      <td>2018-01-24 07:00:00</td>\n      <td>1.0</td>\n    </tr>\n    <tr>\n      <th>3</th>\n      <td>0.006858</td>\n      <td>0.0</td>\n      <td>0.0</td>\n      <td>0.0</td>\n      <td>0.0</td>\n      <td>0.0</td>\n      <td>0.0</td>\n      <td>0.0</td>\n      <td>0.0</td>\n      <td>0.0</td>\n      <td>...</td>\n      <td>0.0</td>\n      <td>0.0</td>\n      <td>0.0</td>\n      <td>0.0</td>\n      <td>1.0</td>\n      <td>2018-01-24 09:00:00</td>\n      <td>2018-01-24 09:00:00</td>\n      <td>0 days 01:00:00</td>\n      <td>2018-01-24 08:00:00</td>\n      <td>1.0</td>\n    </tr>\n    <tr>\n      <th>4</th>\n      <td>0.136719</td>\n      <td>0.0</td>\n      <td>0.0</td>\n      <td>0.0</td>\n      <td>0.0</td>\n      <td>0.0</td>\n      <td>0.0</td>\n      <td>0.0</td>\n      <td>0.0</td>\n      <td>0.0</td>\n      <td>...</td>\n      <td>0.0</td>\n      <td>0.0</td>\n      <td>0.0</td>\n      <td>0.0</td>\n      <td>1.0</td>\n      <td>2018-01-24 10:00:00</td>\n      <td>2018-01-24 10:00:00</td>\n      <td>0 days 01:00:00</td>\n      <td>2018-01-24 09:00:00</td>\n      <td>1.0</td>\n    </tr>\n    <tr>\n      <th>5</th>\n      <td>0.371582</td>\n      <td>0.0</td>\n      <td>0.0</td>\n      <td>0.0</td>\n      <td>0.0</td>\n      <td>0.0</td>\n      <td>0.0</td>\n      <td>0.0</td>\n      <td>0.0</td>\n      <td>0.0</td>\n      <td>...</td>\n      <td>0.0</td>\n      <td>0.0</td>\n      <td>0.0</td>\n      <td>0.0</td>\n      <td>1.0</td>\n      <td>2018-01-25 14:00:00</td>\n      <td>2018-01-25 14:00:00</td>\n      <td>1 days 04:00:00</td>\n      <td>2018-01-24 10:00:00</td>\n      <td>28.0</td>\n    </tr>\n    <tr>\n      <th>6</th>\n      <td>0.091797</td>\n      <td>0.0</td>\n      <td>0.0</td>\n      <td>0.0</td>\n      <td>0.0</td>\n      <td>0.0</td>\n      <td>0.0</td>\n      <td>0.0</td>\n      <td>0.0</td>\n      <td>0.0</td>\n      <td>...</td>\n      <td>0.0</td>\n      <td>0.0</td>\n      <td>0.0</td>\n      <td>0.0</td>\n      <td>1.0</td>\n      <td>2018-01-25 15:00:00</td>\n      <td>2018-01-25 15:00:00</td>\n      <td>0 days 01:00:00</td>\n      <td>2018-01-25 14:00:00</td>\n      <td>1.0</td>\n    </tr>\n  </tbody>\n</table>\n<p>7 rows × 44 columns</p>\n</div>"
     },
     "execution_count": 25,
     "metadata": {},
     "output_type": "execute_result"
    }
   ],
   "source": [
    "small_df_test"
   ],
   "metadata": {
    "collapsed": false,
    "pycharm": {
     "name": "#%%\n"
    }
   }
  },
  {
   "cell_type": "code",
   "execution_count": 26,
   "outputs": [],
   "source": [
    "x = 0\n",
    "while x < 11:\n",
    "    if small_df_test.loc[x, 'diff_hours'] != 1.0 and small_df_test.loc[x, \"diff_hours\"] != 24.0:\n",
    "        small_df_test.loc[x, 'diff_hours'] = small_df_test.loc[x, 'diff_hours'] - 1\n",
    "        small_df_test = fill_with_average(small_df_test, x-1, x)\n",
    "        x = x + 1\n",
    "    else:\n",
    "        x = x + 1"
   ],
   "metadata": {
    "collapsed": false,
    "pycharm": {
     "name": "#%%\n"
    }
   }
  },
  {
   "cell_type": "code",
   "execution_count": 27,
   "outputs": [
    {
     "data": {
      "text/plain": "           0    1    2    3    4    5    6    7    8    9  ...   34   35   36  \\\n0   0.007029  0.0  0.0  0.0  0.0  0.0  0.0  1.0  0.0  0.0  ...  0.0  0.0  0.0   \n1   0.007944  0.0  0.0  0.0  0.0  0.0  0.0  0.0  1.0  0.0  ...  0.0  0.0  0.0   \n2   0.002714  0.0  0.0  0.0  0.0  0.0  0.0  0.0  0.0  1.0  ...  0.0  0.0  0.0   \n3   0.006858  0.0  0.0  0.0  0.0  0.0  0.0  0.0  0.0  0.0  ...  0.0  0.0  0.0   \n4   0.136719  0.0  0.0  0.0  0.0  0.0  0.0  0.0  0.0  0.0  ...  0.0  0.0  0.0   \n5   0.254150  0.0  0.0  0.0  0.0  0.0  0.0  0.0  0.0  0.0  ...  0.0  0.0  0.0   \n6   0.312866  0.0  0.0  0.0  0.0  0.0  0.0  0.0  0.0  0.0  ...  0.0  0.0  0.0   \n7   0.342224  0.0  0.0  0.0  0.0  0.0  0.0  0.0  0.0  0.0  ...  0.0  0.0  0.0   \n8   0.356903  0.0  0.0  0.0  0.0  0.0  0.0  0.0  0.0  0.0  ...  0.0  0.0  0.0   \n9   0.371582  0.0  0.0  0.0  0.0  0.0  0.0  0.0  0.0  0.0  ...  0.0  0.0  0.0   \n10  0.091797  0.0  0.0  0.0  0.0  0.0  0.0  0.0  0.0  0.0  ...  0.0  0.0  0.0   \n\n     37   38             TimeHour           TimeHour2             Diff  \\\n0   0.0  1.0  2018-01-24 06:00:00 2018-01-24 06:00:00  0 days 01:00:00   \n1   0.0  1.0  2018-01-24 07:00:00 2018-01-24 07:00:00  0 days 01:00:00   \n2   0.0  1.0  2018-01-24 08:00:00 2018-01-24 08:00:00  0 days 01:00:00   \n3   0.0  1.0  2018-01-24 09:00:00 2018-01-24 09:00:00  0 days 01:00:00   \n4   0.0  1.0  2018-01-24 10:00:00 2018-01-24 10:00:00  0 days 01:00:00   \n5   0.0  1.0  2018-01-24 10:00:00 2018-01-24 11:00:00  0 days 01:00:00   \n6   0.0  1.0  2018-01-24 10:00:00 2018-01-24 12:00:00  0 days 01:00:00   \n7   0.0  1.0  2018-01-24 10:00:00 2018-01-24 13:00:00  0 days 01:00:00   \n8   0.0  1.0  2018-01-24 10:00:00 2018-01-24 14:00:00  0 days 01:00:00   \n9   0.0  1.0  2018-01-25 14:00:00 2018-01-25 14:00:00  1 days 04:00:00   \n10  0.0  1.0  2018-01-25 15:00:00 2018-01-25 15:00:00  0 days 01:00:00   \n\n                 Before  diff_hours  \n0   2018-01-24 05:00:00         1.0  \n1   2018-01-24 06:00:00         1.0  \n2   2018-01-24 07:00:00         1.0  \n3   2018-01-24 08:00:00         1.0  \n4   2018-01-24 09:00:00         1.0  \n5   2018-01-24 09:00:00         1.0  \n6   2018-01-24 09:00:00         1.0  \n7   2018-01-24 09:00:00         1.0  \n8   2018-01-24 09:00:00         1.0  \n9   2018-01-24 10:00:00        24.0  \n10  2018-01-25 14:00:00         1.0  \n\n[11 rows x 44 columns]",
      "text/html": "<div>\n<style scoped>\n    .dataframe tbody tr th:only-of-type {\n        vertical-align: middle;\n    }\n\n    .dataframe tbody tr th {\n        vertical-align: top;\n    }\n\n    .dataframe thead th {\n        text-align: right;\n    }\n</style>\n<table border=\"1\" class=\"dataframe\">\n  <thead>\n    <tr style=\"text-align: right;\">\n      <th></th>\n      <th>0</th>\n      <th>1</th>\n      <th>2</th>\n      <th>3</th>\n      <th>4</th>\n      <th>5</th>\n      <th>6</th>\n      <th>7</th>\n      <th>8</th>\n      <th>9</th>\n      <th>...</th>\n      <th>34</th>\n      <th>35</th>\n      <th>36</th>\n      <th>37</th>\n      <th>38</th>\n      <th>TimeHour</th>\n      <th>TimeHour2</th>\n      <th>Diff</th>\n      <th>Before</th>\n      <th>diff_hours</th>\n    </tr>\n  </thead>\n  <tbody>\n    <tr>\n      <th>0</th>\n      <td>0.007029</td>\n      <td>0.0</td>\n      <td>0.0</td>\n      <td>0.0</td>\n      <td>0.0</td>\n      <td>0.0</td>\n      <td>0.0</td>\n      <td>1.0</td>\n      <td>0.0</td>\n      <td>0.0</td>\n      <td>...</td>\n      <td>0.0</td>\n      <td>0.0</td>\n      <td>0.0</td>\n      <td>0.0</td>\n      <td>1.0</td>\n      <td>2018-01-24 06:00:00</td>\n      <td>2018-01-24 06:00:00</td>\n      <td>0 days 01:00:00</td>\n      <td>2018-01-24 05:00:00</td>\n      <td>1.0</td>\n    </tr>\n    <tr>\n      <th>1</th>\n      <td>0.007944</td>\n      <td>0.0</td>\n      <td>0.0</td>\n      <td>0.0</td>\n      <td>0.0</td>\n      <td>0.0</td>\n      <td>0.0</td>\n      <td>0.0</td>\n      <td>1.0</td>\n      <td>0.0</td>\n      <td>...</td>\n      <td>0.0</td>\n      <td>0.0</td>\n      <td>0.0</td>\n      <td>0.0</td>\n      <td>1.0</td>\n      <td>2018-01-24 07:00:00</td>\n      <td>2018-01-24 07:00:00</td>\n      <td>0 days 01:00:00</td>\n      <td>2018-01-24 06:00:00</td>\n      <td>1.0</td>\n    </tr>\n    <tr>\n      <th>2</th>\n      <td>0.002714</td>\n      <td>0.0</td>\n      <td>0.0</td>\n      <td>0.0</td>\n      <td>0.0</td>\n      <td>0.0</td>\n      <td>0.0</td>\n      <td>0.0</td>\n      <td>0.0</td>\n      <td>1.0</td>\n      <td>...</td>\n      <td>0.0</td>\n      <td>0.0</td>\n      <td>0.0</td>\n      <td>0.0</td>\n      <td>1.0</td>\n      <td>2018-01-24 08:00:00</td>\n      <td>2018-01-24 08:00:00</td>\n      <td>0 days 01:00:00</td>\n      <td>2018-01-24 07:00:00</td>\n      <td>1.0</td>\n    </tr>\n    <tr>\n      <th>3</th>\n      <td>0.006858</td>\n      <td>0.0</td>\n      <td>0.0</td>\n      <td>0.0</td>\n      <td>0.0</td>\n      <td>0.0</td>\n      <td>0.0</td>\n      <td>0.0</td>\n      <td>0.0</td>\n      <td>0.0</td>\n      <td>...</td>\n      <td>0.0</td>\n      <td>0.0</td>\n      <td>0.0</td>\n      <td>0.0</td>\n      <td>1.0</td>\n      <td>2018-01-24 09:00:00</td>\n      <td>2018-01-24 09:00:00</td>\n      <td>0 days 01:00:00</td>\n      <td>2018-01-24 08:00:00</td>\n      <td>1.0</td>\n    </tr>\n    <tr>\n      <th>4</th>\n      <td>0.136719</td>\n      <td>0.0</td>\n      <td>0.0</td>\n      <td>0.0</td>\n      <td>0.0</td>\n      <td>0.0</td>\n      <td>0.0</td>\n      <td>0.0</td>\n      <td>0.0</td>\n      <td>0.0</td>\n      <td>...</td>\n      <td>0.0</td>\n      <td>0.0</td>\n      <td>0.0</td>\n      <td>0.0</td>\n      <td>1.0</td>\n      <td>2018-01-24 10:00:00</td>\n      <td>2018-01-24 10:00:00</td>\n      <td>0 days 01:00:00</td>\n      <td>2018-01-24 09:00:00</td>\n      <td>1.0</td>\n    </tr>\n    <tr>\n      <th>5</th>\n      <td>0.254150</td>\n      <td>0.0</td>\n      <td>0.0</td>\n      <td>0.0</td>\n      <td>0.0</td>\n      <td>0.0</td>\n      <td>0.0</td>\n      <td>0.0</td>\n      <td>0.0</td>\n      <td>0.0</td>\n      <td>...</td>\n      <td>0.0</td>\n      <td>0.0</td>\n      <td>0.0</td>\n      <td>0.0</td>\n      <td>1.0</td>\n      <td>2018-01-24 10:00:00</td>\n      <td>2018-01-24 11:00:00</td>\n      <td>0 days 01:00:00</td>\n      <td>2018-01-24 09:00:00</td>\n      <td>1.0</td>\n    </tr>\n    <tr>\n      <th>6</th>\n      <td>0.312866</td>\n      <td>0.0</td>\n      <td>0.0</td>\n      <td>0.0</td>\n      <td>0.0</td>\n      <td>0.0</td>\n      <td>0.0</td>\n      <td>0.0</td>\n      <td>0.0</td>\n      <td>0.0</td>\n      <td>...</td>\n      <td>0.0</td>\n      <td>0.0</td>\n      <td>0.0</td>\n      <td>0.0</td>\n      <td>1.0</td>\n      <td>2018-01-24 10:00:00</td>\n      <td>2018-01-24 12:00:00</td>\n      <td>0 days 01:00:00</td>\n      <td>2018-01-24 09:00:00</td>\n      <td>1.0</td>\n    </tr>\n    <tr>\n      <th>7</th>\n      <td>0.342224</td>\n      <td>0.0</td>\n      <td>0.0</td>\n      <td>0.0</td>\n      <td>0.0</td>\n      <td>0.0</td>\n      <td>0.0</td>\n      <td>0.0</td>\n      <td>0.0</td>\n      <td>0.0</td>\n      <td>...</td>\n      <td>0.0</td>\n      <td>0.0</td>\n      <td>0.0</td>\n      <td>0.0</td>\n      <td>1.0</td>\n      <td>2018-01-24 10:00:00</td>\n      <td>2018-01-24 13:00:00</td>\n      <td>0 days 01:00:00</td>\n      <td>2018-01-24 09:00:00</td>\n      <td>1.0</td>\n    </tr>\n    <tr>\n      <th>8</th>\n      <td>0.356903</td>\n      <td>0.0</td>\n      <td>0.0</td>\n      <td>0.0</td>\n      <td>0.0</td>\n      <td>0.0</td>\n      <td>0.0</td>\n      <td>0.0</td>\n      <td>0.0</td>\n      <td>0.0</td>\n      <td>...</td>\n      <td>0.0</td>\n      <td>0.0</td>\n      <td>0.0</td>\n      <td>0.0</td>\n      <td>1.0</td>\n      <td>2018-01-24 10:00:00</td>\n      <td>2018-01-24 14:00:00</td>\n      <td>0 days 01:00:00</td>\n      <td>2018-01-24 09:00:00</td>\n      <td>1.0</td>\n    </tr>\n    <tr>\n      <th>9</th>\n      <td>0.371582</td>\n      <td>0.0</td>\n      <td>0.0</td>\n      <td>0.0</td>\n      <td>0.0</td>\n      <td>0.0</td>\n      <td>0.0</td>\n      <td>0.0</td>\n      <td>0.0</td>\n      <td>0.0</td>\n      <td>...</td>\n      <td>0.0</td>\n      <td>0.0</td>\n      <td>0.0</td>\n      <td>0.0</td>\n      <td>1.0</td>\n      <td>2018-01-25 14:00:00</td>\n      <td>2018-01-25 14:00:00</td>\n      <td>1 days 04:00:00</td>\n      <td>2018-01-24 10:00:00</td>\n      <td>24.0</td>\n    </tr>\n    <tr>\n      <th>10</th>\n      <td>0.091797</td>\n      <td>0.0</td>\n      <td>0.0</td>\n      <td>0.0</td>\n      <td>0.0</td>\n      <td>0.0</td>\n      <td>0.0</td>\n      <td>0.0</td>\n      <td>0.0</td>\n      <td>0.0</td>\n      <td>...</td>\n      <td>0.0</td>\n      <td>0.0</td>\n      <td>0.0</td>\n      <td>0.0</td>\n      <td>1.0</td>\n      <td>2018-01-25 15:00:00</td>\n      <td>2018-01-25 15:00:00</td>\n      <td>0 days 01:00:00</td>\n      <td>2018-01-25 14:00:00</td>\n      <td>1.0</td>\n    </tr>\n  </tbody>\n</table>\n<p>11 rows × 44 columns</p>\n</div>"
     },
     "execution_count": 27,
     "metadata": {},
     "output_type": "execute_result"
    }
   ],
   "source": [
    "small_df_test"
   ],
   "metadata": {
    "collapsed": false,
    "pycharm": {
     "name": "#%%\n"
    }
   }
  },
  {
   "cell_type": "code",
   "execution_count": null,
   "outputs": [],
   "source": [],
   "metadata": {
    "collapsed": false,
    "pycharm": {
     "name": "#%%\n"
    }
   }
  },
  {
   "cell_type": "code",
   "execution_count": null,
   "outputs": [],
   "source": [],
   "metadata": {
    "collapsed": false,
    "pycharm": {
     "name": "#%%\n"
    }
   }
  },
  {
   "cell_type": "code",
   "execution_count": null,
   "outputs": [],
   "source": [],
   "metadata": {
    "collapsed": false,
    "pycharm": {
     "name": "#%%\n"
    }
   }
  },
  {
   "cell_type": "code",
   "execution_count": null,
   "outputs": [],
   "source": [],
   "metadata": {
    "collapsed": false,
    "pycharm": {
     "name": "#%%\n"
    }
   }
  },
  {
   "cell_type": "code",
   "execution_count": null,
   "outputs": [],
   "source": [],
   "metadata": {
    "collapsed": false,
    "pycharm": {
     "name": "#%%\n"
    }
   }
  },
  {
   "cell_type": "code",
   "execution_count": null,
   "outputs": [],
   "source": [],
   "metadata": {
    "collapsed": false,
    "pycharm": {
     "name": "#%%\n"
    }
   }
  },
  {
   "cell_type": "code",
   "execution_count": null,
   "outputs": [],
   "source": [],
   "metadata": {
    "collapsed": false,
    "pycharm": {
     "name": "#%%\n"
    }
   }
  },
  {
   "cell_type": "code",
   "execution_count": null,
   "outputs": [],
   "source": [
    "##Now do this for the whole dataframe"
   ],
   "metadata": {
    "collapsed": false,
    "pycharm": {
     "name": "#%%\n"
    }
   }
  },
  {
   "cell_type": "code",
   "execution_count": 28,
   "outputs": [
    {
     "data": {
      "text/plain": "              0    1    2    3    4    5    6    7    8    9  ...   30   31  \\\n0      0.063621  0.0  0.0  0.0  0.0  0.0  0.0  0.0  0.0  0.0  ...  0.0  0.0   \n1      0.006699  0.0  0.0  0.0  0.0  0.0  0.0  0.0  0.0  0.0  ...  0.0  0.0   \n2      0.004883  0.0  0.0  0.0  0.0  0.0  0.0  0.0  0.0  0.0  ...  0.0  0.0   \n3      0.000977  0.0  0.0  0.0  0.0  0.0  0.0  0.0  0.0  0.0  ...  0.0  0.0   \n4      0.027060  0.0  0.0  0.0  0.0  0.0  0.0  0.0  0.0  0.0  ...  0.0  0.0   \n...         ...  ...  ...  ...  ...  ...  ...  ...  ...  ...  ...  ...  ...   \n13607  0.000000  0.0  0.0  0.0  0.0  0.0  0.0  0.0  0.0  0.0  ...  0.0  0.0   \n13608  0.000000  0.0  0.0  0.0  0.0  0.0  0.0  0.0  0.0  0.0  ...  0.0  0.0   \n13609  0.000000  0.0  0.0  0.0  0.0  0.0  0.0  0.0  0.0  0.0  ...  0.0  0.0   \n13610  0.000000  0.0  0.0  0.0  0.0  0.0  0.0  0.0  0.0  0.0  ...  0.0  0.0   \n13611  0.000000  0.0  0.0  0.0  0.0  0.0  0.0  0.0  0.0  0.0  ...  0.0  0.0   \n\n        32   33   34   35   36   37   38             TimeHour  \n0      0.0  0.0  0.0  0.0  0.0  1.0  1.0  2018-01-01 12:00:00  \n1      0.0  0.0  0.0  0.0  0.0  1.0  1.0  2018-01-01 13:00:00  \n2      0.0  0.0  0.0  0.0  0.0  1.0  1.0  2018-01-01 14:00:00  \n3      0.0  0.0  0.0  0.0  0.0  1.0  1.0  2018-01-01 15:00:00  \n4      0.0  0.0  0.0  0.0  0.0  1.0  1.0  2018-01-01 16:00:00  \n...    ...  ...  ...  ...  ...  ...  ...                  ...  \n13607  1.0  0.0  0.0  0.0  0.0  0.0  1.0  2019-08-25 19:00:00  \n13608  1.0  0.0  0.0  0.0  0.0  0.0  1.0                  NaN  \n13609  1.0  0.0  0.0  0.0  0.0  0.0  1.0                  NaN  \n13610  1.0  0.0  0.0  0.0  0.0  0.0  1.0                  NaN  \n13611  1.0  0.0  0.0  0.0  0.0  0.0  1.0                  NaN  \n\n[13612 rows x 40 columns]",
      "text/html": "<div>\n<style scoped>\n    .dataframe tbody tr th:only-of-type {\n        vertical-align: middle;\n    }\n\n    .dataframe tbody tr th {\n        vertical-align: top;\n    }\n\n    .dataframe thead th {\n        text-align: right;\n    }\n</style>\n<table border=\"1\" class=\"dataframe\">\n  <thead>\n    <tr style=\"text-align: right;\">\n      <th></th>\n      <th>0</th>\n      <th>1</th>\n      <th>2</th>\n      <th>3</th>\n      <th>4</th>\n      <th>5</th>\n      <th>6</th>\n      <th>7</th>\n      <th>8</th>\n      <th>9</th>\n      <th>...</th>\n      <th>30</th>\n      <th>31</th>\n      <th>32</th>\n      <th>33</th>\n      <th>34</th>\n      <th>35</th>\n      <th>36</th>\n      <th>37</th>\n      <th>38</th>\n      <th>TimeHour</th>\n    </tr>\n  </thead>\n  <tbody>\n    <tr>\n      <th>0</th>\n      <td>0.063621</td>\n      <td>0.0</td>\n      <td>0.0</td>\n      <td>0.0</td>\n      <td>0.0</td>\n      <td>0.0</td>\n      <td>0.0</td>\n      <td>0.0</td>\n      <td>0.0</td>\n      <td>0.0</td>\n      <td>...</td>\n      <td>0.0</td>\n      <td>0.0</td>\n      <td>0.0</td>\n      <td>0.0</td>\n      <td>0.0</td>\n      <td>0.0</td>\n      <td>0.0</td>\n      <td>1.0</td>\n      <td>1.0</td>\n      <td>2018-01-01 12:00:00</td>\n    </tr>\n    <tr>\n      <th>1</th>\n      <td>0.006699</td>\n      <td>0.0</td>\n      <td>0.0</td>\n      <td>0.0</td>\n      <td>0.0</td>\n      <td>0.0</td>\n      <td>0.0</td>\n      <td>0.0</td>\n      <td>0.0</td>\n      <td>0.0</td>\n      <td>...</td>\n      <td>0.0</td>\n      <td>0.0</td>\n      <td>0.0</td>\n      <td>0.0</td>\n      <td>0.0</td>\n      <td>0.0</td>\n      <td>0.0</td>\n      <td>1.0</td>\n      <td>1.0</td>\n      <td>2018-01-01 13:00:00</td>\n    </tr>\n    <tr>\n      <th>2</th>\n      <td>0.004883</td>\n      <td>0.0</td>\n      <td>0.0</td>\n      <td>0.0</td>\n      <td>0.0</td>\n      <td>0.0</td>\n      <td>0.0</td>\n      <td>0.0</td>\n      <td>0.0</td>\n      <td>0.0</td>\n      <td>...</td>\n      <td>0.0</td>\n      <td>0.0</td>\n      <td>0.0</td>\n      <td>0.0</td>\n      <td>0.0</td>\n      <td>0.0</td>\n      <td>0.0</td>\n      <td>1.0</td>\n      <td>1.0</td>\n      <td>2018-01-01 14:00:00</td>\n    </tr>\n    <tr>\n      <th>3</th>\n      <td>0.000977</td>\n      <td>0.0</td>\n      <td>0.0</td>\n      <td>0.0</td>\n      <td>0.0</td>\n      <td>0.0</td>\n      <td>0.0</td>\n      <td>0.0</td>\n      <td>0.0</td>\n      <td>0.0</td>\n      <td>...</td>\n      <td>0.0</td>\n      <td>0.0</td>\n      <td>0.0</td>\n      <td>0.0</td>\n      <td>0.0</td>\n      <td>0.0</td>\n      <td>0.0</td>\n      <td>1.0</td>\n      <td>1.0</td>\n      <td>2018-01-01 15:00:00</td>\n    </tr>\n    <tr>\n      <th>4</th>\n      <td>0.027060</td>\n      <td>0.0</td>\n      <td>0.0</td>\n      <td>0.0</td>\n      <td>0.0</td>\n      <td>0.0</td>\n      <td>0.0</td>\n      <td>0.0</td>\n      <td>0.0</td>\n      <td>0.0</td>\n      <td>...</td>\n      <td>0.0</td>\n      <td>0.0</td>\n      <td>0.0</td>\n      <td>0.0</td>\n      <td>0.0</td>\n      <td>0.0</td>\n      <td>0.0</td>\n      <td>1.0</td>\n      <td>1.0</td>\n      <td>2018-01-01 16:00:00</td>\n    </tr>\n    <tr>\n      <th>...</th>\n      <td>...</td>\n      <td>...</td>\n      <td>...</td>\n      <td>...</td>\n      <td>...</td>\n      <td>...</td>\n      <td>...</td>\n      <td>...</td>\n      <td>...</td>\n      <td>...</td>\n      <td>...</td>\n      <td>...</td>\n      <td>...</td>\n      <td>...</td>\n      <td>...</td>\n      <td>...</td>\n      <td>...</td>\n      <td>...</td>\n      <td>...</td>\n      <td>...</td>\n      <td>...</td>\n    </tr>\n    <tr>\n      <th>13607</th>\n      <td>0.000000</td>\n      <td>0.0</td>\n      <td>0.0</td>\n      <td>0.0</td>\n      <td>0.0</td>\n      <td>0.0</td>\n      <td>0.0</td>\n      <td>0.0</td>\n      <td>0.0</td>\n      <td>0.0</td>\n      <td>...</td>\n      <td>0.0</td>\n      <td>0.0</td>\n      <td>1.0</td>\n      <td>0.0</td>\n      <td>0.0</td>\n      <td>0.0</td>\n      <td>0.0</td>\n      <td>0.0</td>\n      <td>1.0</td>\n      <td>2019-08-25 19:00:00</td>\n    </tr>\n    <tr>\n      <th>13608</th>\n      <td>0.000000</td>\n      <td>0.0</td>\n      <td>0.0</td>\n      <td>0.0</td>\n      <td>0.0</td>\n      <td>0.0</td>\n      <td>0.0</td>\n      <td>0.0</td>\n      <td>0.0</td>\n      <td>0.0</td>\n      <td>...</td>\n      <td>0.0</td>\n      <td>0.0</td>\n      <td>1.0</td>\n      <td>0.0</td>\n      <td>0.0</td>\n      <td>0.0</td>\n      <td>0.0</td>\n      <td>0.0</td>\n      <td>1.0</td>\n      <td>NaN</td>\n    </tr>\n    <tr>\n      <th>13609</th>\n      <td>0.000000</td>\n      <td>0.0</td>\n      <td>0.0</td>\n      <td>0.0</td>\n      <td>0.0</td>\n      <td>0.0</td>\n      <td>0.0</td>\n      <td>0.0</td>\n      <td>0.0</td>\n      <td>0.0</td>\n      <td>...</td>\n      <td>0.0</td>\n      <td>0.0</td>\n      <td>1.0</td>\n      <td>0.0</td>\n      <td>0.0</td>\n      <td>0.0</td>\n      <td>0.0</td>\n      <td>0.0</td>\n      <td>1.0</td>\n      <td>NaN</td>\n    </tr>\n    <tr>\n      <th>13610</th>\n      <td>0.000000</td>\n      <td>0.0</td>\n      <td>0.0</td>\n      <td>0.0</td>\n      <td>0.0</td>\n      <td>0.0</td>\n      <td>0.0</td>\n      <td>0.0</td>\n      <td>0.0</td>\n      <td>0.0</td>\n      <td>...</td>\n      <td>0.0</td>\n      <td>0.0</td>\n      <td>1.0</td>\n      <td>0.0</td>\n      <td>0.0</td>\n      <td>0.0</td>\n      <td>0.0</td>\n      <td>0.0</td>\n      <td>1.0</td>\n      <td>NaN</td>\n    </tr>\n    <tr>\n      <th>13611</th>\n      <td>0.000000</td>\n      <td>0.0</td>\n      <td>0.0</td>\n      <td>0.0</td>\n      <td>0.0</td>\n      <td>0.0</td>\n      <td>0.0</td>\n      <td>0.0</td>\n      <td>0.0</td>\n      <td>0.0</td>\n      <td>...</td>\n      <td>0.0</td>\n      <td>0.0</td>\n      <td>1.0</td>\n      <td>0.0</td>\n      <td>0.0</td>\n      <td>0.0</td>\n      <td>0.0</td>\n      <td>0.0</td>\n      <td>1.0</td>\n      <td>NaN</td>\n    </tr>\n  </tbody>\n</table>\n<p>13612 rows × 40 columns</p>\n</div>"
     },
     "execution_count": 28,
     "metadata": {},
     "output_type": "execute_result"
    }
   ],
   "source": [
    "df_test = pd.DataFrame(data=X)\n",
    "df_test['TimeHour'] = TimeHour.loc[:, 'TimeHour']\n",
    "df_test"
   ],
   "metadata": {
    "collapsed": false,
    "pycharm": {
     "name": "#%%\n"
    }
   }
  },
  {
   "cell_type": "code",
   "execution_count": 29,
   "outputs": [
    {
     "data": {
      "text/plain": "              0    1    2    3    4    5    6    7    8    9  ...   33   34  \\\n0      0.063621  0.0  0.0  0.0  0.0  0.0  0.0  0.0  0.0  0.0  ...  0.0  0.0   \n1      0.006699  0.0  0.0  0.0  0.0  0.0  0.0  0.0  0.0  0.0  ...  0.0  0.0   \n2      0.004883  0.0  0.0  0.0  0.0  0.0  0.0  0.0  0.0  0.0  ...  0.0  0.0   \n3      0.000977  0.0  0.0  0.0  0.0  0.0  0.0  0.0  0.0  0.0  ...  0.0  0.0   \n4      0.027060  0.0  0.0  0.0  0.0  0.0  0.0  0.0  0.0  0.0  ...  0.0  0.0   \n...         ...  ...  ...  ...  ...  ...  ...  ...  ...  ...  ...  ...  ...   \n13607  0.000000  0.0  0.0  0.0  0.0  0.0  0.0  0.0  0.0  0.0  ...  0.0  0.0   \n13608  0.000000  0.0  0.0  0.0  0.0  0.0  0.0  0.0  0.0  0.0  ...  0.0  0.0   \n13609  0.000000  0.0  0.0  0.0  0.0  0.0  0.0  0.0  0.0  0.0  ...  0.0  0.0   \n13610  0.000000  0.0  0.0  0.0  0.0  0.0  0.0  0.0  0.0  0.0  ...  0.0  0.0   \n13611  0.000000  0.0  0.0  0.0  0.0  0.0  0.0  0.0  0.0  0.0  ...  0.0  0.0   \n\n        35   36   37   38             TimeHour           TimeHour2  \\\n0      0.0  0.0  1.0  1.0  2018-01-01 12:00:00 2018-01-01 12:00:00   \n1      0.0  0.0  1.0  1.0  2018-01-01 13:00:00 2018-01-01 13:00:00   \n2      0.0  0.0  1.0  1.0  2018-01-01 14:00:00 2018-01-01 14:00:00   \n3      0.0  0.0  1.0  1.0  2018-01-01 15:00:00 2018-01-01 15:00:00   \n4      0.0  0.0  1.0  1.0  2018-01-01 16:00:00 2018-01-01 16:00:00   \n...    ...  ...  ...  ...                  ...                 ...   \n13607  0.0  0.0  0.0  1.0  2019-08-25 19:00:00 2019-08-25 19:00:00   \n13608  0.0  0.0  0.0  1.0                  NaN                 NaT   \n13609  0.0  0.0  0.0  1.0                  NaN                 NaT   \n13610  0.0  0.0  0.0  1.0                  NaN                 NaT   \n13611  0.0  0.0  0.0  1.0                  NaN                 NaT   \n\n                  Diff               Before  \n0                   NA                   NA  \n1      0 days 01:00:00  2018-01-01 12:00:00  \n2      0 days 01:00:00  2018-01-01 13:00:00  \n3      0 days 01:00:00  2018-01-01 14:00:00  \n4      0 days 01:00:00  2018-01-01 15:00:00  \n...                ...                  ...  \n13607  0 days 01:00:00  2019-08-25 18:00:00  \n13608              NaT  2019-08-25 19:00:00  \n13609              NaT                  NaT  \n13610              NaT                  NaT  \n13611              NaT                  NaT  \n\n[13612 rows x 43 columns]",
      "text/html": "<div>\n<style scoped>\n    .dataframe tbody tr th:only-of-type {\n        vertical-align: middle;\n    }\n\n    .dataframe tbody tr th {\n        vertical-align: top;\n    }\n\n    .dataframe thead th {\n        text-align: right;\n    }\n</style>\n<table border=\"1\" class=\"dataframe\">\n  <thead>\n    <tr style=\"text-align: right;\">\n      <th></th>\n      <th>0</th>\n      <th>1</th>\n      <th>2</th>\n      <th>3</th>\n      <th>4</th>\n      <th>5</th>\n      <th>6</th>\n      <th>7</th>\n      <th>8</th>\n      <th>9</th>\n      <th>...</th>\n      <th>33</th>\n      <th>34</th>\n      <th>35</th>\n      <th>36</th>\n      <th>37</th>\n      <th>38</th>\n      <th>TimeHour</th>\n      <th>TimeHour2</th>\n      <th>Diff</th>\n      <th>Before</th>\n    </tr>\n  </thead>\n  <tbody>\n    <tr>\n      <th>0</th>\n      <td>0.063621</td>\n      <td>0.0</td>\n      <td>0.0</td>\n      <td>0.0</td>\n      <td>0.0</td>\n      <td>0.0</td>\n      <td>0.0</td>\n      <td>0.0</td>\n      <td>0.0</td>\n      <td>0.0</td>\n      <td>...</td>\n      <td>0.0</td>\n      <td>0.0</td>\n      <td>0.0</td>\n      <td>0.0</td>\n      <td>1.0</td>\n      <td>1.0</td>\n      <td>2018-01-01 12:00:00</td>\n      <td>2018-01-01 12:00:00</td>\n      <td>NA</td>\n      <td>NA</td>\n    </tr>\n    <tr>\n      <th>1</th>\n      <td>0.006699</td>\n      <td>0.0</td>\n      <td>0.0</td>\n      <td>0.0</td>\n      <td>0.0</td>\n      <td>0.0</td>\n      <td>0.0</td>\n      <td>0.0</td>\n      <td>0.0</td>\n      <td>0.0</td>\n      <td>...</td>\n      <td>0.0</td>\n      <td>0.0</td>\n      <td>0.0</td>\n      <td>0.0</td>\n      <td>1.0</td>\n      <td>1.0</td>\n      <td>2018-01-01 13:00:00</td>\n      <td>2018-01-01 13:00:00</td>\n      <td>0 days 01:00:00</td>\n      <td>2018-01-01 12:00:00</td>\n    </tr>\n    <tr>\n      <th>2</th>\n      <td>0.004883</td>\n      <td>0.0</td>\n      <td>0.0</td>\n      <td>0.0</td>\n      <td>0.0</td>\n      <td>0.0</td>\n      <td>0.0</td>\n      <td>0.0</td>\n      <td>0.0</td>\n      <td>0.0</td>\n      <td>...</td>\n      <td>0.0</td>\n      <td>0.0</td>\n      <td>0.0</td>\n      <td>0.0</td>\n      <td>1.0</td>\n      <td>1.0</td>\n      <td>2018-01-01 14:00:00</td>\n      <td>2018-01-01 14:00:00</td>\n      <td>0 days 01:00:00</td>\n      <td>2018-01-01 13:00:00</td>\n    </tr>\n    <tr>\n      <th>3</th>\n      <td>0.000977</td>\n      <td>0.0</td>\n      <td>0.0</td>\n      <td>0.0</td>\n      <td>0.0</td>\n      <td>0.0</td>\n      <td>0.0</td>\n      <td>0.0</td>\n      <td>0.0</td>\n      <td>0.0</td>\n      <td>...</td>\n      <td>0.0</td>\n      <td>0.0</td>\n      <td>0.0</td>\n      <td>0.0</td>\n      <td>1.0</td>\n      <td>1.0</td>\n      <td>2018-01-01 15:00:00</td>\n      <td>2018-01-01 15:00:00</td>\n      <td>0 days 01:00:00</td>\n      <td>2018-01-01 14:00:00</td>\n    </tr>\n    <tr>\n      <th>4</th>\n      <td>0.027060</td>\n      <td>0.0</td>\n      <td>0.0</td>\n      <td>0.0</td>\n      <td>0.0</td>\n      <td>0.0</td>\n      <td>0.0</td>\n      <td>0.0</td>\n      <td>0.0</td>\n      <td>0.0</td>\n      <td>...</td>\n      <td>0.0</td>\n      <td>0.0</td>\n      <td>0.0</td>\n      <td>0.0</td>\n      <td>1.0</td>\n      <td>1.0</td>\n      <td>2018-01-01 16:00:00</td>\n      <td>2018-01-01 16:00:00</td>\n      <td>0 days 01:00:00</td>\n      <td>2018-01-01 15:00:00</td>\n    </tr>\n    <tr>\n      <th>...</th>\n      <td>...</td>\n      <td>...</td>\n      <td>...</td>\n      <td>...</td>\n      <td>...</td>\n      <td>...</td>\n      <td>...</td>\n      <td>...</td>\n      <td>...</td>\n      <td>...</td>\n      <td>...</td>\n      <td>...</td>\n      <td>...</td>\n      <td>...</td>\n      <td>...</td>\n      <td>...</td>\n      <td>...</td>\n      <td>...</td>\n      <td>...</td>\n      <td>...</td>\n      <td>...</td>\n    </tr>\n    <tr>\n      <th>13607</th>\n      <td>0.000000</td>\n      <td>0.0</td>\n      <td>0.0</td>\n      <td>0.0</td>\n      <td>0.0</td>\n      <td>0.0</td>\n      <td>0.0</td>\n      <td>0.0</td>\n      <td>0.0</td>\n      <td>0.0</td>\n      <td>...</td>\n      <td>0.0</td>\n      <td>0.0</td>\n      <td>0.0</td>\n      <td>0.0</td>\n      <td>0.0</td>\n      <td>1.0</td>\n      <td>2019-08-25 19:00:00</td>\n      <td>2019-08-25 19:00:00</td>\n      <td>0 days 01:00:00</td>\n      <td>2019-08-25 18:00:00</td>\n    </tr>\n    <tr>\n      <th>13608</th>\n      <td>0.000000</td>\n      <td>0.0</td>\n      <td>0.0</td>\n      <td>0.0</td>\n      <td>0.0</td>\n      <td>0.0</td>\n      <td>0.0</td>\n      <td>0.0</td>\n      <td>0.0</td>\n      <td>0.0</td>\n      <td>...</td>\n      <td>0.0</td>\n      <td>0.0</td>\n      <td>0.0</td>\n      <td>0.0</td>\n      <td>0.0</td>\n      <td>1.0</td>\n      <td>NaN</td>\n      <td>NaT</td>\n      <td>NaT</td>\n      <td>2019-08-25 19:00:00</td>\n    </tr>\n    <tr>\n      <th>13609</th>\n      <td>0.000000</td>\n      <td>0.0</td>\n      <td>0.0</td>\n      <td>0.0</td>\n      <td>0.0</td>\n      <td>0.0</td>\n      <td>0.0</td>\n      <td>0.0</td>\n      <td>0.0</td>\n      <td>0.0</td>\n      <td>...</td>\n      <td>0.0</td>\n      <td>0.0</td>\n      <td>0.0</td>\n      <td>0.0</td>\n      <td>0.0</td>\n      <td>1.0</td>\n      <td>NaN</td>\n      <td>NaT</td>\n      <td>NaT</td>\n      <td>NaT</td>\n    </tr>\n    <tr>\n      <th>13610</th>\n      <td>0.000000</td>\n      <td>0.0</td>\n      <td>0.0</td>\n      <td>0.0</td>\n      <td>0.0</td>\n      <td>0.0</td>\n      <td>0.0</td>\n      <td>0.0</td>\n      <td>0.0</td>\n      <td>0.0</td>\n      <td>...</td>\n      <td>0.0</td>\n      <td>0.0</td>\n      <td>0.0</td>\n      <td>0.0</td>\n      <td>0.0</td>\n      <td>1.0</td>\n      <td>NaN</td>\n      <td>NaT</td>\n      <td>NaT</td>\n      <td>NaT</td>\n    </tr>\n    <tr>\n      <th>13611</th>\n      <td>0.000000</td>\n      <td>0.0</td>\n      <td>0.0</td>\n      <td>0.0</td>\n      <td>0.0</td>\n      <td>0.0</td>\n      <td>0.0</td>\n      <td>0.0</td>\n      <td>0.0</td>\n      <td>0.0</td>\n      <td>...</td>\n      <td>0.0</td>\n      <td>0.0</td>\n      <td>0.0</td>\n      <td>0.0</td>\n      <td>0.0</td>\n      <td>1.0</td>\n      <td>NaN</td>\n      <td>NaT</td>\n      <td>NaT</td>\n      <td>NaT</td>\n    </tr>\n  </tbody>\n</table>\n<p>13612 rows × 43 columns</p>\n</div>"
     },
     "execution_count": 29,
     "metadata": {},
     "output_type": "execute_result"
    }
   ],
   "source": [
    "df_test['TimeHour2'] = 'NA'\n",
    "df_test['TimeHour2'] = pd.to_datetime(df_test['TimeHour'], format='%Y-%m-%d %H:%M:%S')\n",
    "df_test['Diff'] = 'NA'\n",
    "df_test['Before']=\"NA\"\n",
    "for x in range(1, df_test.shape[0]):\n",
    "    before = df_test.loc[x - 1, 'TimeHour2']\n",
    "    df_test.loc[x, 'Before'] = before\n",
    "    now = df_test.loc[x, 'TimeHour2']\n",
    "    diff = now - before\n",
    "    df_test.loc[x, 'Diff'] = diff\n",
    "df_test"
   ],
   "metadata": {
    "collapsed": false,
    "pycharm": {
     "name": "#%%\n"
    }
   }
  },
  {
   "cell_type": "code",
   "execution_count": 30,
   "outputs": [],
   "source": [
    "df_test = df_test.drop(0)"
   ],
   "metadata": {
    "collapsed": false,
    "pycharm": {
     "name": "#%%\n"
    }
   }
  },
  {
   "cell_type": "code",
   "execution_count": 31,
   "outputs": [],
   "source": [
    "df_test['diff_hours'] = [x.total_seconds() / 3600 for x in df_test['Diff']]"
   ],
   "metadata": {
    "collapsed": false,
    "pycharm": {
     "name": "#%%\n"
    }
   }
  },
  {
   "cell_type": "code",
   "execution_count": null,
   "outputs": [],
   "source": [
    "df_test"
   ],
   "metadata": {
    "collapsed": false,
    "pycharm": {
     "name": "#%%\n"
    }
   }
  },
  {
   "cell_type": "code",
   "execution_count": null,
   "outputs": [],
   "source": [
    "##Delete parts of missing data that are too big and make sure it are still blocks of 24 hours"
   ],
   "metadata": {
    "collapsed": false,
    "pycharm": {
     "name": "#%%\n"
    }
   }
  },
  {
   "cell_type": "code",
   "execution_count": 32,
   "outputs": [
    {
     "data": {
      "text/plain": "             0    1    2    3    4    5    6    7    8    9  ...   34   35  \\\n1136  0.000000  0.0  0.0  0.0  0.0  0.0  1.0  0.0  0.0  0.0  ...  0.0  0.0   \n1137  0.013306  0.0  0.0  0.0  0.0  0.0  0.0  1.0  0.0  0.0  ...  0.0  0.0   \n1138  0.000061  0.0  0.0  0.0  0.0  0.0  0.0  0.0  1.0  0.0  ...  0.0  0.0   \n1139  0.001282  0.0  0.0  0.0  0.0  0.0  0.0  0.0  0.0  1.0  ...  0.0  0.0   \n1140  0.000000  0.0  0.0  0.0  0.0  0.0  0.0  0.0  0.0  0.0  ...  0.0  0.0   \n1143  0.002441  0.0  0.0  0.0  0.0  0.0  0.0  0.0  0.0  0.0  ...  0.0  0.0   \n1144  0.002441  0.0  0.0  0.0  0.0  0.0  0.0  0.0  0.0  0.0  ...  0.0  0.0   \n1145  0.000977  0.0  0.0  0.0  0.0  0.0  0.0  0.0  0.0  0.0  ...  0.0  0.0   \n\n       36   37   38             TimeHour           TimeHour2             Diff  \\\n1136  0.0  0.0  1.0  2018-02-26 05:00:00 2018-02-26 05:00:00  0 days 01:00:00   \n1137  0.0  0.0  1.0  2018-02-26 06:00:00 2018-02-26 06:00:00  0 days 01:00:00   \n1138  0.0  0.0  1.0  2018-02-26 07:00:00 2018-02-26 07:00:00  0 days 01:00:00   \n1139  0.0  0.0  1.0  2018-02-26 08:00:00 2018-02-26 08:00:00  0 days 01:00:00   \n1140  0.0  0.0  1.0  2018-02-26 09:00:00 2018-02-26 09:00:00  0 days 01:00:00   \n1143  0.0  0.0  1.0  2018-02-28 13:00:00 2018-02-28 13:00:00  0 days 04:00:00   \n1144  0.0  0.0  1.0  2018-02-28 14:00:00 2018-02-28 14:00:00  0 days 01:00:00   \n1145  0.0  0.0  1.0  2018-02-28 15:00:00 2018-02-28 15:00:00  0 days 01:00:00   \n\n                   Before  diff_hours  \n1136  2018-02-26 04:00:00         1.0  \n1137  2018-02-26 05:00:00         1.0  \n1138  2018-02-26 06:00:00         1.0  \n1139  2018-02-26 07:00:00         1.0  \n1140  2018-02-26 08:00:00         1.0  \n1143  2018-02-28 09:00:00         4.0  \n1144  2018-02-28 13:00:00         1.0  \n1145  2018-02-28 14:00:00         1.0  \n\n[8 rows x 44 columns]",
      "text/html": "<div>\n<style scoped>\n    .dataframe tbody tr th:only-of-type {\n        vertical-align: middle;\n    }\n\n    .dataframe tbody tr th {\n        vertical-align: top;\n    }\n\n    .dataframe thead th {\n        text-align: right;\n    }\n</style>\n<table border=\"1\" class=\"dataframe\">\n  <thead>\n    <tr style=\"text-align: right;\">\n      <th></th>\n      <th>0</th>\n      <th>1</th>\n      <th>2</th>\n      <th>3</th>\n      <th>4</th>\n      <th>5</th>\n      <th>6</th>\n      <th>7</th>\n      <th>8</th>\n      <th>9</th>\n      <th>...</th>\n      <th>34</th>\n      <th>35</th>\n      <th>36</th>\n      <th>37</th>\n      <th>38</th>\n      <th>TimeHour</th>\n      <th>TimeHour2</th>\n      <th>Diff</th>\n      <th>Before</th>\n      <th>diff_hours</th>\n    </tr>\n  </thead>\n  <tbody>\n    <tr>\n      <th>1136</th>\n      <td>0.000000</td>\n      <td>0.0</td>\n      <td>0.0</td>\n      <td>0.0</td>\n      <td>0.0</td>\n      <td>0.0</td>\n      <td>1.0</td>\n      <td>0.0</td>\n      <td>0.0</td>\n      <td>0.0</td>\n      <td>...</td>\n      <td>0.0</td>\n      <td>0.0</td>\n      <td>0.0</td>\n      <td>0.0</td>\n      <td>1.0</td>\n      <td>2018-02-26 05:00:00</td>\n      <td>2018-02-26 05:00:00</td>\n      <td>0 days 01:00:00</td>\n      <td>2018-02-26 04:00:00</td>\n      <td>1.0</td>\n    </tr>\n    <tr>\n      <th>1137</th>\n      <td>0.013306</td>\n      <td>0.0</td>\n      <td>0.0</td>\n      <td>0.0</td>\n      <td>0.0</td>\n      <td>0.0</td>\n      <td>0.0</td>\n      <td>1.0</td>\n      <td>0.0</td>\n      <td>0.0</td>\n      <td>...</td>\n      <td>0.0</td>\n      <td>0.0</td>\n      <td>0.0</td>\n      <td>0.0</td>\n      <td>1.0</td>\n      <td>2018-02-26 06:00:00</td>\n      <td>2018-02-26 06:00:00</td>\n      <td>0 days 01:00:00</td>\n      <td>2018-02-26 05:00:00</td>\n      <td>1.0</td>\n    </tr>\n    <tr>\n      <th>1138</th>\n      <td>0.000061</td>\n      <td>0.0</td>\n      <td>0.0</td>\n      <td>0.0</td>\n      <td>0.0</td>\n      <td>0.0</td>\n      <td>0.0</td>\n      <td>0.0</td>\n      <td>1.0</td>\n      <td>0.0</td>\n      <td>...</td>\n      <td>0.0</td>\n      <td>0.0</td>\n      <td>0.0</td>\n      <td>0.0</td>\n      <td>1.0</td>\n      <td>2018-02-26 07:00:00</td>\n      <td>2018-02-26 07:00:00</td>\n      <td>0 days 01:00:00</td>\n      <td>2018-02-26 06:00:00</td>\n      <td>1.0</td>\n    </tr>\n    <tr>\n      <th>1139</th>\n      <td>0.001282</td>\n      <td>0.0</td>\n      <td>0.0</td>\n      <td>0.0</td>\n      <td>0.0</td>\n      <td>0.0</td>\n      <td>0.0</td>\n      <td>0.0</td>\n      <td>0.0</td>\n      <td>1.0</td>\n      <td>...</td>\n      <td>0.0</td>\n      <td>0.0</td>\n      <td>0.0</td>\n      <td>0.0</td>\n      <td>1.0</td>\n      <td>2018-02-26 08:00:00</td>\n      <td>2018-02-26 08:00:00</td>\n      <td>0 days 01:00:00</td>\n      <td>2018-02-26 07:00:00</td>\n      <td>1.0</td>\n    </tr>\n    <tr>\n      <th>1140</th>\n      <td>0.000000</td>\n      <td>0.0</td>\n      <td>0.0</td>\n      <td>0.0</td>\n      <td>0.0</td>\n      <td>0.0</td>\n      <td>0.0</td>\n      <td>0.0</td>\n      <td>0.0</td>\n      <td>0.0</td>\n      <td>...</td>\n      <td>0.0</td>\n      <td>0.0</td>\n      <td>0.0</td>\n      <td>0.0</td>\n      <td>1.0</td>\n      <td>2018-02-26 09:00:00</td>\n      <td>2018-02-26 09:00:00</td>\n      <td>0 days 01:00:00</td>\n      <td>2018-02-26 08:00:00</td>\n      <td>1.0</td>\n    </tr>\n    <tr>\n      <th>1143</th>\n      <td>0.002441</td>\n      <td>0.0</td>\n      <td>0.0</td>\n      <td>0.0</td>\n      <td>0.0</td>\n      <td>0.0</td>\n      <td>0.0</td>\n      <td>0.0</td>\n      <td>0.0</td>\n      <td>0.0</td>\n      <td>...</td>\n      <td>0.0</td>\n      <td>0.0</td>\n      <td>0.0</td>\n      <td>0.0</td>\n      <td>1.0</td>\n      <td>2018-02-28 13:00:00</td>\n      <td>2018-02-28 13:00:00</td>\n      <td>0 days 04:00:00</td>\n      <td>2018-02-28 09:00:00</td>\n      <td>4.0</td>\n    </tr>\n    <tr>\n      <th>1144</th>\n      <td>0.002441</td>\n      <td>0.0</td>\n      <td>0.0</td>\n      <td>0.0</td>\n      <td>0.0</td>\n      <td>0.0</td>\n      <td>0.0</td>\n      <td>0.0</td>\n      <td>0.0</td>\n      <td>0.0</td>\n      <td>...</td>\n      <td>0.0</td>\n      <td>0.0</td>\n      <td>0.0</td>\n      <td>0.0</td>\n      <td>1.0</td>\n      <td>2018-02-28 14:00:00</td>\n      <td>2018-02-28 14:00:00</td>\n      <td>0 days 01:00:00</td>\n      <td>2018-02-28 13:00:00</td>\n      <td>1.0</td>\n    </tr>\n    <tr>\n      <th>1145</th>\n      <td>0.000977</td>\n      <td>0.0</td>\n      <td>0.0</td>\n      <td>0.0</td>\n      <td>0.0</td>\n      <td>0.0</td>\n      <td>0.0</td>\n      <td>0.0</td>\n      <td>0.0</td>\n      <td>0.0</td>\n      <td>...</td>\n      <td>0.0</td>\n      <td>0.0</td>\n      <td>0.0</td>\n      <td>0.0</td>\n      <td>1.0</td>\n      <td>2018-02-28 15:00:00</td>\n      <td>2018-02-28 15:00:00</td>\n      <td>0 days 01:00:00</td>\n      <td>2018-02-28 14:00:00</td>\n      <td>1.0</td>\n    </tr>\n  </tbody>\n</table>\n<p>8 rows × 44 columns</p>\n</div>"
     },
     "execution_count": 32,
     "metadata": {},
     "output_type": "execute_result"
    }
   ],
   "source": [
    "df_first = df_test[1135:1145]\n",
    "df_first = df_first.drop([1141,1142])\n",
    "df_first"
   ],
   "metadata": {
    "collapsed": false,
    "pycharm": {
     "name": "#%%\n"
    }
   }
  },
  {
   "cell_type": "code",
   "execution_count": 33,
   "outputs": [
    {
     "data": {
      "text/plain": "              0    1    2    3    4    5    6    7    8    9  ...   34   35  \\\n0      0.006699  0.0  0.0  0.0  0.0  0.0  0.0  0.0  0.0  0.0  ...  0.0  0.0   \n1      0.004883  0.0  0.0  0.0  0.0  0.0  0.0  0.0  0.0  0.0  ...  0.0  0.0   \n2      0.000977  0.0  0.0  0.0  0.0  0.0  0.0  0.0  0.0  0.0  ...  0.0  0.0   \n3      0.027060  0.0  0.0  0.0  0.0  0.0  0.0  0.0  0.0  0.0  ...  0.0  0.0   \n4      0.446828  0.0  0.0  0.0  0.0  0.0  0.0  0.0  0.0  0.0  ...  0.0  0.0   \n...         ...  ...  ...  ...  ...  ...  ...  ...  ...  ...  ...  ...  ...   \n13604  0.000000  0.0  0.0  0.0  0.0  0.0  0.0  0.0  0.0  0.0  ...  0.0  0.0   \n13605  0.000000  0.0  0.0  0.0  0.0  0.0  0.0  0.0  0.0  0.0  ...  0.0  0.0   \n13606  0.000000  0.0  0.0  0.0  0.0  0.0  0.0  0.0  0.0  0.0  ...  0.0  0.0   \n13607  0.000000  0.0  0.0  0.0  0.0  0.0  0.0  0.0  0.0  0.0  ...  0.0  0.0   \n13608  0.000000  0.0  0.0  0.0  0.0  0.0  0.0  0.0  0.0  0.0  ...  0.0  0.0   \n\n        36   37   38             TimeHour           TimeHour2  \\\n0      0.0  1.0  1.0  2018-01-01 13:00:00 2018-01-01 13:00:00   \n1      0.0  1.0  1.0  2018-01-01 14:00:00 2018-01-01 14:00:00   \n2      0.0  1.0  1.0  2018-01-01 15:00:00 2018-01-01 15:00:00   \n3      0.0  1.0  1.0  2018-01-01 16:00:00 2018-01-01 16:00:00   \n4      0.0  1.0  1.0  2018-01-01 17:00:00 2018-01-01 17:00:00   \n...    ...  ...  ...                  ...                 ...   \n13604  0.0  0.0  1.0  2019-08-25 19:00:00 2019-08-25 19:00:00   \n13605  0.0  0.0  1.0                  NaN                 NaT   \n13606  0.0  0.0  1.0                  NaN                 NaT   \n13607  0.0  0.0  1.0                  NaN                 NaT   \n13608  0.0  0.0  1.0                  NaN                 NaT   \n\n                  Diff               Before  diff_hours  \n0      0 days 01:00:00  2018-01-01 12:00:00         1.0  \n1      0 days 01:00:00  2018-01-01 13:00:00         1.0  \n2      0 days 01:00:00  2018-01-01 14:00:00         1.0  \n3      0 days 01:00:00  2018-01-01 15:00:00         1.0  \n4      0 days 01:00:00  2018-01-01 16:00:00         1.0  \n...                ...                  ...         ...  \n13604  0 days 01:00:00  2019-08-25 18:00:00         1.0  \n13605              NaT  2019-08-25 19:00:00         NaN  \n13606              NaT                  NaT         NaN  \n13607              NaT                  NaT         NaN  \n13608              NaT                  NaT         NaN  \n\n[13609 rows x 44 columns]",
      "text/html": "<div>\n<style scoped>\n    .dataframe tbody tr th:only-of-type {\n        vertical-align: middle;\n    }\n\n    .dataframe tbody tr th {\n        vertical-align: top;\n    }\n\n    .dataframe thead th {\n        text-align: right;\n    }\n</style>\n<table border=\"1\" class=\"dataframe\">\n  <thead>\n    <tr style=\"text-align: right;\">\n      <th></th>\n      <th>0</th>\n      <th>1</th>\n      <th>2</th>\n      <th>3</th>\n      <th>4</th>\n      <th>5</th>\n      <th>6</th>\n      <th>7</th>\n      <th>8</th>\n      <th>9</th>\n      <th>...</th>\n      <th>34</th>\n      <th>35</th>\n      <th>36</th>\n      <th>37</th>\n      <th>38</th>\n      <th>TimeHour</th>\n      <th>TimeHour2</th>\n      <th>Diff</th>\n      <th>Before</th>\n      <th>diff_hours</th>\n    </tr>\n  </thead>\n  <tbody>\n    <tr>\n      <th>0</th>\n      <td>0.006699</td>\n      <td>0.0</td>\n      <td>0.0</td>\n      <td>0.0</td>\n      <td>0.0</td>\n      <td>0.0</td>\n      <td>0.0</td>\n      <td>0.0</td>\n      <td>0.0</td>\n      <td>0.0</td>\n      <td>...</td>\n      <td>0.0</td>\n      <td>0.0</td>\n      <td>0.0</td>\n      <td>1.0</td>\n      <td>1.0</td>\n      <td>2018-01-01 13:00:00</td>\n      <td>2018-01-01 13:00:00</td>\n      <td>0 days 01:00:00</td>\n      <td>2018-01-01 12:00:00</td>\n      <td>1.0</td>\n    </tr>\n    <tr>\n      <th>1</th>\n      <td>0.004883</td>\n      <td>0.0</td>\n      <td>0.0</td>\n      <td>0.0</td>\n      <td>0.0</td>\n      <td>0.0</td>\n      <td>0.0</td>\n      <td>0.0</td>\n      <td>0.0</td>\n      <td>0.0</td>\n      <td>...</td>\n      <td>0.0</td>\n      <td>0.0</td>\n      <td>0.0</td>\n      <td>1.0</td>\n      <td>1.0</td>\n      <td>2018-01-01 14:00:00</td>\n      <td>2018-01-01 14:00:00</td>\n      <td>0 days 01:00:00</td>\n      <td>2018-01-01 13:00:00</td>\n      <td>1.0</td>\n    </tr>\n    <tr>\n      <th>2</th>\n      <td>0.000977</td>\n      <td>0.0</td>\n      <td>0.0</td>\n      <td>0.0</td>\n      <td>0.0</td>\n      <td>0.0</td>\n      <td>0.0</td>\n      <td>0.0</td>\n      <td>0.0</td>\n      <td>0.0</td>\n      <td>...</td>\n      <td>0.0</td>\n      <td>0.0</td>\n      <td>0.0</td>\n      <td>1.0</td>\n      <td>1.0</td>\n      <td>2018-01-01 15:00:00</td>\n      <td>2018-01-01 15:00:00</td>\n      <td>0 days 01:00:00</td>\n      <td>2018-01-01 14:00:00</td>\n      <td>1.0</td>\n    </tr>\n    <tr>\n      <th>3</th>\n      <td>0.027060</td>\n      <td>0.0</td>\n      <td>0.0</td>\n      <td>0.0</td>\n      <td>0.0</td>\n      <td>0.0</td>\n      <td>0.0</td>\n      <td>0.0</td>\n      <td>0.0</td>\n      <td>0.0</td>\n      <td>...</td>\n      <td>0.0</td>\n      <td>0.0</td>\n      <td>0.0</td>\n      <td>1.0</td>\n      <td>1.0</td>\n      <td>2018-01-01 16:00:00</td>\n      <td>2018-01-01 16:00:00</td>\n      <td>0 days 01:00:00</td>\n      <td>2018-01-01 15:00:00</td>\n      <td>1.0</td>\n    </tr>\n    <tr>\n      <th>4</th>\n      <td>0.446828</td>\n      <td>0.0</td>\n      <td>0.0</td>\n      <td>0.0</td>\n      <td>0.0</td>\n      <td>0.0</td>\n      <td>0.0</td>\n      <td>0.0</td>\n      <td>0.0</td>\n      <td>0.0</td>\n      <td>...</td>\n      <td>0.0</td>\n      <td>0.0</td>\n      <td>0.0</td>\n      <td>1.0</td>\n      <td>1.0</td>\n      <td>2018-01-01 17:00:00</td>\n      <td>2018-01-01 17:00:00</td>\n      <td>0 days 01:00:00</td>\n      <td>2018-01-01 16:00:00</td>\n      <td>1.0</td>\n    </tr>\n    <tr>\n      <th>...</th>\n      <td>...</td>\n      <td>...</td>\n      <td>...</td>\n      <td>...</td>\n      <td>...</td>\n      <td>...</td>\n      <td>...</td>\n      <td>...</td>\n      <td>...</td>\n      <td>...</td>\n      <td>...</td>\n      <td>...</td>\n      <td>...</td>\n      <td>...</td>\n      <td>...</td>\n      <td>...</td>\n      <td>...</td>\n      <td>...</td>\n      <td>...</td>\n      <td>...</td>\n      <td>...</td>\n    </tr>\n    <tr>\n      <th>13604</th>\n      <td>0.000000</td>\n      <td>0.0</td>\n      <td>0.0</td>\n      <td>0.0</td>\n      <td>0.0</td>\n      <td>0.0</td>\n      <td>0.0</td>\n      <td>0.0</td>\n      <td>0.0</td>\n      <td>0.0</td>\n      <td>...</td>\n      <td>0.0</td>\n      <td>0.0</td>\n      <td>0.0</td>\n      <td>0.0</td>\n      <td>1.0</td>\n      <td>2019-08-25 19:00:00</td>\n      <td>2019-08-25 19:00:00</td>\n      <td>0 days 01:00:00</td>\n      <td>2019-08-25 18:00:00</td>\n      <td>1.0</td>\n    </tr>\n    <tr>\n      <th>13605</th>\n      <td>0.000000</td>\n      <td>0.0</td>\n      <td>0.0</td>\n      <td>0.0</td>\n      <td>0.0</td>\n      <td>0.0</td>\n      <td>0.0</td>\n      <td>0.0</td>\n      <td>0.0</td>\n      <td>0.0</td>\n      <td>...</td>\n      <td>0.0</td>\n      <td>0.0</td>\n      <td>0.0</td>\n      <td>0.0</td>\n      <td>1.0</td>\n      <td>NaN</td>\n      <td>NaT</td>\n      <td>NaT</td>\n      <td>2019-08-25 19:00:00</td>\n      <td>NaN</td>\n    </tr>\n    <tr>\n      <th>13606</th>\n      <td>0.000000</td>\n      <td>0.0</td>\n      <td>0.0</td>\n      <td>0.0</td>\n      <td>0.0</td>\n      <td>0.0</td>\n      <td>0.0</td>\n      <td>0.0</td>\n      <td>0.0</td>\n      <td>0.0</td>\n      <td>...</td>\n      <td>0.0</td>\n      <td>0.0</td>\n      <td>0.0</td>\n      <td>0.0</td>\n      <td>1.0</td>\n      <td>NaN</td>\n      <td>NaT</td>\n      <td>NaT</td>\n      <td>NaT</td>\n      <td>NaN</td>\n    </tr>\n    <tr>\n      <th>13607</th>\n      <td>0.000000</td>\n      <td>0.0</td>\n      <td>0.0</td>\n      <td>0.0</td>\n      <td>0.0</td>\n      <td>0.0</td>\n      <td>0.0</td>\n      <td>0.0</td>\n      <td>0.0</td>\n      <td>0.0</td>\n      <td>...</td>\n      <td>0.0</td>\n      <td>0.0</td>\n      <td>0.0</td>\n      <td>0.0</td>\n      <td>1.0</td>\n      <td>NaN</td>\n      <td>NaT</td>\n      <td>NaT</td>\n      <td>NaT</td>\n      <td>NaN</td>\n    </tr>\n    <tr>\n      <th>13608</th>\n      <td>0.000000</td>\n      <td>0.0</td>\n      <td>0.0</td>\n      <td>0.0</td>\n      <td>0.0</td>\n      <td>0.0</td>\n      <td>0.0</td>\n      <td>0.0</td>\n      <td>0.0</td>\n      <td>0.0</td>\n      <td>...</td>\n      <td>0.0</td>\n      <td>0.0</td>\n      <td>0.0</td>\n      <td>0.0</td>\n      <td>1.0</td>\n      <td>NaN</td>\n      <td>NaT</td>\n      <td>NaT</td>\n      <td>NaT</td>\n      <td>NaN</td>\n    </tr>\n  </tbody>\n</table>\n<p>13609 rows × 44 columns</p>\n</div>"
     },
     "execution_count": 33,
     "metadata": {},
     "output_type": "execute_result"
    }
   ],
   "source": [
    "df_test = df_test.drop([1141,1142])\n",
    "df_test = df_test.reset_index()\n",
    "df_test = df_test.drop(columns=[\"index\"])\n",
    "df_test"
   ],
   "metadata": {
    "collapsed": false,
    "pycharm": {
     "name": "#%%\n"
    }
   }
  },
  {
   "cell_type": "code",
   "execution_count": 34,
   "outputs": [
    {
     "data": {
      "text/plain": "                  0    1    2    3    4    5    6    7    8    9  ...   34  \\\n550    3.715820e-01  0.0  0.0  0.0  0.0  0.0  0.0  0.0  0.0  0.0  ...  0.0   \n668    3.710938e-02  1.0  0.0  0.0  0.0  0.0  0.0  0.0  0.0  0.0  ...  0.0   \n670    1.000977e-02  0.0  0.0  0.0  0.0  0.0  0.0  0.0  0.0  0.0  ...  0.0   \n692    0.000000e+00  0.0  0.0  0.0  0.0  0.0  0.0  0.0  0.0  0.0  ...  0.0   \n1067   0.000000e+00  0.0  0.0  0.0  0.0  0.0  0.0  0.0  0.0  0.0  ...  0.0   \n1140   2.441406e-03  0.0  0.0  0.0  0.0  0.0  0.0  0.0  0.0  0.0  ...  0.0   \n1509   0.000000e+00  0.0  0.0  0.0  0.0  0.0  0.0  0.0  0.0  0.0  ...  0.0   \n1692   9.765621e-03  0.0  0.0  0.0  0.0  0.0  0.0  0.0  0.0  0.0  ...  0.0   \n1805   3.749680e-09  0.0  0.0  0.0  0.0  0.0  0.0  0.0  0.0  0.0  ...  0.0   \n1824  -4.523088e-09  0.0  0.0  0.0  0.0  0.0  0.0  0.0  0.0  0.0  ...  0.0   \n2164  -7.734648e-10  0.0  0.0  0.0  0.0  0.0  0.0  0.0  0.0  0.0  ...  0.0   \n3778   0.000000e+00  0.0  1.0  0.0  0.0  0.0  0.0  0.0  0.0  0.0  ...  0.0   \n4837   3.974609e-01  0.0  0.0  0.0  0.0  0.0  0.0  1.0  0.0  0.0  ...  0.0   \n5299   1.723633e-01  0.0  0.0  0.0  0.0  0.0  0.0  0.0  0.0  0.0  ...  0.0   \n6653   0.000000e+00  0.0  0.0  0.0  0.0  0.0  0.0  0.0  0.0  1.0  ...  0.0   \n7935   1.387939e-01  0.0  0.0  0.0  0.0  0.0  0.0  0.0  0.0  0.0  ...  0.0   \n10061  5.155640e-01  0.0  0.0  0.0  1.0  0.0  0.0  0.0  0.0  0.0  ...  0.0   \n12686  4.370117e-02  0.0  0.0  0.0  0.0  0.0  0.0  0.0  0.0  0.0  ...  0.0   \n\n        35   36   37   38             TimeHour           TimeHour2  \\\n550    0.0  0.0  0.0  1.0  2018-01-25 14:00:00 2018-01-25 14:00:00   \n668    0.0  0.0  0.0  1.0  2018-01-31 00:00:00 2018-01-31 00:00:00   \n670    0.0  0.0  0.0  1.0  2018-01-31 14:00:00 2018-01-31 14:00:00   \n692    0.0  0.0  0.0  1.0  2018-02-05 16:00:00 2018-02-05 16:00:00   \n1067   0.0  0.0  0.0  1.0  2018-02-23 09:00:00 2018-02-23 09:00:00   \n1140   0.0  0.0  0.0  1.0  2018-02-28 13:00:00 2018-02-28 13:00:00   \n1509   0.0  0.0  0.0  1.0  2018-04-05 20:00:00 2018-04-05 20:00:00   \n1692   0.0  0.0  0.0  1.0  2018-04-13 16:00:00 2018-04-13 16:00:00   \n1805   0.0  0.0  0.0  1.0  2018-04-18 17:00:00 2018-04-18 17:00:00   \n1824   0.0  0.0  0.0  1.0  2018-04-20 12:00:00 2018-04-20 12:00:00   \n2164   0.0  0.0  0.0  1.0  2018-05-04 18:00:00 2018-05-04 18:00:00   \n3778   0.0  0.0  0.0  1.0  2018-07-11 01:00:00 2018-07-11 01:00:00   \n4837   0.0  0.0  0.0  1.0  2018-08-24 06:00:00 2018-08-24 06:00:00   \n5299   0.0  0.0  0.0  1.0  2018-09-12 15:00:00 2018-09-12 15:00:00   \n6653   1.0  0.0  0.0  1.0  2018-11-08 08:00:00 2018-11-08 08:00:00   \n7935   0.0  0.0  1.0  1.0  2019-01-01 12:00:00 2019-01-01 12:00:00   \n10061  0.0  0.0  0.0  1.0  2019-03-31 03:00:00 2019-03-31 03:00:00   \n12686  0.0  0.0  0.0  1.0  2019-07-18 13:00:00 2019-07-18 13:00:00   \n\n                   Diff               Before  diff_hours  \n550     1 days 04:00:00  2018-01-24 10:00:00        28.0  \n668     0 days 13:00:00  2018-01-30 11:00:00        13.0  \n670     0 days 13:00:00  2018-01-31 01:00:00        13.0  \n692     4 days 05:00:00  2018-02-01 11:00:00       101.0  \n1067    2 days 03:00:00  2018-02-21 06:00:00        51.0  \n1140    0 days 04:00:00  2018-02-28 09:00:00         4.0  \n1509   20 days 23:00:00  2018-03-15 21:00:00       503.0  \n1692    0 days 06:00:00  2018-04-13 10:00:00         6.0  \n1805    0 days 09:00:00  2018-04-18 08:00:00         9.0  \n1824    1 days 01:00:00  2018-04-19 11:00:00        25.0  \n2164    0 days 03:00:00  2018-05-04 15:00:00         3.0  \n3778    0 days 02:00:00  2018-07-10 23:00:00         2.0  \n4837    0 days 03:00:00  2018-08-24 03:00:00         3.0  \n5299    0 days 04:00:00  2018-09-12 11:00:00         4.0  \n6653    0 days 08:00:00  2018-11-08 00:00:00         8.0  \n7935    0 days 19:00:00  2018-12-31 17:00:00        19.0  \n10061   0 days 02:00:00  2019-03-31 01:00:00         2.0  \n12686   0 days 02:00:00  2019-07-18 11:00:00         2.0  \n\n[18 rows x 44 columns]",
      "text/html": "<div>\n<style scoped>\n    .dataframe tbody tr th:only-of-type {\n        vertical-align: middle;\n    }\n\n    .dataframe tbody tr th {\n        vertical-align: top;\n    }\n\n    .dataframe thead th {\n        text-align: right;\n    }\n</style>\n<table border=\"1\" class=\"dataframe\">\n  <thead>\n    <tr style=\"text-align: right;\">\n      <th></th>\n      <th>0</th>\n      <th>1</th>\n      <th>2</th>\n      <th>3</th>\n      <th>4</th>\n      <th>5</th>\n      <th>6</th>\n      <th>7</th>\n      <th>8</th>\n      <th>9</th>\n      <th>...</th>\n      <th>34</th>\n      <th>35</th>\n      <th>36</th>\n      <th>37</th>\n      <th>38</th>\n      <th>TimeHour</th>\n      <th>TimeHour2</th>\n      <th>Diff</th>\n      <th>Before</th>\n      <th>diff_hours</th>\n    </tr>\n  </thead>\n  <tbody>\n    <tr>\n      <th>550</th>\n      <td>3.715820e-01</td>\n      <td>0.0</td>\n      <td>0.0</td>\n      <td>0.0</td>\n      <td>0.0</td>\n      <td>0.0</td>\n      <td>0.0</td>\n      <td>0.0</td>\n      <td>0.0</td>\n      <td>0.0</td>\n      <td>...</td>\n      <td>0.0</td>\n      <td>0.0</td>\n      <td>0.0</td>\n      <td>0.0</td>\n      <td>1.0</td>\n      <td>2018-01-25 14:00:00</td>\n      <td>2018-01-25 14:00:00</td>\n      <td>1 days 04:00:00</td>\n      <td>2018-01-24 10:00:00</td>\n      <td>28.0</td>\n    </tr>\n    <tr>\n      <th>668</th>\n      <td>3.710938e-02</td>\n      <td>1.0</td>\n      <td>0.0</td>\n      <td>0.0</td>\n      <td>0.0</td>\n      <td>0.0</td>\n      <td>0.0</td>\n      <td>0.0</td>\n      <td>0.0</td>\n      <td>0.0</td>\n      <td>...</td>\n      <td>0.0</td>\n      <td>0.0</td>\n      <td>0.0</td>\n      <td>0.0</td>\n      <td>1.0</td>\n      <td>2018-01-31 00:00:00</td>\n      <td>2018-01-31 00:00:00</td>\n      <td>0 days 13:00:00</td>\n      <td>2018-01-30 11:00:00</td>\n      <td>13.0</td>\n    </tr>\n    <tr>\n      <th>670</th>\n      <td>1.000977e-02</td>\n      <td>0.0</td>\n      <td>0.0</td>\n      <td>0.0</td>\n      <td>0.0</td>\n      <td>0.0</td>\n      <td>0.0</td>\n      <td>0.0</td>\n      <td>0.0</td>\n      <td>0.0</td>\n      <td>...</td>\n      <td>0.0</td>\n      <td>0.0</td>\n      <td>0.0</td>\n      <td>0.0</td>\n      <td>1.0</td>\n      <td>2018-01-31 14:00:00</td>\n      <td>2018-01-31 14:00:00</td>\n      <td>0 days 13:00:00</td>\n      <td>2018-01-31 01:00:00</td>\n      <td>13.0</td>\n    </tr>\n    <tr>\n      <th>692</th>\n      <td>0.000000e+00</td>\n      <td>0.0</td>\n      <td>0.0</td>\n      <td>0.0</td>\n      <td>0.0</td>\n      <td>0.0</td>\n      <td>0.0</td>\n      <td>0.0</td>\n      <td>0.0</td>\n      <td>0.0</td>\n      <td>...</td>\n      <td>0.0</td>\n      <td>0.0</td>\n      <td>0.0</td>\n      <td>0.0</td>\n      <td>1.0</td>\n      <td>2018-02-05 16:00:00</td>\n      <td>2018-02-05 16:00:00</td>\n      <td>4 days 05:00:00</td>\n      <td>2018-02-01 11:00:00</td>\n      <td>101.0</td>\n    </tr>\n    <tr>\n      <th>1067</th>\n      <td>0.000000e+00</td>\n      <td>0.0</td>\n      <td>0.0</td>\n      <td>0.0</td>\n      <td>0.0</td>\n      <td>0.0</td>\n      <td>0.0</td>\n      <td>0.0</td>\n      <td>0.0</td>\n      <td>0.0</td>\n      <td>...</td>\n      <td>0.0</td>\n      <td>0.0</td>\n      <td>0.0</td>\n      <td>0.0</td>\n      <td>1.0</td>\n      <td>2018-02-23 09:00:00</td>\n      <td>2018-02-23 09:00:00</td>\n      <td>2 days 03:00:00</td>\n      <td>2018-02-21 06:00:00</td>\n      <td>51.0</td>\n    </tr>\n    <tr>\n      <th>1140</th>\n      <td>2.441406e-03</td>\n      <td>0.0</td>\n      <td>0.0</td>\n      <td>0.0</td>\n      <td>0.0</td>\n      <td>0.0</td>\n      <td>0.0</td>\n      <td>0.0</td>\n      <td>0.0</td>\n      <td>0.0</td>\n      <td>...</td>\n      <td>0.0</td>\n      <td>0.0</td>\n      <td>0.0</td>\n      <td>0.0</td>\n      <td>1.0</td>\n      <td>2018-02-28 13:00:00</td>\n      <td>2018-02-28 13:00:00</td>\n      <td>0 days 04:00:00</td>\n      <td>2018-02-28 09:00:00</td>\n      <td>4.0</td>\n    </tr>\n    <tr>\n      <th>1509</th>\n      <td>0.000000e+00</td>\n      <td>0.0</td>\n      <td>0.0</td>\n      <td>0.0</td>\n      <td>0.0</td>\n      <td>0.0</td>\n      <td>0.0</td>\n      <td>0.0</td>\n      <td>0.0</td>\n      <td>0.0</td>\n      <td>...</td>\n      <td>0.0</td>\n      <td>0.0</td>\n      <td>0.0</td>\n      <td>0.0</td>\n      <td>1.0</td>\n      <td>2018-04-05 20:00:00</td>\n      <td>2018-04-05 20:00:00</td>\n      <td>20 days 23:00:00</td>\n      <td>2018-03-15 21:00:00</td>\n      <td>503.0</td>\n    </tr>\n    <tr>\n      <th>1692</th>\n      <td>9.765621e-03</td>\n      <td>0.0</td>\n      <td>0.0</td>\n      <td>0.0</td>\n      <td>0.0</td>\n      <td>0.0</td>\n      <td>0.0</td>\n      <td>0.0</td>\n      <td>0.0</td>\n      <td>0.0</td>\n      <td>...</td>\n      <td>0.0</td>\n      <td>0.0</td>\n      <td>0.0</td>\n      <td>0.0</td>\n      <td>1.0</td>\n      <td>2018-04-13 16:00:00</td>\n      <td>2018-04-13 16:00:00</td>\n      <td>0 days 06:00:00</td>\n      <td>2018-04-13 10:00:00</td>\n      <td>6.0</td>\n    </tr>\n    <tr>\n      <th>1805</th>\n      <td>3.749680e-09</td>\n      <td>0.0</td>\n      <td>0.0</td>\n      <td>0.0</td>\n      <td>0.0</td>\n      <td>0.0</td>\n      <td>0.0</td>\n      <td>0.0</td>\n      <td>0.0</td>\n      <td>0.0</td>\n      <td>...</td>\n      <td>0.0</td>\n      <td>0.0</td>\n      <td>0.0</td>\n      <td>0.0</td>\n      <td>1.0</td>\n      <td>2018-04-18 17:00:00</td>\n      <td>2018-04-18 17:00:00</td>\n      <td>0 days 09:00:00</td>\n      <td>2018-04-18 08:00:00</td>\n      <td>9.0</td>\n    </tr>\n    <tr>\n      <th>1824</th>\n      <td>-4.523088e-09</td>\n      <td>0.0</td>\n      <td>0.0</td>\n      <td>0.0</td>\n      <td>0.0</td>\n      <td>0.0</td>\n      <td>0.0</td>\n      <td>0.0</td>\n      <td>0.0</td>\n      <td>0.0</td>\n      <td>...</td>\n      <td>0.0</td>\n      <td>0.0</td>\n      <td>0.0</td>\n      <td>0.0</td>\n      <td>1.0</td>\n      <td>2018-04-20 12:00:00</td>\n      <td>2018-04-20 12:00:00</td>\n      <td>1 days 01:00:00</td>\n      <td>2018-04-19 11:00:00</td>\n      <td>25.0</td>\n    </tr>\n    <tr>\n      <th>2164</th>\n      <td>-7.734648e-10</td>\n      <td>0.0</td>\n      <td>0.0</td>\n      <td>0.0</td>\n      <td>0.0</td>\n      <td>0.0</td>\n      <td>0.0</td>\n      <td>0.0</td>\n      <td>0.0</td>\n      <td>0.0</td>\n      <td>...</td>\n      <td>0.0</td>\n      <td>0.0</td>\n      <td>0.0</td>\n      <td>0.0</td>\n      <td>1.0</td>\n      <td>2018-05-04 18:00:00</td>\n      <td>2018-05-04 18:00:00</td>\n      <td>0 days 03:00:00</td>\n      <td>2018-05-04 15:00:00</td>\n      <td>3.0</td>\n    </tr>\n    <tr>\n      <th>3778</th>\n      <td>0.000000e+00</td>\n      <td>0.0</td>\n      <td>1.0</td>\n      <td>0.0</td>\n      <td>0.0</td>\n      <td>0.0</td>\n      <td>0.0</td>\n      <td>0.0</td>\n      <td>0.0</td>\n      <td>0.0</td>\n      <td>...</td>\n      <td>0.0</td>\n      <td>0.0</td>\n      <td>0.0</td>\n      <td>0.0</td>\n      <td>1.0</td>\n      <td>2018-07-11 01:00:00</td>\n      <td>2018-07-11 01:00:00</td>\n      <td>0 days 02:00:00</td>\n      <td>2018-07-10 23:00:00</td>\n      <td>2.0</td>\n    </tr>\n    <tr>\n      <th>4837</th>\n      <td>3.974609e-01</td>\n      <td>0.0</td>\n      <td>0.0</td>\n      <td>0.0</td>\n      <td>0.0</td>\n      <td>0.0</td>\n      <td>0.0</td>\n      <td>1.0</td>\n      <td>0.0</td>\n      <td>0.0</td>\n      <td>...</td>\n      <td>0.0</td>\n      <td>0.0</td>\n      <td>0.0</td>\n      <td>0.0</td>\n      <td>1.0</td>\n      <td>2018-08-24 06:00:00</td>\n      <td>2018-08-24 06:00:00</td>\n      <td>0 days 03:00:00</td>\n      <td>2018-08-24 03:00:00</td>\n      <td>3.0</td>\n    </tr>\n    <tr>\n      <th>5299</th>\n      <td>1.723633e-01</td>\n      <td>0.0</td>\n      <td>0.0</td>\n      <td>0.0</td>\n      <td>0.0</td>\n      <td>0.0</td>\n      <td>0.0</td>\n      <td>0.0</td>\n      <td>0.0</td>\n      <td>0.0</td>\n      <td>...</td>\n      <td>0.0</td>\n      <td>0.0</td>\n      <td>0.0</td>\n      <td>0.0</td>\n      <td>1.0</td>\n      <td>2018-09-12 15:00:00</td>\n      <td>2018-09-12 15:00:00</td>\n      <td>0 days 04:00:00</td>\n      <td>2018-09-12 11:00:00</td>\n      <td>4.0</td>\n    </tr>\n    <tr>\n      <th>6653</th>\n      <td>0.000000e+00</td>\n      <td>0.0</td>\n      <td>0.0</td>\n      <td>0.0</td>\n      <td>0.0</td>\n      <td>0.0</td>\n      <td>0.0</td>\n      <td>0.0</td>\n      <td>0.0</td>\n      <td>1.0</td>\n      <td>...</td>\n      <td>0.0</td>\n      <td>1.0</td>\n      <td>0.0</td>\n      <td>0.0</td>\n      <td>1.0</td>\n      <td>2018-11-08 08:00:00</td>\n      <td>2018-11-08 08:00:00</td>\n      <td>0 days 08:00:00</td>\n      <td>2018-11-08 00:00:00</td>\n      <td>8.0</td>\n    </tr>\n    <tr>\n      <th>7935</th>\n      <td>1.387939e-01</td>\n      <td>0.0</td>\n      <td>0.0</td>\n      <td>0.0</td>\n      <td>0.0</td>\n      <td>0.0</td>\n      <td>0.0</td>\n      <td>0.0</td>\n      <td>0.0</td>\n      <td>0.0</td>\n      <td>...</td>\n      <td>0.0</td>\n      <td>0.0</td>\n      <td>0.0</td>\n      <td>1.0</td>\n      <td>1.0</td>\n      <td>2019-01-01 12:00:00</td>\n      <td>2019-01-01 12:00:00</td>\n      <td>0 days 19:00:00</td>\n      <td>2018-12-31 17:00:00</td>\n      <td>19.0</td>\n    </tr>\n    <tr>\n      <th>10061</th>\n      <td>5.155640e-01</td>\n      <td>0.0</td>\n      <td>0.0</td>\n      <td>0.0</td>\n      <td>1.0</td>\n      <td>0.0</td>\n      <td>0.0</td>\n      <td>0.0</td>\n      <td>0.0</td>\n      <td>0.0</td>\n      <td>...</td>\n      <td>0.0</td>\n      <td>0.0</td>\n      <td>0.0</td>\n      <td>0.0</td>\n      <td>1.0</td>\n      <td>2019-03-31 03:00:00</td>\n      <td>2019-03-31 03:00:00</td>\n      <td>0 days 02:00:00</td>\n      <td>2019-03-31 01:00:00</td>\n      <td>2.0</td>\n    </tr>\n    <tr>\n      <th>12686</th>\n      <td>4.370117e-02</td>\n      <td>0.0</td>\n      <td>0.0</td>\n      <td>0.0</td>\n      <td>0.0</td>\n      <td>0.0</td>\n      <td>0.0</td>\n      <td>0.0</td>\n      <td>0.0</td>\n      <td>0.0</td>\n      <td>...</td>\n      <td>0.0</td>\n      <td>0.0</td>\n      <td>0.0</td>\n      <td>0.0</td>\n      <td>1.0</td>\n      <td>2019-07-18 13:00:00</td>\n      <td>2019-07-18 13:00:00</td>\n      <td>0 days 02:00:00</td>\n      <td>2019-07-18 11:00:00</td>\n      <td>2.0</td>\n    </tr>\n  </tbody>\n</table>\n<p>18 rows × 44 columns</p>\n</div>"
     },
     "execution_count": 34,
     "metadata": {},
     "output_type": "execute_result"
    }
   ],
   "source": [
    "df_test[df_test['diff_hours']>1]"
   ],
   "metadata": {
    "collapsed": false,
    "pycharm": {
     "name": "#%%\n"
    }
   }
  },
  {
   "cell_type": "code",
   "execution_count": 35,
   "outputs": [
    {
     "data": {
      "text/plain": "            0    1    2    3    4    5    6    7    8    9  ...   34   35  \\\n650  0.284955  0.0  0.0  0.0  0.0  0.0  0.0  0.0  0.0  0.0  ...  0.0  0.0   \n651  0.081055  0.0  0.0  0.0  0.0  0.0  0.0  0.0  0.0  0.0  ...  0.0  0.0   \n652  0.003906  0.0  0.0  0.0  0.0  0.0  0.0  0.0  0.0  0.0  ...  0.0  0.0   \n653  0.000000  0.0  0.0  0.0  0.0  0.0  0.0  0.0  0.0  0.0  ...  0.0  0.0   \n654  0.000000  0.0  0.0  0.0  0.0  0.0  0.0  0.0  0.0  0.0  ...  0.0  0.0   \n670  0.010010  0.0  0.0  0.0  0.0  0.0  0.0  0.0  0.0  0.0  ...  0.0  0.0   \n\n      36   37   38             TimeHour           TimeHour2             Diff  \\\n650  0.0  0.0  1.0  2018-01-29 18:00:00 2018-01-29 18:00:00  0 days 01:00:00   \n651  0.0  0.0  1.0  2018-01-29 19:00:00 2018-01-29 19:00:00  0 days 01:00:00   \n652  0.0  0.0  1.0  2018-01-29 20:00:00 2018-01-29 20:00:00  0 days 01:00:00   \n653  0.0  0.0  1.0  2018-01-29 21:00:00 2018-01-29 21:00:00  0 days 01:00:00   \n654  0.0  0.0  1.0  2018-01-29 22:00:00 2018-01-29 22:00:00  0 days 01:00:00   \n670  0.0  0.0  1.0  2018-01-31 14:00:00 2018-01-31 14:00:00  0 days 13:00:00   \n\n                  Before  diff_hours  \n650  2018-01-29 17:00:00         1.0  \n651  2018-01-29 18:00:00         1.0  \n652  2018-01-29 19:00:00         1.0  \n653  2018-01-29 20:00:00         1.0  \n654  2018-01-29 21:00:00         1.0  \n670  2018-01-31 01:00:00        13.0  \n\n[6 rows x 44 columns]",
      "text/html": "<div>\n<style scoped>\n    .dataframe tbody tr th:only-of-type {\n        vertical-align: middle;\n    }\n\n    .dataframe tbody tr th {\n        vertical-align: top;\n    }\n\n    .dataframe thead th {\n        text-align: right;\n    }\n</style>\n<table border=\"1\" class=\"dataframe\">\n  <thead>\n    <tr style=\"text-align: right;\">\n      <th></th>\n      <th>0</th>\n      <th>1</th>\n      <th>2</th>\n      <th>3</th>\n      <th>4</th>\n      <th>5</th>\n      <th>6</th>\n      <th>7</th>\n      <th>8</th>\n      <th>9</th>\n      <th>...</th>\n      <th>34</th>\n      <th>35</th>\n      <th>36</th>\n      <th>37</th>\n      <th>38</th>\n      <th>TimeHour</th>\n      <th>TimeHour2</th>\n      <th>Diff</th>\n      <th>Before</th>\n      <th>diff_hours</th>\n    </tr>\n  </thead>\n  <tbody>\n    <tr>\n      <th>650</th>\n      <td>0.284955</td>\n      <td>0.0</td>\n      <td>0.0</td>\n      <td>0.0</td>\n      <td>0.0</td>\n      <td>0.0</td>\n      <td>0.0</td>\n      <td>0.0</td>\n      <td>0.0</td>\n      <td>0.0</td>\n      <td>...</td>\n      <td>0.0</td>\n      <td>0.0</td>\n      <td>0.0</td>\n      <td>0.0</td>\n      <td>1.0</td>\n      <td>2018-01-29 18:00:00</td>\n      <td>2018-01-29 18:00:00</td>\n      <td>0 days 01:00:00</td>\n      <td>2018-01-29 17:00:00</td>\n      <td>1.0</td>\n    </tr>\n    <tr>\n      <th>651</th>\n      <td>0.081055</td>\n      <td>0.0</td>\n      <td>0.0</td>\n      <td>0.0</td>\n      <td>0.0</td>\n      <td>0.0</td>\n      <td>0.0</td>\n      <td>0.0</td>\n      <td>0.0</td>\n      <td>0.0</td>\n      <td>...</td>\n      <td>0.0</td>\n      <td>0.0</td>\n      <td>0.0</td>\n      <td>0.0</td>\n      <td>1.0</td>\n      <td>2018-01-29 19:00:00</td>\n      <td>2018-01-29 19:00:00</td>\n      <td>0 days 01:00:00</td>\n      <td>2018-01-29 18:00:00</td>\n      <td>1.0</td>\n    </tr>\n    <tr>\n      <th>652</th>\n      <td>0.003906</td>\n      <td>0.0</td>\n      <td>0.0</td>\n      <td>0.0</td>\n      <td>0.0</td>\n      <td>0.0</td>\n      <td>0.0</td>\n      <td>0.0</td>\n      <td>0.0</td>\n      <td>0.0</td>\n      <td>...</td>\n      <td>0.0</td>\n      <td>0.0</td>\n      <td>0.0</td>\n      <td>0.0</td>\n      <td>1.0</td>\n      <td>2018-01-29 20:00:00</td>\n      <td>2018-01-29 20:00:00</td>\n      <td>0 days 01:00:00</td>\n      <td>2018-01-29 19:00:00</td>\n      <td>1.0</td>\n    </tr>\n    <tr>\n      <th>653</th>\n      <td>0.000000</td>\n      <td>0.0</td>\n      <td>0.0</td>\n      <td>0.0</td>\n      <td>0.0</td>\n      <td>0.0</td>\n      <td>0.0</td>\n      <td>0.0</td>\n      <td>0.0</td>\n      <td>0.0</td>\n      <td>...</td>\n      <td>0.0</td>\n      <td>0.0</td>\n      <td>0.0</td>\n      <td>0.0</td>\n      <td>1.0</td>\n      <td>2018-01-29 21:00:00</td>\n      <td>2018-01-29 21:00:00</td>\n      <td>0 days 01:00:00</td>\n      <td>2018-01-29 20:00:00</td>\n      <td>1.0</td>\n    </tr>\n    <tr>\n      <th>654</th>\n      <td>0.000000</td>\n      <td>0.0</td>\n      <td>0.0</td>\n      <td>0.0</td>\n      <td>0.0</td>\n      <td>0.0</td>\n      <td>0.0</td>\n      <td>0.0</td>\n      <td>0.0</td>\n      <td>0.0</td>\n      <td>...</td>\n      <td>0.0</td>\n      <td>0.0</td>\n      <td>0.0</td>\n      <td>0.0</td>\n      <td>1.0</td>\n      <td>2018-01-29 22:00:00</td>\n      <td>2018-01-29 22:00:00</td>\n      <td>0 days 01:00:00</td>\n      <td>2018-01-29 21:00:00</td>\n      <td>1.0</td>\n    </tr>\n    <tr>\n      <th>670</th>\n      <td>0.010010</td>\n      <td>0.0</td>\n      <td>0.0</td>\n      <td>0.0</td>\n      <td>0.0</td>\n      <td>0.0</td>\n      <td>0.0</td>\n      <td>0.0</td>\n      <td>0.0</td>\n      <td>0.0</td>\n      <td>...</td>\n      <td>0.0</td>\n      <td>0.0</td>\n      <td>0.0</td>\n      <td>0.0</td>\n      <td>1.0</td>\n      <td>2018-01-31 14:00:00</td>\n      <td>2018-01-31 14:00:00</td>\n      <td>0 days 13:00:00</td>\n      <td>2018-01-31 01:00:00</td>\n      <td>13.0</td>\n    </tr>\n  </tbody>\n</table>\n<p>6 rows × 44 columns</p>\n</div>"
     },
     "execution_count": 35,
     "metadata": {},
     "output_type": "execute_result"
    }
   ],
   "source": [
    "df_error= df_test[650:671]\n",
    "df_error=df_error.drop([655,656,657,658,659,660,661,662,663,664,665,666,667,668,669])\n",
    "df_error"
   ],
   "metadata": {
    "collapsed": false,
    "pycharm": {
     "name": "#%%\n"
    }
   }
  },
  {
   "cell_type": "code",
   "execution_count": 36,
   "outputs": [
    {
     "data": {
      "text/plain": "              0    1    2    3    4    5    6    7    8    9  ...   34   35  \\\n0      0.006699  0.0  0.0  0.0  0.0  0.0  0.0  0.0  0.0  0.0  ...  0.0  0.0   \n1      0.004883  0.0  0.0  0.0  0.0  0.0  0.0  0.0  0.0  0.0  ...  0.0  0.0   \n2      0.000977  0.0  0.0  0.0  0.0  0.0  0.0  0.0  0.0  0.0  ...  0.0  0.0   \n3      0.027060  0.0  0.0  0.0  0.0  0.0  0.0  0.0  0.0  0.0  ...  0.0  0.0   \n4      0.446828  0.0  0.0  0.0  0.0  0.0  0.0  0.0  0.0  0.0  ...  0.0  0.0   \n...         ...  ...  ...  ...  ...  ...  ...  ...  ...  ...  ...  ...  ...   \n13589  0.000000  0.0  0.0  0.0  0.0  0.0  0.0  0.0  0.0  0.0  ...  0.0  0.0   \n13590  0.000000  0.0  0.0  0.0  0.0  0.0  0.0  0.0  0.0  0.0  ...  0.0  0.0   \n13591  0.000000  0.0  0.0  0.0  0.0  0.0  0.0  0.0  0.0  0.0  ...  0.0  0.0   \n13592  0.000000  0.0  0.0  0.0  0.0  0.0  0.0  0.0  0.0  0.0  ...  0.0  0.0   \n13593  0.000000  0.0  0.0  0.0  0.0  0.0  0.0  0.0  0.0  0.0  ...  0.0  0.0   \n\n        36   37   38             TimeHour           TimeHour2  \\\n0      0.0  1.0  1.0  2018-01-01 13:00:00 2018-01-01 13:00:00   \n1      0.0  1.0  1.0  2018-01-01 14:00:00 2018-01-01 14:00:00   \n2      0.0  1.0  1.0  2018-01-01 15:00:00 2018-01-01 15:00:00   \n3      0.0  1.0  1.0  2018-01-01 16:00:00 2018-01-01 16:00:00   \n4      0.0  1.0  1.0  2018-01-01 17:00:00 2018-01-01 17:00:00   \n...    ...  ...  ...                  ...                 ...   \n13589  0.0  0.0  1.0  2019-08-25 19:00:00 2019-08-25 19:00:00   \n13590  0.0  0.0  1.0                  NaN                 NaT   \n13591  0.0  0.0  1.0                  NaN                 NaT   \n13592  0.0  0.0  1.0                  NaN                 NaT   \n13593  0.0  0.0  1.0                  NaN                 NaT   \n\n                  Diff               Before  diff_hours  \n0      0 days 01:00:00  2018-01-01 12:00:00         1.0  \n1      0 days 01:00:00  2018-01-01 13:00:00         1.0  \n2      0 days 01:00:00  2018-01-01 14:00:00         1.0  \n3      0 days 01:00:00  2018-01-01 15:00:00         1.0  \n4      0 days 01:00:00  2018-01-01 16:00:00         1.0  \n...                ...                  ...         ...  \n13589  0 days 01:00:00  2019-08-25 18:00:00         1.0  \n13590              NaT  2019-08-25 19:00:00         NaN  \n13591              NaT                  NaT         NaN  \n13592              NaT                  NaT         NaN  \n13593              NaT                  NaT         NaN  \n\n[13594 rows x 44 columns]",
      "text/html": "<div>\n<style scoped>\n    .dataframe tbody tr th:only-of-type {\n        vertical-align: middle;\n    }\n\n    .dataframe tbody tr th {\n        vertical-align: top;\n    }\n\n    .dataframe thead th {\n        text-align: right;\n    }\n</style>\n<table border=\"1\" class=\"dataframe\">\n  <thead>\n    <tr style=\"text-align: right;\">\n      <th></th>\n      <th>0</th>\n      <th>1</th>\n      <th>2</th>\n      <th>3</th>\n      <th>4</th>\n      <th>5</th>\n      <th>6</th>\n      <th>7</th>\n      <th>8</th>\n      <th>9</th>\n      <th>...</th>\n      <th>34</th>\n      <th>35</th>\n      <th>36</th>\n      <th>37</th>\n      <th>38</th>\n      <th>TimeHour</th>\n      <th>TimeHour2</th>\n      <th>Diff</th>\n      <th>Before</th>\n      <th>diff_hours</th>\n    </tr>\n  </thead>\n  <tbody>\n    <tr>\n      <th>0</th>\n      <td>0.006699</td>\n      <td>0.0</td>\n      <td>0.0</td>\n      <td>0.0</td>\n      <td>0.0</td>\n      <td>0.0</td>\n      <td>0.0</td>\n      <td>0.0</td>\n      <td>0.0</td>\n      <td>0.0</td>\n      <td>...</td>\n      <td>0.0</td>\n      <td>0.0</td>\n      <td>0.0</td>\n      <td>1.0</td>\n      <td>1.0</td>\n      <td>2018-01-01 13:00:00</td>\n      <td>2018-01-01 13:00:00</td>\n      <td>0 days 01:00:00</td>\n      <td>2018-01-01 12:00:00</td>\n      <td>1.0</td>\n    </tr>\n    <tr>\n      <th>1</th>\n      <td>0.004883</td>\n      <td>0.0</td>\n      <td>0.0</td>\n      <td>0.0</td>\n      <td>0.0</td>\n      <td>0.0</td>\n      <td>0.0</td>\n      <td>0.0</td>\n      <td>0.0</td>\n      <td>0.0</td>\n      <td>...</td>\n      <td>0.0</td>\n      <td>0.0</td>\n      <td>0.0</td>\n      <td>1.0</td>\n      <td>1.0</td>\n      <td>2018-01-01 14:00:00</td>\n      <td>2018-01-01 14:00:00</td>\n      <td>0 days 01:00:00</td>\n      <td>2018-01-01 13:00:00</td>\n      <td>1.0</td>\n    </tr>\n    <tr>\n      <th>2</th>\n      <td>0.000977</td>\n      <td>0.0</td>\n      <td>0.0</td>\n      <td>0.0</td>\n      <td>0.0</td>\n      <td>0.0</td>\n      <td>0.0</td>\n      <td>0.0</td>\n      <td>0.0</td>\n      <td>0.0</td>\n      <td>...</td>\n      <td>0.0</td>\n      <td>0.0</td>\n      <td>0.0</td>\n      <td>1.0</td>\n      <td>1.0</td>\n      <td>2018-01-01 15:00:00</td>\n      <td>2018-01-01 15:00:00</td>\n      <td>0 days 01:00:00</td>\n      <td>2018-01-01 14:00:00</td>\n      <td>1.0</td>\n    </tr>\n    <tr>\n      <th>3</th>\n      <td>0.027060</td>\n      <td>0.0</td>\n      <td>0.0</td>\n      <td>0.0</td>\n      <td>0.0</td>\n      <td>0.0</td>\n      <td>0.0</td>\n      <td>0.0</td>\n      <td>0.0</td>\n      <td>0.0</td>\n      <td>...</td>\n      <td>0.0</td>\n      <td>0.0</td>\n      <td>0.0</td>\n      <td>1.0</td>\n      <td>1.0</td>\n      <td>2018-01-01 16:00:00</td>\n      <td>2018-01-01 16:00:00</td>\n      <td>0 days 01:00:00</td>\n      <td>2018-01-01 15:00:00</td>\n      <td>1.0</td>\n    </tr>\n    <tr>\n      <th>4</th>\n      <td>0.446828</td>\n      <td>0.0</td>\n      <td>0.0</td>\n      <td>0.0</td>\n      <td>0.0</td>\n      <td>0.0</td>\n      <td>0.0</td>\n      <td>0.0</td>\n      <td>0.0</td>\n      <td>0.0</td>\n      <td>...</td>\n      <td>0.0</td>\n      <td>0.0</td>\n      <td>0.0</td>\n      <td>1.0</td>\n      <td>1.0</td>\n      <td>2018-01-01 17:00:00</td>\n      <td>2018-01-01 17:00:00</td>\n      <td>0 days 01:00:00</td>\n      <td>2018-01-01 16:00:00</td>\n      <td>1.0</td>\n    </tr>\n    <tr>\n      <th>...</th>\n      <td>...</td>\n      <td>...</td>\n      <td>...</td>\n      <td>...</td>\n      <td>...</td>\n      <td>...</td>\n      <td>...</td>\n      <td>...</td>\n      <td>...</td>\n      <td>...</td>\n      <td>...</td>\n      <td>...</td>\n      <td>...</td>\n      <td>...</td>\n      <td>...</td>\n      <td>...</td>\n      <td>...</td>\n      <td>...</td>\n      <td>...</td>\n      <td>...</td>\n      <td>...</td>\n    </tr>\n    <tr>\n      <th>13589</th>\n      <td>0.000000</td>\n      <td>0.0</td>\n      <td>0.0</td>\n      <td>0.0</td>\n      <td>0.0</td>\n      <td>0.0</td>\n      <td>0.0</td>\n      <td>0.0</td>\n      <td>0.0</td>\n      <td>0.0</td>\n      <td>...</td>\n      <td>0.0</td>\n      <td>0.0</td>\n      <td>0.0</td>\n      <td>0.0</td>\n      <td>1.0</td>\n      <td>2019-08-25 19:00:00</td>\n      <td>2019-08-25 19:00:00</td>\n      <td>0 days 01:00:00</td>\n      <td>2019-08-25 18:00:00</td>\n      <td>1.0</td>\n    </tr>\n    <tr>\n      <th>13590</th>\n      <td>0.000000</td>\n      <td>0.0</td>\n      <td>0.0</td>\n      <td>0.0</td>\n      <td>0.0</td>\n      <td>0.0</td>\n      <td>0.0</td>\n      <td>0.0</td>\n      <td>0.0</td>\n      <td>0.0</td>\n      <td>...</td>\n      <td>0.0</td>\n      <td>0.0</td>\n      <td>0.0</td>\n      <td>0.0</td>\n      <td>1.0</td>\n      <td>NaN</td>\n      <td>NaT</td>\n      <td>NaT</td>\n      <td>2019-08-25 19:00:00</td>\n      <td>NaN</td>\n    </tr>\n    <tr>\n      <th>13591</th>\n      <td>0.000000</td>\n      <td>0.0</td>\n      <td>0.0</td>\n      <td>0.0</td>\n      <td>0.0</td>\n      <td>0.0</td>\n      <td>0.0</td>\n      <td>0.0</td>\n      <td>0.0</td>\n      <td>0.0</td>\n      <td>...</td>\n      <td>0.0</td>\n      <td>0.0</td>\n      <td>0.0</td>\n      <td>0.0</td>\n      <td>1.0</td>\n      <td>NaN</td>\n      <td>NaT</td>\n      <td>NaT</td>\n      <td>NaT</td>\n      <td>NaN</td>\n    </tr>\n    <tr>\n      <th>13592</th>\n      <td>0.000000</td>\n      <td>0.0</td>\n      <td>0.0</td>\n      <td>0.0</td>\n      <td>0.0</td>\n      <td>0.0</td>\n      <td>0.0</td>\n      <td>0.0</td>\n      <td>0.0</td>\n      <td>0.0</td>\n      <td>...</td>\n      <td>0.0</td>\n      <td>0.0</td>\n      <td>0.0</td>\n      <td>0.0</td>\n      <td>1.0</td>\n      <td>NaN</td>\n      <td>NaT</td>\n      <td>NaT</td>\n      <td>NaT</td>\n      <td>NaN</td>\n    </tr>\n    <tr>\n      <th>13593</th>\n      <td>0.000000</td>\n      <td>0.0</td>\n      <td>0.0</td>\n      <td>0.0</td>\n      <td>0.0</td>\n      <td>0.0</td>\n      <td>0.0</td>\n      <td>0.0</td>\n      <td>0.0</td>\n      <td>0.0</td>\n      <td>...</td>\n      <td>0.0</td>\n      <td>0.0</td>\n      <td>0.0</td>\n      <td>0.0</td>\n      <td>1.0</td>\n      <td>NaN</td>\n      <td>NaT</td>\n      <td>NaT</td>\n      <td>NaT</td>\n      <td>NaN</td>\n    </tr>\n  </tbody>\n</table>\n<p>13594 rows × 44 columns</p>\n</div>"
     },
     "execution_count": 36,
     "metadata": {},
     "output_type": "execute_result"
    }
   ],
   "source": [
    "df_test = df_test.drop([655,656,657,658,659,660,661,662,663,664,665,666,667,668,669])\n",
    "df_test = df_test.reset_index()\n",
    "df_test = df_test.drop(columns=[\"index\"])\n",
    "df_test"
   ],
   "metadata": {
    "collapsed": false,
    "pycharm": {
     "name": "#%%\n"
    }
   }
  },
  {
   "cell_type": "code",
   "execution_count": 37,
   "outputs": [
    {
     "data": {
      "text/plain": "                  0    1    2    3    4    5    6    7    8    9  ...   34  \\\n550    3.715820e-01  0.0  0.0  0.0  0.0  0.0  0.0  0.0  0.0  0.0  ...  0.0   \n655    1.000977e-02  0.0  0.0  0.0  0.0  0.0  0.0  0.0  0.0  0.0  ...  0.0   \n677    0.000000e+00  0.0  0.0  0.0  0.0  0.0  0.0  0.0  0.0  0.0  ...  0.0   \n1052   0.000000e+00  0.0  0.0  0.0  0.0  0.0  0.0  0.0  0.0  0.0  ...  0.0   \n1125   2.441406e-03  0.0  0.0  0.0  0.0  0.0  0.0  0.0  0.0  0.0  ...  0.0   \n1494   0.000000e+00  0.0  0.0  0.0  0.0  0.0  0.0  0.0  0.0  0.0  ...  0.0   \n1677   9.765621e-03  0.0  0.0  0.0  0.0  0.0  0.0  0.0  0.0  0.0  ...  0.0   \n1790   3.749680e-09  0.0  0.0  0.0  0.0  0.0  0.0  0.0  0.0  0.0  ...  0.0   \n1809  -4.523088e-09  0.0  0.0  0.0  0.0  0.0  0.0  0.0  0.0  0.0  ...  0.0   \n2149  -7.734648e-10  0.0  0.0  0.0  0.0  0.0  0.0  0.0  0.0  0.0  ...  0.0   \n3763   0.000000e+00  0.0  1.0  0.0  0.0  0.0  0.0  0.0  0.0  0.0  ...  0.0   \n4822   3.974609e-01  0.0  0.0  0.0  0.0  0.0  0.0  1.0  0.0  0.0  ...  0.0   \n5284   1.723633e-01  0.0  0.0  0.0  0.0  0.0  0.0  0.0  0.0  0.0  ...  0.0   \n6638   0.000000e+00  0.0  0.0  0.0  0.0  0.0  0.0  0.0  0.0  1.0  ...  0.0   \n7920   1.387939e-01  0.0  0.0  0.0  0.0  0.0  0.0  0.0  0.0  0.0  ...  0.0   \n10046  5.155640e-01  0.0  0.0  0.0  1.0  0.0  0.0  0.0  0.0  0.0  ...  0.0   \n12671  4.370117e-02  0.0  0.0  0.0  0.0  0.0  0.0  0.0  0.0  0.0  ...  0.0   \n\n        35   36   37   38             TimeHour           TimeHour2  \\\n550    0.0  0.0  0.0  1.0  2018-01-25 14:00:00 2018-01-25 14:00:00   \n655    0.0  0.0  0.0  1.0  2018-01-31 14:00:00 2018-01-31 14:00:00   \n677    0.0  0.0  0.0  1.0  2018-02-05 16:00:00 2018-02-05 16:00:00   \n1052   0.0  0.0  0.0  1.0  2018-02-23 09:00:00 2018-02-23 09:00:00   \n1125   0.0  0.0  0.0  1.0  2018-02-28 13:00:00 2018-02-28 13:00:00   \n1494   0.0  0.0  0.0  1.0  2018-04-05 20:00:00 2018-04-05 20:00:00   \n1677   0.0  0.0  0.0  1.0  2018-04-13 16:00:00 2018-04-13 16:00:00   \n1790   0.0  0.0  0.0  1.0  2018-04-18 17:00:00 2018-04-18 17:00:00   \n1809   0.0  0.0  0.0  1.0  2018-04-20 12:00:00 2018-04-20 12:00:00   \n2149   0.0  0.0  0.0  1.0  2018-05-04 18:00:00 2018-05-04 18:00:00   \n3763   0.0  0.0  0.0  1.0  2018-07-11 01:00:00 2018-07-11 01:00:00   \n4822   0.0  0.0  0.0  1.0  2018-08-24 06:00:00 2018-08-24 06:00:00   \n5284   0.0  0.0  0.0  1.0  2018-09-12 15:00:00 2018-09-12 15:00:00   \n6638   1.0  0.0  0.0  1.0  2018-11-08 08:00:00 2018-11-08 08:00:00   \n7920   0.0  0.0  1.0  1.0  2019-01-01 12:00:00 2019-01-01 12:00:00   \n10046  0.0  0.0  0.0  1.0  2019-03-31 03:00:00 2019-03-31 03:00:00   \n12671  0.0  0.0  0.0  1.0  2019-07-18 13:00:00 2019-07-18 13:00:00   \n\n                   Diff               Before  diff_hours  \n550     1 days 04:00:00  2018-01-24 10:00:00        28.0  \n655     0 days 13:00:00  2018-01-31 01:00:00        13.0  \n677     4 days 05:00:00  2018-02-01 11:00:00       101.0  \n1052    2 days 03:00:00  2018-02-21 06:00:00        51.0  \n1125    0 days 04:00:00  2018-02-28 09:00:00         4.0  \n1494   20 days 23:00:00  2018-03-15 21:00:00       503.0  \n1677    0 days 06:00:00  2018-04-13 10:00:00         6.0  \n1790    0 days 09:00:00  2018-04-18 08:00:00         9.0  \n1809    1 days 01:00:00  2018-04-19 11:00:00        25.0  \n2149    0 days 03:00:00  2018-05-04 15:00:00         3.0  \n3763    0 days 02:00:00  2018-07-10 23:00:00         2.0  \n4822    0 days 03:00:00  2018-08-24 03:00:00         3.0  \n5284    0 days 04:00:00  2018-09-12 11:00:00         4.0  \n6638    0 days 08:00:00  2018-11-08 00:00:00         8.0  \n7920    0 days 19:00:00  2018-12-31 17:00:00        19.0  \n10046   0 days 02:00:00  2019-03-31 01:00:00         2.0  \n12671   0 days 02:00:00  2019-07-18 11:00:00         2.0  \n\n[17 rows x 44 columns]",
      "text/html": "<div>\n<style scoped>\n    .dataframe tbody tr th:only-of-type {\n        vertical-align: middle;\n    }\n\n    .dataframe tbody tr th {\n        vertical-align: top;\n    }\n\n    .dataframe thead th {\n        text-align: right;\n    }\n</style>\n<table border=\"1\" class=\"dataframe\">\n  <thead>\n    <tr style=\"text-align: right;\">\n      <th></th>\n      <th>0</th>\n      <th>1</th>\n      <th>2</th>\n      <th>3</th>\n      <th>4</th>\n      <th>5</th>\n      <th>6</th>\n      <th>7</th>\n      <th>8</th>\n      <th>9</th>\n      <th>...</th>\n      <th>34</th>\n      <th>35</th>\n      <th>36</th>\n      <th>37</th>\n      <th>38</th>\n      <th>TimeHour</th>\n      <th>TimeHour2</th>\n      <th>Diff</th>\n      <th>Before</th>\n      <th>diff_hours</th>\n    </tr>\n  </thead>\n  <tbody>\n    <tr>\n      <th>550</th>\n      <td>3.715820e-01</td>\n      <td>0.0</td>\n      <td>0.0</td>\n      <td>0.0</td>\n      <td>0.0</td>\n      <td>0.0</td>\n      <td>0.0</td>\n      <td>0.0</td>\n      <td>0.0</td>\n      <td>0.0</td>\n      <td>...</td>\n      <td>0.0</td>\n      <td>0.0</td>\n      <td>0.0</td>\n      <td>0.0</td>\n      <td>1.0</td>\n      <td>2018-01-25 14:00:00</td>\n      <td>2018-01-25 14:00:00</td>\n      <td>1 days 04:00:00</td>\n      <td>2018-01-24 10:00:00</td>\n      <td>28.0</td>\n    </tr>\n    <tr>\n      <th>655</th>\n      <td>1.000977e-02</td>\n      <td>0.0</td>\n      <td>0.0</td>\n      <td>0.0</td>\n      <td>0.0</td>\n      <td>0.0</td>\n      <td>0.0</td>\n      <td>0.0</td>\n      <td>0.0</td>\n      <td>0.0</td>\n      <td>...</td>\n      <td>0.0</td>\n      <td>0.0</td>\n      <td>0.0</td>\n      <td>0.0</td>\n      <td>1.0</td>\n      <td>2018-01-31 14:00:00</td>\n      <td>2018-01-31 14:00:00</td>\n      <td>0 days 13:00:00</td>\n      <td>2018-01-31 01:00:00</td>\n      <td>13.0</td>\n    </tr>\n    <tr>\n      <th>677</th>\n      <td>0.000000e+00</td>\n      <td>0.0</td>\n      <td>0.0</td>\n      <td>0.0</td>\n      <td>0.0</td>\n      <td>0.0</td>\n      <td>0.0</td>\n      <td>0.0</td>\n      <td>0.0</td>\n      <td>0.0</td>\n      <td>...</td>\n      <td>0.0</td>\n      <td>0.0</td>\n      <td>0.0</td>\n      <td>0.0</td>\n      <td>1.0</td>\n      <td>2018-02-05 16:00:00</td>\n      <td>2018-02-05 16:00:00</td>\n      <td>4 days 05:00:00</td>\n      <td>2018-02-01 11:00:00</td>\n      <td>101.0</td>\n    </tr>\n    <tr>\n      <th>1052</th>\n      <td>0.000000e+00</td>\n      <td>0.0</td>\n      <td>0.0</td>\n      <td>0.0</td>\n      <td>0.0</td>\n      <td>0.0</td>\n      <td>0.0</td>\n      <td>0.0</td>\n      <td>0.0</td>\n      <td>0.0</td>\n      <td>...</td>\n      <td>0.0</td>\n      <td>0.0</td>\n      <td>0.0</td>\n      <td>0.0</td>\n      <td>1.0</td>\n      <td>2018-02-23 09:00:00</td>\n      <td>2018-02-23 09:00:00</td>\n      <td>2 days 03:00:00</td>\n      <td>2018-02-21 06:00:00</td>\n      <td>51.0</td>\n    </tr>\n    <tr>\n      <th>1125</th>\n      <td>2.441406e-03</td>\n      <td>0.0</td>\n      <td>0.0</td>\n      <td>0.0</td>\n      <td>0.0</td>\n      <td>0.0</td>\n      <td>0.0</td>\n      <td>0.0</td>\n      <td>0.0</td>\n      <td>0.0</td>\n      <td>...</td>\n      <td>0.0</td>\n      <td>0.0</td>\n      <td>0.0</td>\n      <td>0.0</td>\n      <td>1.0</td>\n      <td>2018-02-28 13:00:00</td>\n      <td>2018-02-28 13:00:00</td>\n      <td>0 days 04:00:00</td>\n      <td>2018-02-28 09:00:00</td>\n      <td>4.0</td>\n    </tr>\n    <tr>\n      <th>1494</th>\n      <td>0.000000e+00</td>\n      <td>0.0</td>\n      <td>0.0</td>\n      <td>0.0</td>\n      <td>0.0</td>\n      <td>0.0</td>\n      <td>0.0</td>\n      <td>0.0</td>\n      <td>0.0</td>\n      <td>0.0</td>\n      <td>...</td>\n      <td>0.0</td>\n      <td>0.0</td>\n      <td>0.0</td>\n      <td>0.0</td>\n      <td>1.0</td>\n      <td>2018-04-05 20:00:00</td>\n      <td>2018-04-05 20:00:00</td>\n      <td>20 days 23:00:00</td>\n      <td>2018-03-15 21:00:00</td>\n      <td>503.0</td>\n    </tr>\n    <tr>\n      <th>1677</th>\n      <td>9.765621e-03</td>\n      <td>0.0</td>\n      <td>0.0</td>\n      <td>0.0</td>\n      <td>0.0</td>\n      <td>0.0</td>\n      <td>0.0</td>\n      <td>0.0</td>\n      <td>0.0</td>\n      <td>0.0</td>\n      <td>...</td>\n      <td>0.0</td>\n      <td>0.0</td>\n      <td>0.0</td>\n      <td>0.0</td>\n      <td>1.0</td>\n      <td>2018-04-13 16:00:00</td>\n      <td>2018-04-13 16:00:00</td>\n      <td>0 days 06:00:00</td>\n      <td>2018-04-13 10:00:00</td>\n      <td>6.0</td>\n    </tr>\n    <tr>\n      <th>1790</th>\n      <td>3.749680e-09</td>\n      <td>0.0</td>\n      <td>0.0</td>\n      <td>0.0</td>\n      <td>0.0</td>\n      <td>0.0</td>\n      <td>0.0</td>\n      <td>0.0</td>\n      <td>0.0</td>\n      <td>0.0</td>\n      <td>...</td>\n      <td>0.0</td>\n      <td>0.0</td>\n      <td>0.0</td>\n      <td>0.0</td>\n      <td>1.0</td>\n      <td>2018-04-18 17:00:00</td>\n      <td>2018-04-18 17:00:00</td>\n      <td>0 days 09:00:00</td>\n      <td>2018-04-18 08:00:00</td>\n      <td>9.0</td>\n    </tr>\n    <tr>\n      <th>1809</th>\n      <td>-4.523088e-09</td>\n      <td>0.0</td>\n      <td>0.0</td>\n      <td>0.0</td>\n      <td>0.0</td>\n      <td>0.0</td>\n      <td>0.0</td>\n      <td>0.0</td>\n      <td>0.0</td>\n      <td>0.0</td>\n      <td>...</td>\n      <td>0.0</td>\n      <td>0.0</td>\n      <td>0.0</td>\n      <td>0.0</td>\n      <td>1.0</td>\n      <td>2018-04-20 12:00:00</td>\n      <td>2018-04-20 12:00:00</td>\n      <td>1 days 01:00:00</td>\n      <td>2018-04-19 11:00:00</td>\n      <td>25.0</td>\n    </tr>\n    <tr>\n      <th>2149</th>\n      <td>-7.734648e-10</td>\n      <td>0.0</td>\n      <td>0.0</td>\n      <td>0.0</td>\n      <td>0.0</td>\n      <td>0.0</td>\n      <td>0.0</td>\n      <td>0.0</td>\n      <td>0.0</td>\n      <td>0.0</td>\n      <td>...</td>\n      <td>0.0</td>\n      <td>0.0</td>\n      <td>0.0</td>\n      <td>0.0</td>\n      <td>1.0</td>\n      <td>2018-05-04 18:00:00</td>\n      <td>2018-05-04 18:00:00</td>\n      <td>0 days 03:00:00</td>\n      <td>2018-05-04 15:00:00</td>\n      <td>3.0</td>\n    </tr>\n    <tr>\n      <th>3763</th>\n      <td>0.000000e+00</td>\n      <td>0.0</td>\n      <td>1.0</td>\n      <td>0.0</td>\n      <td>0.0</td>\n      <td>0.0</td>\n      <td>0.0</td>\n      <td>0.0</td>\n      <td>0.0</td>\n      <td>0.0</td>\n      <td>...</td>\n      <td>0.0</td>\n      <td>0.0</td>\n      <td>0.0</td>\n      <td>0.0</td>\n      <td>1.0</td>\n      <td>2018-07-11 01:00:00</td>\n      <td>2018-07-11 01:00:00</td>\n      <td>0 days 02:00:00</td>\n      <td>2018-07-10 23:00:00</td>\n      <td>2.0</td>\n    </tr>\n    <tr>\n      <th>4822</th>\n      <td>3.974609e-01</td>\n      <td>0.0</td>\n      <td>0.0</td>\n      <td>0.0</td>\n      <td>0.0</td>\n      <td>0.0</td>\n      <td>0.0</td>\n      <td>1.0</td>\n      <td>0.0</td>\n      <td>0.0</td>\n      <td>...</td>\n      <td>0.0</td>\n      <td>0.0</td>\n      <td>0.0</td>\n      <td>0.0</td>\n      <td>1.0</td>\n      <td>2018-08-24 06:00:00</td>\n      <td>2018-08-24 06:00:00</td>\n      <td>0 days 03:00:00</td>\n      <td>2018-08-24 03:00:00</td>\n      <td>3.0</td>\n    </tr>\n    <tr>\n      <th>5284</th>\n      <td>1.723633e-01</td>\n      <td>0.0</td>\n      <td>0.0</td>\n      <td>0.0</td>\n      <td>0.0</td>\n      <td>0.0</td>\n      <td>0.0</td>\n      <td>0.0</td>\n      <td>0.0</td>\n      <td>0.0</td>\n      <td>...</td>\n      <td>0.0</td>\n      <td>0.0</td>\n      <td>0.0</td>\n      <td>0.0</td>\n      <td>1.0</td>\n      <td>2018-09-12 15:00:00</td>\n      <td>2018-09-12 15:00:00</td>\n      <td>0 days 04:00:00</td>\n      <td>2018-09-12 11:00:00</td>\n      <td>4.0</td>\n    </tr>\n    <tr>\n      <th>6638</th>\n      <td>0.000000e+00</td>\n      <td>0.0</td>\n      <td>0.0</td>\n      <td>0.0</td>\n      <td>0.0</td>\n      <td>0.0</td>\n      <td>0.0</td>\n      <td>0.0</td>\n      <td>0.0</td>\n      <td>1.0</td>\n      <td>...</td>\n      <td>0.0</td>\n      <td>1.0</td>\n      <td>0.0</td>\n      <td>0.0</td>\n      <td>1.0</td>\n      <td>2018-11-08 08:00:00</td>\n      <td>2018-11-08 08:00:00</td>\n      <td>0 days 08:00:00</td>\n      <td>2018-11-08 00:00:00</td>\n      <td>8.0</td>\n    </tr>\n    <tr>\n      <th>7920</th>\n      <td>1.387939e-01</td>\n      <td>0.0</td>\n      <td>0.0</td>\n      <td>0.0</td>\n      <td>0.0</td>\n      <td>0.0</td>\n      <td>0.0</td>\n      <td>0.0</td>\n      <td>0.0</td>\n      <td>0.0</td>\n      <td>...</td>\n      <td>0.0</td>\n      <td>0.0</td>\n      <td>0.0</td>\n      <td>1.0</td>\n      <td>1.0</td>\n      <td>2019-01-01 12:00:00</td>\n      <td>2019-01-01 12:00:00</td>\n      <td>0 days 19:00:00</td>\n      <td>2018-12-31 17:00:00</td>\n      <td>19.0</td>\n    </tr>\n    <tr>\n      <th>10046</th>\n      <td>5.155640e-01</td>\n      <td>0.0</td>\n      <td>0.0</td>\n      <td>0.0</td>\n      <td>1.0</td>\n      <td>0.0</td>\n      <td>0.0</td>\n      <td>0.0</td>\n      <td>0.0</td>\n      <td>0.0</td>\n      <td>...</td>\n      <td>0.0</td>\n      <td>0.0</td>\n      <td>0.0</td>\n      <td>0.0</td>\n      <td>1.0</td>\n      <td>2019-03-31 03:00:00</td>\n      <td>2019-03-31 03:00:00</td>\n      <td>0 days 02:00:00</td>\n      <td>2019-03-31 01:00:00</td>\n      <td>2.0</td>\n    </tr>\n    <tr>\n      <th>12671</th>\n      <td>4.370117e-02</td>\n      <td>0.0</td>\n      <td>0.0</td>\n      <td>0.0</td>\n      <td>0.0</td>\n      <td>0.0</td>\n      <td>0.0</td>\n      <td>0.0</td>\n      <td>0.0</td>\n      <td>0.0</td>\n      <td>...</td>\n      <td>0.0</td>\n      <td>0.0</td>\n      <td>0.0</td>\n      <td>0.0</td>\n      <td>1.0</td>\n      <td>2019-07-18 13:00:00</td>\n      <td>2019-07-18 13:00:00</td>\n      <td>0 days 02:00:00</td>\n      <td>2019-07-18 11:00:00</td>\n      <td>2.0</td>\n    </tr>\n  </tbody>\n</table>\n<p>17 rows × 44 columns</p>\n</div>"
     },
     "execution_count": 37,
     "metadata": {},
     "output_type": "execute_result"
    }
   ],
   "source": [
    "df_test[df_test['diff_hours']>1]"
   ],
   "metadata": {
    "collapsed": false,
    "pycharm": {
     "name": "#%%\n"
    }
   }
  },
  {
   "cell_type": "code",
   "execution_count": 38,
   "outputs": [
    {
     "data": {
      "text/plain": "            0    1    2    3    4    5    6    7    8    9  ...   34   35  \\\n640  0.168701  0.0  0.0  0.0  0.0  0.0  0.0  0.0  0.0  1.0  ...  0.0  0.0   \n656  0.263721  0.0  0.0  0.0  0.0  0.0  0.0  0.0  0.0  0.0  ...  0.0  0.0   \n657  2.194580  0.0  0.0  0.0  0.0  0.0  0.0  0.0  0.0  0.0  ...  0.0  0.0   \n658  0.023682  0.0  0.0  0.0  0.0  0.0  0.0  0.0  0.0  0.0  ...  0.0  0.0   \n659  0.115479  0.0  0.0  0.0  0.0  0.0  0.0  0.0  0.0  0.0  ...  0.0  0.0   \n\n      36   37   38             TimeHour           TimeHour2             Diff  \\\n640  0.0  0.0  1.0  2018-01-29 08:00:00 2018-01-29 08:00:00  0 days 01:00:00   \n656  0.0  0.0  1.0  2018-01-31 15:00:00 2018-01-31 15:00:00  0 days 01:00:00   \n657  0.0  0.0  1.0  2018-01-31 16:00:00 2018-01-31 16:00:00  0 days 01:00:00   \n658  0.0  0.0  1.0  2018-01-31 17:00:00 2018-01-31 17:00:00  0 days 01:00:00   \n659  0.0  0.0  1.0  2018-01-31 18:00:00 2018-01-31 18:00:00  0 days 01:00:00   \n\n                  Before  diff_hours  \n640  2018-01-29 07:00:00         1.0  \n656  2018-01-31 14:00:00         1.0  \n657  2018-01-31 15:00:00         1.0  \n658  2018-01-31 16:00:00         1.0  \n659  2018-01-31 17:00:00         1.0  \n\n[5 rows x 44 columns]",
      "text/html": "<div>\n<style scoped>\n    .dataframe tbody tr th:only-of-type {\n        vertical-align: middle;\n    }\n\n    .dataframe tbody tr th {\n        vertical-align: top;\n    }\n\n    .dataframe thead th {\n        text-align: right;\n    }\n</style>\n<table border=\"1\" class=\"dataframe\">\n  <thead>\n    <tr style=\"text-align: right;\">\n      <th></th>\n      <th>0</th>\n      <th>1</th>\n      <th>2</th>\n      <th>3</th>\n      <th>4</th>\n      <th>5</th>\n      <th>6</th>\n      <th>7</th>\n      <th>8</th>\n      <th>9</th>\n      <th>...</th>\n      <th>34</th>\n      <th>35</th>\n      <th>36</th>\n      <th>37</th>\n      <th>38</th>\n      <th>TimeHour</th>\n      <th>TimeHour2</th>\n      <th>Diff</th>\n      <th>Before</th>\n      <th>diff_hours</th>\n    </tr>\n  </thead>\n  <tbody>\n    <tr>\n      <th>640</th>\n      <td>0.168701</td>\n      <td>0.0</td>\n      <td>0.0</td>\n      <td>0.0</td>\n      <td>0.0</td>\n      <td>0.0</td>\n      <td>0.0</td>\n      <td>0.0</td>\n      <td>0.0</td>\n      <td>1.0</td>\n      <td>...</td>\n      <td>0.0</td>\n      <td>0.0</td>\n      <td>0.0</td>\n      <td>0.0</td>\n      <td>1.0</td>\n      <td>2018-01-29 08:00:00</td>\n      <td>2018-01-29 08:00:00</td>\n      <td>0 days 01:00:00</td>\n      <td>2018-01-29 07:00:00</td>\n      <td>1.0</td>\n    </tr>\n    <tr>\n      <th>656</th>\n      <td>0.263721</td>\n      <td>0.0</td>\n      <td>0.0</td>\n      <td>0.0</td>\n      <td>0.0</td>\n      <td>0.0</td>\n      <td>0.0</td>\n      <td>0.0</td>\n      <td>0.0</td>\n      <td>0.0</td>\n      <td>...</td>\n      <td>0.0</td>\n      <td>0.0</td>\n      <td>0.0</td>\n      <td>0.0</td>\n      <td>1.0</td>\n      <td>2018-01-31 15:00:00</td>\n      <td>2018-01-31 15:00:00</td>\n      <td>0 days 01:00:00</td>\n      <td>2018-01-31 14:00:00</td>\n      <td>1.0</td>\n    </tr>\n    <tr>\n      <th>657</th>\n      <td>2.194580</td>\n      <td>0.0</td>\n      <td>0.0</td>\n      <td>0.0</td>\n      <td>0.0</td>\n      <td>0.0</td>\n      <td>0.0</td>\n      <td>0.0</td>\n      <td>0.0</td>\n      <td>0.0</td>\n      <td>...</td>\n      <td>0.0</td>\n      <td>0.0</td>\n      <td>0.0</td>\n      <td>0.0</td>\n      <td>1.0</td>\n      <td>2018-01-31 16:00:00</td>\n      <td>2018-01-31 16:00:00</td>\n      <td>0 days 01:00:00</td>\n      <td>2018-01-31 15:00:00</td>\n      <td>1.0</td>\n    </tr>\n    <tr>\n      <th>658</th>\n      <td>0.023682</td>\n      <td>0.0</td>\n      <td>0.0</td>\n      <td>0.0</td>\n      <td>0.0</td>\n      <td>0.0</td>\n      <td>0.0</td>\n      <td>0.0</td>\n      <td>0.0</td>\n      <td>0.0</td>\n      <td>...</td>\n      <td>0.0</td>\n      <td>0.0</td>\n      <td>0.0</td>\n      <td>0.0</td>\n      <td>1.0</td>\n      <td>2018-01-31 17:00:00</td>\n      <td>2018-01-31 17:00:00</td>\n      <td>0 days 01:00:00</td>\n      <td>2018-01-31 16:00:00</td>\n      <td>1.0</td>\n    </tr>\n    <tr>\n      <th>659</th>\n      <td>0.115479</td>\n      <td>0.0</td>\n      <td>0.0</td>\n      <td>0.0</td>\n      <td>0.0</td>\n      <td>0.0</td>\n      <td>0.0</td>\n      <td>0.0</td>\n      <td>0.0</td>\n      <td>0.0</td>\n      <td>...</td>\n      <td>0.0</td>\n      <td>0.0</td>\n      <td>0.0</td>\n      <td>0.0</td>\n      <td>1.0</td>\n      <td>2018-01-31 18:00:00</td>\n      <td>2018-01-31 18:00:00</td>\n      <td>0 days 01:00:00</td>\n      <td>2018-01-31 17:00:00</td>\n      <td>1.0</td>\n    </tr>\n  </tbody>\n</table>\n<p>5 rows × 44 columns</p>\n</div>"
     },
     "execution_count": 38,
     "metadata": {},
     "output_type": "execute_result"
    }
   ],
   "source": [
    "df_error= df_test[640:660]\n",
    "df_error=df_error.drop([641,642,643,644,645,646,647,648,649,650,651,652,653,654,655])\n",
    "df_error"
   ],
   "metadata": {
    "collapsed": false,
    "pycharm": {
     "name": "#%%\n"
    }
   }
  },
  {
   "cell_type": "code",
   "execution_count": 39,
   "outputs": [
    {
     "data": {
      "text/plain": "              0    1    2    3    4    5    6    7    8    9  ...   34   35  \\\n0      0.006699  0.0  0.0  0.0  0.0  0.0  0.0  0.0  0.0  0.0  ...  0.0  0.0   \n1      0.004883  0.0  0.0  0.0  0.0  0.0  0.0  0.0  0.0  0.0  ...  0.0  0.0   \n2      0.000977  0.0  0.0  0.0  0.0  0.0  0.0  0.0  0.0  0.0  ...  0.0  0.0   \n3      0.027060  0.0  0.0  0.0  0.0  0.0  0.0  0.0  0.0  0.0  ...  0.0  0.0   \n4      0.446828  0.0  0.0  0.0  0.0  0.0  0.0  0.0  0.0  0.0  ...  0.0  0.0   \n...         ...  ...  ...  ...  ...  ...  ...  ...  ...  ...  ...  ...  ...   \n13574  0.000000  0.0  0.0  0.0  0.0  0.0  0.0  0.0  0.0  0.0  ...  0.0  0.0   \n13575  0.000000  0.0  0.0  0.0  0.0  0.0  0.0  0.0  0.0  0.0  ...  0.0  0.0   \n13576  0.000000  0.0  0.0  0.0  0.0  0.0  0.0  0.0  0.0  0.0  ...  0.0  0.0   \n13577  0.000000  0.0  0.0  0.0  0.0  0.0  0.0  0.0  0.0  0.0  ...  0.0  0.0   \n13578  0.000000  0.0  0.0  0.0  0.0  0.0  0.0  0.0  0.0  0.0  ...  0.0  0.0   \n\n        36   37   38             TimeHour           TimeHour2  \\\n0      0.0  1.0  1.0  2018-01-01 13:00:00 2018-01-01 13:00:00   \n1      0.0  1.0  1.0  2018-01-01 14:00:00 2018-01-01 14:00:00   \n2      0.0  1.0  1.0  2018-01-01 15:00:00 2018-01-01 15:00:00   \n3      0.0  1.0  1.0  2018-01-01 16:00:00 2018-01-01 16:00:00   \n4      0.0  1.0  1.0  2018-01-01 17:00:00 2018-01-01 17:00:00   \n...    ...  ...  ...                  ...                 ...   \n13574  0.0  0.0  1.0  2019-08-25 19:00:00 2019-08-25 19:00:00   \n13575  0.0  0.0  1.0                  NaN                 NaT   \n13576  0.0  0.0  1.0                  NaN                 NaT   \n13577  0.0  0.0  1.0                  NaN                 NaT   \n13578  0.0  0.0  1.0                  NaN                 NaT   \n\n                  Diff               Before  diff_hours  \n0      0 days 01:00:00  2018-01-01 12:00:00         1.0  \n1      0 days 01:00:00  2018-01-01 13:00:00         1.0  \n2      0 days 01:00:00  2018-01-01 14:00:00         1.0  \n3      0 days 01:00:00  2018-01-01 15:00:00         1.0  \n4      0 days 01:00:00  2018-01-01 16:00:00         1.0  \n...                ...                  ...         ...  \n13574  0 days 01:00:00  2019-08-25 18:00:00         1.0  \n13575              NaT  2019-08-25 19:00:00         NaN  \n13576              NaT                  NaT         NaN  \n13577              NaT                  NaT         NaN  \n13578              NaT                  NaT         NaN  \n\n[13579 rows x 44 columns]",
      "text/html": "<div>\n<style scoped>\n    .dataframe tbody tr th:only-of-type {\n        vertical-align: middle;\n    }\n\n    .dataframe tbody tr th {\n        vertical-align: top;\n    }\n\n    .dataframe thead th {\n        text-align: right;\n    }\n</style>\n<table border=\"1\" class=\"dataframe\">\n  <thead>\n    <tr style=\"text-align: right;\">\n      <th></th>\n      <th>0</th>\n      <th>1</th>\n      <th>2</th>\n      <th>3</th>\n      <th>4</th>\n      <th>5</th>\n      <th>6</th>\n      <th>7</th>\n      <th>8</th>\n      <th>9</th>\n      <th>...</th>\n      <th>34</th>\n      <th>35</th>\n      <th>36</th>\n      <th>37</th>\n      <th>38</th>\n      <th>TimeHour</th>\n      <th>TimeHour2</th>\n      <th>Diff</th>\n      <th>Before</th>\n      <th>diff_hours</th>\n    </tr>\n  </thead>\n  <tbody>\n    <tr>\n      <th>0</th>\n      <td>0.006699</td>\n      <td>0.0</td>\n      <td>0.0</td>\n      <td>0.0</td>\n      <td>0.0</td>\n      <td>0.0</td>\n      <td>0.0</td>\n      <td>0.0</td>\n      <td>0.0</td>\n      <td>0.0</td>\n      <td>...</td>\n      <td>0.0</td>\n      <td>0.0</td>\n      <td>0.0</td>\n      <td>1.0</td>\n      <td>1.0</td>\n      <td>2018-01-01 13:00:00</td>\n      <td>2018-01-01 13:00:00</td>\n      <td>0 days 01:00:00</td>\n      <td>2018-01-01 12:00:00</td>\n      <td>1.0</td>\n    </tr>\n    <tr>\n      <th>1</th>\n      <td>0.004883</td>\n      <td>0.0</td>\n      <td>0.0</td>\n      <td>0.0</td>\n      <td>0.0</td>\n      <td>0.0</td>\n      <td>0.0</td>\n      <td>0.0</td>\n      <td>0.0</td>\n      <td>0.0</td>\n      <td>...</td>\n      <td>0.0</td>\n      <td>0.0</td>\n      <td>0.0</td>\n      <td>1.0</td>\n      <td>1.0</td>\n      <td>2018-01-01 14:00:00</td>\n      <td>2018-01-01 14:00:00</td>\n      <td>0 days 01:00:00</td>\n      <td>2018-01-01 13:00:00</td>\n      <td>1.0</td>\n    </tr>\n    <tr>\n      <th>2</th>\n      <td>0.000977</td>\n      <td>0.0</td>\n      <td>0.0</td>\n      <td>0.0</td>\n      <td>0.0</td>\n      <td>0.0</td>\n      <td>0.0</td>\n      <td>0.0</td>\n      <td>0.0</td>\n      <td>0.0</td>\n      <td>...</td>\n      <td>0.0</td>\n      <td>0.0</td>\n      <td>0.0</td>\n      <td>1.0</td>\n      <td>1.0</td>\n      <td>2018-01-01 15:00:00</td>\n      <td>2018-01-01 15:00:00</td>\n      <td>0 days 01:00:00</td>\n      <td>2018-01-01 14:00:00</td>\n      <td>1.0</td>\n    </tr>\n    <tr>\n      <th>3</th>\n      <td>0.027060</td>\n      <td>0.0</td>\n      <td>0.0</td>\n      <td>0.0</td>\n      <td>0.0</td>\n      <td>0.0</td>\n      <td>0.0</td>\n      <td>0.0</td>\n      <td>0.0</td>\n      <td>0.0</td>\n      <td>...</td>\n      <td>0.0</td>\n      <td>0.0</td>\n      <td>0.0</td>\n      <td>1.0</td>\n      <td>1.0</td>\n      <td>2018-01-01 16:00:00</td>\n      <td>2018-01-01 16:00:00</td>\n      <td>0 days 01:00:00</td>\n      <td>2018-01-01 15:00:00</td>\n      <td>1.0</td>\n    </tr>\n    <tr>\n      <th>4</th>\n      <td>0.446828</td>\n      <td>0.0</td>\n      <td>0.0</td>\n      <td>0.0</td>\n      <td>0.0</td>\n      <td>0.0</td>\n      <td>0.0</td>\n      <td>0.0</td>\n      <td>0.0</td>\n      <td>0.0</td>\n      <td>...</td>\n      <td>0.0</td>\n      <td>0.0</td>\n      <td>0.0</td>\n      <td>1.0</td>\n      <td>1.0</td>\n      <td>2018-01-01 17:00:00</td>\n      <td>2018-01-01 17:00:00</td>\n      <td>0 days 01:00:00</td>\n      <td>2018-01-01 16:00:00</td>\n      <td>1.0</td>\n    </tr>\n    <tr>\n      <th>...</th>\n      <td>...</td>\n      <td>...</td>\n      <td>...</td>\n      <td>...</td>\n      <td>...</td>\n      <td>...</td>\n      <td>...</td>\n      <td>...</td>\n      <td>...</td>\n      <td>...</td>\n      <td>...</td>\n      <td>...</td>\n      <td>...</td>\n      <td>...</td>\n      <td>...</td>\n      <td>...</td>\n      <td>...</td>\n      <td>...</td>\n      <td>...</td>\n      <td>...</td>\n      <td>...</td>\n    </tr>\n    <tr>\n      <th>13574</th>\n      <td>0.000000</td>\n      <td>0.0</td>\n      <td>0.0</td>\n      <td>0.0</td>\n      <td>0.0</td>\n      <td>0.0</td>\n      <td>0.0</td>\n      <td>0.0</td>\n      <td>0.0</td>\n      <td>0.0</td>\n      <td>...</td>\n      <td>0.0</td>\n      <td>0.0</td>\n      <td>0.0</td>\n      <td>0.0</td>\n      <td>1.0</td>\n      <td>2019-08-25 19:00:00</td>\n      <td>2019-08-25 19:00:00</td>\n      <td>0 days 01:00:00</td>\n      <td>2019-08-25 18:00:00</td>\n      <td>1.0</td>\n    </tr>\n    <tr>\n      <th>13575</th>\n      <td>0.000000</td>\n      <td>0.0</td>\n      <td>0.0</td>\n      <td>0.0</td>\n      <td>0.0</td>\n      <td>0.0</td>\n      <td>0.0</td>\n      <td>0.0</td>\n      <td>0.0</td>\n      <td>0.0</td>\n      <td>...</td>\n      <td>0.0</td>\n      <td>0.0</td>\n      <td>0.0</td>\n      <td>0.0</td>\n      <td>1.0</td>\n      <td>NaN</td>\n      <td>NaT</td>\n      <td>NaT</td>\n      <td>2019-08-25 19:00:00</td>\n      <td>NaN</td>\n    </tr>\n    <tr>\n      <th>13576</th>\n      <td>0.000000</td>\n      <td>0.0</td>\n      <td>0.0</td>\n      <td>0.0</td>\n      <td>0.0</td>\n      <td>0.0</td>\n      <td>0.0</td>\n      <td>0.0</td>\n      <td>0.0</td>\n      <td>0.0</td>\n      <td>...</td>\n      <td>0.0</td>\n      <td>0.0</td>\n      <td>0.0</td>\n      <td>0.0</td>\n      <td>1.0</td>\n      <td>NaN</td>\n      <td>NaT</td>\n      <td>NaT</td>\n      <td>NaT</td>\n      <td>NaN</td>\n    </tr>\n    <tr>\n      <th>13577</th>\n      <td>0.000000</td>\n      <td>0.0</td>\n      <td>0.0</td>\n      <td>0.0</td>\n      <td>0.0</td>\n      <td>0.0</td>\n      <td>0.0</td>\n      <td>0.0</td>\n      <td>0.0</td>\n      <td>0.0</td>\n      <td>...</td>\n      <td>0.0</td>\n      <td>0.0</td>\n      <td>0.0</td>\n      <td>0.0</td>\n      <td>1.0</td>\n      <td>NaN</td>\n      <td>NaT</td>\n      <td>NaT</td>\n      <td>NaT</td>\n      <td>NaN</td>\n    </tr>\n    <tr>\n      <th>13578</th>\n      <td>0.000000</td>\n      <td>0.0</td>\n      <td>0.0</td>\n      <td>0.0</td>\n      <td>0.0</td>\n      <td>0.0</td>\n      <td>0.0</td>\n      <td>0.0</td>\n      <td>0.0</td>\n      <td>0.0</td>\n      <td>...</td>\n      <td>0.0</td>\n      <td>0.0</td>\n      <td>0.0</td>\n      <td>0.0</td>\n      <td>1.0</td>\n      <td>NaN</td>\n      <td>NaT</td>\n      <td>NaT</td>\n      <td>NaT</td>\n      <td>NaN</td>\n    </tr>\n  </tbody>\n</table>\n<p>13579 rows × 44 columns</p>\n</div>"
     },
     "execution_count": 39,
     "metadata": {},
     "output_type": "execute_result"
    }
   ],
   "source": [
    "df_test = df_test.drop([641,642,643,644,645,646,647,648,649,650,651,652,653,654,655])\n",
    "df_test = df_test.reset_index()\n",
    "df_test = df_test.drop(columns=[\"index\"])\n",
    "df_test"
   ],
   "metadata": {
    "collapsed": false,
    "pycharm": {
     "name": "#%%\n"
    }
   }
  },
  {
   "cell_type": "code",
   "execution_count": 40,
   "outputs": [
    {
     "data": {
      "text/plain": "                  0    1    2    3    4    5    6    7    8    9  ...   34  \\\n550    3.715820e-01  0.0  0.0  0.0  0.0  0.0  0.0  0.0  0.0  0.0  ...  0.0   \n662    0.000000e+00  0.0  0.0  0.0  0.0  0.0  0.0  0.0  0.0  0.0  ...  0.0   \n1037   0.000000e+00  0.0  0.0  0.0  0.0  0.0  0.0  0.0  0.0  0.0  ...  0.0   \n1110   2.441406e-03  0.0  0.0  0.0  0.0  0.0  0.0  0.0  0.0  0.0  ...  0.0   \n1479   0.000000e+00  0.0  0.0  0.0  0.0  0.0  0.0  0.0  0.0  0.0  ...  0.0   \n1662   9.765621e-03  0.0  0.0  0.0  0.0  0.0  0.0  0.0  0.0  0.0  ...  0.0   \n1775   3.749680e-09  0.0  0.0  0.0  0.0  0.0  0.0  0.0  0.0  0.0  ...  0.0   \n1794  -4.523088e-09  0.0  0.0  0.0  0.0  0.0  0.0  0.0  0.0  0.0  ...  0.0   \n2134  -7.734648e-10  0.0  0.0  0.0  0.0  0.0  0.0  0.0  0.0  0.0  ...  0.0   \n3748   0.000000e+00  0.0  1.0  0.0  0.0  0.0  0.0  0.0  0.0  0.0  ...  0.0   \n4807   3.974609e-01  0.0  0.0  0.0  0.0  0.0  0.0  1.0  0.0  0.0  ...  0.0   \n5269   1.723633e-01  0.0  0.0  0.0  0.0  0.0  0.0  0.0  0.0  0.0  ...  0.0   \n6623   0.000000e+00  0.0  0.0  0.0  0.0  0.0  0.0  0.0  0.0  1.0  ...  0.0   \n7905   1.387939e-01  0.0  0.0  0.0  0.0  0.0  0.0  0.0  0.0  0.0  ...  0.0   \n10031  5.155640e-01  0.0  0.0  0.0  1.0  0.0  0.0  0.0  0.0  0.0  ...  0.0   \n12656  4.370117e-02  0.0  0.0  0.0  0.0  0.0  0.0  0.0  0.0  0.0  ...  0.0   \n\n        35   36   37   38             TimeHour           TimeHour2  \\\n550    0.0  0.0  0.0  1.0  2018-01-25 14:00:00 2018-01-25 14:00:00   \n662    0.0  0.0  0.0  1.0  2018-02-05 16:00:00 2018-02-05 16:00:00   \n1037   0.0  0.0  0.0  1.0  2018-02-23 09:00:00 2018-02-23 09:00:00   \n1110   0.0  0.0  0.0  1.0  2018-02-28 13:00:00 2018-02-28 13:00:00   \n1479   0.0  0.0  0.0  1.0  2018-04-05 20:00:00 2018-04-05 20:00:00   \n1662   0.0  0.0  0.0  1.0  2018-04-13 16:00:00 2018-04-13 16:00:00   \n1775   0.0  0.0  0.0  1.0  2018-04-18 17:00:00 2018-04-18 17:00:00   \n1794   0.0  0.0  0.0  1.0  2018-04-20 12:00:00 2018-04-20 12:00:00   \n2134   0.0  0.0  0.0  1.0  2018-05-04 18:00:00 2018-05-04 18:00:00   \n3748   0.0  0.0  0.0  1.0  2018-07-11 01:00:00 2018-07-11 01:00:00   \n4807   0.0  0.0  0.0  1.0  2018-08-24 06:00:00 2018-08-24 06:00:00   \n5269   0.0  0.0  0.0  1.0  2018-09-12 15:00:00 2018-09-12 15:00:00   \n6623   1.0  0.0  0.0  1.0  2018-11-08 08:00:00 2018-11-08 08:00:00   \n7905   0.0  0.0  1.0  1.0  2019-01-01 12:00:00 2019-01-01 12:00:00   \n10031  0.0  0.0  0.0  1.0  2019-03-31 03:00:00 2019-03-31 03:00:00   \n12656  0.0  0.0  0.0  1.0  2019-07-18 13:00:00 2019-07-18 13:00:00   \n\n                   Diff               Before  diff_hours  \n550     1 days 04:00:00  2018-01-24 10:00:00        28.0  \n662     4 days 05:00:00  2018-02-01 11:00:00       101.0  \n1037    2 days 03:00:00  2018-02-21 06:00:00        51.0  \n1110    0 days 04:00:00  2018-02-28 09:00:00         4.0  \n1479   20 days 23:00:00  2018-03-15 21:00:00       503.0  \n1662    0 days 06:00:00  2018-04-13 10:00:00         6.0  \n1775    0 days 09:00:00  2018-04-18 08:00:00         9.0  \n1794    1 days 01:00:00  2018-04-19 11:00:00        25.0  \n2134    0 days 03:00:00  2018-05-04 15:00:00         3.0  \n3748    0 days 02:00:00  2018-07-10 23:00:00         2.0  \n4807    0 days 03:00:00  2018-08-24 03:00:00         3.0  \n5269    0 days 04:00:00  2018-09-12 11:00:00         4.0  \n6623    0 days 08:00:00  2018-11-08 00:00:00         8.0  \n7905    0 days 19:00:00  2018-12-31 17:00:00        19.0  \n10031   0 days 02:00:00  2019-03-31 01:00:00         2.0  \n12656   0 days 02:00:00  2019-07-18 11:00:00         2.0  \n\n[16 rows x 44 columns]",
      "text/html": "<div>\n<style scoped>\n    .dataframe tbody tr th:only-of-type {\n        vertical-align: middle;\n    }\n\n    .dataframe tbody tr th {\n        vertical-align: top;\n    }\n\n    .dataframe thead th {\n        text-align: right;\n    }\n</style>\n<table border=\"1\" class=\"dataframe\">\n  <thead>\n    <tr style=\"text-align: right;\">\n      <th></th>\n      <th>0</th>\n      <th>1</th>\n      <th>2</th>\n      <th>3</th>\n      <th>4</th>\n      <th>5</th>\n      <th>6</th>\n      <th>7</th>\n      <th>8</th>\n      <th>9</th>\n      <th>...</th>\n      <th>34</th>\n      <th>35</th>\n      <th>36</th>\n      <th>37</th>\n      <th>38</th>\n      <th>TimeHour</th>\n      <th>TimeHour2</th>\n      <th>Diff</th>\n      <th>Before</th>\n      <th>diff_hours</th>\n    </tr>\n  </thead>\n  <tbody>\n    <tr>\n      <th>550</th>\n      <td>3.715820e-01</td>\n      <td>0.0</td>\n      <td>0.0</td>\n      <td>0.0</td>\n      <td>0.0</td>\n      <td>0.0</td>\n      <td>0.0</td>\n      <td>0.0</td>\n      <td>0.0</td>\n      <td>0.0</td>\n      <td>...</td>\n      <td>0.0</td>\n      <td>0.0</td>\n      <td>0.0</td>\n      <td>0.0</td>\n      <td>1.0</td>\n      <td>2018-01-25 14:00:00</td>\n      <td>2018-01-25 14:00:00</td>\n      <td>1 days 04:00:00</td>\n      <td>2018-01-24 10:00:00</td>\n      <td>28.0</td>\n    </tr>\n    <tr>\n      <th>662</th>\n      <td>0.000000e+00</td>\n      <td>0.0</td>\n      <td>0.0</td>\n      <td>0.0</td>\n      <td>0.0</td>\n      <td>0.0</td>\n      <td>0.0</td>\n      <td>0.0</td>\n      <td>0.0</td>\n      <td>0.0</td>\n      <td>...</td>\n      <td>0.0</td>\n      <td>0.0</td>\n      <td>0.0</td>\n      <td>0.0</td>\n      <td>1.0</td>\n      <td>2018-02-05 16:00:00</td>\n      <td>2018-02-05 16:00:00</td>\n      <td>4 days 05:00:00</td>\n      <td>2018-02-01 11:00:00</td>\n      <td>101.0</td>\n    </tr>\n    <tr>\n      <th>1037</th>\n      <td>0.000000e+00</td>\n      <td>0.0</td>\n      <td>0.0</td>\n      <td>0.0</td>\n      <td>0.0</td>\n      <td>0.0</td>\n      <td>0.0</td>\n      <td>0.0</td>\n      <td>0.0</td>\n      <td>0.0</td>\n      <td>...</td>\n      <td>0.0</td>\n      <td>0.0</td>\n      <td>0.0</td>\n      <td>0.0</td>\n      <td>1.0</td>\n      <td>2018-02-23 09:00:00</td>\n      <td>2018-02-23 09:00:00</td>\n      <td>2 days 03:00:00</td>\n      <td>2018-02-21 06:00:00</td>\n      <td>51.0</td>\n    </tr>\n    <tr>\n      <th>1110</th>\n      <td>2.441406e-03</td>\n      <td>0.0</td>\n      <td>0.0</td>\n      <td>0.0</td>\n      <td>0.0</td>\n      <td>0.0</td>\n      <td>0.0</td>\n      <td>0.0</td>\n      <td>0.0</td>\n      <td>0.0</td>\n      <td>...</td>\n      <td>0.0</td>\n      <td>0.0</td>\n      <td>0.0</td>\n      <td>0.0</td>\n      <td>1.0</td>\n      <td>2018-02-28 13:00:00</td>\n      <td>2018-02-28 13:00:00</td>\n      <td>0 days 04:00:00</td>\n      <td>2018-02-28 09:00:00</td>\n      <td>4.0</td>\n    </tr>\n    <tr>\n      <th>1479</th>\n      <td>0.000000e+00</td>\n      <td>0.0</td>\n      <td>0.0</td>\n      <td>0.0</td>\n      <td>0.0</td>\n      <td>0.0</td>\n      <td>0.0</td>\n      <td>0.0</td>\n      <td>0.0</td>\n      <td>0.0</td>\n      <td>...</td>\n      <td>0.0</td>\n      <td>0.0</td>\n      <td>0.0</td>\n      <td>0.0</td>\n      <td>1.0</td>\n      <td>2018-04-05 20:00:00</td>\n      <td>2018-04-05 20:00:00</td>\n      <td>20 days 23:00:00</td>\n      <td>2018-03-15 21:00:00</td>\n      <td>503.0</td>\n    </tr>\n    <tr>\n      <th>1662</th>\n      <td>9.765621e-03</td>\n      <td>0.0</td>\n      <td>0.0</td>\n      <td>0.0</td>\n      <td>0.0</td>\n      <td>0.0</td>\n      <td>0.0</td>\n      <td>0.0</td>\n      <td>0.0</td>\n      <td>0.0</td>\n      <td>...</td>\n      <td>0.0</td>\n      <td>0.0</td>\n      <td>0.0</td>\n      <td>0.0</td>\n      <td>1.0</td>\n      <td>2018-04-13 16:00:00</td>\n      <td>2018-04-13 16:00:00</td>\n      <td>0 days 06:00:00</td>\n      <td>2018-04-13 10:00:00</td>\n      <td>6.0</td>\n    </tr>\n    <tr>\n      <th>1775</th>\n      <td>3.749680e-09</td>\n      <td>0.0</td>\n      <td>0.0</td>\n      <td>0.0</td>\n      <td>0.0</td>\n      <td>0.0</td>\n      <td>0.0</td>\n      <td>0.0</td>\n      <td>0.0</td>\n      <td>0.0</td>\n      <td>...</td>\n      <td>0.0</td>\n      <td>0.0</td>\n      <td>0.0</td>\n      <td>0.0</td>\n      <td>1.0</td>\n      <td>2018-04-18 17:00:00</td>\n      <td>2018-04-18 17:00:00</td>\n      <td>0 days 09:00:00</td>\n      <td>2018-04-18 08:00:00</td>\n      <td>9.0</td>\n    </tr>\n    <tr>\n      <th>1794</th>\n      <td>-4.523088e-09</td>\n      <td>0.0</td>\n      <td>0.0</td>\n      <td>0.0</td>\n      <td>0.0</td>\n      <td>0.0</td>\n      <td>0.0</td>\n      <td>0.0</td>\n      <td>0.0</td>\n      <td>0.0</td>\n      <td>...</td>\n      <td>0.0</td>\n      <td>0.0</td>\n      <td>0.0</td>\n      <td>0.0</td>\n      <td>1.0</td>\n      <td>2018-04-20 12:00:00</td>\n      <td>2018-04-20 12:00:00</td>\n      <td>1 days 01:00:00</td>\n      <td>2018-04-19 11:00:00</td>\n      <td>25.0</td>\n    </tr>\n    <tr>\n      <th>2134</th>\n      <td>-7.734648e-10</td>\n      <td>0.0</td>\n      <td>0.0</td>\n      <td>0.0</td>\n      <td>0.0</td>\n      <td>0.0</td>\n      <td>0.0</td>\n      <td>0.0</td>\n      <td>0.0</td>\n      <td>0.0</td>\n      <td>...</td>\n      <td>0.0</td>\n      <td>0.0</td>\n      <td>0.0</td>\n      <td>0.0</td>\n      <td>1.0</td>\n      <td>2018-05-04 18:00:00</td>\n      <td>2018-05-04 18:00:00</td>\n      <td>0 days 03:00:00</td>\n      <td>2018-05-04 15:00:00</td>\n      <td>3.0</td>\n    </tr>\n    <tr>\n      <th>3748</th>\n      <td>0.000000e+00</td>\n      <td>0.0</td>\n      <td>1.0</td>\n      <td>0.0</td>\n      <td>0.0</td>\n      <td>0.0</td>\n      <td>0.0</td>\n      <td>0.0</td>\n      <td>0.0</td>\n      <td>0.0</td>\n      <td>...</td>\n      <td>0.0</td>\n      <td>0.0</td>\n      <td>0.0</td>\n      <td>0.0</td>\n      <td>1.0</td>\n      <td>2018-07-11 01:00:00</td>\n      <td>2018-07-11 01:00:00</td>\n      <td>0 days 02:00:00</td>\n      <td>2018-07-10 23:00:00</td>\n      <td>2.0</td>\n    </tr>\n    <tr>\n      <th>4807</th>\n      <td>3.974609e-01</td>\n      <td>0.0</td>\n      <td>0.0</td>\n      <td>0.0</td>\n      <td>0.0</td>\n      <td>0.0</td>\n      <td>0.0</td>\n      <td>1.0</td>\n      <td>0.0</td>\n      <td>0.0</td>\n      <td>...</td>\n      <td>0.0</td>\n      <td>0.0</td>\n      <td>0.0</td>\n      <td>0.0</td>\n      <td>1.0</td>\n      <td>2018-08-24 06:00:00</td>\n      <td>2018-08-24 06:00:00</td>\n      <td>0 days 03:00:00</td>\n      <td>2018-08-24 03:00:00</td>\n      <td>3.0</td>\n    </tr>\n    <tr>\n      <th>5269</th>\n      <td>1.723633e-01</td>\n      <td>0.0</td>\n      <td>0.0</td>\n      <td>0.0</td>\n      <td>0.0</td>\n      <td>0.0</td>\n      <td>0.0</td>\n      <td>0.0</td>\n      <td>0.0</td>\n      <td>0.0</td>\n      <td>...</td>\n      <td>0.0</td>\n      <td>0.0</td>\n      <td>0.0</td>\n      <td>0.0</td>\n      <td>1.0</td>\n      <td>2018-09-12 15:00:00</td>\n      <td>2018-09-12 15:00:00</td>\n      <td>0 days 04:00:00</td>\n      <td>2018-09-12 11:00:00</td>\n      <td>4.0</td>\n    </tr>\n    <tr>\n      <th>6623</th>\n      <td>0.000000e+00</td>\n      <td>0.0</td>\n      <td>0.0</td>\n      <td>0.0</td>\n      <td>0.0</td>\n      <td>0.0</td>\n      <td>0.0</td>\n      <td>0.0</td>\n      <td>0.0</td>\n      <td>1.0</td>\n      <td>...</td>\n      <td>0.0</td>\n      <td>1.0</td>\n      <td>0.0</td>\n      <td>0.0</td>\n      <td>1.0</td>\n      <td>2018-11-08 08:00:00</td>\n      <td>2018-11-08 08:00:00</td>\n      <td>0 days 08:00:00</td>\n      <td>2018-11-08 00:00:00</td>\n      <td>8.0</td>\n    </tr>\n    <tr>\n      <th>7905</th>\n      <td>1.387939e-01</td>\n      <td>0.0</td>\n      <td>0.0</td>\n      <td>0.0</td>\n      <td>0.0</td>\n      <td>0.0</td>\n      <td>0.0</td>\n      <td>0.0</td>\n      <td>0.0</td>\n      <td>0.0</td>\n      <td>...</td>\n      <td>0.0</td>\n      <td>0.0</td>\n      <td>0.0</td>\n      <td>1.0</td>\n      <td>1.0</td>\n      <td>2019-01-01 12:00:00</td>\n      <td>2019-01-01 12:00:00</td>\n      <td>0 days 19:00:00</td>\n      <td>2018-12-31 17:00:00</td>\n      <td>19.0</td>\n    </tr>\n    <tr>\n      <th>10031</th>\n      <td>5.155640e-01</td>\n      <td>0.0</td>\n      <td>0.0</td>\n      <td>0.0</td>\n      <td>1.0</td>\n      <td>0.0</td>\n      <td>0.0</td>\n      <td>0.0</td>\n      <td>0.0</td>\n      <td>0.0</td>\n      <td>...</td>\n      <td>0.0</td>\n      <td>0.0</td>\n      <td>0.0</td>\n      <td>0.0</td>\n      <td>1.0</td>\n      <td>2019-03-31 03:00:00</td>\n      <td>2019-03-31 03:00:00</td>\n      <td>0 days 02:00:00</td>\n      <td>2019-03-31 01:00:00</td>\n      <td>2.0</td>\n    </tr>\n    <tr>\n      <th>12656</th>\n      <td>4.370117e-02</td>\n      <td>0.0</td>\n      <td>0.0</td>\n      <td>0.0</td>\n      <td>0.0</td>\n      <td>0.0</td>\n      <td>0.0</td>\n      <td>0.0</td>\n      <td>0.0</td>\n      <td>0.0</td>\n      <td>...</td>\n      <td>0.0</td>\n      <td>0.0</td>\n      <td>0.0</td>\n      <td>0.0</td>\n      <td>1.0</td>\n      <td>2019-07-18 13:00:00</td>\n      <td>2019-07-18 13:00:00</td>\n      <td>0 days 02:00:00</td>\n      <td>2019-07-18 11:00:00</td>\n      <td>2.0</td>\n    </tr>\n  </tbody>\n</table>\n<p>16 rows × 44 columns</p>\n</div>"
     },
     "execution_count": 40,
     "metadata": {},
     "output_type": "execute_result"
    }
   ],
   "source": [
    "df_test[df_test['diff_hours']>1]"
   ],
   "metadata": {
    "collapsed": false,
    "pycharm": {
     "name": "#%%\n"
    }
   }
  },
  {
   "cell_type": "code",
   "execution_count": 41,
   "outputs": [],
   "source": [
    "df_test = df_test.drop([1480])"
   ],
   "metadata": {
    "collapsed": false,
    "pycharm": {
     "name": "#%%\n"
    }
   }
  },
  {
   "cell_type": "code",
   "execution_count": 42,
   "outputs": [
    {
     "data": {
      "text/plain": "             0    1    2    3    4    5    6    7    8    9  ...   34   35  \\\n7899  0.037354  0.0  0.0  0.0  0.0  0.0  0.0  0.0  0.0  0.0  ...  0.0  0.0   \n7906  0.002563  0.0  0.0  0.0  0.0  0.0  0.0  0.0  0.0  0.0  ...  0.0  0.0   \n7907  0.100806  0.0  0.0  0.0  0.0  0.0  0.0  0.0  0.0  0.0  ...  0.0  0.0   \n7908  0.085679  0.0  0.0  0.0  0.0  0.0  0.0  0.0  0.0  0.0  ...  0.0  0.0   \n7909  0.014871  0.0  0.0  0.0  0.0  0.0  0.0  0.0  0.0  0.0  ...  0.0  0.0   \n7910  0.034635  0.0  0.0  0.0  0.0  0.0  0.0  0.0  0.0  0.0  ...  0.0  0.0   \n\n       36   37   38             TimeHour           TimeHour2             Diff  \\\n7899  1.0  0.0  1.0  2018-12-31 12:00:00 2018-12-31 12:00:00  0 days 01:00:00   \n7906  0.0  1.0  1.0  2019-01-01 13:00:00 2019-01-01 13:00:00  0 days 01:00:00   \n7907  0.0  1.0  1.0  2019-01-01 14:00:00 2019-01-01 14:00:00  0 days 01:00:00   \n7908  0.0  1.0  1.0  2019-01-01 15:00:00 2019-01-01 15:00:00  0 days 01:00:00   \n7909  0.0  1.0  1.0  2019-01-01 16:00:00 2019-01-01 16:00:00  0 days 01:00:00   \n7910  0.0  1.0  1.0  2019-01-01 17:00:00 2019-01-01 17:00:00  0 days 01:00:00   \n\n                   Before  diff_hours  \n7899  2018-12-31 11:00:00         1.0  \n7906  2019-01-01 12:00:00         1.0  \n7907  2019-01-01 13:00:00         1.0  \n7908  2019-01-01 14:00:00         1.0  \n7909  2019-01-01 15:00:00         1.0  \n7910  2019-01-01 16:00:00         1.0  \n\n[6 rows x 44 columns]",
      "text/html": "<div>\n<style scoped>\n    .dataframe tbody tr th:only-of-type {\n        vertical-align: middle;\n    }\n\n    .dataframe tbody tr th {\n        vertical-align: top;\n    }\n\n    .dataframe thead th {\n        text-align: right;\n    }\n</style>\n<table border=\"1\" class=\"dataframe\">\n  <thead>\n    <tr style=\"text-align: right;\">\n      <th></th>\n      <th>0</th>\n      <th>1</th>\n      <th>2</th>\n      <th>3</th>\n      <th>4</th>\n      <th>5</th>\n      <th>6</th>\n      <th>7</th>\n      <th>8</th>\n      <th>9</th>\n      <th>...</th>\n      <th>34</th>\n      <th>35</th>\n      <th>36</th>\n      <th>37</th>\n      <th>38</th>\n      <th>TimeHour</th>\n      <th>TimeHour2</th>\n      <th>Diff</th>\n      <th>Before</th>\n      <th>diff_hours</th>\n    </tr>\n  </thead>\n  <tbody>\n    <tr>\n      <th>7899</th>\n      <td>0.037354</td>\n      <td>0.0</td>\n      <td>0.0</td>\n      <td>0.0</td>\n      <td>0.0</td>\n      <td>0.0</td>\n      <td>0.0</td>\n      <td>0.0</td>\n      <td>0.0</td>\n      <td>0.0</td>\n      <td>...</td>\n      <td>0.0</td>\n      <td>0.0</td>\n      <td>1.0</td>\n      <td>0.0</td>\n      <td>1.0</td>\n      <td>2018-12-31 12:00:00</td>\n      <td>2018-12-31 12:00:00</td>\n      <td>0 days 01:00:00</td>\n      <td>2018-12-31 11:00:00</td>\n      <td>1.0</td>\n    </tr>\n    <tr>\n      <th>7906</th>\n      <td>0.002563</td>\n      <td>0.0</td>\n      <td>0.0</td>\n      <td>0.0</td>\n      <td>0.0</td>\n      <td>0.0</td>\n      <td>0.0</td>\n      <td>0.0</td>\n      <td>0.0</td>\n      <td>0.0</td>\n      <td>...</td>\n      <td>0.0</td>\n      <td>0.0</td>\n      <td>0.0</td>\n      <td>1.0</td>\n      <td>1.0</td>\n      <td>2019-01-01 13:00:00</td>\n      <td>2019-01-01 13:00:00</td>\n      <td>0 days 01:00:00</td>\n      <td>2019-01-01 12:00:00</td>\n      <td>1.0</td>\n    </tr>\n    <tr>\n      <th>7907</th>\n      <td>0.100806</td>\n      <td>0.0</td>\n      <td>0.0</td>\n      <td>0.0</td>\n      <td>0.0</td>\n      <td>0.0</td>\n      <td>0.0</td>\n      <td>0.0</td>\n      <td>0.0</td>\n      <td>0.0</td>\n      <td>...</td>\n      <td>0.0</td>\n      <td>0.0</td>\n      <td>0.0</td>\n      <td>1.0</td>\n      <td>1.0</td>\n      <td>2019-01-01 14:00:00</td>\n      <td>2019-01-01 14:00:00</td>\n      <td>0 days 01:00:00</td>\n      <td>2019-01-01 13:00:00</td>\n      <td>1.0</td>\n    </tr>\n    <tr>\n      <th>7908</th>\n      <td>0.085679</td>\n      <td>0.0</td>\n      <td>0.0</td>\n      <td>0.0</td>\n      <td>0.0</td>\n      <td>0.0</td>\n      <td>0.0</td>\n      <td>0.0</td>\n      <td>0.0</td>\n      <td>0.0</td>\n      <td>...</td>\n      <td>0.0</td>\n      <td>0.0</td>\n      <td>0.0</td>\n      <td>1.0</td>\n      <td>1.0</td>\n      <td>2019-01-01 15:00:00</td>\n      <td>2019-01-01 15:00:00</td>\n      <td>0 days 01:00:00</td>\n      <td>2019-01-01 14:00:00</td>\n      <td>1.0</td>\n    </tr>\n    <tr>\n      <th>7909</th>\n      <td>0.014871</td>\n      <td>0.0</td>\n      <td>0.0</td>\n      <td>0.0</td>\n      <td>0.0</td>\n      <td>0.0</td>\n      <td>0.0</td>\n      <td>0.0</td>\n      <td>0.0</td>\n      <td>0.0</td>\n      <td>...</td>\n      <td>0.0</td>\n      <td>0.0</td>\n      <td>0.0</td>\n      <td>1.0</td>\n      <td>1.0</td>\n      <td>2019-01-01 16:00:00</td>\n      <td>2019-01-01 16:00:00</td>\n      <td>0 days 01:00:00</td>\n      <td>2019-01-01 15:00:00</td>\n      <td>1.0</td>\n    </tr>\n    <tr>\n      <th>7910</th>\n      <td>0.034635</td>\n      <td>0.0</td>\n      <td>0.0</td>\n      <td>0.0</td>\n      <td>0.0</td>\n      <td>0.0</td>\n      <td>0.0</td>\n      <td>0.0</td>\n      <td>0.0</td>\n      <td>0.0</td>\n      <td>...</td>\n      <td>0.0</td>\n      <td>0.0</td>\n      <td>0.0</td>\n      <td>1.0</td>\n      <td>1.0</td>\n      <td>2019-01-01 17:00:00</td>\n      <td>2019-01-01 17:00:00</td>\n      <td>0 days 01:00:00</td>\n      <td>2019-01-01 16:00:00</td>\n      <td>1.0</td>\n    </tr>\n  </tbody>\n</table>\n<p>6 rows × 44 columns</p>\n</div>"
     },
     "execution_count": 42,
     "metadata": {},
     "output_type": "execute_result"
    }
   ],
   "source": [
    "df_error = df_test[7898:7910]\n",
    "df_error = df_error.drop([7900,7901,7902,7903,7904,7905])\n",
    "df_error"
   ],
   "metadata": {
    "collapsed": false,
    "pycharm": {
     "name": "#%%\n"
    }
   }
  },
  {
   "cell_type": "code",
   "execution_count": 43,
   "outputs": [
    {
     "data": {
      "text/plain": "              0    1    2    3    4    5    6    7    8    9  ...   34   35  \\\n0      0.006699  0.0  0.0  0.0  0.0  0.0  0.0  0.0  0.0  0.0  ...  0.0  0.0   \n1      0.004883  0.0  0.0  0.0  0.0  0.0  0.0  0.0  0.0  0.0  ...  0.0  0.0   \n2      0.000977  0.0  0.0  0.0  0.0  0.0  0.0  0.0  0.0  0.0  ...  0.0  0.0   \n3      0.027060  0.0  0.0  0.0  0.0  0.0  0.0  0.0  0.0  0.0  ...  0.0  0.0   \n4      0.446828  0.0  0.0  0.0  0.0  0.0  0.0  0.0  0.0  0.0  ...  0.0  0.0   \n...         ...  ...  ...  ...  ...  ...  ...  ...  ...  ...  ...  ...  ...   \n13567  0.000000  0.0  0.0  0.0  0.0  0.0  0.0  0.0  0.0  0.0  ...  0.0  0.0   \n13568  0.000000  0.0  0.0  0.0  0.0  0.0  0.0  0.0  0.0  0.0  ...  0.0  0.0   \n13569  0.000000  0.0  0.0  0.0  0.0  0.0  0.0  0.0  0.0  0.0  ...  0.0  0.0   \n13570  0.000000  0.0  0.0  0.0  0.0  0.0  0.0  0.0  0.0  0.0  ...  0.0  0.0   \n13571  0.000000  0.0  0.0  0.0  0.0  0.0  0.0  0.0  0.0  0.0  ...  0.0  0.0   \n\n        36   37   38             TimeHour           TimeHour2  \\\n0      0.0  1.0  1.0  2018-01-01 13:00:00 2018-01-01 13:00:00   \n1      0.0  1.0  1.0  2018-01-01 14:00:00 2018-01-01 14:00:00   \n2      0.0  1.0  1.0  2018-01-01 15:00:00 2018-01-01 15:00:00   \n3      0.0  1.0  1.0  2018-01-01 16:00:00 2018-01-01 16:00:00   \n4      0.0  1.0  1.0  2018-01-01 17:00:00 2018-01-01 17:00:00   \n...    ...  ...  ...                  ...                 ...   \n13567  0.0  0.0  1.0  2019-08-25 19:00:00 2019-08-25 19:00:00   \n13568  0.0  0.0  1.0                  NaN                 NaT   \n13569  0.0  0.0  1.0                  NaN                 NaT   \n13570  0.0  0.0  1.0                  NaN                 NaT   \n13571  0.0  0.0  1.0                  NaN                 NaT   \n\n                  Diff               Before  diff_hours  \n0      0 days 01:00:00  2018-01-01 12:00:00         1.0  \n1      0 days 01:00:00  2018-01-01 13:00:00         1.0  \n2      0 days 01:00:00  2018-01-01 14:00:00         1.0  \n3      0 days 01:00:00  2018-01-01 15:00:00         1.0  \n4      0 days 01:00:00  2018-01-01 16:00:00         1.0  \n...                ...                  ...         ...  \n13567  0 days 01:00:00  2019-08-25 18:00:00         1.0  \n13568              NaT  2019-08-25 19:00:00         NaN  \n13569              NaT                  NaT         NaN  \n13570              NaT                  NaT         NaN  \n13571              NaT                  NaT         NaN  \n\n[13572 rows x 44 columns]",
      "text/html": "<div>\n<style scoped>\n    .dataframe tbody tr th:only-of-type {\n        vertical-align: middle;\n    }\n\n    .dataframe tbody tr th {\n        vertical-align: top;\n    }\n\n    .dataframe thead th {\n        text-align: right;\n    }\n</style>\n<table border=\"1\" class=\"dataframe\">\n  <thead>\n    <tr style=\"text-align: right;\">\n      <th></th>\n      <th>0</th>\n      <th>1</th>\n      <th>2</th>\n      <th>3</th>\n      <th>4</th>\n      <th>5</th>\n      <th>6</th>\n      <th>7</th>\n      <th>8</th>\n      <th>9</th>\n      <th>...</th>\n      <th>34</th>\n      <th>35</th>\n      <th>36</th>\n      <th>37</th>\n      <th>38</th>\n      <th>TimeHour</th>\n      <th>TimeHour2</th>\n      <th>Diff</th>\n      <th>Before</th>\n      <th>diff_hours</th>\n    </tr>\n  </thead>\n  <tbody>\n    <tr>\n      <th>0</th>\n      <td>0.006699</td>\n      <td>0.0</td>\n      <td>0.0</td>\n      <td>0.0</td>\n      <td>0.0</td>\n      <td>0.0</td>\n      <td>0.0</td>\n      <td>0.0</td>\n      <td>0.0</td>\n      <td>0.0</td>\n      <td>...</td>\n      <td>0.0</td>\n      <td>0.0</td>\n      <td>0.0</td>\n      <td>1.0</td>\n      <td>1.0</td>\n      <td>2018-01-01 13:00:00</td>\n      <td>2018-01-01 13:00:00</td>\n      <td>0 days 01:00:00</td>\n      <td>2018-01-01 12:00:00</td>\n      <td>1.0</td>\n    </tr>\n    <tr>\n      <th>1</th>\n      <td>0.004883</td>\n      <td>0.0</td>\n      <td>0.0</td>\n      <td>0.0</td>\n      <td>0.0</td>\n      <td>0.0</td>\n      <td>0.0</td>\n      <td>0.0</td>\n      <td>0.0</td>\n      <td>0.0</td>\n      <td>...</td>\n      <td>0.0</td>\n      <td>0.0</td>\n      <td>0.0</td>\n      <td>1.0</td>\n      <td>1.0</td>\n      <td>2018-01-01 14:00:00</td>\n      <td>2018-01-01 14:00:00</td>\n      <td>0 days 01:00:00</td>\n      <td>2018-01-01 13:00:00</td>\n      <td>1.0</td>\n    </tr>\n    <tr>\n      <th>2</th>\n      <td>0.000977</td>\n      <td>0.0</td>\n      <td>0.0</td>\n      <td>0.0</td>\n      <td>0.0</td>\n      <td>0.0</td>\n      <td>0.0</td>\n      <td>0.0</td>\n      <td>0.0</td>\n      <td>0.0</td>\n      <td>...</td>\n      <td>0.0</td>\n      <td>0.0</td>\n      <td>0.0</td>\n      <td>1.0</td>\n      <td>1.0</td>\n      <td>2018-01-01 15:00:00</td>\n      <td>2018-01-01 15:00:00</td>\n      <td>0 days 01:00:00</td>\n      <td>2018-01-01 14:00:00</td>\n      <td>1.0</td>\n    </tr>\n    <tr>\n      <th>3</th>\n      <td>0.027060</td>\n      <td>0.0</td>\n      <td>0.0</td>\n      <td>0.0</td>\n      <td>0.0</td>\n      <td>0.0</td>\n      <td>0.0</td>\n      <td>0.0</td>\n      <td>0.0</td>\n      <td>0.0</td>\n      <td>...</td>\n      <td>0.0</td>\n      <td>0.0</td>\n      <td>0.0</td>\n      <td>1.0</td>\n      <td>1.0</td>\n      <td>2018-01-01 16:00:00</td>\n      <td>2018-01-01 16:00:00</td>\n      <td>0 days 01:00:00</td>\n      <td>2018-01-01 15:00:00</td>\n      <td>1.0</td>\n    </tr>\n    <tr>\n      <th>4</th>\n      <td>0.446828</td>\n      <td>0.0</td>\n      <td>0.0</td>\n      <td>0.0</td>\n      <td>0.0</td>\n      <td>0.0</td>\n      <td>0.0</td>\n      <td>0.0</td>\n      <td>0.0</td>\n      <td>0.0</td>\n      <td>...</td>\n      <td>0.0</td>\n      <td>0.0</td>\n      <td>0.0</td>\n      <td>1.0</td>\n      <td>1.0</td>\n      <td>2018-01-01 17:00:00</td>\n      <td>2018-01-01 17:00:00</td>\n      <td>0 days 01:00:00</td>\n      <td>2018-01-01 16:00:00</td>\n      <td>1.0</td>\n    </tr>\n    <tr>\n      <th>...</th>\n      <td>...</td>\n      <td>...</td>\n      <td>...</td>\n      <td>...</td>\n      <td>...</td>\n      <td>...</td>\n      <td>...</td>\n      <td>...</td>\n      <td>...</td>\n      <td>...</td>\n      <td>...</td>\n      <td>...</td>\n      <td>...</td>\n      <td>...</td>\n      <td>...</td>\n      <td>...</td>\n      <td>...</td>\n      <td>...</td>\n      <td>...</td>\n      <td>...</td>\n      <td>...</td>\n    </tr>\n    <tr>\n      <th>13567</th>\n      <td>0.000000</td>\n      <td>0.0</td>\n      <td>0.0</td>\n      <td>0.0</td>\n      <td>0.0</td>\n      <td>0.0</td>\n      <td>0.0</td>\n      <td>0.0</td>\n      <td>0.0</td>\n      <td>0.0</td>\n      <td>...</td>\n      <td>0.0</td>\n      <td>0.0</td>\n      <td>0.0</td>\n      <td>0.0</td>\n      <td>1.0</td>\n      <td>2019-08-25 19:00:00</td>\n      <td>2019-08-25 19:00:00</td>\n      <td>0 days 01:00:00</td>\n      <td>2019-08-25 18:00:00</td>\n      <td>1.0</td>\n    </tr>\n    <tr>\n      <th>13568</th>\n      <td>0.000000</td>\n      <td>0.0</td>\n      <td>0.0</td>\n      <td>0.0</td>\n      <td>0.0</td>\n      <td>0.0</td>\n      <td>0.0</td>\n      <td>0.0</td>\n      <td>0.0</td>\n      <td>0.0</td>\n      <td>...</td>\n      <td>0.0</td>\n      <td>0.0</td>\n      <td>0.0</td>\n      <td>0.0</td>\n      <td>1.0</td>\n      <td>NaN</td>\n      <td>NaT</td>\n      <td>NaT</td>\n      <td>2019-08-25 19:00:00</td>\n      <td>NaN</td>\n    </tr>\n    <tr>\n      <th>13569</th>\n      <td>0.000000</td>\n      <td>0.0</td>\n      <td>0.0</td>\n      <td>0.0</td>\n      <td>0.0</td>\n      <td>0.0</td>\n      <td>0.0</td>\n      <td>0.0</td>\n      <td>0.0</td>\n      <td>0.0</td>\n      <td>...</td>\n      <td>0.0</td>\n      <td>0.0</td>\n      <td>0.0</td>\n      <td>0.0</td>\n      <td>1.0</td>\n      <td>NaN</td>\n      <td>NaT</td>\n      <td>NaT</td>\n      <td>NaT</td>\n      <td>NaN</td>\n    </tr>\n    <tr>\n      <th>13570</th>\n      <td>0.000000</td>\n      <td>0.0</td>\n      <td>0.0</td>\n      <td>0.0</td>\n      <td>0.0</td>\n      <td>0.0</td>\n      <td>0.0</td>\n      <td>0.0</td>\n      <td>0.0</td>\n      <td>0.0</td>\n      <td>...</td>\n      <td>0.0</td>\n      <td>0.0</td>\n      <td>0.0</td>\n      <td>0.0</td>\n      <td>1.0</td>\n      <td>NaN</td>\n      <td>NaT</td>\n      <td>NaT</td>\n      <td>NaT</td>\n      <td>NaN</td>\n    </tr>\n    <tr>\n      <th>13571</th>\n      <td>0.000000</td>\n      <td>0.0</td>\n      <td>0.0</td>\n      <td>0.0</td>\n      <td>0.0</td>\n      <td>0.0</td>\n      <td>0.0</td>\n      <td>0.0</td>\n      <td>0.0</td>\n      <td>0.0</td>\n      <td>...</td>\n      <td>0.0</td>\n      <td>0.0</td>\n      <td>0.0</td>\n      <td>0.0</td>\n      <td>1.0</td>\n      <td>NaN</td>\n      <td>NaT</td>\n      <td>NaT</td>\n      <td>NaT</td>\n      <td>NaN</td>\n    </tr>\n  </tbody>\n</table>\n<p>13572 rows × 44 columns</p>\n</div>"
     },
     "execution_count": 43,
     "metadata": {},
     "output_type": "execute_result"
    }
   ],
   "source": [
    "df_test = df_test.drop([7900,7901,7902,7903,7904,7905])\n",
    "df_test = df_test.reset_index()\n",
    "df_test = df_test.drop(columns=[\"index\"])\n",
    "df_test"
   ],
   "metadata": {
    "collapsed": false,
    "pycharm": {
     "name": "#%%\n"
    }
   }
  },
  {
   "cell_type": "code",
   "execution_count": 44,
   "outputs": [
    {
     "data": {
      "text/plain": "                  0    1    2    3    4    5    6    7    8    9  ...   34  \\\n550    3.715820e-01  0.0  0.0  0.0  0.0  0.0  0.0  0.0  0.0  0.0  ...  0.0   \n662    0.000000e+00  0.0  0.0  0.0  0.0  0.0  0.0  0.0  0.0  0.0  ...  0.0   \n1037   0.000000e+00  0.0  0.0  0.0  0.0  0.0  0.0  0.0  0.0  0.0  ...  0.0   \n1110   2.441406e-03  0.0  0.0  0.0  0.0  0.0  0.0  0.0  0.0  0.0  ...  0.0   \n1479   0.000000e+00  0.0  0.0  0.0  0.0  0.0  0.0  0.0  0.0  0.0  ...  0.0   \n1661   9.765621e-03  0.0  0.0  0.0  0.0  0.0  0.0  0.0  0.0  0.0  ...  0.0   \n1774   3.749680e-09  0.0  0.0  0.0  0.0  0.0  0.0  0.0  0.0  0.0  ...  0.0   \n1793  -4.523088e-09  0.0  0.0  0.0  0.0  0.0  0.0  0.0  0.0  0.0  ...  0.0   \n2133  -7.734648e-10  0.0  0.0  0.0  0.0  0.0  0.0  0.0  0.0  0.0  ...  0.0   \n3747   0.000000e+00  0.0  1.0  0.0  0.0  0.0  0.0  0.0  0.0  0.0  ...  0.0   \n4806   3.974609e-01  0.0  0.0  0.0  0.0  0.0  0.0  1.0  0.0  0.0  ...  0.0   \n5268   1.723633e-01  0.0  0.0  0.0  0.0  0.0  0.0  0.0  0.0  0.0  ...  0.0   \n6622   0.000000e+00  0.0  0.0  0.0  0.0  0.0  0.0  0.0  0.0  1.0  ...  0.0   \n10024  5.155640e-01  0.0  0.0  0.0  1.0  0.0  0.0  0.0  0.0  0.0  ...  0.0   \n12649  4.370117e-02  0.0  0.0  0.0  0.0  0.0  0.0  0.0  0.0  0.0  ...  0.0   \n\n        35   36   37   38             TimeHour           TimeHour2  \\\n550    0.0  0.0  0.0  1.0  2018-01-25 14:00:00 2018-01-25 14:00:00   \n662    0.0  0.0  0.0  1.0  2018-02-05 16:00:00 2018-02-05 16:00:00   \n1037   0.0  0.0  0.0  1.0  2018-02-23 09:00:00 2018-02-23 09:00:00   \n1110   0.0  0.0  0.0  1.0  2018-02-28 13:00:00 2018-02-28 13:00:00   \n1479   0.0  0.0  0.0  1.0  2018-04-05 20:00:00 2018-04-05 20:00:00   \n1661   0.0  0.0  0.0  1.0  2018-04-13 16:00:00 2018-04-13 16:00:00   \n1774   0.0  0.0  0.0  1.0  2018-04-18 17:00:00 2018-04-18 17:00:00   \n1793   0.0  0.0  0.0  1.0  2018-04-20 12:00:00 2018-04-20 12:00:00   \n2133   0.0  0.0  0.0  1.0  2018-05-04 18:00:00 2018-05-04 18:00:00   \n3747   0.0  0.0  0.0  1.0  2018-07-11 01:00:00 2018-07-11 01:00:00   \n4806   0.0  0.0  0.0  1.0  2018-08-24 06:00:00 2018-08-24 06:00:00   \n5268   0.0  0.0  0.0  1.0  2018-09-12 15:00:00 2018-09-12 15:00:00   \n6622   1.0  0.0  0.0  1.0  2018-11-08 08:00:00 2018-11-08 08:00:00   \n10024  0.0  0.0  0.0  1.0  2019-03-31 03:00:00 2019-03-31 03:00:00   \n12649  0.0  0.0  0.0  1.0  2019-07-18 13:00:00 2019-07-18 13:00:00   \n\n                   Diff               Before  diff_hours  \n550     1 days 04:00:00  2018-01-24 10:00:00        28.0  \n662     4 days 05:00:00  2018-02-01 11:00:00       101.0  \n1037    2 days 03:00:00  2018-02-21 06:00:00        51.0  \n1110    0 days 04:00:00  2018-02-28 09:00:00         4.0  \n1479   20 days 23:00:00  2018-03-15 21:00:00       503.0  \n1661    0 days 06:00:00  2018-04-13 10:00:00         6.0  \n1774    0 days 09:00:00  2018-04-18 08:00:00         9.0  \n1793    1 days 01:00:00  2018-04-19 11:00:00        25.0  \n2133    0 days 03:00:00  2018-05-04 15:00:00         3.0  \n3747    0 days 02:00:00  2018-07-10 23:00:00         2.0  \n4806    0 days 03:00:00  2018-08-24 03:00:00         3.0  \n5268    0 days 04:00:00  2018-09-12 11:00:00         4.0  \n6622    0 days 08:00:00  2018-11-08 00:00:00         8.0  \n10024   0 days 02:00:00  2019-03-31 01:00:00         2.0  \n12649   0 days 02:00:00  2019-07-18 11:00:00         2.0  \n\n[15 rows x 44 columns]",
      "text/html": "<div>\n<style scoped>\n    .dataframe tbody tr th:only-of-type {\n        vertical-align: middle;\n    }\n\n    .dataframe tbody tr th {\n        vertical-align: top;\n    }\n\n    .dataframe thead th {\n        text-align: right;\n    }\n</style>\n<table border=\"1\" class=\"dataframe\">\n  <thead>\n    <tr style=\"text-align: right;\">\n      <th></th>\n      <th>0</th>\n      <th>1</th>\n      <th>2</th>\n      <th>3</th>\n      <th>4</th>\n      <th>5</th>\n      <th>6</th>\n      <th>7</th>\n      <th>8</th>\n      <th>9</th>\n      <th>...</th>\n      <th>34</th>\n      <th>35</th>\n      <th>36</th>\n      <th>37</th>\n      <th>38</th>\n      <th>TimeHour</th>\n      <th>TimeHour2</th>\n      <th>Diff</th>\n      <th>Before</th>\n      <th>diff_hours</th>\n    </tr>\n  </thead>\n  <tbody>\n    <tr>\n      <th>550</th>\n      <td>3.715820e-01</td>\n      <td>0.0</td>\n      <td>0.0</td>\n      <td>0.0</td>\n      <td>0.0</td>\n      <td>0.0</td>\n      <td>0.0</td>\n      <td>0.0</td>\n      <td>0.0</td>\n      <td>0.0</td>\n      <td>...</td>\n      <td>0.0</td>\n      <td>0.0</td>\n      <td>0.0</td>\n      <td>0.0</td>\n      <td>1.0</td>\n      <td>2018-01-25 14:00:00</td>\n      <td>2018-01-25 14:00:00</td>\n      <td>1 days 04:00:00</td>\n      <td>2018-01-24 10:00:00</td>\n      <td>28.0</td>\n    </tr>\n    <tr>\n      <th>662</th>\n      <td>0.000000e+00</td>\n      <td>0.0</td>\n      <td>0.0</td>\n      <td>0.0</td>\n      <td>0.0</td>\n      <td>0.0</td>\n      <td>0.0</td>\n      <td>0.0</td>\n      <td>0.0</td>\n      <td>0.0</td>\n      <td>...</td>\n      <td>0.0</td>\n      <td>0.0</td>\n      <td>0.0</td>\n      <td>0.0</td>\n      <td>1.0</td>\n      <td>2018-02-05 16:00:00</td>\n      <td>2018-02-05 16:00:00</td>\n      <td>4 days 05:00:00</td>\n      <td>2018-02-01 11:00:00</td>\n      <td>101.0</td>\n    </tr>\n    <tr>\n      <th>1037</th>\n      <td>0.000000e+00</td>\n      <td>0.0</td>\n      <td>0.0</td>\n      <td>0.0</td>\n      <td>0.0</td>\n      <td>0.0</td>\n      <td>0.0</td>\n      <td>0.0</td>\n      <td>0.0</td>\n      <td>0.0</td>\n      <td>...</td>\n      <td>0.0</td>\n      <td>0.0</td>\n      <td>0.0</td>\n      <td>0.0</td>\n      <td>1.0</td>\n      <td>2018-02-23 09:00:00</td>\n      <td>2018-02-23 09:00:00</td>\n      <td>2 days 03:00:00</td>\n      <td>2018-02-21 06:00:00</td>\n      <td>51.0</td>\n    </tr>\n    <tr>\n      <th>1110</th>\n      <td>2.441406e-03</td>\n      <td>0.0</td>\n      <td>0.0</td>\n      <td>0.0</td>\n      <td>0.0</td>\n      <td>0.0</td>\n      <td>0.0</td>\n      <td>0.0</td>\n      <td>0.0</td>\n      <td>0.0</td>\n      <td>...</td>\n      <td>0.0</td>\n      <td>0.0</td>\n      <td>0.0</td>\n      <td>0.0</td>\n      <td>1.0</td>\n      <td>2018-02-28 13:00:00</td>\n      <td>2018-02-28 13:00:00</td>\n      <td>0 days 04:00:00</td>\n      <td>2018-02-28 09:00:00</td>\n      <td>4.0</td>\n    </tr>\n    <tr>\n      <th>1479</th>\n      <td>0.000000e+00</td>\n      <td>0.0</td>\n      <td>0.0</td>\n      <td>0.0</td>\n      <td>0.0</td>\n      <td>0.0</td>\n      <td>0.0</td>\n      <td>0.0</td>\n      <td>0.0</td>\n      <td>0.0</td>\n      <td>...</td>\n      <td>0.0</td>\n      <td>0.0</td>\n      <td>0.0</td>\n      <td>0.0</td>\n      <td>1.0</td>\n      <td>2018-04-05 20:00:00</td>\n      <td>2018-04-05 20:00:00</td>\n      <td>20 days 23:00:00</td>\n      <td>2018-03-15 21:00:00</td>\n      <td>503.0</td>\n    </tr>\n    <tr>\n      <th>1661</th>\n      <td>9.765621e-03</td>\n      <td>0.0</td>\n      <td>0.0</td>\n      <td>0.0</td>\n      <td>0.0</td>\n      <td>0.0</td>\n      <td>0.0</td>\n      <td>0.0</td>\n      <td>0.0</td>\n      <td>0.0</td>\n      <td>...</td>\n      <td>0.0</td>\n      <td>0.0</td>\n      <td>0.0</td>\n      <td>0.0</td>\n      <td>1.0</td>\n      <td>2018-04-13 16:00:00</td>\n      <td>2018-04-13 16:00:00</td>\n      <td>0 days 06:00:00</td>\n      <td>2018-04-13 10:00:00</td>\n      <td>6.0</td>\n    </tr>\n    <tr>\n      <th>1774</th>\n      <td>3.749680e-09</td>\n      <td>0.0</td>\n      <td>0.0</td>\n      <td>0.0</td>\n      <td>0.0</td>\n      <td>0.0</td>\n      <td>0.0</td>\n      <td>0.0</td>\n      <td>0.0</td>\n      <td>0.0</td>\n      <td>...</td>\n      <td>0.0</td>\n      <td>0.0</td>\n      <td>0.0</td>\n      <td>0.0</td>\n      <td>1.0</td>\n      <td>2018-04-18 17:00:00</td>\n      <td>2018-04-18 17:00:00</td>\n      <td>0 days 09:00:00</td>\n      <td>2018-04-18 08:00:00</td>\n      <td>9.0</td>\n    </tr>\n    <tr>\n      <th>1793</th>\n      <td>-4.523088e-09</td>\n      <td>0.0</td>\n      <td>0.0</td>\n      <td>0.0</td>\n      <td>0.0</td>\n      <td>0.0</td>\n      <td>0.0</td>\n      <td>0.0</td>\n      <td>0.0</td>\n      <td>0.0</td>\n      <td>...</td>\n      <td>0.0</td>\n      <td>0.0</td>\n      <td>0.0</td>\n      <td>0.0</td>\n      <td>1.0</td>\n      <td>2018-04-20 12:00:00</td>\n      <td>2018-04-20 12:00:00</td>\n      <td>1 days 01:00:00</td>\n      <td>2018-04-19 11:00:00</td>\n      <td>25.0</td>\n    </tr>\n    <tr>\n      <th>2133</th>\n      <td>-7.734648e-10</td>\n      <td>0.0</td>\n      <td>0.0</td>\n      <td>0.0</td>\n      <td>0.0</td>\n      <td>0.0</td>\n      <td>0.0</td>\n      <td>0.0</td>\n      <td>0.0</td>\n      <td>0.0</td>\n      <td>...</td>\n      <td>0.0</td>\n      <td>0.0</td>\n      <td>0.0</td>\n      <td>0.0</td>\n      <td>1.0</td>\n      <td>2018-05-04 18:00:00</td>\n      <td>2018-05-04 18:00:00</td>\n      <td>0 days 03:00:00</td>\n      <td>2018-05-04 15:00:00</td>\n      <td>3.0</td>\n    </tr>\n    <tr>\n      <th>3747</th>\n      <td>0.000000e+00</td>\n      <td>0.0</td>\n      <td>1.0</td>\n      <td>0.0</td>\n      <td>0.0</td>\n      <td>0.0</td>\n      <td>0.0</td>\n      <td>0.0</td>\n      <td>0.0</td>\n      <td>0.0</td>\n      <td>...</td>\n      <td>0.0</td>\n      <td>0.0</td>\n      <td>0.0</td>\n      <td>0.0</td>\n      <td>1.0</td>\n      <td>2018-07-11 01:00:00</td>\n      <td>2018-07-11 01:00:00</td>\n      <td>0 days 02:00:00</td>\n      <td>2018-07-10 23:00:00</td>\n      <td>2.0</td>\n    </tr>\n    <tr>\n      <th>4806</th>\n      <td>3.974609e-01</td>\n      <td>0.0</td>\n      <td>0.0</td>\n      <td>0.0</td>\n      <td>0.0</td>\n      <td>0.0</td>\n      <td>0.0</td>\n      <td>1.0</td>\n      <td>0.0</td>\n      <td>0.0</td>\n      <td>...</td>\n      <td>0.0</td>\n      <td>0.0</td>\n      <td>0.0</td>\n      <td>0.0</td>\n      <td>1.0</td>\n      <td>2018-08-24 06:00:00</td>\n      <td>2018-08-24 06:00:00</td>\n      <td>0 days 03:00:00</td>\n      <td>2018-08-24 03:00:00</td>\n      <td>3.0</td>\n    </tr>\n    <tr>\n      <th>5268</th>\n      <td>1.723633e-01</td>\n      <td>0.0</td>\n      <td>0.0</td>\n      <td>0.0</td>\n      <td>0.0</td>\n      <td>0.0</td>\n      <td>0.0</td>\n      <td>0.0</td>\n      <td>0.0</td>\n      <td>0.0</td>\n      <td>...</td>\n      <td>0.0</td>\n      <td>0.0</td>\n      <td>0.0</td>\n      <td>0.0</td>\n      <td>1.0</td>\n      <td>2018-09-12 15:00:00</td>\n      <td>2018-09-12 15:00:00</td>\n      <td>0 days 04:00:00</td>\n      <td>2018-09-12 11:00:00</td>\n      <td>4.0</td>\n    </tr>\n    <tr>\n      <th>6622</th>\n      <td>0.000000e+00</td>\n      <td>0.0</td>\n      <td>0.0</td>\n      <td>0.0</td>\n      <td>0.0</td>\n      <td>0.0</td>\n      <td>0.0</td>\n      <td>0.0</td>\n      <td>0.0</td>\n      <td>1.0</td>\n      <td>...</td>\n      <td>0.0</td>\n      <td>1.0</td>\n      <td>0.0</td>\n      <td>0.0</td>\n      <td>1.0</td>\n      <td>2018-11-08 08:00:00</td>\n      <td>2018-11-08 08:00:00</td>\n      <td>0 days 08:00:00</td>\n      <td>2018-11-08 00:00:00</td>\n      <td>8.0</td>\n    </tr>\n    <tr>\n      <th>10024</th>\n      <td>5.155640e-01</td>\n      <td>0.0</td>\n      <td>0.0</td>\n      <td>0.0</td>\n      <td>1.0</td>\n      <td>0.0</td>\n      <td>0.0</td>\n      <td>0.0</td>\n      <td>0.0</td>\n      <td>0.0</td>\n      <td>...</td>\n      <td>0.0</td>\n      <td>0.0</td>\n      <td>0.0</td>\n      <td>0.0</td>\n      <td>1.0</td>\n      <td>2019-03-31 03:00:00</td>\n      <td>2019-03-31 03:00:00</td>\n      <td>0 days 02:00:00</td>\n      <td>2019-03-31 01:00:00</td>\n      <td>2.0</td>\n    </tr>\n    <tr>\n      <th>12649</th>\n      <td>4.370117e-02</td>\n      <td>0.0</td>\n      <td>0.0</td>\n      <td>0.0</td>\n      <td>0.0</td>\n      <td>0.0</td>\n      <td>0.0</td>\n      <td>0.0</td>\n      <td>0.0</td>\n      <td>0.0</td>\n      <td>...</td>\n      <td>0.0</td>\n      <td>0.0</td>\n      <td>0.0</td>\n      <td>0.0</td>\n      <td>1.0</td>\n      <td>2019-07-18 13:00:00</td>\n      <td>2019-07-18 13:00:00</td>\n      <td>0 days 02:00:00</td>\n      <td>2019-07-18 11:00:00</td>\n      <td>2.0</td>\n    </tr>\n  </tbody>\n</table>\n<p>15 rows × 44 columns</p>\n</div>"
     },
     "execution_count": 44,
     "metadata": {},
     "output_type": "execute_result"
    }
   ],
   "source": [
    "df_test[df_test['diff_hours']>1]"
   ],
   "metadata": {
    "collapsed": false,
    "pycharm": {
     "name": "#%%\n"
    }
   }
  },
  {
   "cell_type": "code",
   "execution_count": 61,
   "outputs": [
    {
     "data": {
      "text/plain": "              0    1    2    3    4    5    6    7    8    9  ...   34   35  \\\n0      0.006699  0.0  0.0  0.0  0.0  0.0  0.0  0.0  0.0  0.0  ...  0.0  0.0   \n1      0.004883  0.0  0.0  0.0  0.0  0.0  0.0  0.0  0.0  0.0  ...  0.0  0.0   \n2      0.000977  0.0  0.0  0.0  0.0  0.0  0.0  0.0  0.0  0.0  ...  0.0  0.0   \n3      0.027060  0.0  0.0  0.0  0.0  0.0  0.0  0.0  0.0  0.0  ...  0.0  0.0   \n4      0.446828  0.0  0.0  0.0  0.0  0.0  0.0  0.0  0.0  0.0  ...  0.0  0.0   \n...         ...  ...  ...  ...  ...  ...  ...  ...  ...  ...  ...  ...  ...   \n13634  0.000000  0.0  0.0  0.0  0.0  0.0  0.0  0.0  0.0  0.0  ...  0.0  0.0   \n13635  0.000000  0.0  0.0  0.0  0.0  0.0  0.0  0.0  0.0  0.0  ...  0.0  0.0   \n13636  0.000000  0.0  0.0  0.0  0.0  0.0  0.0  0.0  0.0  0.0  ...  0.0  0.0   \n13637  0.000000  0.0  0.0  0.0  0.0  0.0  0.0  0.0  0.0  0.0  ...  0.0  0.0   \n13638  0.000000  0.0  0.0  0.0  0.0  0.0  0.0  0.0  0.0  0.0  ...  0.0  0.0   \n\n        36   37   38             TimeHour           TimeHour2  \\\n0      0.0  1.0  1.0  2018-01-01 13:00:00 2018-01-01 13:00:00   \n1      0.0  1.0  1.0  2018-01-01 14:00:00 2018-01-01 14:00:00   \n2      0.0  1.0  1.0  2018-01-01 15:00:00 2018-01-01 15:00:00   \n3      0.0  1.0  1.0  2018-01-01 16:00:00 2018-01-01 16:00:00   \n4      0.0  1.0  1.0  2018-01-01 17:00:00 2018-01-01 17:00:00   \n...    ...  ...  ...                  ...                 ...   \n13634  0.0  0.0  1.0  2019-08-25 19:00:00 2019-08-25 19:00:00   \n13635  0.0  0.0  1.0                  NaN                 NaT   \n13636  0.0  0.0  1.0                  NaN                 NaT   \n13637  0.0  0.0  1.0                  NaN                 NaT   \n13638  0.0  0.0  1.0                  NaN                 NaT   \n\n                  Diff               Before  diff_hours  \n0      0 days 01:00:00  2018-01-01 12:00:00         1.0  \n1      0 days 01:00:00  2018-01-01 13:00:00         1.0  \n2      0 days 01:00:00  2018-01-01 14:00:00         1.0  \n3      0 days 01:00:00  2018-01-01 15:00:00         1.0  \n4      0 days 01:00:00  2018-01-01 16:00:00         1.0  \n...                ...                  ...         ...  \n13634  0 days 01:00:00  2019-08-25 18:00:00         1.0  \n13635              NaT  2019-08-25 19:00:00         NaN  \n13636              NaT                  NaT         NaN  \n13637              NaT                  NaT         NaN  \n13638              NaT                  NaT         NaN  \n\n[13639 rows x 44 columns]",
      "text/html": "<div>\n<style scoped>\n    .dataframe tbody tr th:only-of-type {\n        vertical-align: middle;\n    }\n\n    .dataframe tbody tr th {\n        vertical-align: top;\n    }\n\n    .dataframe thead th {\n        text-align: right;\n    }\n</style>\n<table border=\"1\" class=\"dataframe\">\n  <thead>\n    <tr style=\"text-align: right;\">\n      <th></th>\n      <th>0</th>\n      <th>1</th>\n      <th>2</th>\n      <th>3</th>\n      <th>4</th>\n      <th>5</th>\n      <th>6</th>\n      <th>7</th>\n      <th>8</th>\n      <th>9</th>\n      <th>...</th>\n      <th>34</th>\n      <th>35</th>\n      <th>36</th>\n      <th>37</th>\n      <th>38</th>\n      <th>TimeHour</th>\n      <th>TimeHour2</th>\n      <th>Diff</th>\n      <th>Before</th>\n      <th>diff_hours</th>\n    </tr>\n  </thead>\n  <tbody>\n    <tr>\n      <th>0</th>\n      <td>0.006699</td>\n      <td>0.0</td>\n      <td>0.0</td>\n      <td>0.0</td>\n      <td>0.0</td>\n      <td>0.0</td>\n      <td>0.0</td>\n      <td>0.0</td>\n      <td>0.0</td>\n      <td>0.0</td>\n      <td>...</td>\n      <td>0.0</td>\n      <td>0.0</td>\n      <td>0.0</td>\n      <td>1.0</td>\n      <td>1.0</td>\n      <td>2018-01-01 13:00:00</td>\n      <td>2018-01-01 13:00:00</td>\n      <td>0 days 01:00:00</td>\n      <td>2018-01-01 12:00:00</td>\n      <td>1.0</td>\n    </tr>\n    <tr>\n      <th>1</th>\n      <td>0.004883</td>\n      <td>0.0</td>\n      <td>0.0</td>\n      <td>0.0</td>\n      <td>0.0</td>\n      <td>0.0</td>\n      <td>0.0</td>\n      <td>0.0</td>\n      <td>0.0</td>\n      <td>0.0</td>\n      <td>...</td>\n      <td>0.0</td>\n      <td>0.0</td>\n      <td>0.0</td>\n      <td>1.0</td>\n      <td>1.0</td>\n      <td>2018-01-01 14:00:00</td>\n      <td>2018-01-01 14:00:00</td>\n      <td>0 days 01:00:00</td>\n      <td>2018-01-01 13:00:00</td>\n      <td>1.0</td>\n    </tr>\n    <tr>\n      <th>2</th>\n      <td>0.000977</td>\n      <td>0.0</td>\n      <td>0.0</td>\n      <td>0.0</td>\n      <td>0.0</td>\n      <td>0.0</td>\n      <td>0.0</td>\n      <td>0.0</td>\n      <td>0.0</td>\n      <td>0.0</td>\n      <td>...</td>\n      <td>0.0</td>\n      <td>0.0</td>\n      <td>0.0</td>\n      <td>1.0</td>\n      <td>1.0</td>\n      <td>2018-01-01 15:00:00</td>\n      <td>2018-01-01 15:00:00</td>\n      <td>0 days 01:00:00</td>\n      <td>2018-01-01 14:00:00</td>\n      <td>1.0</td>\n    </tr>\n    <tr>\n      <th>3</th>\n      <td>0.027060</td>\n      <td>0.0</td>\n      <td>0.0</td>\n      <td>0.0</td>\n      <td>0.0</td>\n      <td>0.0</td>\n      <td>0.0</td>\n      <td>0.0</td>\n      <td>0.0</td>\n      <td>0.0</td>\n      <td>...</td>\n      <td>0.0</td>\n      <td>0.0</td>\n      <td>0.0</td>\n      <td>1.0</td>\n      <td>1.0</td>\n      <td>2018-01-01 16:00:00</td>\n      <td>2018-01-01 16:00:00</td>\n      <td>0 days 01:00:00</td>\n      <td>2018-01-01 15:00:00</td>\n      <td>1.0</td>\n    </tr>\n    <tr>\n      <th>4</th>\n      <td>0.446828</td>\n      <td>0.0</td>\n      <td>0.0</td>\n      <td>0.0</td>\n      <td>0.0</td>\n      <td>0.0</td>\n      <td>0.0</td>\n      <td>0.0</td>\n      <td>0.0</td>\n      <td>0.0</td>\n      <td>...</td>\n      <td>0.0</td>\n      <td>0.0</td>\n      <td>0.0</td>\n      <td>1.0</td>\n      <td>1.0</td>\n      <td>2018-01-01 17:00:00</td>\n      <td>2018-01-01 17:00:00</td>\n      <td>0 days 01:00:00</td>\n      <td>2018-01-01 16:00:00</td>\n      <td>1.0</td>\n    </tr>\n    <tr>\n      <th>...</th>\n      <td>...</td>\n      <td>...</td>\n      <td>...</td>\n      <td>...</td>\n      <td>...</td>\n      <td>...</td>\n      <td>...</td>\n      <td>...</td>\n      <td>...</td>\n      <td>...</td>\n      <td>...</td>\n      <td>...</td>\n      <td>...</td>\n      <td>...</td>\n      <td>...</td>\n      <td>...</td>\n      <td>...</td>\n      <td>...</td>\n      <td>...</td>\n      <td>...</td>\n      <td>...</td>\n    </tr>\n    <tr>\n      <th>13634</th>\n      <td>0.000000</td>\n      <td>0.0</td>\n      <td>0.0</td>\n      <td>0.0</td>\n      <td>0.0</td>\n      <td>0.0</td>\n      <td>0.0</td>\n      <td>0.0</td>\n      <td>0.0</td>\n      <td>0.0</td>\n      <td>...</td>\n      <td>0.0</td>\n      <td>0.0</td>\n      <td>0.0</td>\n      <td>0.0</td>\n      <td>1.0</td>\n      <td>2019-08-25 19:00:00</td>\n      <td>2019-08-25 19:00:00</td>\n      <td>0 days 01:00:00</td>\n      <td>2019-08-25 18:00:00</td>\n      <td>1.0</td>\n    </tr>\n    <tr>\n      <th>13635</th>\n      <td>0.000000</td>\n      <td>0.0</td>\n      <td>0.0</td>\n      <td>0.0</td>\n      <td>0.0</td>\n      <td>0.0</td>\n      <td>0.0</td>\n      <td>0.0</td>\n      <td>0.0</td>\n      <td>0.0</td>\n      <td>...</td>\n      <td>0.0</td>\n      <td>0.0</td>\n      <td>0.0</td>\n      <td>0.0</td>\n      <td>1.0</td>\n      <td>NaN</td>\n      <td>NaT</td>\n      <td>NaT</td>\n      <td>2019-08-25 19:00:00</td>\n      <td>NaN</td>\n    </tr>\n    <tr>\n      <th>13636</th>\n      <td>0.000000</td>\n      <td>0.0</td>\n      <td>0.0</td>\n      <td>0.0</td>\n      <td>0.0</td>\n      <td>0.0</td>\n      <td>0.0</td>\n      <td>0.0</td>\n      <td>0.0</td>\n      <td>0.0</td>\n      <td>...</td>\n      <td>0.0</td>\n      <td>0.0</td>\n      <td>0.0</td>\n      <td>0.0</td>\n      <td>1.0</td>\n      <td>NaN</td>\n      <td>NaT</td>\n      <td>NaT</td>\n      <td>NaT</td>\n      <td>NaN</td>\n    </tr>\n    <tr>\n      <th>13637</th>\n      <td>0.000000</td>\n      <td>0.0</td>\n      <td>0.0</td>\n      <td>0.0</td>\n      <td>0.0</td>\n      <td>0.0</td>\n      <td>0.0</td>\n      <td>0.0</td>\n      <td>0.0</td>\n      <td>0.0</td>\n      <td>...</td>\n      <td>0.0</td>\n      <td>0.0</td>\n      <td>0.0</td>\n      <td>0.0</td>\n      <td>1.0</td>\n      <td>NaN</td>\n      <td>NaT</td>\n      <td>NaT</td>\n      <td>NaT</td>\n      <td>NaN</td>\n    </tr>\n    <tr>\n      <th>13638</th>\n      <td>0.000000</td>\n      <td>0.0</td>\n      <td>0.0</td>\n      <td>0.0</td>\n      <td>0.0</td>\n      <td>0.0</td>\n      <td>0.0</td>\n      <td>0.0</td>\n      <td>0.0</td>\n      <td>0.0</td>\n      <td>...</td>\n      <td>0.0</td>\n      <td>0.0</td>\n      <td>0.0</td>\n      <td>0.0</td>\n      <td>1.0</td>\n      <td>NaN</td>\n      <td>NaT</td>\n      <td>NaT</td>\n      <td>NaT</td>\n      <td>NaN</td>\n    </tr>\n  </tbody>\n</table>\n<p>13639 rows × 44 columns</p>\n</div>"
     },
     "execution_count": 61,
     "metadata": {},
     "output_type": "execute_result"
    }
   ],
   "source": [
    "df_test.loc[550, 'diff_hours']\n",
    "df_test"
   ],
   "metadata": {
    "collapsed": false,
    "pycharm": {
     "name": "#%%\n"
    }
   }
  },
  {
   "cell_type": "code",
   "execution_count": 46,
   "outputs": [
    {
     "data": {
      "text/plain": "            0    1    2    3    4    5    6    7    8    9  ...   34   35  \\\n545  0.007029  0.0  0.0  0.0  0.0  0.0  0.0  1.0  0.0  0.0  ...  0.0  0.0   \n546  0.007944  0.0  0.0  0.0  0.0  0.0  0.0  0.0  1.0  0.0  ...  0.0  0.0   \n547  0.002714  0.0  0.0  0.0  0.0  0.0  0.0  0.0  0.0  1.0  ...  0.0  0.0   \n548  0.006858  0.0  0.0  0.0  0.0  0.0  0.0  0.0  0.0  0.0  ...  0.0  0.0   \n549  0.136719  0.0  0.0  0.0  0.0  0.0  0.0  0.0  0.0  0.0  ...  0.0  0.0   \n550  0.371582  0.0  0.0  0.0  0.0  0.0  0.0  0.0  0.0  0.0  ...  0.0  0.0   \n551  0.091797  0.0  0.0  0.0  0.0  0.0  0.0  0.0  0.0  0.0  ...  0.0  0.0   \n552  0.061523  0.0  0.0  0.0  0.0  0.0  0.0  0.0  0.0  0.0  ...  0.0  0.0   \n553  0.293457  0.0  0.0  0.0  0.0  0.0  0.0  0.0  0.0  0.0  ...  0.0  0.0   \n554  0.000488  0.0  0.0  0.0  0.0  0.0  0.0  0.0  0.0  0.0  ...  0.0  0.0   \n555  0.001465  0.0  0.0  0.0  0.0  0.0  0.0  0.0  0.0  0.0  ...  0.0  0.0   \n556  0.089844  0.0  0.0  0.0  0.0  0.0  0.0  0.0  0.0  0.0  ...  0.0  0.0   \n557  0.000000  0.0  0.0  0.0  0.0  0.0  0.0  0.0  0.0  0.0  ...  0.0  0.0   \n558  0.002441  0.0  0.0  0.0  0.0  0.0  0.0  0.0  0.0  0.0  ...  0.0  0.0   \n559  0.000000  0.0  0.0  0.0  0.0  0.0  0.0  0.0  0.0  0.0  ...  0.0  0.0   \n\n      36   37   38             TimeHour           TimeHour2             Diff  \\\n545  0.0  0.0  1.0  2018-01-24 06:00:00 2018-01-24 06:00:00  0 days 01:00:00   \n546  0.0  0.0  1.0  2018-01-24 07:00:00 2018-01-24 07:00:00  0 days 01:00:00   \n547  0.0  0.0  1.0  2018-01-24 08:00:00 2018-01-24 08:00:00  0 days 01:00:00   \n548  0.0  0.0  1.0  2018-01-24 09:00:00 2018-01-24 09:00:00  0 days 01:00:00   \n549  0.0  0.0  1.0  2018-01-24 10:00:00 2018-01-24 10:00:00  0 days 01:00:00   \n550  0.0  0.0  1.0  2018-01-25 14:00:00 2018-01-25 14:00:00  1 days 04:00:00   \n551  0.0  0.0  1.0  2018-01-25 15:00:00 2018-01-25 15:00:00  0 days 01:00:00   \n552  0.0  0.0  1.0  2018-01-25 16:00:00 2018-01-25 16:00:00  0 days 01:00:00   \n553  0.0  0.0  1.0  2018-01-25 17:00:00 2018-01-25 17:00:00  0 days 01:00:00   \n554  0.0  0.0  1.0  2018-01-25 18:00:00 2018-01-25 18:00:00  0 days 01:00:00   \n555  0.0  0.0  1.0  2018-01-25 19:00:00 2018-01-25 19:00:00  0 days 01:00:00   \n556  0.0  0.0  1.0  2018-01-25 20:00:00 2018-01-25 20:00:00  0 days 01:00:00   \n557  0.0  0.0  1.0  2018-01-25 21:00:00 2018-01-25 21:00:00  0 days 01:00:00   \n558  0.0  0.0  1.0  2018-01-25 22:00:00 2018-01-25 22:00:00  0 days 01:00:00   \n559  0.0  0.0  1.0  2018-01-25 23:00:00 2018-01-25 23:00:00  0 days 01:00:00   \n\n                  Before  diff_hours  \n545  2018-01-24 05:00:00         1.0  \n546  2018-01-24 06:00:00         1.0  \n547  2018-01-24 07:00:00         1.0  \n548  2018-01-24 08:00:00         1.0  \n549  2018-01-24 09:00:00         1.0  \n550  2018-01-24 10:00:00        28.0  \n551  2018-01-25 14:00:00         1.0  \n552  2018-01-25 15:00:00         1.0  \n553  2018-01-25 16:00:00         1.0  \n554  2018-01-25 17:00:00         1.0  \n555  2018-01-25 18:00:00         1.0  \n556  2018-01-25 19:00:00         1.0  \n557  2018-01-25 20:00:00         1.0  \n558  2018-01-25 21:00:00         1.0  \n559  2018-01-25 22:00:00         1.0  \n\n[15 rows x 44 columns]",
      "text/html": "<div>\n<style scoped>\n    .dataframe tbody tr th:only-of-type {\n        vertical-align: middle;\n    }\n\n    .dataframe tbody tr th {\n        vertical-align: top;\n    }\n\n    .dataframe thead th {\n        text-align: right;\n    }\n</style>\n<table border=\"1\" class=\"dataframe\">\n  <thead>\n    <tr style=\"text-align: right;\">\n      <th></th>\n      <th>0</th>\n      <th>1</th>\n      <th>2</th>\n      <th>3</th>\n      <th>4</th>\n      <th>5</th>\n      <th>6</th>\n      <th>7</th>\n      <th>8</th>\n      <th>9</th>\n      <th>...</th>\n      <th>34</th>\n      <th>35</th>\n      <th>36</th>\n      <th>37</th>\n      <th>38</th>\n      <th>TimeHour</th>\n      <th>TimeHour2</th>\n      <th>Diff</th>\n      <th>Before</th>\n      <th>diff_hours</th>\n    </tr>\n  </thead>\n  <tbody>\n    <tr>\n      <th>545</th>\n      <td>0.007029</td>\n      <td>0.0</td>\n      <td>0.0</td>\n      <td>0.0</td>\n      <td>0.0</td>\n      <td>0.0</td>\n      <td>0.0</td>\n      <td>1.0</td>\n      <td>0.0</td>\n      <td>0.0</td>\n      <td>...</td>\n      <td>0.0</td>\n      <td>0.0</td>\n      <td>0.0</td>\n      <td>0.0</td>\n      <td>1.0</td>\n      <td>2018-01-24 06:00:00</td>\n      <td>2018-01-24 06:00:00</td>\n      <td>0 days 01:00:00</td>\n      <td>2018-01-24 05:00:00</td>\n      <td>1.0</td>\n    </tr>\n    <tr>\n      <th>546</th>\n      <td>0.007944</td>\n      <td>0.0</td>\n      <td>0.0</td>\n      <td>0.0</td>\n      <td>0.0</td>\n      <td>0.0</td>\n      <td>0.0</td>\n      <td>0.0</td>\n      <td>1.0</td>\n      <td>0.0</td>\n      <td>...</td>\n      <td>0.0</td>\n      <td>0.0</td>\n      <td>0.0</td>\n      <td>0.0</td>\n      <td>1.0</td>\n      <td>2018-01-24 07:00:00</td>\n      <td>2018-01-24 07:00:00</td>\n      <td>0 days 01:00:00</td>\n      <td>2018-01-24 06:00:00</td>\n      <td>1.0</td>\n    </tr>\n    <tr>\n      <th>547</th>\n      <td>0.002714</td>\n      <td>0.0</td>\n      <td>0.0</td>\n      <td>0.0</td>\n      <td>0.0</td>\n      <td>0.0</td>\n      <td>0.0</td>\n      <td>0.0</td>\n      <td>0.0</td>\n      <td>1.0</td>\n      <td>...</td>\n      <td>0.0</td>\n      <td>0.0</td>\n      <td>0.0</td>\n      <td>0.0</td>\n      <td>1.0</td>\n      <td>2018-01-24 08:00:00</td>\n      <td>2018-01-24 08:00:00</td>\n      <td>0 days 01:00:00</td>\n      <td>2018-01-24 07:00:00</td>\n      <td>1.0</td>\n    </tr>\n    <tr>\n      <th>548</th>\n      <td>0.006858</td>\n      <td>0.0</td>\n      <td>0.0</td>\n      <td>0.0</td>\n      <td>0.0</td>\n      <td>0.0</td>\n      <td>0.0</td>\n      <td>0.0</td>\n      <td>0.0</td>\n      <td>0.0</td>\n      <td>...</td>\n      <td>0.0</td>\n      <td>0.0</td>\n      <td>0.0</td>\n      <td>0.0</td>\n      <td>1.0</td>\n      <td>2018-01-24 09:00:00</td>\n      <td>2018-01-24 09:00:00</td>\n      <td>0 days 01:00:00</td>\n      <td>2018-01-24 08:00:00</td>\n      <td>1.0</td>\n    </tr>\n    <tr>\n      <th>549</th>\n      <td>0.136719</td>\n      <td>0.0</td>\n      <td>0.0</td>\n      <td>0.0</td>\n      <td>0.0</td>\n      <td>0.0</td>\n      <td>0.0</td>\n      <td>0.0</td>\n      <td>0.0</td>\n      <td>0.0</td>\n      <td>...</td>\n      <td>0.0</td>\n      <td>0.0</td>\n      <td>0.0</td>\n      <td>0.0</td>\n      <td>1.0</td>\n      <td>2018-01-24 10:00:00</td>\n      <td>2018-01-24 10:00:00</td>\n      <td>0 days 01:00:00</td>\n      <td>2018-01-24 09:00:00</td>\n      <td>1.0</td>\n    </tr>\n    <tr>\n      <th>550</th>\n      <td>0.371582</td>\n      <td>0.0</td>\n      <td>0.0</td>\n      <td>0.0</td>\n      <td>0.0</td>\n      <td>0.0</td>\n      <td>0.0</td>\n      <td>0.0</td>\n      <td>0.0</td>\n      <td>0.0</td>\n      <td>...</td>\n      <td>0.0</td>\n      <td>0.0</td>\n      <td>0.0</td>\n      <td>0.0</td>\n      <td>1.0</td>\n      <td>2018-01-25 14:00:00</td>\n      <td>2018-01-25 14:00:00</td>\n      <td>1 days 04:00:00</td>\n      <td>2018-01-24 10:00:00</td>\n      <td>28.0</td>\n    </tr>\n    <tr>\n      <th>551</th>\n      <td>0.091797</td>\n      <td>0.0</td>\n      <td>0.0</td>\n      <td>0.0</td>\n      <td>0.0</td>\n      <td>0.0</td>\n      <td>0.0</td>\n      <td>0.0</td>\n      <td>0.0</td>\n      <td>0.0</td>\n      <td>...</td>\n      <td>0.0</td>\n      <td>0.0</td>\n      <td>0.0</td>\n      <td>0.0</td>\n      <td>1.0</td>\n      <td>2018-01-25 15:00:00</td>\n      <td>2018-01-25 15:00:00</td>\n      <td>0 days 01:00:00</td>\n      <td>2018-01-25 14:00:00</td>\n      <td>1.0</td>\n    </tr>\n    <tr>\n      <th>552</th>\n      <td>0.061523</td>\n      <td>0.0</td>\n      <td>0.0</td>\n      <td>0.0</td>\n      <td>0.0</td>\n      <td>0.0</td>\n      <td>0.0</td>\n      <td>0.0</td>\n      <td>0.0</td>\n      <td>0.0</td>\n      <td>...</td>\n      <td>0.0</td>\n      <td>0.0</td>\n      <td>0.0</td>\n      <td>0.0</td>\n      <td>1.0</td>\n      <td>2018-01-25 16:00:00</td>\n      <td>2018-01-25 16:00:00</td>\n      <td>0 days 01:00:00</td>\n      <td>2018-01-25 15:00:00</td>\n      <td>1.0</td>\n    </tr>\n    <tr>\n      <th>553</th>\n      <td>0.293457</td>\n      <td>0.0</td>\n      <td>0.0</td>\n      <td>0.0</td>\n      <td>0.0</td>\n      <td>0.0</td>\n      <td>0.0</td>\n      <td>0.0</td>\n      <td>0.0</td>\n      <td>0.0</td>\n      <td>...</td>\n      <td>0.0</td>\n      <td>0.0</td>\n      <td>0.0</td>\n      <td>0.0</td>\n      <td>1.0</td>\n      <td>2018-01-25 17:00:00</td>\n      <td>2018-01-25 17:00:00</td>\n      <td>0 days 01:00:00</td>\n      <td>2018-01-25 16:00:00</td>\n      <td>1.0</td>\n    </tr>\n    <tr>\n      <th>554</th>\n      <td>0.000488</td>\n      <td>0.0</td>\n      <td>0.0</td>\n      <td>0.0</td>\n      <td>0.0</td>\n      <td>0.0</td>\n      <td>0.0</td>\n      <td>0.0</td>\n      <td>0.0</td>\n      <td>0.0</td>\n      <td>...</td>\n      <td>0.0</td>\n      <td>0.0</td>\n      <td>0.0</td>\n      <td>0.0</td>\n      <td>1.0</td>\n      <td>2018-01-25 18:00:00</td>\n      <td>2018-01-25 18:00:00</td>\n      <td>0 days 01:00:00</td>\n      <td>2018-01-25 17:00:00</td>\n      <td>1.0</td>\n    </tr>\n    <tr>\n      <th>555</th>\n      <td>0.001465</td>\n      <td>0.0</td>\n      <td>0.0</td>\n      <td>0.0</td>\n      <td>0.0</td>\n      <td>0.0</td>\n      <td>0.0</td>\n      <td>0.0</td>\n      <td>0.0</td>\n      <td>0.0</td>\n      <td>...</td>\n      <td>0.0</td>\n      <td>0.0</td>\n      <td>0.0</td>\n      <td>0.0</td>\n      <td>1.0</td>\n      <td>2018-01-25 19:00:00</td>\n      <td>2018-01-25 19:00:00</td>\n      <td>0 days 01:00:00</td>\n      <td>2018-01-25 18:00:00</td>\n      <td>1.0</td>\n    </tr>\n    <tr>\n      <th>556</th>\n      <td>0.089844</td>\n      <td>0.0</td>\n      <td>0.0</td>\n      <td>0.0</td>\n      <td>0.0</td>\n      <td>0.0</td>\n      <td>0.0</td>\n      <td>0.0</td>\n      <td>0.0</td>\n      <td>0.0</td>\n      <td>...</td>\n      <td>0.0</td>\n      <td>0.0</td>\n      <td>0.0</td>\n      <td>0.0</td>\n      <td>1.0</td>\n      <td>2018-01-25 20:00:00</td>\n      <td>2018-01-25 20:00:00</td>\n      <td>0 days 01:00:00</td>\n      <td>2018-01-25 19:00:00</td>\n      <td>1.0</td>\n    </tr>\n    <tr>\n      <th>557</th>\n      <td>0.000000</td>\n      <td>0.0</td>\n      <td>0.0</td>\n      <td>0.0</td>\n      <td>0.0</td>\n      <td>0.0</td>\n      <td>0.0</td>\n      <td>0.0</td>\n      <td>0.0</td>\n      <td>0.0</td>\n      <td>...</td>\n      <td>0.0</td>\n      <td>0.0</td>\n      <td>0.0</td>\n      <td>0.0</td>\n      <td>1.0</td>\n      <td>2018-01-25 21:00:00</td>\n      <td>2018-01-25 21:00:00</td>\n      <td>0 days 01:00:00</td>\n      <td>2018-01-25 20:00:00</td>\n      <td>1.0</td>\n    </tr>\n    <tr>\n      <th>558</th>\n      <td>0.002441</td>\n      <td>0.0</td>\n      <td>0.0</td>\n      <td>0.0</td>\n      <td>0.0</td>\n      <td>0.0</td>\n      <td>0.0</td>\n      <td>0.0</td>\n      <td>0.0</td>\n      <td>0.0</td>\n      <td>...</td>\n      <td>0.0</td>\n      <td>0.0</td>\n      <td>0.0</td>\n      <td>0.0</td>\n      <td>1.0</td>\n      <td>2018-01-25 22:00:00</td>\n      <td>2018-01-25 22:00:00</td>\n      <td>0 days 01:00:00</td>\n      <td>2018-01-25 21:00:00</td>\n      <td>1.0</td>\n    </tr>\n    <tr>\n      <th>559</th>\n      <td>0.000000</td>\n      <td>0.0</td>\n      <td>0.0</td>\n      <td>0.0</td>\n      <td>0.0</td>\n      <td>0.0</td>\n      <td>0.0</td>\n      <td>0.0</td>\n      <td>0.0</td>\n      <td>0.0</td>\n      <td>...</td>\n      <td>0.0</td>\n      <td>0.0</td>\n      <td>0.0</td>\n      <td>0.0</td>\n      <td>1.0</td>\n      <td>2018-01-25 23:00:00</td>\n      <td>2018-01-25 23:00:00</td>\n      <td>0 days 01:00:00</td>\n      <td>2018-01-25 22:00:00</td>\n      <td>1.0</td>\n    </tr>\n  </tbody>\n</table>\n<p>15 rows × 44 columns</p>\n</div>"
     },
     "execution_count": 46,
     "metadata": {},
     "output_type": "execute_result"
    }
   ],
   "source": [
    "df_show = df_test[545:560]\n",
    "df_show"
   ],
   "metadata": {
    "collapsed": false,
    "pycharm": {
     "name": "#%%\n"
    }
   }
  },
  {
   "cell_type": "code",
   "execution_count": 58,
   "outputs": [
    {
     "name": "stdout",
     "output_type": "stream",
     "text": [
      "Missing values approximated\n"
     ]
    }
   ],
   "source": [
    "x = 0\n",
    "while x < 13000:\n",
    "    if df_test.loc[x, 'diff_hours'] != 1.0 and df_test.loc[x, \"diff_hours\"] != 24.0 and df_test.loc[x, 'diff_hours'] != 96.0 and df_test.loc[x, 'diff_hours'] != 48.0 and df_test.loc[x, 'diff_hours'] != 480.0:\n",
    "        print(x)\n",
    "        df_test.loc[x, 'diff_hours'] = df_test.loc[x, 'diff_hours'] - 1\n",
    "        df_test = fill_with_average(df_test, x-1, x)\n",
    "        x = x - 1\n",
    "    else:\n",
    "        x = x + 1\n",
    "\n",
    "print ('Missing values approximated')"
   ],
   "metadata": {
    "collapsed": false,
    "pycharm": {
     "name": "#%%\n"
    }
   }
  },
  {
   "cell_type": "code",
   "execution_count": 60,
   "outputs": [
    {
     "data": {
      "text/plain": "            0    1    2    3    4    5    6    7    8    9  ...   34   35  \\\n549  0.136719  0.0  0.0  0.0  0.0  0.0  0.0  0.0  0.0  0.0  ...  0.0  0.0   \n550  0.254150  0.0  0.0  0.0  0.0  0.0  0.0  0.0  0.0  0.0  ...  0.0  0.0   \n551  0.312866  0.0  0.0  0.0  0.0  0.0  0.0  0.0  0.0  0.0  ...  0.0  0.0   \n552  0.371582  0.0  0.0  0.0  0.0  0.0  0.0  0.0  0.0  0.0  ...  0.0  0.0   \n553  0.091797  0.0  0.0  0.0  0.0  0.0  0.0  0.0  0.0  0.0  ...  0.0  0.0   \n554  0.061523  0.0  0.0  0.0  0.0  0.0  0.0  0.0  0.0  0.0  ...  0.0  0.0   \n555  0.293457  0.0  0.0  0.0  0.0  0.0  0.0  0.0  0.0  0.0  ...  0.0  0.0   \n556  0.000488  0.0  0.0  0.0  0.0  0.0  0.0  0.0  0.0  0.0  ...  0.0  0.0   \n557  0.001465  0.0  0.0  0.0  0.0  0.0  0.0  0.0  0.0  0.0  ...  0.0  0.0   \n558  0.089844  0.0  0.0  0.0  0.0  0.0  0.0  0.0  0.0  0.0  ...  0.0  0.0   \n559  0.000000  0.0  0.0  0.0  0.0  0.0  0.0  0.0  0.0  0.0  ...  0.0  0.0   \n\n      36   37   38             TimeHour           TimeHour2             Diff  \\\n549  0.0  0.0  1.0  2018-01-24 10:00:00 2018-01-24 10:00:00  0 days 01:00:00   \n550  0.0  0.0  1.0  2018-01-24 10:00:00 2018-01-24 11:00:00  0 days 01:00:00   \n551  0.0  0.0  1.0  2018-01-24 10:00:00 2018-01-24 12:00:00  0 days 01:00:00   \n552  0.0  0.0  1.0  2018-01-25 14:00:00 2018-01-25 14:00:00  1 days 04:00:00   \n553  0.0  0.0  1.0  2018-01-25 15:00:00 2018-01-25 15:00:00  0 days 01:00:00   \n554  0.0  0.0  1.0  2018-01-25 16:00:00 2018-01-25 16:00:00  0 days 01:00:00   \n555  0.0  0.0  1.0  2018-01-25 17:00:00 2018-01-25 17:00:00  0 days 01:00:00   \n556  0.0  0.0  1.0  2018-01-25 18:00:00 2018-01-25 18:00:00  0 days 01:00:00   \n557  0.0  0.0  1.0  2018-01-25 19:00:00 2018-01-25 19:00:00  0 days 01:00:00   \n558  0.0  0.0  1.0  2018-01-25 20:00:00 2018-01-25 20:00:00  0 days 01:00:00   \n559  0.0  0.0  1.0  2018-01-25 21:00:00 2018-01-25 21:00:00  0 days 01:00:00   \n\n                  Before  diff_hours  \n549  2018-01-24 09:00:00         1.0  \n550  2018-01-24 09:00:00         1.0  \n551  2018-01-24 09:00:00         1.0  \n552  2018-01-24 10:00:00        24.0  \n553  2018-01-25 14:00:00         1.0  \n554  2018-01-25 15:00:00         1.0  \n555  2018-01-25 16:00:00         1.0  \n556  2018-01-25 17:00:00         1.0  \n557  2018-01-25 18:00:00         1.0  \n558  2018-01-25 19:00:00         1.0  \n559  2018-01-25 20:00:00         1.0  \n\n[11 rows x 44 columns]",
      "text/html": "<div>\n<style scoped>\n    .dataframe tbody tr th:only-of-type {\n        vertical-align: middle;\n    }\n\n    .dataframe tbody tr th {\n        vertical-align: top;\n    }\n\n    .dataframe thead th {\n        text-align: right;\n    }\n</style>\n<table border=\"1\" class=\"dataframe\">\n  <thead>\n    <tr style=\"text-align: right;\">\n      <th></th>\n      <th>0</th>\n      <th>1</th>\n      <th>2</th>\n      <th>3</th>\n      <th>4</th>\n      <th>5</th>\n      <th>6</th>\n      <th>7</th>\n      <th>8</th>\n      <th>9</th>\n      <th>...</th>\n      <th>34</th>\n      <th>35</th>\n      <th>36</th>\n      <th>37</th>\n      <th>38</th>\n      <th>TimeHour</th>\n      <th>TimeHour2</th>\n      <th>Diff</th>\n      <th>Before</th>\n      <th>diff_hours</th>\n    </tr>\n  </thead>\n  <tbody>\n    <tr>\n      <th>549</th>\n      <td>0.136719</td>\n      <td>0.0</td>\n      <td>0.0</td>\n      <td>0.0</td>\n      <td>0.0</td>\n      <td>0.0</td>\n      <td>0.0</td>\n      <td>0.0</td>\n      <td>0.0</td>\n      <td>0.0</td>\n      <td>...</td>\n      <td>0.0</td>\n      <td>0.0</td>\n      <td>0.0</td>\n      <td>0.0</td>\n      <td>1.0</td>\n      <td>2018-01-24 10:00:00</td>\n      <td>2018-01-24 10:00:00</td>\n      <td>0 days 01:00:00</td>\n      <td>2018-01-24 09:00:00</td>\n      <td>1.0</td>\n    </tr>\n    <tr>\n      <th>550</th>\n      <td>0.254150</td>\n      <td>0.0</td>\n      <td>0.0</td>\n      <td>0.0</td>\n      <td>0.0</td>\n      <td>0.0</td>\n      <td>0.0</td>\n      <td>0.0</td>\n      <td>0.0</td>\n      <td>0.0</td>\n      <td>...</td>\n      <td>0.0</td>\n      <td>0.0</td>\n      <td>0.0</td>\n      <td>0.0</td>\n      <td>1.0</td>\n      <td>2018-01-24 10:00:00</td>\n      <td>2018-01-24 11:00:00</td>\n      <td>0 days 01:00:00</td>\n      <td>2018-01-24 09:00:00</td>\n      <td>1.0</td>\n    </tr>\n    <tr>\n      <th>551</th>\n      <td>0.312866</td>\n      <td>0.0</td>\n      <td>0.0</td>\n      <td>0.0</td>\n      <td>0.0</td>\n      <td>0.0</td>\n      <td>0.0</td>\n      <td>0.0</td>\n      <td>0.0</td>\n      <td>0.0</td>\n      <td>...</td>\n      <td>0.0</td>\n      <td>0.0</td>\n      <td>0.0</td>\n      <td>0.0</td>\n      <td>1.0</td>\n      <td>2018-01-24 10:00:00</td>\n      <td>2018-01-24 12:00:00</td>\n      <td>0 days 01:00:00</td>\n      <td>2018-01-24 09:00:00</td>\n      <td>1.0</td>\n    </tr>\n    <tr>\n      <th>552</th>\n      <td>0.371582</td>\n      <td>0.0</td>\n      <td>0.0</td>\n      <td>0.0</td>\n      <td>0.0</td>\n      <td>0.0</td>\n      <td>0.0</td>\n      <td>0.0</td>\n      <td>0.0</td>\n      <td>0.0</td>\n      <td>...</td>\n      <td>0.0</td>\n      <td>0.0</td>\n      <td>0.0</td>\n      <td>0.0</td>\n      <td>1.0</td>\n      <td>2018-01-25 14:00:00</td>\n      <td>2018-01-25 14:00:00</td>\n      <td>1 days 04:00:00</td>\n      <td>2018-01-24 10:00:00</td>\n      <td>24.0</td>\n    </tr>\n    <tr>\n      <th>553</th>\n      <td>0.091797</td>\n      <td>0.0</td>\n      <td>0.0</td>\n      <td>0.0</td>\n      <td>0.0</td>\n      <td>0.0</td>\n      <td>0.0</td>\n      <td>0.0</td>\n      <td>0.0</td>\n      <td>0.0</td>\n      <td>...</td>\n      <td>0.0</td>\n      <td>0.0</td>\n      <td>0.0</td>\n      <td>0.0</td>\n      <td>1.0</td>\n      <td>2018-01-25 15:00:00</td>\n      <td>2018-01-25 15:00:00</td>\n      <td>0 days 01:00:00</td>\n      <td>2018-01-25 14:00:00</td>\n      <td>1.0</td>\n    </tr>\n    <tr>\n      <th>554</th>\n      <td>0.061523</td>\n      <td>0.0</td>\n      <td>0.0</td>\n      <td>0.0</td>\n      <td>0.0</td>\n      <td>0.0</td>\n      <td>0.0</td>\n      <td>0.0</td>\n      <td>0.0</td>\n      <td>0.0</td>\n      <td>...</td>\n      <td>0.0</td>\n      <td>0.0</td>\n      <td>0.0</td>\n      <td>0.0</td>\n      <td>1.0</td>\n      <td>2018-01-25 16:00:00</td>\n      <td>2018-01-25 16:00:00</td>\n      <td>0 days 01:00:00</td>\n      <td>2018-01-25 15:00:00</td>\n      <td>1.0</td>\n    </tr>\n    <tr>\n      <th>555</th>\n      <td>0.293457</td>\n      <td>0.0</td>\n      <td>0.0</td>\n      <td>0.0</td>\n      <td>0.0</td>\n      <td>0.0</td>\n      <td>0.0</td>\n      <td>0.0</td>\n      <td>0.0</td>\n      <td>0.0</td>\n      <td>...</td>\n      <td>0.0</td>\n      <td>0.0</td>\n      <td>0.0</td>\n      <td>0.0</td>\n      <td>1.0</td>\n      <td>2018-01-25 17:00:00</td>\n      <td>2018-01-25 17:00:00</td>\n      <td>0 days 01:00:00</td>\n      <td>2018-01-25 16:00:00</td>\n      <td>1.0</td>\n    </tr>\n    <tr>\n      <th>556</th>\n      <td>0.000488</td>\n      <td>0.0</td>\n      <td>0.0</td>\n      <td>0.0</td>\n      <td>0.0</td>\n      <td>0.0</td>\n      <td>0.0</td>\n      <td>0.0</td>\n      <td>0.0</td>\n      <td>0.0</td>\n      <td>...</td>\n      <td>0.0</td>\n      <td>0.0</td>\n      <td>0.0</td>\n      <td>0.0</td>\n      <td>1.0</td>\n      <td>2018-01-25 18:00:00</td>\n      <td>2018-01-25 18:00:00</td>\n      <td>0 days 01:00:00</td>\n      <td>2018-01-25 17:00:00</td>\n      <td>1.0</td>\n    </tr>\n    <tr>\n      <th>557</th>\n      <td>0.001465</td>\n      <td>0.0</td>\n      <td>0.0</td>\n      <td>0.0</td>\n      <td>0.0</td>\n      <td>0.0</td>\n      <td>0.0</td>\n      <td>0.0</td>\n      <td>0.0</td>\n      <td>0.0</td>\n      <td>...</td>\n      <td>0.0</td>\n      <td>0.0</td>\n      <td>0.0</td>\n      <td>0.0</td>\n      <td>1.0</td>\n      <td>2018-01-25 19:00:00</td>\n      <td>2018-01-25 19:00:00</td>\n      <td>0 days 01:00:00</td>\n      <td>2018-01-25 18:00:00</td>\n      <td>1.0</td>\n    </tr>\n    <tr>\n      <th>558</th>\n      <td>0.089844</td>\n      <td>0.0</td>\n      <td>0.0</td>\n      <td>0.0</td>\n      <td>0.0</td>\n      <td>0.0</td>\n      <td>0.0</td>\n      <td>0.0</td>\n      <td>0.0</td>\n      <td>0.0</td>\n      <td>...</td>\n      <td>0.0</td>\n      <td>0.0</td>\n      <td>0.0</td>\n      <td>0.0</td>\n      <td>1.0</td>\n      <td>2018-01-25 20:00:00</td>\n      <td>2018-01-25 20:00:00</td>\n      <td>0 days 01:00:00</td>\n      <td>2018-01-25 19:00:00</td>\n      <td>1.0</td>\n    </tr>\n    <tr>\n      <th>559</th>\n      <td>0.000000</td>\n      <td>0.0</td>\n      <td>0.0</td>\n      <td>0.0</td>\n      <td>0.0</td>\n      <td>0.0</td>\n      <td>0.0</td>\n      <td>0.0</td>\n      <td>0.0</td>\n      <td>0.0</td>\n      <td>...</td>\n      <td>0.0</td>\n      <td>0.0</td>\n      <td>0.0</td>\n      <td>0.0</td>\n      <td>1.0</td>\n      <td>2018-01-25 21:00:00</td>\n      <td>2018-01-25 21:00:00</td>\n      <td>0 days 01:00:00</td>\n      <td>2018-01-25 20:00:00</td>\n      <td>1.0</td>\n    </tr>\n  </tbody>\n</table>\n<p>11 rows × 44 columns</p>\n</div>"
     },
     "execution_count": 60,
     "metadata": {},
     "output_type": "execute_result"
    }
   ],
   "source": [
    "#df_test[df_test['diff_hours']>1]\n",
    "df_test[549:560]"
   ],
   "metadata": {
    "collapsed": false,
    "pycharm": {
     "name": "#%%\n"
    }
   }
  }
 ],
 "metadata": {
  "colab": {
   "name": "LZS_run_code_model.ipynb",
   "provenance": []
  },
  "kernelspec": {
   "display_name": "Python 3",
   "language": "python",
   "name": "python3"
  },
  "language_info": {
   "codemirror_mode": {
    "name": "ipython",
    "version": 3
   },
   "file_extension": ".py",
   "mimetype": "text/x-python",
   "name": "python",
   "nbconvert_exporter": "python",
   "pygments_lexer": "ipython3",
   "version": "3.7.4"
  }
 },
 "nbformat": 4,
 "nbformat_minor": 1
}