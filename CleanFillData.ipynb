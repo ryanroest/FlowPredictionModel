{
 "cells": [
  {
   "cell_type": "code",
   "execution_count": 2,
   "outputs": [],
   "source": [
    "import pandas as pd\n",
    "import numpy as np\n",
    "from datetime import datetime, timedelta\n",
    "\n",
    "# for the model\n",
    "from sklearn.model_selection import train_test_split\n",
    "from keras.models import Sequential\n",
    "from keras.layers import Dense, GRU, RepeatVector, TimeDistributed, Reshape\n",
    "from keras import optimizers\n",
    "from keras.callbacks import ReduceLROnPlateau, EarlyStopping\n",
    "\n",
    "def fill_with_average(df, previous, following):\n",
    "    value_new = list(df.loc[previous])\n",
    "    value_previous = list(df.loc[previous])\n",
    "    value_following = list(df.loc[following])\n",
    "    value_new[0]= (value_previous[0]+value_following[0])/2\n",
    "    date = df.loc[previous, 'TimeHour2']\n",
    "    new_date = date + timedelta(hours=1)\n",
    "    value_new[40]=new_date\n",
    "    value_new[date.hour]=0.0\n",
    "    value_new[new_date.hour]=1.0\n",
    "    #value_new[43]=1.0\n",
    "    df_length = len(df)\n",
    "    df.loc[df_length] = value_new\n",
    "    df = df.sort_values(by= \"TimeHour2\")\n",
    "    df = df.reset_index()\n",
    "    df = df.drop(columns=[\"index\"])\n",
    "    return df\n",
    "\n",
    "def Y_fill_with_average(df, previous, following):\n",
    "    value_new = list(df.loc[previous])\n",
    "    value_previous = list(df.loc[previous])\n",
    "    value_following = list(df.loc[following])\n",
    "    value_new[0]= (value_previous[0]+value_following[0])/2\n",
    "    date = df.loc[previous, 'TimeHour2']\n",
    "    new_date = date + timedelta(hours=1)\n",
    "    value_new[2]=new_date\n",
    "    #value_new[date.hour]=0.0\n",
    "    #value_new[new_date.hour]=1.0\n",
    "    #value_new[43]=1.0\n",
    "    df_length = len(df)\n",
    "    df.loc[df_length] = value_new\n",
    "    df = df.sort_values(by= \"TimeHour2\")\n",
    "    df = df.reset_index()\n",
    "    df = df.drop(columns=[\"index\"])\n",
    "    return df\n",
    "\n"
   ],
   "metadata": {
    "collapsed": false,
    "pycharm": {
     "name": "#%%#%%\n"
    }
   }
  },
  {
   "cell_type": "code",
   "execution_count": 5,
   "outputs": [
    {
     "data": {
      "text/plain": "                  0    1    2    3    4    5    6    7    8    9  ...   34  \\\n550    3.715820e-01  0.0  0.0  0.0  0.0  0.0  0.0  0.0  0.0  0.0  ...  0.0   \n662    0.000000e+00  0.0  0.0  0.0  0.0  0.0  0.0  0.0  0.0  0.0  ...  0.0   \n1037   0.000000e+00  0.0  0.0  0.0  0.0  0.0  0.0  0.0  0.0  0.0  ...  0.0   \n1110   2.441406e-03  0.0  0.0  0.0  0.0  0.0  0.0  0.0  0.0  0.0  ...  0.0   \n1479   0.000000e+00  0.0  0.0  0.0  0.0  0.0  0.0  0.0  0.0  0.0  ...  0.0   \n1661   9.765621e-03  0.0  0.0  0.0  0.0  0.0  0.0  0.0  0.0  0.0  ...  0.0   \n1774   3.749680e-09  0.0  0.0  0.0  0.0  0.0  0.0  0.0  0.0  0.0  ...  0.0   \n1793  -4.523088e-09  0.0  0.0  0.0  0.0  0.0  0.0  0.0  0.0  0.0  ...  0.0   \n2133  -7.734648e-10  0.0  0.0  0.0  0.0  0.0  0.0  0.0  0.0  0.0  ...  0.0   \n3747   0.000000e+00  0.0  1.0  0.0  0.0  0.0  0.0  0.0  0.0  0.0  ...  0.0   \n4806   3.974609e-01  0.0  0.0  0.0  0.0  0.0  0.0  1.0  0.0  0.0  ...  0.0   \n5268   1.723633e-01  0.0  0.0  0.0  0.0  0.0  0.0  0.0  0.0  0.0  ...  0.0   \n6622   0.000000e+00  0.0  0.0  0.0  0.0  0.0  0.0  0.0  0.0  1.0  ...  0.0   \n10024  5.155640e-01  0.0  0.0  0.0  1.0  0.0  0.0  0.0  0.0  0.0  ...  0.0   \n12649  4.370117e-02  0.0  0.0  0.0  0.0  0.0  0.0  0.0  0.0  0.0  ...  0.0   \n\n        35   36   37   38             TimeHour           TimeHour2  \\\n550    0.0  0.0  0.0  1.0  2018-01-25 14:00:00 2018-01-25 14:00:00   \n662    0.0  0.0  0.0  1.0  2018-02-05 16:00:00 2018-02-05 16:00:00   \n1037   0.0  0.0  0.0  1.0  2018-02-23 09:00:00 2018-02-23 09:00:00   \n1110   0.0  0.0  0.0  1.0  2018-02-28 13:00:00 2018-02-28 13:00:00   \n1479   0.0  0.0  0.0  1.0  2018-04-05 20:00:00 2018-04-05 20:00:00   \n1661   0.0  0.0  0.0  1.0  2018-04-13 16:00:00 2018-04-13 16:00:00   \n1774   0.0  0.0  0.0  1.0  2018-04-18 17:00:00 2018-04-18 17:00:00   \n1793   0.0  0.0  0.0  1.0  2018-04-20 12:00:00 2018-04-20 12:00:00   \n2133   0.0  0.0  0.0  1.0  2018-05-04 18:00:00 2018-05-04 18:00:00   \n3747   0.0  0.0  0.0  1.0  2018-07-11 01:00:00 2018-07-11 01:00:00   \n4806   0.0  0.0  0.0  1.0  2018-08-24 06:00:00 2018-08-24 06:00:00   \n5268   0.0  0.0  0.0  1.0  2018-09-12 15:00:00 2018-09-12 15:00:00   \n6622   1.0  0.0  0.0  1.0  2018-11-08 08:00:00 2018-11-08 08:00:00   \n10024  0.0  0.0  0.0  1.0  2019-03-31 03:00:00 2019-03-31 03:00:00   \n12649  0.0  0.0  0.0  1.0  2019-07-18 13:00:00 2019-07-18 13:00:00   \n\n                   Diff               Before  diff_hours  \n550     1 days 04:00:00  2018-01-24 10:00:00        28.0  \n662     4 days 05:00:00  2018-02-01 11:00:00       101.0  \n1037    2 days 03:00:00  2018-02-21 06:00:00        51.0  \n1110    0 days 04:00:00  2018-02-28 09:00:00         4.0  \n1479   20 days 23:00:00  2018-03-15 21:00:00       503.0  \n1661    0 days 06:00:00  2018-04-13 10:00:00         6.0  \n1774    0 days 09:00:00  2018-04-18 08:00:00         9.0  \n1793    1 days 01:00:00  2018-04-19 11:00:00        25.0  \n2133    0 days 03:00:00  2018-05-04 15:00:00         3.0  \n3747    0 days 02:00:00  2018-07-10 23:00:00         2.0  \n4806    0 days 03:00:00  2018-08-24 03:00:00         3.0  \n5268    0 days 04:00:00  2018-09-12 11:00:00         4.0  \n6622    0 days 08:00:00  2018-11-08 00:00:00         8.0  \n10024   0 days 02:00:00  2019-03-31 01:00:00         2.0  \n12649   0 days 02:00:00  2019-07-18 11:00:00         2.0  \n\n[15 rows x 44 columns]",
      "text/html": "<div>\n<style scoped>\n    .dataframe tbody tr th:only-of-type {\n        vertical-align: middle;\n    }\n\n    .dataframe tbody tr th {\n        vertical-align: top;\n    }\n\n    .dataframe thead th {\n        text-align: right;\n    }\n</style>\n<table border=\"1\" class=\"dataframe\">\n  <thead>\n    <tr style=\"text-align: right;\">\n      <th></th>\n      <th>0</th>\n      <th>1</th>\n      <th>2</th>\n      <th>3</th>\n      <th>4</th>\n      <th>5</th>\n      <th>6</th>\n      <th>7</th>\n      <th>8</th>\n      <th>9</th>\n      <th>...</th>\n      <th>34</th>\n      <th>35</th>\n      <th>36</th>\n      <th>37</th>\n      <th>38</th>\n      <th>TimeHour</th>\n      <th>TimeHour2</th>\n      <th>Diff</th>\n      <th>Before</th>\n      <th>diff_hours</th>\n    </tr>\n  </thead>\n  <tbody>\n    <tr>\n      <th>550</th>\n      <td>3.715820e-01</td>\n      <td>0.0</td>\n      <td>0.0</td>\n      <td>0.0</td>\n      <td>0.0</td>\n      <td>0.0</td>\n      <td>0.0</td>\n      <td>0.0</td>\n      <td>0.0</td>\n      <td>0.0</td>\n      <td>...</td>\n      <td>0.0</td>\n      <td>0.0</td>\n      <td>0.0</td>\n      <td>0.0</td>\n      <td>1.0</td>\n      <td>2018-01-25 14:00:00</td>\n      <td>2018-01-25 14:00:00</td>\n      <td>1 days 04:00:00</td>\n      <td>2018-01-24 10:00:00</td>\n      <td>28.0</td>\n    </tr>\n    <tr>\n      <th>662</th>\n      <td>0.000000e+00</td>\n      <td>0.0</td>\n      <td>0.0</td>\n      <td>0.0</td>\n      <td>0.0</td>\n      <td>0.0</td>\n      <td>0.0</td>\n      <td>0.0</td>\n      <td>0.0</td>\n      <td>0.0</td>\n      <td>...</td>\n      <td>0.0</td>\n      <td>0.0</td>\n      <td>0.0</td>\n      <td>0.0</td>\n      <td>1.0</td>\n      <td>2018-02-05 16:00:00</td>\n      <td>2018-02-05 16:00:00</td>\n      <td>4 days 05:00:00</td>\n      <td>2018-02-01 11:00:00</td>\n      <td>101.0</td>\n    </tr>\n    <tr>\n      <th>1037</th>\n      <td>0.000000e+00</td>\n      <td>0.0</td>\n      <td>0.0</td>\n      <td>0.0</td>\n      <td>0.0</td>\n      <td>0.0</td>\n      <td>0.0</td>\n      <td>0.0</td>\n      <td>0.0</td>\n      <td>0.0</td>\n      <td>...</td>\n      <td>0.0</td>\n      <td>0.0</td>\n      <td>0.0</td>\n      <td>0.0</td>\n      <td>1.0</td>\n      <td>2018-02-23 09:00:00</td>\n      <td>2018-02-23 09:00:00</td>\n      <td>2 days 03:00:00</td>\n      <td>2018-02-21 06:00:00</td>\n      <td>51.0</td>\n    </tr>\n    <tr>\n      <th>1110</th>\n      <td>2.441406e-03</td>\n      <td>0.0</td>\n      <td>0.0</td>\n      <td>0.0</td>\n      <td>0.0</td>\n      <td>0.0</td>\n      <td>0.0</td>\n      <td>0.0</td>\n      <td>0.0</td>\n      <td>0.0</td>\n      <td>...</td>\n      <td>0.0</td>\n      <td>0.0</td>\n      <td>0.0</td>\n      <td>0.0</td>\n      <td>1.0</td>\n      <td>2018-02-28 13:00:00</td>\n      <td>2018-02-28 13:00:00</td>\n      <td>0 days 04:00:00</td>\n      <td>2018-02-28 09:00:00</td>\n      <td>4.0</td>\n    </tr>\n    <tr>\n      <th>1479</th>\n      <td>0.000000e+00</td>\n      <td>0.0</td>\n      <td>0.0</td>\n      <td>0.0</td>\n      <td>0.0</td>\n      <td>0.0</td>\n      <td>0.0</td>\n      <td>0.0</td>\n      <td>0.0</td>\n      <td>0.0</td>\n      <td>...</td>\n      <td>0.0</td>\n      <td>0.0</td>\n      <td>0.0</td>\n      <td>0.0</td>\n      <td>1.0</td>\n      <td>2018-04-05 20:00:00</td>\n      <td>2018-04-05 20:00:00</td>\n      <td>20 days 23:00:00</td>\n      <td>2018-03-15 21:00:00</td>\n      <td>503.0</td>\n    </tr>\n    <tr>\n      <th>1661</th>\n      <td>9.765621e-03</td>\n      <td>0.0</td>\n      <td>0.0</td>\n      <td>0.0</td>\n      <td>0.0</td>\n      <td>0.0</td>\n      <td>0.0</td>\n      <td>0.0</td>\n      <td>0.0</td>\n      <td>0.0</td>\n      <td>...</td>\n      <td>0.0</td>\n      <td>0.0</td>\n      <td>0.0</td>\n      <td>0.0</td>\n      <td>1.0</td>\n      <td>2018-04-13 16:00:00</td>\n      <td>2018-04-13 16:00:00</td>\n      <td>0 days 06:00:00</td>\n      <td>2018-04-13 10:00:00</td>\n      <td>6.0</td>\n    </tr>\n    <tr>\n      <th>1774</th>\n      <td>3.749680e-09</td>\n      <td>0.0</td>\n      <td>0.0</td>\n      <td>0.0</td>\n      <td>0.0</td>\n      <td>0.0</td>\n      <td>0.0</td>\n      <td>0.0</td>\n      <td>0.0</td>\n      <td>0.0</td>\n      <td>...</td>\n      <td>0.0</td>\n      <td>0.0</td>\n      <td>0.0</td>\n      <td>0.0</td>\n      <td>1.0</td>\n      <td>2018-04-18 17:00:00</td>\n      <td>2018-04-18 17:00:00</td>\n      <td>0 days 09:00:00</td>\n      <td>2018-04-18 08:00:00</td>\n      <td>9.0</td>\n    </tr>\n    <tr>\n      <th>1793</th>\n      <td>-4.523088e-09</td>\n      <td>0.0</td>\n      <td>0.0</td>\n      <td>0.0</td>\n      <td>0.0</td>\n      <td>0.0</td>\n      <td>0.0</td>\n      <td>0.0</td>\n      <td>0.0</td>\n      <td>0.0</td>\n      <td>...</td>\n      <td>0.0</td>\n      <td>0.0</td>\n      <td>0.0</td>\n      <td>0.0</td>\n      <td>1.0</td>\n      <td>2018-04-20 12:00:00</td>\n      <td>2018-04-20 12:00:00</td>\n      <td>1 days 01:00:00</td>\n      <td>2018-04-19 11:00:00</td>\n      <td>25.0</td>\n    </tr>\n    <tr>\n      <th>2133</th>\n      <td>-7.734648e-10</td>\n      <td>0.0</td>\n      <td>0.0</td>\n      <td>0.0</td>\n      <td>0.0</td>\n      <td>0.0</td>\n      <td>0.0</td>\n      <td>0.0</td>\n      <td>0.0</td>\n      <td>0.0</td>\n      <td>...</td>\n      <td>0.0</td>\n      <td>0.0</td>\n      <td>0.0</td>\n      <td>0.0</td>\n      <td>1.0</td>\n      <td>2018-05-04 18:00:00</td>\n      <td>2018-05-04 18:00:00</td>\n      <td>0 days 03:00:00</td>\n      <td>2018-05-04 15:00:00</td>\n      <td>3.0</td>\n    </tr>\n    <tr>\n      <th>3747</th>\n      <td>0.000000e+00</td>\n      <td>0.0</td>\n      <td>1.0</td>\n      <td>0.0</td>\n      <td>0.0</td>\n      <td>0.0</td>\n      <td>0.0</td>\n      <td>0.0</td>\n      <td>0.0</td>\n      <td>0.0</td>\n      <td>...</td>\n      <td>0.0</td>\n      <td>0.0</td>\n      <td>0.0</td>\n      <td>0.0</td>\n      <td>1.0</td>\n      <td>2018-07-11 01:00:00</td>\n      <td>2018-07-11 01:00:00</td>\n      <td>0 days 02:00:00</td>\n      <td>2018-07-10 23:00:00</td>\n      <td>2.0</td>\n    </tr>\n    <tr>\n      <th>4806</th>\n      <td>3.974609e-01</td>\n      <td>0.0</td>\n      <td>0.0</td>\n      <td>0.0</td>\n      <td>0.0</td>\n      <td>0.0</td>\n      <td>0.0</td>\n      <td>1.0</td>\n      <td>0.0</td>\n      <td>0.0</td>\n      <td>...</td>\n      <td>0.0</td>\n      <td>0.0</td>\n      <td>0.0</td>\n      <td>0.0</td>\n      <td>1.0</td>\n      <td>2018-08-24 06:00:00</td>\n      <td>2018-08-24 06:00:00</td>\n      <td>0 days 03:00:00</td>\n      <td>2018-08-24 03:00:00</td>\n      <td>3.0</td>\n    </tr>\n    <tr>\n      <th>5268</th>\n      <td>1.723633e-01</td>\n      <td>0.0</td>\n      <td>0.0</td>\n      <td>0.0</td>\n      <td>0.0</td>\n      <td>0.0</td>\n      <td>0.0</td>\n      <td>0.0</td>\n      <td>0.0</td>\n      <td>0.0</td>\n      <td>...</td>\n      <td>0.0</td>\n      <td>0.0</td>\n      <td>0.0</td>\n      <td>0.0</td>\n      <td>1.0</td>\n      <td>2018-09-12 15:00:00</td>\n      <td>2018-09-12 15:00:00</td>\n      <td>0 days 04:00:00</td>\n      <td>2018-09-12 11:00:00</td>\n      <td>4.0</td>\n    </tr>\n    <tr>\n      <th>6622</th>\n      <td>0.000000e+00</td>\n      <td>0.0</td>\n      <td>0.0</td>\n      <td>0.0</td>\n      <td>0.0</td>\n      <td>0.0</td>\n      <td>0.0</td>\n      <td>0.0</td>\n      <td>0.0</td>\n      <td>1.0</td>\n      <td>...</td>\n      <td>0.0</td>\n      <td>1.0</td>\n      <td>0.0</td>\n      <td>0.0</td>\n      <td>1.0</td>\n      <td>2018-11-08 08:00:00</td>\n      <td>2018-11-08 08:00:00</td>\n      <td>0 days 08:00:00</td>\n      <td>2018-11-08 00:00:00</td>\n      <td>8.0</td>\n    </tr>\n    <tr>\n      <th>10024</th>\n      <td>5.155640e-01</td>\n      <td>0.0</td>\n      <td>0.0</td>\n      <td>0.0</td>\n      <td>1.0</td>\n      <td>0.0</td>\n      <td>0.0</td>\n      <td>0.0</td>\n      <td>0.0</td>\n      <td>0.0</td>\n      <td>...</td>\n      <td>0.0</td>\n      <td>0.0</td>\n      <td>0.0</td>\n      <td>0.0</td>\n      <td>1.0</td>\n      <td>2019-03-31 03:00:00</td>\n      <td>2019-03-31 03:00:00</td>\n      <td>0 days 02:00:00</td>\n      <td>2019-03-31 01:00:00</td>\n      <td>2.0</td>\n    </tr>\n    <tr>\n      <th>12649</th>\n      <td>4.370117e-02</td>\n      <td>0.0</td>\n      <td>0.0</td>\n      <td>0.0</td>\n      <td>0.0</td>\n      <td>0.0</td>\n      <td>0.0</td>\n      <td>0.0</td>\n      <td>0.0</td>\n      <td>0.0</td>\n      <td>...</td>\n      <td>0.0</td>\n      <td>0.0</td>\n      <td>0.0</td>\n      <td>0.0</td>\n      <td>1.0</td>\n      <td>2019-07-18 13:00:00</td>\n      <td>2019-07-18 13:00:00</td>\n      <td>0 days 02:00:00</td>\n      <td>2019-07-18 11:00:00</td>\n      <td>2.0</td>\n    </tr>\n  </tbody>\n</table>\n<p>15 rows × 44 columns</p>\n</div>"
     },
     "execution_count": 5,
     "metadata": {},
     "output_type": "execute_result"
    }
   ],
   "source": [
    "X = np.load('X.npy')\n",
    "y = np.load('y.npy')\n",
    "TimeHour = pd.read_csv('TimeHour.csv')\n",
    "\n",
    "df_test = pd.DataFrame(data=X)\n",
    "df_test['TimeHour'] = TimeHour.loc[:, 'TimeHour']\n",
    "df_test['TimeHour2'] = 'NA'\n",
    "df_test['TimeHour2'] = pd.to_datetime(df_test['TimeHour'], format='%Y-%m-%d %H:%M:%S')\n",
    "df_test['Diff'] = 'NA'\n",
    "df_test['Before']=\"NA\"\n",
    "for x in range(1, df_test.shape[0]):\n",
    "    before = df_test.loc[x - 1, 'TimeHour2']\n",
    "    df_test.loc[x, 'Before'] = before\n",
    "    now = df_test.loc[x, 'TimeHour2']\n",
    "    diff = now - before\n",
    "    df_test.loc[x, 'Diff'] = diff\n",
    "df_test\n",
    "df_test = df_test.drop(0)\n",
    "df_test['diff_hours'] = [x.total_seconds() / 3600 for x in df_test['Diff']]\n",
    "\n",
    "\n",
    "\n",
    "df_test = df_test.drop([1141,1142])\n",
    "df_test = df_test.reset_index()\n",
    "df_test = df_test.drop(columns=[\"index\"])\n",
    "df_test = df_test.drop([655,656,657,658,659,660,661,662,663,664,665,666,667,668,669])\n",
    "df_test = df_test.reset_index()\n",
    "df_test = df_test.drop(columns=[\"index\"])\n",
    "df_test = df_test.drop([641,642,643,644,645,646,647,648,649,650,651,652,653,654,655])\n",
    "df_test = df_test.reset_index()\n",
    "df_test = df_test.drop(columns=[\"index\"])\n",
    "df_test = df_test.drop([1480])\n",
    "df_test = df_test.drop([7900,7901,7902,7903,7904,7905])\n",
    "df_test = df_test.reset_index()\n",
    "df_test = df_test.drop(columns=[\"index\"])\n",
    "df_test[df_test['diff_hours']>1]\n"
   ],
   "metadata": {
    "collapsed": false,
    "pycharm": {
     "name": "#%%\n"
    }
   }
  },
  {
   "cell_type": "code",
   "execution_count": 66,
   "outputs": [
    {
     "name": "stdout",
     "output_type": "stream",
     "text": [
      "550\n",
      "551\n",
      "552\n",
      "553\n",
      "666\n",
      "667\n",
      "668\n",
      "669\n",
      "670\n",
      "1046\n",
      "1047\n",
      "1048\n",
      "1122\n",
      "1123\n",
      "1124\n",
      "1494\n",
      "1495\n",
      "1496\n",
      "1497\n",
      "1498\n",
      "1499\n",
      "1500\n",
      "1501\n",
      "1502\n",
      "1503\n",
      "1504\n",
      "1505\n",
      "1506\n",
      "1507\n",
      "1508\n",
      "1509\n",
      "1510\n",
      "1511\n",
      "1512\n",
      "1513\n",
      "1514\n",
      "1515\n",
      "1516\n",
      "1699\n",
      "1700\n",
      "1701\n",
      "1702\n",
      "1703\n",
      "1817\n",
      "1818\n",
      "1819\n",
      "1820\n",
      "1821\n",
      "1822\n",
      "1823\n",
      "1824\n",
      "1844\n",
      "2185\n",
      "2186\n",
      "3801\n",
      "4861\n",
      "4862\n",
      "5325\n",
      "5326\n",
      "5327\n",
      "6682\n",
      "6683\n",
      "6684\n",
      "6685\n",
      "6686\n",
      "6687\n",
      "6688\n",
      "10091\n",
      "12717\n",
      "Missing values approximated\n"
     ]
    },
    {
     "data": {
      "text/plain": "              0             TimeHour           TimeHour2              Diff  \\\n554   47.628271  2018-01-25 14:00:00 2018-01-25 14:00:00   1 days 04:00:00   \n671    0.000000  2018-02-05 16:00:00 2018-02-05 16:00:00   4 days 05:00:00   \n1049  76.974656  2018-02-23 09:00:00 2018-02-23 09:00:00   2 days 03:00:00   \n1517  35.789604  2018-04-05 20:00:00 2018-04-05 20:00:00  20 days 23:00:00   \n1845  45.334073  2018-04-20 12:00:00 2018-04-20 12:00:00   1 days 01:00:00   \n\n                   Before  diff_hours  \n554   2018-01-24 10:00:00        24.0  \n671   2018-02-01 11:00:00        96.0  \n1049  2018-02-21 06:00:00        48.0  \n1517  2018-03-15 21:00:00       480.0  \n1845  2018-04-19 11:00:00        24.0  ",
      "text/html": "<div>\n<style scoped>\n    .dataframe tbody tr th:only-of-type {\n        vertical-align: middle;\n    }\n\n    .dataframe tbody tr th {\n        vertical-align: top;\n    }\n\n    .dataframe thead th {\n        text-align: right;\n    }\n</style>\n<table border=\"1\" class=\"dataframe\">\n  <thead>\n    <tr style=\"text-align: right;\">\n      <th></th>\n      <th>0</th>\n      <th>TimeHour</th>\n      <th>TimeHour2</th>\n      <th>Diff</th>\n      <th>Before</th>\n      <th>diff_hours</th>\n    </tr>\n  </thead>\n  <tbody>\n    <tr>\n      <th>554</th>\n      <td>47.628271</td>\n      <td>2018-01-25 14:00:00</td>\n      <td>2018-01-25 14:00:00</td>\n      <td>1 days 04:00:00</td>\n      <td>2018-01-24 10:00:00</td>\n      <td>24.0</td>\n    </tr>\n    <tr>\n      <th>671</th>\n      <td>0.000000</td>\n      <td>2018-02-05 16:00:00</td>\n      <td>2018-02-05 16:00:00</td>\n      <td>4 days 05:00:00</td>\n      <td>2018-02-01 11:00:00</td>\n      <td>96.0</td>\n    </tr>\n    <tr>\n      <th>1049</th>\n      <td>76.974656</td>\n      <td>2018-02-23 09:00:00</td>\n      <td>2018-02-23 09:00:00</td>\n      <td>2 days 03:00:00</td>\n      <td>2018-02-21 06:00:00</td>\n      <td>48.0</td>\n    </tr>\n    <tr>\n      <th>1517</th>\n      <td>35.789604</td>\n      <td>2018-04-05 20:00:00</td>\n      <td>2018-04-05 20:00:00</td>\n      <td>20 days 23:00:00</td>\n      <td>2018-03-15 21:00:00</td>\n      <td>480.0</td>\n    </tr>\n    <tr>\n      <th>1845</th>\n      <td>45.334073</td>\n      <td>2018-04-20 12:00:00</td>\n      <td>2018-04-20 12:00:00</td>\n      <td>1 days 01:00:00</td>\n      <td>2018-04-19 11:00:00</td>\n      <td>24.0</td>\n    </tr>\n  </tbody>\n</table>\n</div>"
     },
     "execution_count": 66,
     "metadata": {},
     "output_type": "execute_result"
    }
   ],
   "source": [
    "x = 0\n",
    "while x < 13000:\n",
    "    #if df_test.loc[x, 'diff_hours'] != 1.0 and df_test.loc[x, \"diff_hours\"] != 24.0 and df_test.loc[x, 'diff_hours'] != 96.0 and df_test.loc[x, 'diff_hours'] != 48.0 and df_test.loc[x, 'diff_hours'] != 480.0:\n",
    "    if df_test.loc[x,'diff_hours'] %24!=0.0 and df_test.loc[x,'diff_hours'] != 1.0:\n",
    "        print(x)\n",
    "        df_test.loc[x, 'diff_hours'] = df_test.loc[x, 'diff_hours'] - 1\n",
    "        df_test = Y_fill_with_average(df_test, x-1, x)\n",
    "        x = x - 1\n",
    "    else:\n",
    "        x = x + 1\n",
    "\n",
    "print ('Missing values approximated')\n",
    "df_test[df_test['diff_hours']>1]"
   ],
   "metadata": {
    "collapsed": false,
    "pycharm": {
     "name": "#%%\n"
    }
   }
  },
  {
   "cell_type": "code",
   "execution_count": 68,
   "outputs": [
    {
     "name": "stdout",
     "output_type": "stream",
     "text": [
      "(13632, 2)\n"
     ]
    },
    {
     "data": {
      "text/plain": "                0             TimeHour\n0      502.995390  2018-01-01 13:00:00\n1      501.561763  2018-01-01 14:00:00\n2      267.722037  2018-01-01 15:00:00\n3      164.684623  2018-01-01 16:00:00\n4      415.606068  2018-01-01 17:00:00\n...           ...                  ...\n13627   95.319013  2019-08-25 10:00:00\n13628  158.127773  2019-08-25 11:00:00\n13629  107.449515  2019-08-25 12:00:00\n13630  184.320927  2019-08-25 13:00:00\n13631   84.346758  2019-08-25 14:00:00\n\n[13632 rows x 2 columns]",
      "text/html": "<div>\n<style scoped>\n    .dataframe tbody tr th:only-of-type {\n        vertical-align: middle;\n    }\n\n    .dataframe tbody tr th {\n        vertical-align: top;\n    }\n\n    .dataframe thead th {\n        text-align: right;\n    }\n</style>\n<table border=\"1\" class=\"dataframe\">\n  <thead>\n    <tr style=\"text-align: right;\">\n      <th></th>\n      <th>0</th>\n      <th>TimeHour</th>\n    </tr>\n  </thead>\n  <tbody>\n    <tr>\n      <th>0</th>\n      <td>502.995390</td>\n      <td>2018-01-01 13:00:00</td>\n    </tr>\n    <tr>\n      <th>1</th>\n      <td>501.561763</td>\n      <td>2018-01-01 14:00:00</td>\n    </tr>\n    <tr>\n      <th>2</th>\n      <td>267.722037</td>\n      <td>2018-01-01 15:00:00</td>\n    </tr>\n    <tr>\n      <th>3</th>\n      <td>164.684623</td>\n      <td>2018-01-01 16:00:00</td>\n    </tr>\n    <tr>\n      <th>4</th>\n      <td>415.606068</td>\n      <td>2018-01-01 17:00:00</td>\n    </tr>\n    <tr>\n      <th>...</th>\n      <td>...</td>\n      <td>...</td>\n    </tr>\n    <tr>\n      <th>13627</th>\n      <td>95.319013</td>\n      <td>2019-08-25 10:00:00</td>\n    </tr>\n    <tr>\n      <th>13628</th>\n      <td>158.127773</td>\n      <td>2019-08-25 11:00:00</td>\n    </tr>\n    <tr>\n      <th>13629</th>\n      <td>107.449515</td>\n      <td>2019-08-25 12:00:00</td>\n    </tr>\n    <tr>\n      <th>13630</th>\n      <td>184.320927</td>\n      <td>2019-08-25 13:00:00</td>\n    </tr>\n    <tr>\n      <th>13631</th>\n      <td>84.346758</td>\n      <td>2019-08-25 14:00:00</td>\n    </tr>\n  </tbody>\n</table>\n<p>13632 rows × 2 columns</p>\n</div>"
     },
     "execution_count": 68,
     "metadata": {},
     "output_type": "execute_result"
    }
   ],
   "source": [
    "\n",
    "df_test = df_test.drop(['Diff', 'TimeHour2', 'diff_hours', 'Before'],axis=1)\n",
    "df_test = df_test.drop([13632,13633,13634,13635,13636,13637,13638,13639,13640])\n",
    "\n",
    "print(df_test.shape)\n",
    "df_test"
   ],
   "metadata": {
    "collapsed": false,
    "pycharm": {
     "name": "#%%\n"
    }
   }
  },
  {
   "cell_type": "code",
   "execution_count": 69,
   "outputs": [],
   "source": [
    "#np.save('X_cleaned.npy', df_test)"
   ],
   "metadata": {
    "collapsed": false,
    "pycharm": {
     "name": "#%%\n"
    }
   }
  }
 ],
 "metadata": {
  "colab": {
   "name": "LZS_run_code_model.ipynb",
   "provenance": []
  },
  "kernelspec": {
   "display_name": "Python 3",
   "language": "python",
   "name": "python3"
  },
  "language_info": {
   "codemirror_mode": {
    "name": "ipython",
    "version": 3
   },
   "file_extension": ".py",
   "mimetype": "text/x-python",
   "name": "python",
   "nbconvert_exporter": "python",
   "pygments_lexer": "ipython3",
   "version": "3.7.4"
  }
 },
 "nbformat": 4,
 "nbformat_minor": 1
}