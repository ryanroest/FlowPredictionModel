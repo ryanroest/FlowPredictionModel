{
 "cells": [
  {
   "cell_type": "code",
   "execution_count": 128,
   "metadata": {},
   "outputs": [],
   "source": [
    "import pandas as pd\n",
    "import numpy as np\n",
    "\n",
    "import warnings\n",
    "warnings.filterwarnings('ignore')"
   ]
  },
  {
   "cell_type": "code",
   "execution_count": 129,
   "metadata": {},
   "outputs": [
    {
     "data": {
      "text/plain": "                0  1  2  3  4  5  6  7  8  9   ... 30 31 32 33 34 35 36 37 38  \\\n0         0.149059  1  0  0  0  0  0  0  0  0  ...  0  0  0  0  0  0  0  0  1   \n1        0.0974522  0  1  0  0  0  0  0  0  0  ...  0  0  0  0  0  0  0  0  1   \n2        0.0325427  0  0  1  0  0  0  0  0  0  ...  0  0  0  0  0  0  0  0  1   \n3         0.208984  0  0  0  1  0  0  0  0  0  ...  0  0  0  0  0  0  0  0  1   \n4         0.123808  0  0  0  0  1  0  0  0  0  ...  0  0  0  0  0  0  0  0  1   \n...            ... .. .. .. .. .. .. .. .. ..  ... .. .. .. .. .. .. .. .. ..   \n13616            0  0  0  0  0  0  0  0  0  0  ...  0  0  1  0  0  0  0  0  1   \n13617            0  0  0  0  0  0  0  0  0  0  ...  0  0  1  0  0  0  0  0  1   \n13618 -1.36924e-08  0  0  0  0  0  0  0  0  0  ...  0  0  1  0  0  0  0  0  1   \n13619  4.16997e-09  0  0  0  0  0  0  0  0  0  ...  0  0  1  0  0  0  0  0  1   \n13620            0  0  0  0  0  0  0  0  0  0  ...  0  0  1  0  0  0  0  0  1   \n\n                        39  \n0      2018-01-02 00:00:00  \n1      2018-01-02 01:00:00  \n2      2018-01-02 02:00:00  \n3      2018-01-02 03:00:00  \n4      2018-01-02 04:00:00  \n...                    ...  \n13616  2019-08-25 10:00:00  \n13617  2019-08-25 11:00:00  \n13618  2019-08-25 12:00:00  \n13619  2019-08-25 13:00:00  \n13620  2019-08-25 14:00:00  \n\n[13621 rows x 40 columns]",
      "text/html": "<div>\n<style scoped>\n    .dataframe tbody tr th:only-of-type {\n        vertical-align: middle;\n    }\n\n    .dataframe tbody tr th {\n        vertical-align: top;\n    }\n\n    .dataframe thead th {\n        text-align: right;\n    }\n</style>\n<table border=\"1\" class=\"dataframe\">\n  <thead>\n    <tr style=\"text-align: right;\">\n      <th></th>\n      <th>0</th>\n      <th>1</th>\n      <th>2</th>\n      <th>3</th>\n      <th>4</th>\n      <th>5</th>\n      <th>6</th>\n      <th>7</th>\n      <th>8</th>\n      <th>9</th>\n      <th>...</th>\n      <th>30</th>\n      <th>31</th>\n      <th>32</th>\n      <th>33</th>\n      <th>34</th>\n      <th>35</th>\n      <th>36</th>\n      <th>37</th>\n      <th>38</th>\n      <th>39</th>\n    </tr>\n  </thead>\n  <tbody>\n    <tr>\n      <th>0</th>\n      <td>0.149059</td>\n      <td>1</td>\n      <td>0</td>\n      <td>0</td>\n      <td>0</td>\n      <td>0</td>\n      <td>0</td>\n      <td>0</td>\n      <td>0</td>\n      <td>0</td>\n      <td>...</td>\n      <td>0</td>\n      <td>0</td>\n      <td>0</td>\n      <td>0</td>\n      <td>0</td>\n      <td>0</td>\n      <td>0</td>\n      <td>0</td>\n      <td>1</td>\n      <td>2018-01-02 00:00:00</td>\n    </tr>\n    <tr>\n      <th>1</th>\n      <td>0.0974522</td>\n      <td>0</td>\n      <td>1</td>\n      <td>0</td>\n      <td>0</td>\n      <td>0</td>\n      <td>0</td>\n      <td>0</td>\n      <td>0</td>\n      <td>0</td>\n      <td>...</td>\n      <td>0</td>\n      <td>0</td>\n      <td>0</td>\n      <td>0</td>\n      <td>0</td>\n      <td>0</td>\n      <td>0</td>\n      <td>0</td>\n      <td>1</td>\n      <td>2018-01-02 01:00:00</td>\n    </tr>\n    <tr>\n      <th>2</th>\n      <td>0.0325427</td>\n      <td>0</td>\n      <td>0</td>\n      <td>1</td>\n      <td>0</td>\n      <td>0</td>\n      <td>0</td>\n      <td>0</td>\n      <td>0</td>\n      <td>0</td>\n      <td>...</td>\n      <td>0</td>\n      <td>0</td>\n      <td>0</td>\n      <td>0</td>\n      <td>0</td>\n      <td>0</td>\n      <td>0</td>\n      <td>0</td>\n      <td>1</td>\n      <td>2018-01-02 02:00:00</td>\n    </tr>\n    <tr>\n      <th>3</th>\n      <td>0.208984</td>\n      <td>0</td>\n      <td>0</td>\n      <td>0</td>\n      <td>1</td>\n      <td>0</td>\n      <td>0</td>\n      <td>0</td>\n      <td>0</td>\n      <td>0</td>\n      <td>...</td>\n      <td>0</td>\n      <td>0</td>\n      <td>0</td>\n      <td>0</td>\n      <td>0</td>\n      <td>0</td>\n      <td>0</td>\n      <td>0</td>\n      <td>1</td>\n      <td>2018-01-02 03:00:00</td>\n    </tr>\n    <tr>\n      <th>4</th>\n      <td>0.123808</td>\n      <td>0</td>\n      <td>0</td>\n      <td>0</td>\n      <td>0</td>\n      <td>1</td>\n      <td>0</td>\n      <td>0</td>\n      <td>0</td>\n      <td>0</td>\n      <td>...</td>\n      <td>0</td>\n      <td>0</td>\n      <td>0</td>\n      <td>0</td>\n      <td>0</td>\n      <td>0</td>\n      <td>0</td>\n      <td>0</td>\n      <td>1</td>\n      <td>2018-01-02 04:00:00</td>\n    </tr>\n    <tr>\n      <th>...</th>\n      <td>...</td>\n      <td>...</td>\n      <td>...</td>\n      <td>...</td>\n      <td>...</td>\n      <td>...</td>\n      <td>...</td>\n      <td>...</td>\n      <td>...</td>\n      <td>...</td>\n      <td>...</td>\n      <td>...</td>\n      <td>...</td>\n      <td>...</td>\n      <td>...</td>\n      <td>...</td>\n      <td>...</td>\n      <td>...</td>\n      <td>...</td>\n      <td>...</td>\n      <td>...</td>\n    </tr>\n    <tr>\n      <th>13616</th>\n      <td>0</td>\n      <td>0</td>\n      <td>0</td>\n      <td>0</td>\n      <td>0</td>\n      <td>0</td>\n      <td>0</td>\n      <td>0</td>\n      <td>0</td>\n      <td>0</td>\n      <td>...</td>\n      <td>0</td>\n      <td>0</td>\n      <td>1</td>\n      <td>0</td>\n      <td>0</td>\n      <td>0</td>\n      <td>0</td>\n      <td>0</td>\n      <td>1</td>\n      <td>2019-08-25 10:00:00</td>\n    </tr>\n    <tr>\n      <th>13617</th>\n      <td>0</td>\n      <td>0</td>\n      <td>0</td>\n      <td>0</td>\n      <td>0</td>\n      <td>0</td>\n      <td>0</td>\n      <td>0</td>\n      <td>0</td>\n      <td>0</td>\n      <td>...</td>\n      <td>0</td>\n      <td>0</td>\n      <td>1</td>\n      <td>0</td>\n      <td>0</td>\n      <td>0</td>\n      <td>0</td>\n      <td>0</td>\n      <td>1</td>\n      <td>2019-08-25 11:00:00</td>\n    </tr>\n    <tr>\n      <th>13618</th>\n      <td>-1.36924e-08</td>\n      <td>0</td>\n      <td>0</td>\n      <td>0</td>\n      <td>0</td>\n      <td>0</td>\n      <td>0</td>\n      <td>0</td>\n      <td>0</td>\n      <td>0</td>\n      <td>...</td>\n      <td>0</td>\n      <td>0</td>\n      <td>1</td>\n      <td>0</td>\n      <td>0</td>\n      <td>0</td>\n      <td>0</td>\n      <td>0</td>\n      <td>1</td>\n      <td>2019-08-25 12:00:00</td>\n    </tr>\n    <tr>\n      <th>13619</th>\n      <td>4.16997e-09</td>\n      <td>0</td>\n      <td>0</td>\n      <td>0</td>\n      <td>0</td>\n      <td>0</td>\n      <td>0</td>\n      <td>0</td>\n      <td>0</td>\n      <td>0</td>\n      <td>...</td>\n      <td>0</td>\n      <td>0</td>\n      <td>1</td>\n      <td>0</td>\n      <td>0</td>\n      <td>0</td>\n      <td>0</td>\n      <td>0</td>\n      <td>1</td>\n      <td>2019-08-25 13:00:00</td>\n    </tr>\n    <tr>\n      <th>13620</th>\n      <td>0</td>\n      <td>0</td>\n      <td>0</td>\n      <td>0</td>\n      <td>0</td>\n      <td>0</td>\n      <td>0</td>\n      <td>0</td>\n      <td>0</td>\n      <td>0</td>\n      <td>...</td>\n      <td>0</td>\n      <td>0</td>\n      <td>1</td>\n      <td>0</td>\n      <td>0</td>\n      <td>0</td>\n      <td>0</td>\n      <td>0</td>\n      <td>1</td>\n      <td>2019-08-25 14:00:00</td>\n    </tr>\n  </tbody>\n</table>\n<p>13621 rows × 40 columns</p>\n</div>"
     },
     "execution_count": 129,
     "metadata": {},
     "output_type": "execute_result"
    }
   ],
   "source": [
    "\n",
    "X =np.load('X_cleaned.npy', allow_pickle=True)\n",
    "X = pd.DataFrame(data=X)\n",
    "X=X.drop([0,1,2,3,4,5,6,7,8,9,10])\n",
    "\n",
    "X = X.reset_index()\n",
    "X = X.drop(columns=[\"index\"])\n",
    "X"
   ]
  },
  {
   "cell_type": "code",
   "execution_count": 130,
   "outputs": [],
   "source": [
    "### Import data & drop empty column ###\n",
    "\n",
    "# import dry weather data\n",
    "#flow_data = pd.read_csv(\"FirstPredictions.csv\")\n",
    "#flow_data = flow_data.drop(\"Unnamed: 0\", axis=1)\n",
    "\n",
    "X = np.load('X_cleaned.npy',allow_pickle=True) #rainpredictions, hour of day, month of year, holiday, ones\n",
    "flow_data = np.load('Y_cleaned.npy',allow_pickle=True)\n",
    "flow_data = pd.DataFrame(data=flow_data)\n",
    "flow_data = flow_data.rename(columns={1: \"Time\"})\n",
    "\n",
    "Xpd =  pd.DataFrame(data=X)\n",
    "# import rain-predictions\n",
    "rain = pd.read_csv('LZS_rain_pred.csv')\n",
    "# set all negative rain predictions to zero\n",
    "Xpd[0][Xpd[0]<0]=0\n",
    "#rain['Prediction'][rain['Prediction'] < 0] = 0"
   ],
   "metadata": {
    "collapsed": false,
    "pycharm": {
     "name": "#%%\n"
    }
   }
  },
  {
   "cell_type": "code",
   "execution_count": 131,
   "outputs": [
    {
     "data": {
      "text/plain": "             0                 Time\n0      502.995  2018-01-01 13:00:00\n1      501.562  2018-01-01 14:00:00\n2      267.722  2018-01-01 15:00:00\n3      164.685  2018-01-01 16:00:00\n4      415.606  2018-01-01 17:00:00\n...        ...                  ...\n13627   95.319  2019-08-25 10:00:00\n13628  158.128  2019-08-25 11:00:00\n13629   107.45  2019-08-25 12:00:00\n13630  184.321  2019-08-25 13:00:00\n13631  84.3468  2019-08-25 14:00:00\n\n[13632 rows x 2 columns]",
      "text/html": "<div>\n<style scoped>\n    .dataframe tbody tr th:only-of-type {\n        vertical-align: middle;\n    }\n\n    .dataframe tbody tr th {\n        vertical-align: top;\n    }\n\n    .dataframe thead th {\n        text-align: right;\n    }\n</style>\n<table border=\"1\" class=\"dataframe\">\n  <thead>\n    <tr style=\"text-align: right;\">\n      <th></th>\n      <th>0</th>\n      <th>Time</th>\n    </tr>\n  </thead>\n  <tbody>\n    <tr>\n      <th>0</th>\n      <td>502.995</td>\n      <td>2018-01-01 13:00:00</td>\n    </tr>\n    <tr>\n      <th>1</th>\n      <td>501.562</td>\n      <td>2018-01-01 14:00:00</td>\n    </tr>\n    <tr>\n      <th>2</th>\n      <td>267.722</td>\n      <td>2018-01-01 15:00:00</td>\n    </tr>\n    <tr>\n      <th>3</th>\n      <td>164.685</td>\n      <td>2018-01-01 16:00:00</td>\n    </tr>\n    <tr>\n      <th>4</th>\n      <td>415.606</td>\n      <td>2018-01-01 17:00:00</td>\n    </tr>\n    <tr>\n      <th>...</th>\n      <td>...</td>\n      <td>...</td>\n    </tr>\n    <tr>\n      <th>13627</th>\n      <td>95.319</td>\n      <td>2019-08-25 10:00:00</td>\n    </tr>\n    <tr>\n      <th>13628</th>\n      <td>158.128</td>\n      <td>2019-08-25 11:00:00</td>\n    </tr>\n    <tr>\n      <th>13629</th>\n      <td>107.45</td>\n      <td>2019-08-25 12:00:00</td>\n    </tr>\n    <tr>\n      <th>13630</th>\n      <td>184.321</td>\n      <td>2019-08-25 13:00:00</td>\n    </tr>\n    <tr>\n      <th>13631</th>\n      <td>84.3468</td>\n      <td>2019-08-25 14:00:00</td>\n    </tr>\n  </tbody>\n</table>\n<p>13632 rows × 2 columns</p>\n</div>"
     },
     "execution_count": 131,
     "metadata": {},
     "output_type": "execute_result"
    }
   ],
   "source": [
    "flow_data"
   ],
   "metadata": {
    "collapsed": false,
    "pycharm": {
     "name": "#%%\n"
    }
   }
  },
  {
   "cell_type": "code",
   "execution_count": 132,
   "outputs": [
    {
     "data": {
      "text/plain": "                 0  1  2  3  4  5  6  7  8  9  ... 31 32 33 34 35 36 37 38  \\\n0       0.00669929  0  0  0  0  0  0  0  0  0  ...  0  0  0  0  0  0  1  1   \n1       0.00488281  0  0  0  0  0  0  0  0  0  ...  0  0  0  0  0  0  1  1   \n2      0.000976562  0  0  0  0  0  0  0  0  0  ...  0  0  0  0  0  0  1  1   \n3        0.0270602  0  0  0  0  0  0  0  0  0  ...  0  0  0  0  0  0  1  1   \n4         0.446828  0  0  0  0  0  0  0  0  0  ...  0  0  0  0  0  0  1  1   \n...            ... .. .. .. .. .. .. .. .. ..  ... .. .. .. .. .. .. .. ..   \n13627            0  0  0  0  0  0  0  0  0  0  ...  0  1  0  0  0  0  0  1   \n13628            0  0  0  0  0  0  0  0  0  0  ...  0  1  0  0  0  0  0  1   \n13629            0  0  0  0  0  0  0  0  0  0  ...  0  1  0  0  0  0  0  1   \n13630  4.16997e-09  0  0  0  0  0  0  0  0  0  ...  0  1  0  0  0  0  0  1   \n13631            0  0  0  0  0  0  0  0  0  0  ...  0  1  0  0  0  0  0  1   \n\n                      Time rainy  \n0      2018-01-01 13:00:00    no  \n1      2018-01-01 14:00:00    no  \n2      2018-01-01 15:00:00    no  \n3      2018-01-01 16:00:00    no  \n4      2018-01-01 17:00:00    no  \n...                    ...   ...  \n13627  2019-08-25 10:00:00    no  \n13628  2019-08-25 11:00:00    no  \n13629  2019-08-25 12:00:00    no  \n13630  2019-08-25 13:00:00    no  \n13631  2019-08-25 14:00:00    no  \n\n[13632 rows x 41 columns]",
      "text/html": "<div>\n<style scoped>\n    .dataframe tbody tr th:only-of-type {\n        vertical-align: middle;\n    }\n\n    .dataframe tbody tr th {\n        vertical-align: top;\n    }\n\n    .dataframe thead th {\n        text-align: right;\n    }\n</style>\n<table border=\"1\" class=\"dataframe\">\n  <thead>\n    <tr style=\"text-align: right;\">\n      <th></th>\n      <th>0</th>\n      <th>1</th>\n      <th>2</th>\n      <th>3</th>\n      <th>4</th>\n      <th>5</th>\n      <th>6</th>\n      <th>7</th>\n      <th>8</th>\n      <th>9</th>\n      <th>...</th>\n      <th>31</th>\n      <th>32</th>\n      <th>33</th>\n      <th>34</th>\n      <th>35</th>\n      <th>36</th>\n      <th>37</th>\n      <th>38</th>\n      <th>Time</th>\n      <th>rainy</th>\n    </tr>\n  </thead>\n  <tbody>\n    <tr>\n      <th>0</th>\n      <td>0.00669929</td>\n      <td>0</td>\n      <td>0</td>\n      <td>0</td>\n      <td>0</td>\n      <td>0</td>\n      <td>0</td>\n      <td>0</td>\n      <td>0</td>\n      <td>0</td>\n      <td>...</td>\n      <td>0</td>\n      <td>0</td>\n      <td>0</td>\n      <td>0</td>\n      <td>0</td>\n      <td>0</td>\n      <td>1</td>\n      <td>1</td>\n      <td>2018-01-01 13:00:00</td>\n      <td>no</td>\n    </tr>\n    <tr>\n      <th>1</th>\n      <td>0.00488281</td>\n      <td>0</td>\n      <td>0</td>\n      <td>0</td>\n      <td>0</td>\n      <td>0</td>\n      <td>0</td>\n      <td>0</td>\n      <td>0</td>\n      <td>0</td>\n      <td>...</td>\n      <td>0</td>\n      <td>0</td>\n      <td>0</td>\n      <td>0</td>\n      <td>0</td>\n      <td>0</td>\n      <td>1</td>\n      <td>1</td>\n      <td>2018-01-01 14:00:00</td>\n      <td>no</td>\n    </tr>\n    <tr>\n      <th>2</th>\n      <td>0.000976562</td>\n      <td>0</td>\n      <td>0</td>\n      <td>0</td>\n      <td>0</td>\n      <td>0</td>\n      <td>0</td>\n      <td>0</td>\n      <td>0</td>\n      <td>0</td>\n      <td>...</td>\n      <td>0</td>\n      <td>0</td>\n      <td>0</td>\n      <td>0</td>\n      <td>0</td>\n      <td>0</td>\n      <td>1</td>\n      <td>1</td>\n      <td>2018-01-01 15:00:00</td>\n      <td>no</td>\n    </tr>\n    <tr>\n      <th>3</th>\n      <td>0.0270602</td>\n      <td>0</td>\n      <td>0</td>\n      <td>0</td>\n      <td>0</td>\n      <td>0</td>\n      <td>0</td>\n      <td>0</td>\n      <td>0</td>\n      <td>0</td>\n      <td>...</td>\n      <td>0</td>\n      <td>0</td>\n      <td>0</td>\n      <td>0</td>\n      <td>0</td>\n      <td>0</td>\n      <td>1</td>\n      <td>1</td>\n      <td>2018-01-01 16:00:00</td>\n      <td>no</td>\n    </tr>\n    <tr>\n      <th>4</th>\n      <td>0.446828</td>\n      <td>0</td>\n      <td>0</td>\n      <td>0</td>\n      <td>0</td>\n      <td>0</td>\n      <td>0</td>\n      <td>0</td>\n      <td>0</td>\n      <td>0</td>\n      <td>...</td>\n      <td>0</td>\n      <td>0</td>\n      <td>0</td>\n      <td>0</td>\n      <td>0</td>\n      <td>0</td>\n      <td>1</td>\n      <td>1</td>\n      <td>2018-01-01 17:00:00</td>\n      <td>no</td>\n    </tr>\n    <tr>\n      <th>...</th>\n      <td>...</td>\n      <td>...</td>\n      <td>...</td>\n      <td>...</td>\n      <td>...</td>\n      <td>...</td>\n      <td>...</td>\n      <td>...</td>\n      <td>...</td>\n      <td>...</td>\n      <td>...</td>\n      <td>...</td>\n      <td>...</td>\n      <td>...</td>\n      <td>...</td>\n      <td>...</td>\n      <td>...</td>\n      <td>...</td>\n      <td>...</td>\n      <td>...</td>\n      <td>...</td>\n    </tr>\n    <tr>\n      <th>13627</th>\n      <td>0</td>\n      <td>0</td>\n      <td>0</td>\n      <td>0</td>\n      <td>0</td>\n      <td>0</td>\n      <td>0</td>\n      <td>0</td>\n      <td>0</td>\n      <td>0</td>\n      <td>...</td>\n      <td>0</td>\n      <td>1</td>\n      <td>0</td>\n      <td>0</td>\n      <td>0</td>\n      <td>0</td>\n      <td>0</td>\n      <td>1</td>\n      <td>2019-08-25 10:00:00</td>\n      <td>no</td>\n    </tr>\n    <tr>\n      <th>13628</th>\n      <td>0</td>\n      <td>0</td>\n      <td>0</td>\n      <td>0</td>\n      <td>0</td>\n      <td>0</td>\n      <td>0</td>\n      <td>0</td>\n      <td>0</td>\n      <td>0</td>\n      <td>...</td>\n      <td>0</td>\n      <td>1</td>\n      <td>0</td>\n      <td>0</td>\n      <td>0</td>\n      <td>0</td>\n      <td>0</td>\n      <td>1</td>\n      <td>2019-08-25 11:00:00</td>\n      <td>no</td>\n    </tr>\n    <tr>\n      <th>13629</th>\n      <td>0</td>\n      <td>0</td>\n      <td>0</td>\n      <td>0</td>\n      <td>0</td>\n      <td>0</td>\n      <td>0</td>\n      <td>0</td>\n      <td>0</td>\n      <td>0</td>\n      <td>...</td>\n      <td>0</td>\n      <td>1</td>\n      <td>0</td>\n      <td>0</td>\n      <td>0</td>\n      <td>0</td>\n      <td>0</td>\n      <td>1</td>\n      <td>2019-08-25 12:00:00</td>\n      <td>no</td>\n    </tr>\n    <tr>\n      <th>13630</th>\n      <td>4.16997e-09</td>\n      <td>0</td>\n      <td>0</td>\n      <td>0</td>\n      <td>0</td>\n      <td>0</td>\n      <td>0</td>\n      <td>0</td>\n      <td>0</td>\n      <td>0</td>\n      <td>...</td>\n      <td>0</td>\n      <td>1</td>\n      <td>0</td>\n      <td>0</td>\n      <td>0</td>\n      <td>0</td>\n      <td>0</td>\n      <td>1</td>\n      <td>2019-08-25 13:00:00</td>\n      <td>no</td>\n    </tr>\n    <tr>\n      <th>13631</th>\n      <td>0</td>\n      <td>0</td>\n      <td>0</td>\n      <td>0</td>\n      <td>0</td>\n      <td>0</td>\n      <td>0</td>\n      <td>0</td>\n      <td>0</td>\n      <td>0</td>\n      <td>...</td>\n      <td>0</td>\n      <td>1</td>\n      <td>0</td>\n      <td>0</td>\n      <td>0</td>\n      <td>0</td>\n      <td>0</td>\n      <td>1</td>\n      <td>2019-08-25 14:00:00</td>\n      <td>no</td>\n    </tr>\n  </tbody>\n</table>\n<p>13632 rows × 41 columns</p>\n</div>"
     },
     "execution_count": 132,
     "metadata": {},
     "output_type": "execute_result"
    }
   ],
   "source": [
    "# if prediction is 1 or larger, then rainy is yes, otherwise no\n",
    "# the keys (in my case Time) have to be the same to be able to merge\n",
    "# and I only need the columns Time (=key) and rainy\n",
    "#X['rainy'] = np.where(X['Prediction']=1, 'yes', 'no')\n",
    "Xpd['rainy'] = np.where(Xpd[0]>=1, 'yes', 'no')\n",
    "Xpd = Xpd.rename(columns={39: \"Time\"})\n",
    "#Xpd=Xpd[['Time','rainy']]\n",
    "Xpd"
   ],
   "metadata": {
    "collapsed": false,
    "pycharm": {
     "name": "#%%\n"
    }
   }
  },
  {
   "cell_type": "code",
   "execution_count": 133,
   "metadata": {},
   "outputs": [],
   "source": [
    "# merge files flow_data\n",
    "flow_data = pd.merge(flow_data, Xpd, on=['Time'])"
   ]
  },
  {
   "cell_type": "code",
   "execution_count": 134,
   "metadata": {},
   "outputs": [],
   "source": [
    "### add columns to flow_data ###\n",
    "flow_data['TimeHour']=flow_data['Time']\n",
    "flow_data['Time'] = pd.to_datetime(flow_data['Time'])\n",
    "flow_data['year'] = pd.DatetimeIndex(flow_data['Time']).year\n",
    "flow_data['month'] = pd.DatetimeIndex(flow_data['Time']).month\n",
    "flow_data['day'] = pd.DatetimeIndex(flow_data['Time']).day"
   ]
  },
  {
   "cell_type": "code",
   "execution_count": 135,
   "metadata": {},
   "outputs": [],
   "source": [
    "flow_data['rainy_day'] = 'no'\n",
    "\n",
    "# check for every hour if there will be heavy rain\n",
    "for datapoint in range(0, len(flow_data)):\n",
    "    \n",
    "    # if there is heavy rain predicted, set all hours of that day to rainy_day=yes\n",
    "    if flow_data.loc[datapoint, 'rainy'] == 'yes':\n",
    "        \n",
    "        day = flow_data.loc[datapoint, 'day']\n",
    "        month = flow_data.loc[datapoint, 'month']\n",
    "        year = flow_data.loc[datapoint, 'year']\n",
    "              \n",
    "        condition = (flow_data['day'] == day) & (flow_data['month'] == month) & (flow_data['year'] == year)                     \n",
    "        flow_data['rainy_day'] = np.where(condition, 'yes', flow_data['rainy_day'])\n",
    "     "
   ]
  },
  {
   "cell_type": "code",
   "execution_count": 136,
   "metadata": {},
   "outputs": [],
   "source": [
    "# to split the dataframe into two dataframes\n",
    "\n",
    "rainy_days_df = flow_data[flow_data['rainy_day'] == 'yes']\n",
    "dry_days_df = flow_data[flow_data['rainy_day'] == 'no']\n",
    "rainy_days_df=rainy_days_df.drop([0,1,2,3,4,5,6,7,8,9])\n",
    "dry_days_df=dry_days_df.drop([14447,14446,14445,14443,14442,14441,14440,14439,14438,14437,14436,14435,14434,14433])\n",
    "\n",
    "\n",
    "Timehour_dry=dry_days_df['TimeHour']\n",
    "Timehour_dry.to_csv('Timehour_dry.csv')\n",
    "Timehour_wet=rainy_days_df['TimeHour']\n",
    "Timehour_wet.to_csv('Timehour_wet.csv')\n",
    "\n",
    "Y_rain = rainy_days_df['0_x']\n",
    "X_rain = rainy_days_df.drop(['0_y','rainy','rainy_day','year','month','day', 'Time','TimeHour'],axis=1)\n",
    "Y_dry = dry_days_df['0_x']\n",
    "X_dry = dry_days_df.drop(['0_y','rainy','rainy_day','year','month','day','Time','TimeHour'],axis=1)"
   ]
  },
  {
   "cell_type": "code",
   "execution_count": 137,
   "outputs": [
    {
     "data": {
      "text/plain": "           0_x  1  2  3  4  5  6  7  8  9  ... 29 30 31 32 33 34 35 36 37 38\n11     519.031  1  0  0  0  0  0  0  0  0  ...  0  0  0  0  0  0  0  0  0  1\n12     518.495  0  1  0  0  0  0  0  0  0  ...  0  0  0  0  0  0  0  0  0  1\n13     518.477  0  0  1  0  0  0  0  0  0  ...  0  0  0  0  0  0  0  0  0  1\n14     511.912  0  0  0  1  0  0  0  0  0  ...  0  0  0  0  0  0  0  0  0  1\n15     508.041  0  0  0  0  1  0  0  0  0  ...  0  0  0  0  0  0  0  0  0  1\n...        ... .. .. .. .. .. .. .. .. ..  ... .. .. .. .. .. .. .. .. .. ..\n14429  91.3005  0  0  0  0  0  0  0  0  0  ...  0  0  0  1  0  0  0  0  0  1\n14430  71.5371  0  0  0  0  0  0  0  0  0  ...  0  0  0  1  0  0  0  0  0  1\n14431   23.966  0  0  0  0  0  0  0  0  0  ...  0  0  0  1  0  0  0  0  0  1\n14432  81.4259  0  0  0  0  0  0  0  0  0  ...  0  0  0  1  0  0  0  0  0  1\n14444  158.128  0  0  0  0  0  0  0  0  0  ...  0  0  0  1  0  0  0  0  0  1\n\n[11280 rows x 39 columns]",
      "text/html": "<div>\n<style scoped>\n    .dataframe tbody tr th:only-of-type {\n        vertical-align: middle;\n    }\n\n    .dataframe tbody tr th {\n        vertical-align: top;\n    }\n\n    .dataframe thead th {\n        text-align: right;\n    }\n</style>\n<table border=\"1\" class=\"dataframe\">\n  <thead>\n    <tr style=\"text-align: right;\">\n      <th></th>\n      <th>0_x</th>\n      <th>1</th>\n      <th>2</th>\n      <th>3</th>\n      <th>4</th>\n      <th>5</th>\n      <th>6</th>\n      <th>7</th>\n      <th>8</th>\n      <th>9</th>\n      <th>...</th>\n      <th>29</th>\n      <th>30</th>\n      <th>31</th>\n      <th>32</th>\n      <th>33</th>\n      <th>34</th>\n      <th>35</th>\n      <th>36</th>\n      <th>37</th>\n      <th>38</th>\n    </tr>\n  </thead>\n  <tbody>\n    <tr>\n      <th>11</th>\n      <td>519.031</td>\n      <td>1</td>\n      <td>0</td>\n      <td>0</td>\n      <td>0</td>\n      <td>0</td>\n      <td>0</td>\n      <td>0</td>\n      <td>0</td>\n      <td>0</td>\n      <td>...</td>\n      <td>0</td>\n      <td>0</td>\n      <td>0</td>\n      <td>0</td>\n      <td>0</td>\n      <td>0</td>\n      <td>0</td>\n      <td>0</td>\n      <td>0</td>\n      <td>1</td>\n    </tr>\n    <tr>\n      <th>12</th>\n      <td>518.495</td>\n      <td>0</td>\n      <td>1</td>\n      <td>0</td>\n      <td>0</td>\n      <td>0</td>\n      <td>0</td>\n      <td>0</td>\n      <td>0</td>\n      <td>0</td>\n      <td>...</td>\n      <td>0</td>\n      <td>0</td>\n      <td>0</td>\n      <td>0</td>\n      <td>0</td>\n      <td>0</td>\n      <td>0</td>\n      <td>0</td>\n      <td>0</td>\n      <td>1</td>\n    </tr>\n    <tr>\n      <th>13</th>\n      <td>518.477</td>\n      <td>0</td>\n      <td>0</td>\n      <td>1</td>\n      <td>0</td>\n      <td>0</td>\n      <td>0</td>\n      <td>0</td>\n      <td>0</td>\n      <td>0</td>\n      <td>...</td>\n      <td>0</td>\n      <td>0</td>\n      <td>0</td>\n      <td>0</td>\n      <td>0</td>\n      <td>0</td>\n      <td>0</td>\n      <td>0</td>\n      <td>0</td>\n      <td>1</td>\n    </tr>\n    <tr>\n      <th>14</th>\n      <td>511.912</td>\n      <td>0</td>\n      <td>0</td>\n      <td>0</td>\n      <td>1</td>\n      <td>0</td>\n      <td>0</td>\n      <td>0</td>\n      <td>0</td>\n      <td>0</td>\n      <td>...</td>\n      <td>0</td>\n      <td>0</td>\n      <td>0</td>\n      <td>0</td>\n      <td>0</td>\n      <td>0</td>\n      <td>0</td>\n      <td>0</td>\n      <td>0</td>\n      <td>1</td>\n    </tr>\n    <tr>\n      <th>15</th>\n      <td>508.041</td>\n      <td>0</td>\n      <td>0</td>\n      <td>0</td>\n      <td>0</td>\n      <td>1</td>\n      <td>0</td>\n      <td>0</td>\n      <td>0</td>\n      <td>0</td>\n      <td>...</td>\n      <td>0</td>\n      <td>0</td>\n      <td>0</td>\n      <td>0</td>\n      <td>0</td>\n      <td>0</td>\n      <td>0</td>\n      <td>0</td>\n      <td>0</td>\n      <td>1</td>\n    </tr>\n    <tr>\n      <th>...</th>\n      <td>...</td>\n      <td>...</td>\n      <td>...</td>\n      <td>...</td>\n      <td>...</td>\n      <td>...</td>\n      <td>...</td>\n      <td>...</td>\n      <td>...</td>\n      <td>...</td>\n      <td>...</td>\n      <td>...</td>\n      <td>...</td>\n      <td>...</td>\n      <td>...</td>\n      <td>...</td>\n      <td>...</td>\n      <td>...</td>\n      <td>...</td>\n      <td>...</td>\n      <td>...</td>\n    </tr>\n    <tr>\n      <th>14429</th>\n      <td>91.3005</td>\n      <td>0</td>\n      <td>0</td>\n      <td>0</td>\n      <td>0</td>\n      <td>0</td>\n      <td>0</td>\n      <td>0</td>\n      <td>0</td>\n      <td>0</td>\n      <td>...</td>\n      <td>0</td>\n      <td>0</td>\n      <td>0</td>\n      <td>1</td>\n      <td>0</td>\n      <td>0</td>\n      <td>0</td>\n      <td>0</td>\n      <td>0</td>\n      <td>1</td>\n    </tr>\n    <tr>\n      <th>14430</th>\n      <td>71.5371</td>\n      <td>0</td>\n      <td>0</td>\n      <td>0</td>\n      <td>0</td>\n      <td>0</td>\n      <td>0</td>\n      <td>0</td>\n      <td>0</td>\n      <td>0</td>\n      <td>...</td>\n      <td>0</td>\n      <td>0</td>\n      <td>0</td>\n      <td>1</td>\n      <td>0</td>\n      <td>0</td>\n      <td>0</td>\n      <td>0</td>\n      <td>0</td>\n      <td>1</td>\n    </tr>\n    <tr>\n      <th>14431</th>\n      <td>23.966</td>\n      <td>0</td>\n      <td>0</td>\n      <td>0</td>\n      <td>0</td>\n      <td>0</td>\n      <td>0</td>\n      <td>0</td>\n      <td>0</td>\n      <td>0</td>\n      <td>...</td>\n      <td>0</td>\n      <td>0</td>\n      <td>0</td>\n      <td>1</td>\n      <td>0</td>\n      <td>0</td>\n      <td>0</td>\n      <td>0</td>\n      <td>0</td>\n      <td>1</td>\n    </tr>\n    <tr>\n      <th>14432</th>\n      <td>81.4259</td>\n      <td>0</td>\n      <td>0</td>\n      <td>0</td>\n      <td>0</td>\n      <td>0</td>\n      <td>0</td>\n      <td>0</td>\n      <td>0</td>\n      <td>0</td>\n      <td>...</td>\n      <td>0</td>\n      <td>0</td>\n      <td>0</td>\n      <td>1</td>\n      <td>0</td>\n      <td>0</td>\n      <td>0</td>\n      <td>0</td>\n      <td>0</td>\n      <td>1</td>\n    </tr>\n    <tr>\n      <th>14444</th>\n      <td>158.128</td>\n      <td>0</td>\n      <td>0</td>\n      <td>0</td>\n      <td>0</td>\n      <td>0</td>\n      <td>0</td>\n      <td>0</td>\n      <td>0</td>\n      <td>0</td>\n      <td>...</td>\n      <td>0</td>\n      <td>0</td>\n      <td>0</td>\n      <td>1</td>\n      <td>0</td>\n      <td>0</td>\n      <td>0</td>\n      <td>0</td>\n      <td>0</td>\n      <td>1</td>\n    </tr>\n  </tbody>\n</table>\n<p>11280 rows × 39 columns</p>\n</div>"
     },
     "execution_count": 137,
     "metadata": {},
     "output_type": "execute_result"
    }
   ],
   "source": [
    "np.save('Y_rain.npy', Y_rain)\n",
    "np.save('Y_dry.npy', Y_dry)\n",
    "np.save('X_rain.npy', X_rain)\n",
    "np.save('X_dry.npy',X_dry)\n",
    "X_dry"
   ],
   "metadata": {
    "collapsed": false,
    "pycharm": {
     "name": "#%%\n"
    }
   }
  }
 ],
 "metadata": {
  "kernelspec": {
   "display_name": "Python 3",
   "language": "python",
   "name": "python3"
  },
  "language_info": {
   "codemirror_mode": {
    "name": "ipython",
    "version": 3
   },
   "file_extension": ".py",
   "mimetype": "text/x-python",
   "name": "python",
   "nbconvert_exporter": "python",
   "pygments_lexer": "ipython3",
   "version": "3.7.4"
  }
 },
 "nbformat": 4,
 "nbformat_minor": 4
}